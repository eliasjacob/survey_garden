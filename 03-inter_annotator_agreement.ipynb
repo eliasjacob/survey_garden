{
 "cells": [
  {
   "cell_type": "code",
   "execution_count": 1,
   "id": "e4ad5085",
   "metadata": {},
   "outputs": [
    {
     "name": "stdout",
     "output_type": "stream",
     "text": [
      "Images will be saved to: src/survey_garden/images\n"
     ]
    }
   ],
   "source": [
    "# Importando bibliotecas necessárias\n",
    "import pandas as pd\n",
    "import numpy as np\n",
    "import plotly.express as px\n",
    "import plotly.graph_objects as go\n",
    "from plotly.subplots import make_subplots\n",
    "import plotly.io as pio\n",
    "from pathlib import Path\n",
    "import warnings\n",
    "\n",
    "warnings.filterwarnings(\"ignore\")\n",
    "\n",
    "# Configurações de visualização\n",
    "pio.templates.default = \"plotly_white\"\n",
    "pd.set_option(\"display.max_columns\", None)\n",
    "pd.set_option(\"display.width\", None)\n",
    "# set default to plotly in pandas\n",
    "pd.options.plotting.backend = \"plotly\"\n",
    "\n",
    "# Create images directory if it doesn't exist\n",
    "images_path = Path(\"src/survey_garden/images\")\n",
    "images_path.mkdir(parents=True, exist_ok=True)\n",
    "print(f\"Images will be saved to: {images_path}\")"
   ]
  },
  {
   "cell_type": "code",
   "execution_count": 2,
   "id": "388556c6",
   "metadata": {},
   "outputs": [
    {
     "name": "stdout",
     "output_type": "stream",
     "text": [
      "Loading files...\n",
      "DB_val2.xlsx loaded: 155 rows, 98 columns\n",
      "Dicionário.xlsx loaded: 207 rows, 7 columns\n",
      "IVC Rounda 1 loaded: 14 rows, 9 columns\n",
      "IVC Rounda 2 loaded: 23 rows, 7 columns\n",
      "Dicionário.xlsx loaded: 207 rows, 7 columns\n",
      "IVC Rounda 1 loaded: 14 rows, 9 columns\n",
      "IVC Rounda 2 loaded: 23 rows, 7 columns\n"
     ]
    }
   ],
   "source": [
    "# Definindo caminhos dos arquivos\n",
    "data_path = Path(\"20250915\")\n",
    "\n",
    "# Carregando os arquivos\n",
    "print(\"Loading files...\")\n",
    "\n",
    "# Dados principais para análises dos pontos 1-3\n",
    "db_val2 = pd.read_excel(data_path / \"DB_val2.xlsx\")\n",
    "print(f\"DB_val2.xlsx loaded: {db_val2.shape[0]} rows, {db_val2.shape[1]} columns\")\n",
    "\n",
    "# Dicionário de espécies\n",
    "dicionario = pd.read_excel(data_path / \"Dicionário.xlsx\")\n",
    "print(f\"Dicionário.xlsx loaded: {dicionario.shape[0]} rows, {dicionario.shape[1]} columns\")\n",
    "\n",
    "# Dados para análise do ponto 4 (IVC)\n",
    "round_1 = pd.read_excel(data_path / \"IVC.xlsx\", sheet_name=\"Rodada 1 \")\n",
    "round_2 = pd.read_excel(data_path / \"IVC.xlsx\", sheet_name=\"Rodada 2\")\n",
    "print(f\"IVC Rounda 1 loaded: {round_1.shape[0]} rows, {round_1.shape[1]} columns\")\n",
    "print(f\"IVC Rounda 2 loaded: {round_2.shape[0]} rows, {round_2.shape[1]} columns\")"
   ]
  },
  {
   "cell_type": "code",
   "execution_count": 3,
   "id": "e0d9ef3b",
   "metadata": {},
   "outputs": [
    {
     "data": {
      "application/vnd.microsoft.datawrangler.viewer.v0+json": {
       "columns": [
        {
         "name": "index",
         "rawType": "int64",
         "type": "integer"
        },
        {
         "name": "Item",
         "rawType": "object",
         "type": "string"
        },
        {
         "name": "Avaliador 1",
         "rawType": "object",
         "type": "string"
        },
        {
         "name": "Avaliador 2",
         "rawType": "object",
         "type": "string"
        },
        {
         "name": "Avaliador 3",
         "rawType": "object",
         "type": "string"
        },
        {
         "name": "Avaliador 4",
         "rawType": "object",
         "type": "string"
        },
        {
         "name": "N° de \"sim\"",
         "rawType": "int64",
         "type": "integer"
        },
        {
         "name": "IVC-i",
         "rawType": "float64",
         "type": "float"
        },
        {
         "name": "Unnamed: 7",
         "rawType": "float64",
         "type": "float"
        },
        {
         "name": "Unnamed: 8",
         "rawType": "object",
         "type": "unknown"
        }
       ],
       "ref": "962c6d1e-27e3-44a2-af9f-7afbff1b9f33",
       "rows": [
        [
         "0",
         "Q01",
         "Sim",
         "Sim",
         "Sim",
         "Não",
         "3",
         "0.75",
         null,
         "IVC-i = (Nº de Juízes que votaram \"SIM\") / (Nº Total de Juízes)"
        ],
        [
         "1",
         "Q02",
         "Sim",
         "Sim",
         "Sim",
         "Não",
         "3",
         "0.75",
         null,
         null
        ],
        [
         "2",
         "Q03",
         "Sim",
         "Sim",
         "Sim",
         "Não",
         "3",
         "0.75",
         null,
         null
        ],
        [
         "3",
         "Q04",
         "Sim",
         "Sim",
         "Sim",
         "Não",
         "3",
         "0.75",
         null,
         null
        ],
        [
         "4",
         "Q05",
         "Sim",
         "Sim",
         "Sim",
         "Não",
         "3",
         "0.75",
         null,
         null
        ],
        [
         "5",
         "Q06",
         "Sim",
         "Sim",
         "Sim",
         "Não",
         "3",
         "0.75",
         null,
         null
        ],
        [
         "6",
         "Q07",
         "Sim",
         "Sim",
         "Sim",
         "Não",
         "3",
         "0.75",
         null,
         null
        ],
        [
         "7",
         "Q08",
         "Sim",
         "Sim",
         "Sim",
         "Não",
         "3",
         "0.75",
         null,
         null
        ],
        [
         "8",
         "Q09",
         "Sim",
         "Sim",
         "Sim",
         "Não",
         "3",
         "0.75",
         null,
         null
        ],
        [
         "9",
         "Q10",
         "Sim",
         "Sim",
         "Sim",
         "Não",
         "3",
         "0.75",
         null,
         null
        ],
        [
         "10",
         "Q11",
         "Sim",
         "Sim",
         "Sim",
         "Não",
         "3",
         "0.75",
         null,
         null
        ],
        [
         "11",
         "Q12",
         "Sim",
         "Sim",
         "Sim",
         "Não",
         "3",
         "0.75",
         null,
         null
        ],
        [
         "12",
         "Q13",
         "Sim",
         "Sim",
         "Sim",
         "Não",
         "3",
         "0.75",
         null,
         null
        ],
        [
         "13",
         "Q14",
         "Sim",
         "Sim",
         "Sim",
         "Não",
         "3",
         "0.75",
         null,
         null
        ]
       ],
       "shape": {
        "columns": 9,
        "rows": 14
       }
      },
      "text/html": [
       "<div>\n",
       "<style scoped>\n",
       "    .dataframe tbody tr th:only-of-type {\n",
       "        vertical-align: middle;\n",
       "    }\n",
       "\n",
       "    .dataframe tbody tr th {\n",
       "        vertical-align: top;\n",
       "    }\n",
       "\n",
       "    .dataframe thead th {\n",
       "        text-align: right;\n",
       "    }\n",
       "</style>\n",
       "<table border=\"1\" class=\"dataframe\">\n",
       "  <thead>\n",
       "    <tr style=\"text-align: right;\">\n",
       "      <th></th>\n",
       "      <th>Item</th>\n",
       "      <th>Avaliador 1</th>\n",
       "      <th>Avaliador 2</th>\n",
       "      <th>Avaliador 3</th>\n",
       "      <th>Avaliador 4</th>\n",
       "      <th>N° de \"sim\"</th>\n",
       "      <th>IVC-i</th>\n",
       "      <th>Unnamed: 7</th>\n",
       "      <th>Unnamed: 8</th>\n",
       "    </tr>\n",
       "  </thead>\n",
       "  <tbody>\n",
       "    <tr>\n",
       "      <th>0</th>\n",
       "      <td>Q01</td>\n",
       "      <td>Sim</td>\n",
       "      <td>Sim</td>\n",
       "      <td>Sim</td>\n",
       "      <td>Não</td>\n",
       "      <td>3</td>\n",
       "      <td>0.75</td>\n",
       "      <td>NaN</td>\n",
       "      <td>IVC-i = (Nº de Juízes que votaram \"SIM\") / (Nº...</td>\n",
       "    </tr>\n",
       "    <tr>\n",
       "      <th>1</th>\n",
       "      <td>Q02</td>\n",
       "      <td>Sim</td>\n",
       "      <td>Sim</td>\n",
       "      <td>Sim</td>\n",
       "      <td>Não</td>\n",
       "      <td>3</td>\n",
       "      <td>0.75</td>\n",
       "      <td>NaN</td>\n",
       "      <td>NaN</td>\n",
       "    </tr>\n",
       "    <tr>\n",
       "      <th>2</th>\n",
       "      <td>Q03</td>\n",
       "      <td>Sim</td>\n",
       "      <td>Sim</td>\n",
       "      <td>Sim</td>\n",
       "      <td>Não</td>\n",
       "      <td>3</td>\n",
       "      <td>0.75</td>\n",
       "      <td>NaN</td>\n",
       "      <td>NaN</td>\n",
       "    </tr>\n",
       "    <tr>\n",
       "      <th>3</th>\n",
       "      <td>Q04</td>\n",
       "      <td>Sim</td>\n",
       "      <td>Sim</td>\n",
       "      <td>Sim</td>\n",
       "      <td>Não</td>\n",
       "      <td>3</td>\n",
       "      <td>0.75</td>\n",
       "      <td>NaN</td>\n",
       "      <td>NaN</td>\n",
       "    </tr>\n",
       "    <tr>\n",
       "      <th>4</th>\n",
       "      <td>Q05</td>\n",
       "      <td>Sim</td>\n",
       "      <td>Sim</td>\n",
       "      <td>Sim</td>\n",
       "      <td>Não</td>\n",
       "      <td>3</td>\n",
       "      <td>0.75</td>\n",
       "      <td>NaN</td>\n",
       "      <td>NaN</td>\n",
       "    </tr>\n",
       "    <tr>\n",
       "      <th>5</th>\n",
       "      <td>Q06</td>\n",
       "      <td>Sim</td>\n",
       "      <td>Sim</td>\n",
       "      <td>Sim</td>\n",
       "      <td>Não</td>\n",
       "      <td>3</td>\n",
       "      <td>0.75</td>\n",
       "      <td>NaN</td>\n",
       "      <td>NaN</td>\n",
       "    </tr>\n",
       "    <tr>\n",
       "      <th>6</th>\n",
       "      <td>Q07</td>\n",
       "      <td>Sim</td>\n",
       "      <td>Sim</td>\n",
       "      <td>Sim</td>\n",
       "      <td>Não</td>\n",
       "      <td>3</td>\n",
       "      <td>0.75</td>\n",
       "      <td>NaN</td>\n",
       "      <td>NaN</td>\n",
       "    </tr>\n",
       "    <tr>\n",
       "      <th>7</th>\n",
       "      <td>Q08</td>\n",
       "      <td>Sim</td>\n",
       "      <td>Sim</td>\n",
       "      <td>Sim</td>\n",
       "      <td>Não</td>\n",
       "      <td>3</td>\n",
       "      <td>0.75</td>\n",
       "      <td>NaN</td>\n",
       "      <td>NaN</td>\n",
       "    </tr>\n",
       "    <tr>\n",
       "      <th>8</th>\n",
       "      <td>Q09</td>\n",
       "      <td>Sim</td>\n",
       "      <td>Sim</td>\n",
       "      <td>Sim</td>\n",
       "      <td>Não</td>\n",
       "      <td>3</td>\n",
       "      <td>0.75</td>\n",
       "      <td>NaN</td>\n",
       "      <td>NaN</td>\n",
       "    </tr>\n",
       "    <tr>\n",
       "      <th>9</th>\n",
       "      <td>Q10</td>\n",
       "      <td>Sim</td>\n",
       "      <td>Sim</td>\n",
       "      <td>Sim</td>\n",
       "      <td>Não</td>\n",
       "      <td>3</td>\n",
       "      <td>0.75</td>\n",
       "      <td>NaN</td>\n",
       "      <td>NaN</td>\n",
       "    </tr>\n",
       "    <tr>\n",
       "      <th>10</th>\n",
       "      <td>Q11</td>\n",
       "      <td>Sim</td>\n",
       "      <td>Sim</td>\n",
       "      <td>Sim</td>\n",
       "      <td>Não</td>\n",
       "      <td>3</td>\n",
       "      <td>0.75</td>\n",
       "      <td>NaN</td>\n",
       "      <td>NaN</td>\n",
       "    </tr>\n",
       "    <tr>\n",
       "      <th>11</th>\n",
       "      <td>Q12</td>\n",
       "      <td>Sim</td>\n",
       "      <td>Sim</td>\n",
       "      <td>Sim</td>\n",
       "      <td>Não</td>\n",
       "      <td>3</td>\n",
       "      <td>0.75</td>\n",
       "      <td>NaN</td>\n",
       "      <td>NaN</td>\n",
       "    </tr>\n",
       "    <tr>\n",
       "      <th>12</th>\n",
       "      <td>Q13</td>\n",
       "      <td>Sim</td>\n",
       "      <td>Sim</td>\n",
       "      <td>Sim</td>\n",
       "      <td>Não</td>\n",
       "      <td>3</td>\n",
       "      <td>0.75</td>\n",
       "      <td>NaN</td>\n",
       "      <td>NaN</td>\n",
       "    </tr>\n",
       "    <tr>\n",
       "      <th>13</th>\n",
       "      <td>Q14</td>\n",
       "      <td>Sim</td>\n",
       "      <td>Sim</td>\n",
       "      <td>Sim</td>\n",
       "      <td>Não</td>\n",
       "      <td>3</td>\n",
       "      <td>0.75</td>\n",
       "      <td>NaN</td>\n",
       "      <td>NaN</td>\n",
       "    </tr>\n",
       "  </tbody>\n",
       "</table>\n",
       "</div>"
      ],
      "text/plain": [
       "   Item Avaliador 1 Avaliador 2 Avaliador 3 Avaliador 4  N° de \"sim\"  IVC-i  \\\n",
       "0   Q01         Sim         Sim         Sim         Não            3   0.75   \n",
       "1   Q02         Sim         Sim         Sim         Não            3   0.75   \n",
       "2   Q03         Sim         Sim         Sim         Não            3   0.75   \n",
       "3   Q04         Sim         Sim         Sim         Não            3   0.75   \n",
       "4   Q05         Sim         Sim         Sim         Não            3   0.75   \n",
       "5   Q06         Sim         Sim         Sim         Não            3   0.75   \n",
       "6   Q07         Sim         Sim         Sim         Não            3   0.75   \n",
       "7   Q08         Sim         Sim         Sim         Não            3   0.75   \n",
       "8   Q09         Sim         Sim         Sim         Não            3   0.75   \n",
       "9   Q10         Sim         Sim         Sim         Não            3   0.75   \n",
       "10  Q11         Sim         Sim         Sim         Não            3   0.75   \n",
       "11  Q12         Sim         Sim         Sim         Não            3   0.75   \n",
       "12  Q13         Sim         Sim         Sim         Não            3   0.75   \n",
       "13  Q14         Sim         Sim         Sim         Não            3   0.75   \n",
       "\n",
       "    Unnamed: 7                                         Unnamed: 8  \n",
       "0          NaN  IVC-i = (Nº de Juízes que votaram \"SIM\") / (Nº...  \n",
       "1          NaN                                                NaN  \n",
       "2          NaN                                                NaN  \n",
       "3          NaN                                                NaN  \n",
       "4          NaN                                                NaN  \n",
       "5          NaN                                                NaN  \n",
       "6          NaN                                                NaN  \n",
       "7          NaN                                                NaN  \n",
       "8          NaN                                                NaN  \n",
       "9          NaN                                                NaN  \n",
       "10         NaN                                                NaN  \n",
       "11         NaN                                                NaN  \n",
       "12         NaN                                                NaN  \n",
       "13         NaN                                                NaN  "
      ]
     },
     "execution_count": 3,
     "metadata": {},
     "output_type": "execute_result"
    }
   ],
   "source": [
    "round_1"
   ]
  },
  {
   "cell_type": "code",
   "execution_count": 4,
   "id": "2745e8c1",
   "metadata": {},
   "outputs": [
    {
     "data": {
      "application/vnd.microsoft.datawrangler.viewer.v0+json": {
       "columns": [
        {
         "name": "index",
         "rawType": "int64",
         "type": "integer"
        },
        {
         "name": "Item",
         "rawType": "object",
         "type": "string"
        },
        {
         "name": "Avaliador 1",
         "rawType": "object",
         "type": "string"
        },
        {
         "name": "Avaliador 2",
         "rawType": "object",
         "type": "string"
        },
        {
         "name": "Avaliador 3",
         "rawType": "object",
         "type": "string"
        },
        {
         "name": "Avaliador 4",
         "rawType": "object",
         "type": "string"
        },
        {
         "name": "N° de \"sim\"",
         "rawType": "int64",
         "type": "integer"
        },
        {
         "name": "IVC-i",
         "rawType": "int64",
         "type": "integer"
        }
       ],
       "ref": "968a60b6-18e0-45bf-8319-f18feb101950",
       "rows": [
        [
         "0",
         "Q01",
         "Sim",
         "Sim",
         "Sim",
         "Sim",
         "4",
         "1"
        ],
        [
         "1",
         "Q02",
         "Sim",
         "Sim",
         "Sim",
         "Sim",
         "4",
         "1"
        ],
        [
         "2",
         "Q03",
         "Sim",
         "Sim",
         "Sim",
         "Sim",
         "4",
         "1"
        ],
        [
         "3",
         "Q04",
         "Sim",
         "Sim",
         "Sim",
         "Sim",
         "4",
         "1"
        ],
        [
         "4",
         "Q05",
         "Sim",
         "Sim",
         "Sim",
         "Sim",
         "4",
         "1"
        ],
        [
         "5",
         "Q06",
         "Sim",
         "Sim",
         "Sim",
         "Sim",
         "4",
         "1"
        ],
        [
         "6",
         "Q07",
         "Sim",
         "Sim",
         "Sim",
         "Sim",
         "4",
         "1"
        ],
        [
         "7",
         "Q08",
         "Sim",
         "Sim",
         "Sim",
         "Sim",
         "4",
         "1"
        ],
        [
         "8",
         "Q09",
         "Sim",
         "Sim",
         "Sim",
         "Sim",
         "4",
         "1"
        ],
        [
         "9",
         "Q10",
         "Sim",
         "Sim",
         "Sim",
         "Sim",
         "4",
         "1"
        ],
        [
         "10",
         "Q11",
         "Sim",
         "Sim",
         "Sim",
         "Sim",
         "4",
         "1"
        ],
        [
         "11",
         "Q12",
         "Sim",
         "Sim",
         "Sim",
         "Sim",
         "4",
         "1"
        ],
        [
         "12",
         "Q13",
         "Sim",
         "Sim",
         "Sim",
         "Sim",
         "4",
         "1"
        ],
        [
         "13",
         "Q14",
         "Sim",
         "Sim",
         "Sim",
         "Sim",
         "4",
         "1"
        ],
        [
         "14",
         "Q15",
         "Sim",
         "Sim",
         "Sim",
         "Sim",
         "4",
         "1"
        ],
        [
         "15",
         "Q16",
         "Sim",
         "Sim",
         "Sim",
         "Sim",
         "4",
         "1"
        ],
        [
         "16",
         "Q17",
         "Sim",
         "Sim",
         "Sim",
         "Sim",
         "4",
         "1"
        ],
        [
         "17",
         "Q18",
         "Sim",
         "Sim",
         "Sim",
         "Sim",
         "4",
         "1"
        ],
        [
         "18",
         "Q19",
         "Sim",
         "Sim",
         "Sim",
         "Sim",
         "4",
         "1"
        ],
        [
         "19",
         "Q20",
         "Sim",
         "Sim",
         "Sim",
         "Sim",
         "4",
         "1"
        ],
        [
         "20",
         "Q21",
         "Sim",
         "Sim",
         "Sim",
         "Sim",
         "4",
         "1"
        ],
        [
         "21",
         "Q22",
         "Sim",
         "Sim",
         "Sim",
         "Sim",
         "4",
         "1"
        ],
        [
         "22",
         "Q23",
         "Sim",
         "Sim",
         "Sim",
         "Sim",
         "4",
         "1"
        ]
       ],
       "shape": {
        "columns": 7,
        "rows": 23
       }
      },
      "text/html": [
       "<div>\n",
       "<style scoped>\n",
       "    .dataframe tbody tr th:only-of-type {\n",
       "        vertical-align: middle;\n",
       "    }\n",
       "\n",
       "    .dataframe tbody tr th {\n",
       "        vertical-align: top;\n",
       "    }\n",
       "\n",
       "    .dataframe thead th {\n",
       "        text-align: right;\n",
       "    }\n",
       "</style>\n",
       "<table border=\"1\" class=\"dataframe\">\n",
       "  <thead>\n",
       "    <tr style=\"text-align: right;\">\n",
       "      <th></th>\n",
       "      <th>Item</th>\n",
       "      <th>Avaliador 1</th>\n",
       "      <th>Avaliador 2</th>\n",
       "      <th>Avaliador 3</th>\n",
       "      <th>Avaliador 4</th>\n",
       "      <th>N° de \"sim\"</th>\n",
       "      <th>IVC-i</th>\n",
       "    </tr>\n",
       "  </thead>\n",
       "  <tbody>\n",
       "    <tr>\n",
       "      <th>0</th>\n",
       "      <td>Q01</td>\n",
       "      <td>Sim</td>\n",
       "      <td>Sim</td>\n",
       "      <td>Sim</td>\n",
       "      <td>Sim</td>\n",
       "      <td>4</td>\n",
       "      <td>1</td>\n",
       "    </tr>\n",
       "    <tr>\n",
       "      <th>1</th>\n",
       "      <td>Q02</td>\n",
       "      <td>Sim</td>\n",
       "      <td>Sim</td>\n",
       "      <td>Sim</td>\n",
       "      <td>Sim</td>\n",
       "      <td>4</td>\n",
       "      <td>1</td>\n",
       "    </tr>\n",
       "    <tr>\n",
       "      <th>2</th>\n",
       "      <td>Q03</td>\n",
       "      <td>Sim</td>\n",
       "      <td>Sim</td>\n",
       "      <td>Sim</td>\n",
       "      <td>Sim</td>\n",
       "      <td>4</td>\n",
       "      <td>1</td>\n",
       "    </tr>\n",
       "    <tr>\n",
       "      <th>3</th>\n",
       "      <td>Q04</td>\n",
       "      <td>Sim</td>\n",
       "      <td>Sim</td>\n",
       "      <td>Sim</td>\n",
       "      <td>Sim</td>\n",
       "      <td>4</td>\n",
       "      <td>1</td>\n",
       "    </tr>\n",
       "    <tr>\n",
       "      <th>4</th>\n",
       "      <td>Q05</td>\n",
       "      <td>Sim</td>\n",
       "      <td>Sim</td>\n",
       "      <td>Sim</td>\n",
       "      <td>Sim</td>\n",
       "      <td>4</td>\n",
       "      <td>1</td>\n",
       "    </tr>\n",
       "    <tr>\n",
       "      <th>5</th>\n",
       "      <td>Q06</td>\n",
       "      <td>Sim</td>\n",
       "      <td>Sim</td>\n",
       "      <td>Sim</td>\n",
       "      <td>Sim</td>\n",
       "      <td>4</td>\n",
       "      <td>1</td>\n",
       "    </tr>\n",
       "    <tr>\n",
       "      <th>6</th>\n",
       "      <td>Q07</td>\n",
       "      <td>Sim</td>\n",
       "      <td>Sim</td>\n",
       "      <td>Sim</td>\n",
       "      <td>Sim</td>\n",
       "      <td>4</td>\n",
       "      <td>1</td>\n",
       "    </tr>\n",
       "    <tr>\n",
       "      <th>7</th>\n",
       "      <td>Q08</td>\n",
       "      <td>Sim</td>\n",
       "      <td>Sim</td>\n",
       "      <td>Sim</td>\n",
       "      <td>Sim</td>\n",
       "      <td>4</td>\n",
       "      <td>1</td>\n",
       "    </tr>\n",
       "    <tr>\n",
       "      <th>8</th>\n",
       "      <td>Q09</td>\n",
       "      <td>Sim</td>\n",
       "      <td>Sim</td>\n",
       "      <td>Sim</td>\n",
       "      <td>Sim</td>\n",
       "      <td>4</td>\n",
       "      <td>1</td>\n",
       "    </tr>\n",
       "    <tr>\n",
       "      <th>9</th>\n",
       "      <td>Q10</td>\n",
       "      <td>Sim</td>\n",
       "      <td>Sim</td>\n",
       "      <td>Sim</td>\n",
       "      <td>Sim</td>\n",
       "      <td>4</td>\n",
       "      <td>1</td>\n",
       "    </tr>\n",
       "    <tr>\n",
       "      <th>10</th>\n",
       "      <td>Q11</td>\n",
       "      <td>Sim</td>\n",
       "      <td>Sim</td>\n",
       "      <td>Sim</td>\n",
       "      <td>Sim</td>\n",
       "      <td>4</td>\n",
       "      <td>1</td>\n",
       "    </tr>\n",
       "    <tr>\n",
       "      <th>11</th>\n",
       "      <td>Q12</td>\n",
       "      <td>Sim</td>\n",
       "      <td>Sim</td>\n",
       "      <td>Sim</td>\n",
       "      <td>Sim</td>\n",
       "      <td>4</td>\n",
       "      <td>1</td>\n",
       "    </tr>\n",
       "    <tr>\n",
       "      <th>12</th>\n",
       "      <td>Q13</td>\n",
       "      <td>Sim</td>\n",
       "      <td>Sim</td>\n",
       "      <td>Sim</td>\n",
       "      <td>Sim</td>\n",
       "      <td>4</td>\n",
       "      <td>1</td>\n",
       "    </tr>\n",
       "    <tr>\n",
       "      <th>13</th>\n",
       "      <td>Q14</td>\n",
       "      <td>Sim</td>\n",
       "      <td>Sim</td>\n",
       "      <td>Sim</td>\n",
       "      <td>Sim</td>\n",
       "      <td>4</td>\n",
       "      <td>1</td>\n",
       "    </tr>\n",
       "    <tr>\n",
       "      <th>14</th>\n",
       "      <td>Q15</td>\n",
       "      <td>Sim</td>\n",
       "      <td>Sim</td>\n",
       "      <td>Sim</td>\n",
       "      <td>Sim</td>\n",
       "      <td>4</td>\n",
       "      <td>1</td>\n",
       "    </tr>\n",
       "    <tr>\n",
       "      <th>15</th>\n",
       "      <td>Q16</td>\n",
       "      <td>Sim</td>\n",
       "      <td>Sim</td>\n",
       "      <td>Sim</td>\n",
       "      <td>Sim</td>\n",
       "      <td>4</td>\n",
       "      <td>1</td>\n",
       "    </tr>\n",
       "    <tr>\n",
       "      <th>16</th>\n",
       "      <td>Q17</td>\n",
       "      <td>Sim</td>\n",
       "      <td>Sim</td>\n",
       "      <td>Sim</td>\n",
       "      <td>Sim</td>\n",
       "      <td>4</td>\n",
       "      <td>1</td>\n",
       "    </tr>\n",
       "    <tr>\n",
       "      <th>17</th>\n",
       "      <td>Q18</td>\n",
       "      <td>Sim</td>\n",
       "      <td>Sim</td>\n",
       "      <td>Sim</td>\n",
       "      <td>Sim</td>\n",
       "      <td>4</td>\n",
       "      <td>1</td>\n",
       "    </tr>\n",
       "    <tr>\n",
       "      <th>18</th>\n",
       "      <td>Q19</td>\n",
       "      <td>Sim</td>\n",
       "      <td>Sim</td>\n",
       "      <td>Sim</td>\n",
       "      <td>Sim</td>\n",
       "      <td>4</td>\n",
       "      <td>1</td>\n",
       "    </tr>\n",
       "    <tr>\n",
       "      <th>19</th>\n",
       "      <td>Q20</td>\n",
       "      <td>Sim</td>\n",
       "      <td>Sim</td>\n",
       "      <td>Sim</td>\n",
       "      <td>Sim</td>\n",
       "      <td>4</td>\n",
       "      <td>1</td>\n",
       "    </tr>\n",
       "    <tr>\n",
       "      <th>20</th>\n",
       "      <td>Q21</td>\n",
       "      <td>Sim</td>\n",
       "      <td>Sim</td>\n",
       "      <td>Sim</td>\n",
       "      <td>Sim</td>\n",
       "      <td>4</td>\n",
       "      <td>1</td>\n",
       "    </tr>\n",
       "    <tr>\n",
       "      <th>21</th>\n",
       "      <td>Q22</td>\n",
       "      <td>Sim</td>\n",
       "      <td>Sim</td>\n",
       "      <td>Sim</td>\n",
       "      <td>Sim</td>\n",
       "      <td>4</td>\n",
       "      <td>1</td>\n",
       "    </tr>\n",
       "    <tr>\n",
       "      <th>22</th>\n",
       "      <td>Q23</td>\n",
       "      <td>Sim</td>\n",
       "      <td>Sim</td>\n",
       "      <td>Sim</td>\n",
       "      <td>Sim</td>\n",
       "      <td>4</td>\n",
       "      <td>1</td>\n",
       "    </tr>\n",
       "  </tbody>\n",
       "</table>\n",
       "</div>"
      ],
      "text/plain": [
       "   Item Avaliador 1 Avaliador 2 Avaliador 3 Avaliador 4  N° de \"sim\"  IVC-i\n",
       "0   Q01         Sim         Sim         Sim         Sim            4      1\n",
       "1   Q02         Sim         Sim         Sim         Sim            4      1\n",
       "2   Q03         Sim         Sim         Sim         Sim            4      1\n",
       "3   Q04         Sim         Sim         Sim         Sim            4      1\n",
       "4   Q05         Sim         Sim         Sim         Sim            4      1\n",
       "5   Q06         Sim         Sim         Sim         Sim            4      1\n",
       "6   Q07         Sim         Sim         Sim         Sim            4      1\n",
       "7   Q08         Sim         Sim         Sim         Sim            4      1\n",
       "8   Q09         Sim         Sim         Sim         Sim            4      1\n",
       "9   Q10         Sim         Sim         Sim         Sim            4      1\n",
       "10  Q11         Sim         Sim         Sim         Sim            4      1\n",
       "11  Q12         Sim         Sim         Sim         Sim            4      1\n",
       "12  Q13         Sim         Sim         Sim         Sim            4      1\n",
       "13  Q14         Sim         Sim         Sim         Sim            4      1\n",
       "14  Q15         Sim         Sim         Sim         Sim            4      1\n",
       "15  Q16         Sim         Sim         Sim         Sim            4      1\n",
       "16  Q17         Sim         Sim         Sim         Sim            4      1\n",
       "17  Q18         Sim         Sim         Sim         Sim            4      1\n",
       "18  Q19         Sim         Sim         Sim         Sim            4      1\n",
       "19  Q20         Sim         Sim         Sim         Sim            4      1\n",
       "20  Q21         Sim         Sim         Sim         Sim            4      1\n",
       "21  Q22         Sim         Sim         Sim         Sim            4      1\n",
       "22  Q23         Sim         Sim         Sim         Sim            4      1"
      ]
     },
     "execution_count": 4,
     "metadata": {},
     "output_type": "execute_result"
    }
   ],
   "source": [
    "round_2"
   ]
  },
  {
   "cell_type": "code",
   "execution_count": 5,
   "id": "645dc5a3",
   "metadata": {},
   "outputs": [
    {
     "data": {
      "application/vnd.microsoft.datawrangler.viewer.v0+json": {
       "columns": [
        {
         "name": "index",
         "rawType": "int64",
         "type": "integer"
        },
        {
         "name": "item",
         "rawType": "object",
         "type": "string"
        },
        {
         "name": "avaliador_1",
         "rawType": "object",
         "type": "string"
        },
        {
         "name": "avaliador_2",
         "rawType": "object",
         "type": "string"
        },
        {
         "name": "avaliador_3",
         "rawType": "object",
         "type": "string"
        },
        {
         "name": "avaliador_4",
         "rawType": "object",
         "type": "string"
        },
        {
         "name": "n°_de_\"sim\"",
         "rawType": "int64",
         "type": "integer"
        },
        {
         "name": "ivc-i",
         "rawType": "float64",
         "type": "float"
        },
        {
         "name": "unnamed:_7",
         "rawType": "float64",
         "type": "float"
        },
        {
         "name": "unnamed:_8",
         "rawType": "object",
         "type": "unknown"
        }
       ],
       "ref": "e41316d9-b227-45e2-a5ba-9bce53652b16",
       "rows": [
        [
         "0",
         "Q01",
         "Sim",
         "Sim",
         "Sim",
         "Não",
         "3",
         "0.75",
         null,
         "IVC-i = (Nº de Juízes que votaram \"SIM\") / (Nº Total de Juízes)"
        ],
        [
         "1",
         "Q02",
         "Sim",
         "Sim",
         "Sim",
         "Não",
         "3",
         "0.75",
         null,
         null
        ],
        [
         "2",
         "Q03",
         "Sim",
         "Sim",
         "Sim",
         "Não",
         "3",
         "0.75",
         null,
         null
        ],
        [
         "3",
         "Q04",
         "Sim",
         "Sim",
         "Sim",
         "Não",
         "3",
         "0.75",
         null,
         null
        ],
        [
         "4",
         "Q05",
         "Sim",
         "Sim",
         "Sim",
         "Não",
         "3",
         "0.75",
         null,
         null
        ],
        [
         "5",
         "Q06",
         "Sim",
         "Sim",
         "Sim",
         "Não",
         "3",
         "0.75",
         null,
         null
        ],
        [
         "6",
         "Q07",
         "Sim",
         "Sim",
         "Sim",
         "Não",
         "3",
         "0.75",
         null,
         null
        ],
        [
         "7",
         "Q08",
         "Sim",
         "Sim",
         "Sim",
         "Não",
         "3",
         "0.75",
         null,
         null
        ],
        [
         "8",
         "Q09",
         "Sim",
         "Sim",
         "Sim",
         "Não",
         "3",
         "0.75",
         null,
         null
        ],
        [
         "9",
         "Q10",
         "Sim",
         "Sim",
         "Sim",
         "Não",
         "3",
         "0.75",
         null,
         null
        ],
        [
         "10",
         "Q11",
         "Sim",
         "Sim",
         "Sim",
         "Não",
         "3",
         "0.75",
         null,
         null
        ],
        [
         "11",
         "Q12",
         "Sim",
         "Sim",
         "Sim",
         "Não",
         "3",
         "0.75",
         null,
         null
        ],
        [
         "12",
         "Q13",
         "Sim",
         "Sim",
         "Sim",
         "Não",
         "3",
         "0.75",
         null,
         null
        ],
        [
         "13",
         "Q14",
         "Sim",
         "Sim",
         "Sim",
         "Não",
         "3",
         "0.75",
         null,
         null
        ]
       ],
       "shape": {
        "columns": 9,
        "rows": 14
       }
      },
      "text/html": [
       "<div>\n",
       "<style scoped>\n",
       "    .dataframe tbody tr th:only-of-type {\n",
       "        vertical-align: middle;\n",
       "    }\n",
       "\n",
       "    .dataframe tbody tr th {\n",
       "        vertical-align: top;\n",
       "    }\n",
       "\n",
       "    .dataframe thead th {\n",
       "        text-align: right;\n",
       "    }\n",
       "</style>\n",
       "<table border=\"1\" class=\"dataframe\">\n",
       "  <thead>\n",
       "    <tr style=\"text-align: right;\">\n",
       "      <th></th>\n",
       "      <th>item</th>\n",
       "      <th>avaliador_1</th>\n",
       "      <th>avaliador_2</th>\n",
       "      <th>avaliador_3</th>\n",
       "      <th>avaliador_4</th>\n",
       "      <th>n°_de_\"sim\"</th>\n",
       "      <th>ivc-i</th>\n",
       "      <th>unnamed:_7</th>\n",
       "      <th>unnamed:_8</th>\n",
       "    </tr>\n",
       "  </thead>\n",
       "  <tbody>\n",
       "    <tr>\n",
       "      <th>0</th>\n",
       "      <td>Q01</td>\n",
       "      <td>Sim</td>\n",
       "      <td>Sim</td>\n",
       "      <td>Sim</td>\n",
       "      <td>Não</td>\n",
       "      <td>3</td>\n",
       "      <td>0.75</td>\n",
       "      <td>NaN</td>\n",
       "      <td>IVC-i = (Nº de Juízes que votaram \"SIM\") / (Nº...</td>\n",
       "    </tr>\n",
       "    <tr>\n",
       "      <th>1</th>\n",
       "      <td>Q02</td>\n",
       "      <td>Sim</td>\n",
       "      <td>Sim</td>\n",
       "      <td>Sim</td>\n",
       "      <td>Não</td>\n",
       "      <td>3</td>\n",
       "      <td>0.75</td>\n",
       "      <td>NaN</td>\n",
       "      <td>NaN</td>\n",
       "    </tr>\n",
       "    <tr>\n",
       "      <th>2</th>\n",
       "      <td>Q03</td>\n",
       "      <td>Sim</td>\n",
       "      <td>Sim</td>\n",
       "      <td>Sim</td>\n",
       "      <td>Não</td>\n",
       "      <td>3</td>\n",
       "      <td>0.75</td>\n",
       "      <td>NaN</td>\n",
       "      <td>NaN</td>\n",
       "    </tr>\n",
       "    <tr>\n",
       "      <th>3</th>\n",
       "      <td>Q04</td>\n",
       "      <td>Sim</td>\n",
       "      <td>Sim</td>\n",
       "      <td>Sim</td>\n",
       "      <td>Não</td>\n",
       "      <td>3</td>\n",
       "      <td>0.75</td>\n",
       "      <td>NaN</td>\n",
       "      <td>NaN</td>\n",
       "    </tr>\n",
       "    <tr>\n",
       "      <th>4</th>\n",
       "      <td>Q05</td>\n",
       "      <td>Sim</td>\n",
       "      <td>Sim</td>\n",
       "      <td>Sim</td>\n",
       "      <td>Não</td>\n",
       "      <td>3</td>\n",
       "      <td>0.75</td>\n",
       "      <td>NaN</td>\n",
       "      <td>NaN</td>\n",
       "    </tr>\n",
       "    <tr>\n",
       "      <th>5</th>\n",
       "      <td>Q06</td>\n",
       "      <td>Sim</td>\n",
       "      <td>Sim</td>\n",
       "      <td>Sim</td>\n",
       "      <td>Não</td>\n",
       "      <td>3</td>\n",
       "      <td>0.75</td>\n",
       "      <td>NaN</td>\n",
       "      <td>NaN</td>\n",
       "    </tr>\n",
       "    <tr>\n",
       "      <th>6</th>\n",
       "      <td>Q07</td>\n",
       "      <td>Sim</td>\n",
       "      <td>Sim</td>\n",
       "      <td>Sim</td>\n",
       "      <td>Não</td>\n",
       "      <td>3</td>\n",
       "      <td>0.75</td>\n",
       "      <td>NaN</td>\n",
       "      <td>NaN</td>\n",
       "    </tr>\n",
       "    <tr>\n",
       "      <th>7</th>\n",
       "      <td>Q08</td>\n",
       "      <td>Sim</td>\n",
       "      <td>Sim</td>\n",
       "      <td>Sim</td>\n",
       "      <td>Não</td>\n",
       "      <td>3</td>\n",
       "      <td>0.75</td>\n",
       "      <td>NaN</td>\n",
       "      <td>NaN</td>\n",
       "    </tr>\n",
       "    <tr>\n",
       "      <th>8</th>\n",
       "      <td>Q09</td>\n",
       "      <td>Sim</td>\n",
       "      <td>Sim</td>\n",
       "      <td>Sim</td>\n",
       "      <td>Não</td>\n",
       "      <td>3</td>\n",
       "      <td>0.75</td>\n",
       "      <td>NaN</td>\n",
       "      <td>NaN</td>\n",
       "    </tr>\n",
       "    <tr>\n",
       "      <th>9</th>\n",
       "      <td>Q10</td>\n",
       "      <td>Sim</td>\n",
       "      <td>Sim</td>\n",
       "      <td>Sim</td>\n",
       "      <td>Não</td>\n",
       "      <td>3</td>\n",
       "      <td>0.75</td>\n",
       "      <td>NaN</td>\n",
       "      <td>NaN</td>\n",
       "    </tr>\n",
       "    <tr>\n",
       "      <th>10</th>\n",
       "      <td>Q11</td>\n",
       "      <td>Sim</td>\n",
       "      <td>Sim</td>\n",
       "      <td>Sim</td>\n",
       "      <td>Não</td>\n",
       "      <td>3</td>\n",
       "      <td>0.75</td>\n",
       "      <td>NaN</td>\n",
       "      <td>NaN</td>\n",
       "    </tr>\n",
       "    <tr>\n",
       "      <th>11</th>\n",
       "      <td>Q12</td>\n",
       "      <td>Sim</td>\n",
       "      <td>Sim</td>\n",
       "      <td>Sim</td>\n",
       "      <td>Não</td>\n",
       "      <td>3</td>\n",
       "      <td>0.75</td>\n",
       "      <td>NaN</td>\n",
       "      <td>NaN</td>\n",
       "    </tr>\n",
       "    <tr>\n",
       "      <th>12</th>\n",
       "      <td>Q13</td>\n",
       "      <td>Sim</td>\n",
       "      <td>Sim</td>\n",
       "      <td>Sim</td>\n",
       "      <td>Não</td>\n",
       "      <td>3</td>\n",
       "      <td>0.75</td>\n",
       "      <td>NaN</td>\n",
       "      <td>NaN</td>\n",
       "    </tr>\n",
       "    <tr>\n",
       "      <th>13</th>\n",
       "      <td>Q14</td>\n",
       "      <td>Sim</td>\n",
       "      <td>Sim</td>\n",
       "      <td>Sim</td>\n",
       "      <td>Não</td>\n",
       "      <td>3</td>\n",
       "      <td>0.75</td>\n",
       "      <td>NaN</td>\n",
       "      <td>NaN</td>\n",
       "    </tr>\n",
       "  </tbody>\n",
       "</table>\n",
       "</div>"
      ],
      "text/plain": [
       "   item avaliador_1 avaliador_2 avaliador_3 avaliador_4  n°_de_\"sim\"  ivc-i  \\\n",
       "0   Q01         Sim         Sim         Sim         Não            3   0.75   \n",
       "1   Q02         Sim         Sim         Sim         Não            3   0.75   \n",
       "2   Q03         Sim         Sim         Sim         Não            3   0.75   \n",
       "3   Q04         Sim         Sim         Sim         Não            3   0.75   \n",
       "4   Q05         Sim         Sim         Sim         Não            3   0.75   \n",
       "5   Q06         Sim         Sim         Sim         Não            3   0.75   \n",
       "6   Q07         Sim         Sim         Sim         Não            3   0.75   \n",
       "7   Q08         Sim         Sim         Sim         Não            3   0.75   \n",
       "8   Q09         Sim         Sim         Sim         Não            3   0.75   \n",
       "9   Q10         Sim         Sim         Sim         Não            3   0.75   \n",
       "10  Q11         Sim         Sim         Sim         Não            3   0.75   \n",
       "11  Q12         Sim         Sim         Sim         Não            3   0.75   \n",
       "12  Q13         Sim         Sim         Sim         Não            3   0.75   \n",
       "13  Q14         Sim         Sim         Sim         Não            3   0.75   \n",
       "\n",
       "    unnamed:_7                                         unnamed:_8  \n",
       "0          NaN  IVC-i = (Nº de Juízes que votaram \"SIM\") / (Nº...  \n",
       "1          NaN                                                NaN  \n",
       "2          NaN                                                NaN  \n",
       "3          NaN                                                NaN  \n",
       "4          NaN                                                NaN  \n",
       "5          NaN                                                NaN  \n",
       "6          NaN                                                NaN  \n",
       "7          NaN                                                NaN  \n",
       "8          NaN                                                NaN  \n",
       "9          NaN                                                NaN  \n",
       "10         NaN                                                NaN  \n",
       "11         NaN                                                NaN  \n",
       "12         NaN                                                NaN  \n",
       "13         NaN                                                NaN  "
      ]
     },
     "execution_count": 5,
     "metadata": {},
     "output_type": "execute_result"
    }
   ],
   "source": [
    "round_1.columns = [i.lower().strip().replace(\" \", \"_\") for i in round_1.columns]\n",
    "round_2.columns = [i.lower().strip().replace(\" \", \"_\") for i in round_2.columns]\n",
    "\n",
    "round_1"
   ]
  },
  {
   "cell_type": "code",
   "execution_count": 6,
   "id": "d198f0bf",
   "metadata": {},
   "outputs": [
    {
     "data": {
      "application/vnd.microsoft.datawrangler.viewer.v0+json": {
       "columns": [
        {
         "name": "index",
         "rawType": "int64",
         "type": "integer"
        },
        {
         "name": "item",
         "rawType": "object",
         "type": "string"
        },
        {
         "name": "avaliador_1",
         "rawType": "object",
         "type": "string"
        },
        {
         "name": "avaliador_2",
         "rawType": "object",
         "type": "string"
        },
        {
         "name": "avaliador_3",
         "rawType": "object",
         "type": "string"
        },
        {
         "name": "avaliador_4",
         "rawType": "object",
         "type": "string"
        },
        {
         "name": "n°_de_\"sim\"",
         "rawType": "int64",
         "type": "integer"
        },
        {
         "name": "ivc-i",
         "rawType": "int64",
         "type": "integer"
        }
       ],
       "ref": "ca1b2a58-9429-4798-8260-af77c3cc2d58",
       "rows": [
        [
         "0",
         "Q01",
         "Sim",
         "Sim",
         "Sim",
         "Sim",
         "4",
         "1"
        ],
        [
         "1",
         "Q02",
         "Sim",
         "Sim",
         "Sim",
         "Sim",
         "4",
         "1"
        ],
        [
         "2",
         "Q03",
         "Sim",
         "Sim",
         "Sim",
         "Sim",
         "4",
         "1"
        ],
        [
         "3",
         "Q04",
         "Sim",
         "Sim",
         "Sim",
         "Sim",
         "4",
         "1"
        ],
        [
         "4",
         "Q05",
         "Sim",
         "Sim",
         "Sim",
         "Sim",
         "4",
         "1"
        ],
        [
         "5",
         "Q06",
         "Sim",
         "Sim",
         "Sim",
         "Sim",
         "4",
         "1"
        ],
        [
         "6",
         "Q07",
         "Sim",
         "Sim",
         "Sim",
         "Sim",
         "4",
         "1"
        ],
        [
         "7",
         "Q08",
         "Sim",
         "Sim",
         "Sim",
         "Sim",
         "4",
         "1"
        ],
        [
         "8",
         "Q09",
         "Sim",
         "Sim",
         "Sim",
         "Sim",
         "4",
         "1"
        ],
        [
         "9",
         "Q10",
         "Sim",
         "Sim",
         "Sim",
         "Sim",
         "4",
         "1"
        ],
        [
         "10",
         "Q11",
         "Sim",
         "Sim",
         "Sim",
         "Sim",
         "4",
         "1"
        ],
        [
         "11",
         "Q12",
         "Sim",
         "Sim",
         "Sim",
         "Sim",
         "4",
         "1"
        ],
        [
         "12",
         "Q13",
         "Sim",
         "Sim",
         "Sim",
         "Sim",
         "4",
         "1"
        ],
        [
         "13",
         "Q14",
         "Sim",
         "Sim",
         "Sim",
         "Sim",
         "4",
         "1"
        ],
        [
         "14",
         "Q15",
         "Sim",
         "Sim",
         "Sim",
         "Sim",
         "4",
         "1"
        ],
        [
         "15",
         "Q16",
         "Sim",
         "Sim",
         "Sim",
         "Sim",
         "4",
         "1"
        ],
        [
         "16",
         "Q17",
         "Sim",
         "Sim",
         "Sim",
         "Sim",
         "4",
         "1"
        ],
        [
         "17",
         "Q18",
         "Sim",
         "Sim",
         "Sim",
         "Sim",
         "4",
         "1"
        ],
        [
         "18",
         "Q19",
         "Sim",
         "Sim",
         "Sim",
         "Sim",
         "4",
         "1"
        ],
        [
         "19",
         "Q20",
         "Sim",
         "Sim",
         "Sim",
         "Sim",
         "4",
         "1"
        ],
        [
         "20",
         "Q21",
         "Sim",
         "Sim",
         "Sim",
         "Sim",
         "4",
         "1"
        ],
        [
         "21",
         "Q22",
         "Sim",
         "Sim",
         "Sim",
         "Sim",
         "4",
         "1"
        ],
        [
         "22",
         "Q23",
         "Sim",
         "Sim",
         "Sim",
         "Sim",
         "4",
         "1"
        ]
       ],
       "shape": {
        "columns": 7,
        "rows": 23
       }
      },
      "text/html": [
       "<div>\n",
       "<style scoped>\n",
       "    .dataframe tbody tr th:only-of-type {\n",
       "        vertical-align: middle;\n",
       "    }\n",
       "\n",
       "    .dataframe tbody tr th {\n",
       "        vertical-align: top;\n",
       "    }\n",
       "\n",
       "    .dataframe thead th {\n",
       "        text-align: right;\n",
       "    }\n",
       "</style>\n",
       "<table border=\"1\" class=\"dataframe\">\n",
       "  <thead>\n",
       "    <tr style=\"text-align: right;\">\n",
       "      <th></th>\n",
       "      <th>item</th>\n",
       "      <th>avaliador_1</th>\n",
       "      <th>avaliador_2</th>\n",
       "      <th>avaliador_3</th>\n",
       "      <th>avaliador_4</th>\n",
       "      <th>n°_de_\"sim\"</th>\n",
       "      <th>ivc-i</th>\n",
       "    </tr>\n",
       "  </thead>\n",
       "  <tbody>\n",
       "    <tr>\n",
       "      <th>0</th>\n",
       "      <td>Q01</td>\n",
       "      <td>Sim</td>\n",
       "      <td>Sim</td>\n",
       "      <td>Sim</td>\n",
       "      <td>Sim</td>\n",
       "      <td>4</td>\n",
       "      <td>1</td>\n",
       "    </tr>\n",
       "    <tr>\n",
       "      <th>1</th>\n",
       "      <td>Q02</td>\n",
       "      <td>Sim</td>\n",
       "      <td>Sim</td>\n",
       "      <td>Sim</td>\n",
       "      <td>Sim</td>\n",
       "      <td>4</td>\n",
       "      <td>1</td>\n",
       "    </tr>\n",
       "    <tr>\n",
       "      <th>2</th>\n",
       "      <td>Q03</td>\n",
       "      <td>Sim</td>\n",
       "      <td>Sim</td>\n",
       "      <td>Sim</td>\n",
       "      <td>Sim</td>\n",
       "      <td>4</td>\n",
       "      <td>1</td>\n",
       "    </tr>\n",
       "    <tr>\n",
       "      <th>3</th>\n",
       "      <td>Q04</td>\n",
       "      <td>Sim</td>\n",
       "      <td>Sim</td>\n",
       "      <td>Sim</td>\n",
       "      <td>Sim</td>\n",
       "      <td>4</td>\n",
       "      <td>1</td>\n",
       "    </tr>\n",
       "    <tr>\n",
       "      <th>4</th>\n",
       "      <td>Q05</td>\n",
       "      <td>Sim</td>\n",
       "      <td>Sim</td>\n",
       "      <td>Sim</td>\n",
       "      <td>Sim</td>\n",
       "      <td>4</td>\n",
       "      <td>1</td>\n",
       "    </tr>\n",
       "    <tr>\n",
       "      <th>5</th>\n",
       "      <td>Q06</td>\n",
       "      <td>Sim</td>\n",
       "      <td>Sim</td>\n",
       "      <td>Sim</td>\n",
       "      <td>Sim</td>\n",
       "      <td>4</td>\n",
       "      <td>1</td>\n",
       "    </tr>\n",
       "    <tr>\n",
       "      <th>6</th>\n",
       "      <td>Q07</td>\n",
       "      <td>Sim</td>\n",
       "      <td>Sim</td>\n",
       "      <td>Sim</td>\n",
       "      <td>Sim</td>\n",
       "      <td>4</td>\n",
       "      <td>1</td>\n",
       "    </tr>\n",
       "    <tr>\n",
       "      <th>7</th>\n",
       "      <td>Q08</td>\n",
       "      <td>Sim</td>\n",
       "      <td>Sim</td>\n",
       "      <td>Sim</td>\n",
       "      <td>Sim</td>\n",
       "      <td>4</td>\n",
       "      <td>1</td>\n",
       "    </tr>\n",
       "    <tr>\n",
       "      <th>8</th>\n",
       "      <td>Q09</td>\n",
       "      <td>Sim</td>\n",
       "      <td>Sim</td>\n",
       "      <td>Sim</td>\n",
       "      <td>Sim</td>\n",
       "      <td>4</td>\n",
       "      <td>1</td>\n",
       "    </tr>\n",
       "    <tr>\n",
       "      <th>9</th>\n",
       "      <td>Q10</td>\n",
       "      <td>Sim</td>\n",
       "      <td>Sim</td>\n",
       "      <td>Sim</td>\n",
       "      <td>Sim</td>\n",
       "      <td>4</td>\n",
       "      <td>1</td>\n",
       "    </tr>\n",
       "    <tr>\n",
       "      <th>10</th>\n",
       "      <td>Q11</td>\n",
       "      <td>Sim</td>\n",
       "      <td>Sim</td>\n",
       "      <td>Sim</td>\n",
       "      <td>Sim</td>\n",
       "      <td>4</td>\n",
       "      <td>1</td>\n",
       "    </tr>\n",
       "    <tr>\n",
       "      <th>11</th>\n",
       "      <td>Q12</td>\n",
       "      <td>Sim</td>\n",
       "      <td>Sim</td>\n",
       "      <td>Sim</td>\n",
       "      <td>Sim</td>\n",
       "      <td>4</td>\n",
       "      <td>1</td>\n",
       "    </tr>\n",
       "    <tr>\n",
       "      <th>12</th>\n",
       "      <td>Q13</td>\n",
       "      <td>Sim</td>\n",
       "      <td>Sim</td>\n",
       "      <td>Sim</td>\n",
       "      <td>Sim</td>\n",
       "      <td>4</td>\n",
       "      <td>1</td>\n",
       "    </tr>\n",
       "    <tr>\n",
       "      <th>13</th>\n",
       "      <td>Q14</td>\n",
       "      <td>Sim</td>\n",
       "      <td>Sim</td>\n",
       "      <td>Sim</td>\n",
       "      <td>Sim</td>\n",
       "      <td>4</td>\n",
       "      <td>1</td>\n",
       "    </tr>\n",
       "    <tr>\n",
       "      <th>14</th>\n",
       "      <td>Q15</td>\n",
       "      <td>Sim</td>\n",
       "      <td>Sim</td>\n",
       "      <td>Sim</td>\n",
       "      <td>Sim</td>\n",
       "      <td>4</td>\n",
       "      <td>1</td>\n",
       "    </tr>\n",
       "    <tr>\n",
       "      <th>15</th>\n",
       "      <td>Q16</td>\n",
       "      <td>Sim</td>\n",
       "      <td>Sim</td>\n",
       "      <td>Sim</td>\n",
       "      <td>Sim</td>\n",
       "      <td>4</td>\n",
       "      <td>1</td>\n",
       "    </tr>\n",
       "    <tr>\n",
       "      <th>16</th>\n",
       "      <td>Q17</td>\n",
       "      <td>Sim</td>\n",
       "      <td>Sim</td>\n",
       "      <td>Sim</td>\n",
       "      <td>Sim</td>\n",
       "      <td>4</td>\n",
       "      <td>1</td>\n",
       "    </tr>\n",
       "    <tr>\n",
       "      <th>17</th>\n",
       "      <td>Q18</td>\n",
       "      <td>Sim</td>\n",
       "      <td>Sim</td>\n",
       "      <td>Sim</td>\n",
       "      <td>Sim</td>\n",
       "      <td>4</td>\n",
       "      <td>1</td>\n",
       "    </tr>\n",
       "    <tr>\n",
       "      <th>18</th>\n",
       "      <td>Q19</td>\n",
       "      <td>Sim</td>\n",
       "      <td>Sim</td>\n",
       "      <td>Sim</td>\n",
       "      <td>Sim</td>\n",
       "      <td>4</td>\n",
       "      <td>1</td>\n",
       "    </tr>\n",
       "    <tr>\n",
       "      <th>19</th>\n",
       "      <td>Q20</td>\n",
       "      <td>Sim</td>\n",
       "      <td>Sim</td>\n",
       "      <td>Sim</td>\n",
       "      <td>Sim</td>\n",
       "      <td>4</td>\n",
       "      <td>1</td>\n",
       "    </tr>\n",
       "    <tr>\n",
       "      <th>20</th>\n",
       "      <td>Q21</td>\n",
       "      <td>Sim</td>\n",
       "      <td>Sim</td>\n",
       "      <td>Sim</td>\n",
       "      <td>Sim</td>\n",
       "      <td>4</td>\n",
       "      <td>1</td>\n",
       "    </tr>\n",
       "    <tr>\n",
       "      <th>21</th>\n",
       "      <td>Q22</td>\n",
       "      <td>Sim</td>\n",
       "      <td>Sim</td>\n",
       "      <td>Sim</td>\n",
       "      <td>Sim</td>\n",
       "      <td>4</td>\n",
       "      <td>1</td>\n",
       "    </tr>\n",
       "    <tr>\n",
       "      <th>22</th>\n",
       "      <td>Q23</td>\n",
       "      <td>Sim</td>\n",
       "      <td>Sim</td>\n",
       "      <td>Sim</td>\n",
       "      <td>Sim</td>\n",
       "      <td>4</td>\n",
       "      <td>1</td>\n",
       "    </tr>\n",
       "  </tbody>\n",
       "</table>\n",
       "</div>"
      ],
      "text/plain": [
       "   item avaliador_1 avaliador_2 avaliador_3 avaliador_4  n°_de_\"sim\"  ivc-i\n",
       "0   Q01         Sim         Sim         Sim         Sim            4      1\n",
       "1   Q02         Sim         Sim         Sim         Sim            4      1\n",
       "2   Q03         Sim         Sim         Sim         Sim            4      1\n",
       "3   Q04         Sim         Sim         Sim         Sim            4      1\n",
       "4   Q05         Sim         Sim         Sim         Sim            4      1\n",
       "5   Q06         Sim         Sim         Sim         Sim            4      1\n",
       "6   Q07         Sim         Sim         Sim         Sim            4      1\n",
       "7   Q08         Sim         Sim         Sim         Sim            4      1\n",
       "8   Q09         Sim         Sim         Sim         Sim            4      1\n",
       "9   Q10         Sim         Sim         Sim         Sim            4      1\n",
       "10  Q11         Sim         Sim         Sim         Sim            4      1\n",
       "11  Q12         Sim         Sim         Sim         Sim            4      1\n",
       "12  Q13         Sim         Sim         Sim         Sim            4      1\n",
       "13  Q14         Sim         Sim         Sim         Sim            4      1\n",
       "14  Q15         Sim         Sim         Sim         Sim            4      1\n",
       "15  Q16         Sim         Sim         Sim         Sim            4      1\n",
       "16  Q17         Sim         Sim         Sim         Sim            4      1\n",
       "17  Q18         Sim         Sim         Sim         Sim            4      1\n",
       "18  Q19         Sim         Sim         Sim         Sim            4      1\n",
       "19  Q20         Sim         Sim         Sim         Sim            4      1\n",
       "20  Q21         Sim         Sim         Sim         Sim            4      1\n",
       "21  Q22         Sim         Sim         Sim         Sim            4      1\n",
       "22  Q23         Sim         Sim         Sim         Sim            4      1"
      ]
     },
     "execution_count": 6,
     "metadata": {},
     "output_type": "execute_result"
    }
   ],
   "source": [
    "round_2"
   ]
  },
  {
   "cell_type": "code",
   "execution_count": 7,
   "id": "e732b08a",
   "metadata": {},
   "outputs": [],
   "source": [
    "round_1.set_index(\"item\", inplace=True)\n",
    "round_2.set_index(\"item\", inplace=True)\n",
    "round_1.replace({\"Sim\": 1, \"Não\": 0}, inplace=True)\n",
    "round_2.replace({\"Sim\": 1, \"Não\": 0}, inplace=True)\n"
   ]
  },
  {
   "cell_type": "code",
   "execution_count": 8,
   "id": "9019e2e4",
   "metadata": {},
   "outputs": [
    {
     "data": {
      "application/vnd.microsoft.datawrangler.viewer.v0+json": {
       "columns": [
        {
         "name": "item",
         "rawType": "object",
         "type": "string"
        },
        {
         "name": "avaliador_1",
         "rawType": "int64",
         "type": "integer"
        },
        {
         "name": "avaliador_2",
         "rawType": "int64",
         "type": "integer"
        },
        {
         "name": "avaliador_3",
         "rawType": "int64",
         "type": "integer"
        },
        {
         "name": "avaliador_4",
         "rawType": "int64",
         "type": "integer"
        }
       ],
       "ref": "3931d35a-3992-4f9b-a727-dc4831fecfb2",
       "rows": [
        [
         "Q01",
         "1",
         "1",
         "1",
         "0"
        ],
        [
         "Q02",
         "1",
         "1",
         "1",
         "0"
        ],
        [
         "Q03",
         "1",
         "1",
         "1",
         "0"
        ],
        [
         "Q04",
         "1",
         "1",
         "1",
         "0"
        ],
        [
         "Q05",
         "1",
         "1",
         "1",
         "0"
        ],
        [
         "Q06",
         "1",
         "1",
         "1",
         "0"
        ],
        [
         "Q07",
         "1",
         "1",
         "1",
         "0"
        ],
        [
         "Q08",
         "1",
         "1",
         "1",
         "0"
        ],
        [
         "Q09",
         "1",
         "1",
         "1",
         "0"
        ],
        [
         "Q10",
         "1",
         "1",
         "1",
         "0"
        ],
        [
         "Q11",
         "1",
         "1",
         "1",
         "0"
        ],
        [
         "Q12",
         "1",
         "1",
         "1",
         "0"
        ],
        [
         "Q13",
         "1",
         "1",
         "1",
         "0"
        ],
        [
         "Q14",
         "1",
         "1",
         "1",
         "0"
        ]
       ],
       "shape": {
        "columns": 4,
        "rows": 14
       }
      },
      "text/html": [
       "<div>\n",
       "<style scoped>\n",
       "    .dataframe tbody tr th:only-of-type {\n",
       "        vertical-align: middle;\n",
       "    }\n",
       "\n",
       "    .dataframe tbody tr th {\n",
       "        vertical-align: top;\n",
       "    }\n",
       "\n",
       "    .dataframe thead th {\n",
       "        text-align: right;\n",
       "    }\n",
       "</style>\n",
       "<table border=\"1\" class=\"dataframe\">\n",
       "  <thead>\n",
       "    <tr style=\"text-align: right;\">\n",
       "      <th></th>\n",
       "      <th>avaliador_1</th>\n",
       "      <th>avaliador_2</th>\n",
       "      <th>avaliador_3</th>\n",
       "      <th>avaliador_4</th>\n",
       "    </tr>\n",
       "    <tr>\n",
       "      <th>item</th>\n",
       "      <th></th>\n",
       "      <th></th>\n",
       "      <th></th>\n",
       "      <th></th>\n",
       "    </tr>\n",
       "  </thead>\n",
       "  <tbody>\n",
       "    <tr>\n",
       "      <th>Q01</th>\n",
       "      <td>1</td>\n",
       "      <td>1</td>\n",
       "      <td>1</td>\n",
       "      <td>0</td>\n",
       "    </tr>\n",
       "    <tr>\n",
       "      <th>Q02</th>\n",
       "      <td>1</td>\n",
       "      <td>1</td>\n",
       "      <td>1</td>\n",
       "      <td>0</td>\n",
       "    </tr>\n",
       "    <tr>\n",
       "      <th>Q03</th>\n",
       "      <td>1</td>\n",
       "      <td>1</td>\n",
       "      <td>1</td>\n",
       "      <td>0</td>\n",
       "    </tr>\n",
       "    <tr>\n",
       "      <th>Q04</th>\n",
       "      <td>1</td>\n",
       "      <td>1</td>\n",
       "      <td>1</td>\n",
       "      <td>0</td>\n",
       "    </tr>\n",
       "    <tr>\n",
       "      <th>Q05</th>\n",
       "      <td>1</td>\n",
       "      <td>1</td>\n",
       "      <td>1</td>\n",
       "      <td>0</td>\n",
       "    </tr>\n",
       "    <tr>\n",
       "      <th>Q06</th>\n",
       "      <td>1</td>\n",
       "      <td>1</td>\n",
       "      <td>1</td>\n",
       "      <td>0</td>\n",
       "    </tr>\n",
       "    <tr>\n",
       "      <th>Q07</th>\n",
       "      <td>1</td>\n",
       "      <td>1</td>\n",
       "      <td>1</td>\n",
       "      <td>0</td>\n",
       "    </tr>\n",
       "    <tr>\n",
       "      <th>Q08</th>\n",
       "      <td>1</td>\n",
       "      <td>1</td>\n",
       "      <td>1</td>\n",
       "      <td>0</td>\n",
       "    </tr>\n",
       "    <tr>\n",
       "      <th>Q09</th>\n",
       "      <td>1</td>\n",
       "      <td>1</td>\n",
       "      <td>1</td>\n",
       "      <td>0</td>\n",
       "    </tr>\n",
       "    <tr>\n",
       "      <th>Q10</th>\n",
       "      <td>1</td>\n",
       "      <td>1</td>\n",
       "      <td>1</td>\n",
       "      <td>0</td>\n",
       "    </tr>\n",
       "    <tr>\n",
       "      <th>Q11</th>\n",
       "      <td>1</td>\n",
       "      <td>1</td>\n",
       "      <td>1</td>\n",
       "      <td>0</td>\n",
       "    </tr>\n",
       "    <tr>\n",
       "      <th>Q12</th>\n",
       "      <td>1</td>\n",
       "      <td>1</td>\n",
       "      <td>1</td>\n",
       "      <td>0</td>\n",
       "    </tr>\n",
       "    <tr>\n",
       "      <th>Q13</th>\n",
       "      <td>1</td>\n",
       "      <td>1</td>\n",
       "      <td>1</td>\n",
       "      <td>0</td>\n",
       "    </tr>\n",
       "    <tr>\n",
       "      <th>Q14</th>\n",
       "      <td>1</td>\n",
       "      <td>1</td>\n",
       "      <td>1</td>\n",
       "      <td>0</td>\n",
       "    </tr>\n",
       "  </tbody>\n",
       "</table>\n",
       "</div>"
      ],
      "text/plain": [
       "      avaliador_1  avaliador_2  avaliador_3  avaliador_4\n",
       "item                                                    \n",
       "Q01             1            1            1            0\n",
       "Q02             1            1            1            0\n",
       "Q03             1            1            1            0\n",
       "Q04             1            1            1            0\n",
       "Q05             1            1            1            0\n",
       "Q06             1            1            1            0\n",
       "Q07             1            1            1            0\n",
       "Q08             1            1            1            0\n",
       "Q09             1            1            1            0\n",
       "Q10             1            1            1            0\n",
       "Q11             1            1            1            0\n",
       "Q12             1            1            1            0\n",
       "Q13             1            1            1            0\n",
       "Q14             1            1            1            0"
      ]
     },
     "execution_count": 8,
     "metadata": {},
     "output_type": "execute_result"
    }
   ],
   "source": [
    "round_1 = round_1[[col for col in round_1.columns if \"avaliador_\" in col]]\n",
    "round_1"
   ]
  },
  {
   "cell_type": "code",
   "execution_count": 9,
   "id": "6cd6a31b",
   "metadata": {},
   "outputs": [
    {
     "data": {
      "application/vnd.microsoft.datawrangler.viewer.v0+json": {
       "columns": [
        {
         "name": "item",
         "rawType": "object",
         "type": "string"
        },
        {
         "name": "avaliador_1",
         "rawType": "int64",
         "type": "integer"
        },
        {
         "name": "avaliador_2",
         "rawType": "int64",
         "type": "integer"
        },
        {
         "name": "avaliador_3",
         "rawType": "int64",
         "type": "integer"
        },
        {
         "name": "avaliador_4",
         "rawType": "int64",
         "type": "integer"
        }
       ],
       "ref": "8ab812b3-5adc-4ddb-9503-0fa81050b79a",
       "rows": [
        [
         "Q01",
         "1",
         "1",
         "1",
         "1"
        ],
        [
         "Q02",
         "1",
         "1",
         "1",
         "1"
        ],
        [
         "Q03",
         "1",
         "1",
         "1",
         "1"
        ],
        [
         "Q04",
         "1",
         "1",
         "1",
         "1"
        ],
        [
         "Q05",
         "1",
         "1",
         "1",
         "1"
        ],
        [
         "Q06",
         "1",
         "1",
         "1",
         "1"
        ],
        [
         "Q07",
         "1",
         "1",
         "1",
         "1"
        ],
        [
         "Q08",
         "1",
         "1",
         "1",
         "1"
        ],
        [
         "Q09",
         "1",
         "1",
         "1",
         "1"
        ],
        [
         "Q10",
         "1",
         "1",
         "1",
         "1"
        ],
        [
         "Q11",
         "1",
         "1",
         "1",
         "1"
        ],
        [
         "Q12",
         "1",
         "1",
         "1",
         "1"
        ],
        [
         "Q13",
         "1",
         "1",
         "1",
         "1"
        ],
        [
         "Q14",
         "1",
         "1",
         "1",
         "1"
        ],
        [
         "Q15",
         "1",
         "1",
         "1",
         "1"
        ],
        [
         "Q16",
         "1",
         "1",
         "1",
         "1"
        ],
        [
         "Q17",
         "1",
         "1",
         "1",
         "1"
        ],
        [
         "Q18",
         "1",
         "1",
         "1",
         "1"
        ],
        [
         "Q19",
         "1",
         "1",
         "1",
         "1"
        ],
        [
         "Q20",
         "1",
         "1",
         "1",
         "1"
        ],
        [
         "Q21",
         "1",
         "1",
         "1",
         "1"
        ],
        [
         "Q22",
         "1",
         "1",
         "1",
         "1"
        ],
        [
         "Q23",
         "1",
         "1",
         "1",
         "1"
        ]
       ],
       "shape": {
        "columns": 4,
        "rows": 23
       }
      },
      "text/html": [
       "<div>\n",
       "<style scoped>\n",
       "    .dataframe tbody tr th:only-of-type {\n",
       "        vertical-align: middle;\n",
       "    }\n",
       "\n",
       "    .dataframe tbody tr th {\n",
       "        vertical-align: top;\n",
       "    }\n",
       "\n",
       "    .dataframe thead th {\n",
       "        text-align: right;\n",
       "    }\n",
       "</style>\n",
       "<table border=\"1\" class=\"dataframe\">\n",
       "  <thead>\n",
       "    <tr style=\"text-align: right;\">\n",
       "      <th></th>\n",
       "      <th>avaliador_1</th>\n",
       "      <th>avaliador_2</th>\n",
       "      <th>avaliador_3</th>\n",
       "      <th>avaliador_4</th>\n",
       "    </tr>\n",
       "    <tr>\n",
       "      <th>item</th>\n",
       "      <th></th>\n",
       "      <th></th>\n",
       "      <th></th>\n",
       "      <th></th>\n",
       "    </tr>\n",
       "  </thead>\n",
       "  <tbody>\n",
       "    <tr>\n",
       "      <th>Q01</th>\n",
       "      <td>1</td>\n",
       "      <td>1</td>\n",
       "      <td>1</td>\n",
       "      <td>1</td>\n",
       "    </tr>\n",
       "    <tr>\n",
       "      <th>Q02</th>\n",
       "      <td>1</td>\n",
       "      <td>1</td>\n",
       "      <td>1</td>\n",
       "      <td>1</td>\n",
       "    </tr>\n",
       "    <tr>\n",
       "      <th>Q03</th>\n",
       "      <td>1</td>\n",
       "      <td>1</td>\n",
       "      <td>1</td>\n",
       "      <td>1</td>\n",
       "    </tr>\n",
       "    <tr>\n",
       "      <th>Q04</th>\n",
       "      <td>1</td>\n",
       "      <td>1</td>\n",
       "      <td>1</td>\n",
       "      <td>1</td>\n",
       "    </tr>\n",
       "    <tr>\n",
       "      <th>Q05</th>\n",
       "      <td>1</td>\n",
       "      <td>1</td>\n",
       "      <td>1</td>\n",
       "      <td>1</td>\n",
       "    </tr>\n",
       "    <tr>\n",
       "      <th>Q06</th>\n",
       "      <td>1</td>\n",
       "      <td>1</td>\n",
       "      <td>1</td>\n",
       "      <td>1</td>\n",
       "    </tr>\n",
       "    <tr>\n",
       "      <th>Q07</th>\n",
       "      <td>1</td>\n",
       "      <td>1</td>\n",
       "      <td>1</td>\n",
       "      <td>1</td>\n",
       "    </tr>\n",
       "    <tr>\n",
       "      <th>Q08</th>\n",
       "      <td>1</td>\n",
       "      <td>1</td>\n",
       "      <td>1</td>\n",
       "      <td>1</td>\n",
       "    </tr>\n",
       "    <tr>\n",
       "      <th>Q09</th>\n",
       "      <td>1</td>\n",
       "      <td>1</td>\n",
       "      <td>1</td>\n",
       "      <td>1</td>\n",
       "    </tr>\n",
       "    <tr>\n",
       "      <th>Q10</th>\n",
       "      <td>1</td>\n",
       "      <td>1</td>\n",
       "      <td>1</td>\n",
       "      <td>1</td>\n",
       "    </tr>\n",
       "    <tr>\n",
       "      <th>Q11</th>\n",
       "      <td>1</td>\n",
       "      <td>1</td>\n",
       "      <td>1</td>\n",
       "      <td>1</td>\n",
       "    </tr>\n",
       "    <tr>\n",
       "      <th>Q12</th>\n",
       "      <td>1</td>\n",
       "      <td>1</td>\n",
       "      <td>1</td>\n",
       "      <td>1</td>\n",
       "    </tr>\n",
       "    <tr>\n",
       "      <th>Q13</th>\n",
       "      <td>1</td>\n",
       "      <td>1</td>\n",
       "      <td>1</td>\n",
       "      <td>1</td>\n",
       "    </tr>\n",
       "    <tr>\n",
       "      <th>Q14</th>\n",
       "      <td>1</td>\n",
       "      <td>1</td>\n",
       "      <td>1</td>\n",
       "      <td>1</td>\n",
       "    </tr>\n",
       "    <tr>\n",
       "      <th>Q15</th>\n",
       "      <td>1</td>\n",
       "      <td>1</td>\n",
       "      <td>1</td>\n",
       "      <td>1</td>\n",
       "    </tr>\n",
       "    <tr>\n",
       "      <th>Q16</th>\n",
       "      <td>1</td>\n",
       "      <td>1</td>\n",
       "      <td>1</td>\n",
       "      <td>1</td>\n",
       "    </tr>\n",
       "    <tr>\n",
       "      <th>Q17</th>\n",
       "      <td>1</td>\n",
       "      <td>1</td>\n",
       "      <td>1</td>\n",
       "      <td>1</td>\n",
       "    </tr>\n",
       "    <tr>\n",
       "      <th>Q18</th>\n",
       "      <td>1</td>\n",
       "      <td>1</td>\n",
       "      <td>1</td>\n",
       "      <td>1</td>\n",
       "    </tr>\n",
       "    <tr>\n",
       "      <th>Q19</th>\n",
       "      <td>1</td>\n",
       "      <td>1</td>\n",
       "      <td>1</td>\n",
       "      <td>1</td>\n",
       "    </tr>\n",
       "    <tr>\n",
       "      <th>Q20</th>\n",
       "      <td>1</td>\n",
       "      <td>1</td>\n",
       "      <td>1</td>\n",
       "      <td>1</td>\n",
       "    </tr>\n",
       "    <tr>\n",
       "      <th>Q21</th>\n",
       "      <td>1</td>\n",
       "      <td>1</td>\n",
       "      <td>1</td>\n",
       "      <td>1</td>\n",
       "    </tr>\n",
       "    <tr>\n",
       "      <th>Q22</th>\n",
       "      <td>1</td>\n",
       "      <td>1</td>\n",
       "      <td>1</td>\n",
       "      <td>1</td>\n",
       "    </tr>\n",
       "    <tr>\n",
       "      <th>Q23</th>\n",
       "      <td>1</td>\n",
       "      <td>1</td>\n",
       "      <td>1</td>\n",
       "      <td>1</td>\n",
       "    </tr>\n",
       "  </tbody>\n",
       "</table>\n",
       "</div>"
      ],
      "text/plain": [
       "      avaliador_1  avaliador_2  avaliador_3  avaliador_4\n",
       "item                                                    \n",
       "Q01             1            1            1            1\n",
       "Q02             1            1            1            1\n",
       "Q03             1            1            1            1\n",
       "Q04             1            1            1            1\n",
       "Q05             1            1            1            1\n",
       "Q06             1            1            1            1\n",
       "Q07             1            1            1            1\n",
       "Q08             1            1            1            1\n",
       "Q09             1            1            1            1\n",
       "Q10             1            1            1            1\n",
       "Q11             1            1            1            1\n",
       "Q12             1            1            1            1\n",
       "Q13             1            1            1            1\n",
       "Q14             1            1            1            1\n",
       "Q15             1            1            1            1\n",
       "Q16             1            1            1            1\n",
       "Q17             1            1            1            1\n",
       "Q18             1            1            1            1\n",
       "Q19             1            1            1            1\n",
       "Q20             1            1            1            1\n",
       "Q21             1            1            1            1\n",
       "Q22             1            1            1            1\n",
       "Q23             1            1            1            1"
      ]
     },
     "execution_count": 9,
     "metadata": {},
     "output_type": "execute_result"
    }
   ],
   "source": [
    "round_2 = round_2[[col for col in round_2.columns if \"avaliador_\" in col]]\n",
    "round_2"
   ]
  },
  {
   "cell_type": "code",
   "execution_count": 10,
   "id": "256b9a6b",
   "metadata": {},
   "outputs": [
    {
     "data": {
      "application/vnd.microsoft.datawrangler.viewer.v0+json": {
       "columns": [
        {
         "name": "item",
         "rawType": "object",
         "type": "string"
        },
        {
         "name": "avaliador_1",
         "rawType": "int64",
         "type": "integer"
        },
        {
         "name": "avaliador_2",
         "rawType": "int64",
         "type": "integer"
        },
        {
         "name": "avaliador_3",
         "rawType": "int64",
         "type": "integer"
        },
        {
         "name": "avaliador_4",
         "rawType": "int64",
         "type": "integer"
        }
       ],
       "ref": "fca188a0-c274-46aa-abed-a70428cc3482",
       "rows": [
        [
         "Q01",
         "1",
         "1",
         "1",
         "1"
        ],
        [
         "Q02",
         "1",
         "1",
         "1",
         "1"
        ],
        [
         "Q03",
         "1",
         "1",
         "1",
         "1"
        ],
        [
         "Q04",
         "1",
         "1",
         "1",
         "1"
        ],
        [
         "Q05",
         "1",
         "1",
         "1",
         "1"
        ],
        [
         "Q06",
         "1",
         "1",
         "1",
         "1"
        ],
        [
         "Q07",
         "1",
         "1",
         "1",
         "1"
        ],
        [
         "Q08",
         "1",
         "1",
         "1",
         "1"
        ],
        [
         "Q09",
         "1",
         "1",
         "1",
         "1"
        ],
        [
         "Q10",
         "1",
         "1",
         "1",
         "1"
        ],
        [
         "Q11",
         "1",
         "1",
         "1",
         "1"
        ],
        [
         "Q12",
         "1",
         "1",
         "1",
         "1"
        ],
        [
         "Q13",
         "1",
         "1",
         "1",
         "1"
        ],
        [
         "Q14",
         "1",
         "1",
         "1",
         "1"
        ],
        [
         "Q15",
         "1",
         "1",
         "1",
         "1"
        ],
        [
         "Q16",
         "1",
         "1",
         "1",
         "1"
        ],
        [
         "Q17",
         "1",
         "1",
         "1",
         "1"
        ],
        [
         "Q18",
         "1",
         "1",
         "1",
         "1"
        ],
        [
         "Q19",
         "1",
         "1",
         "1",
         "1"
        ],
        [
         "Q20",
         "1",
         "1",
         "1",
         "1"
        ],
        [
         "Q21",
         "1",
         "1",
         "1",
         "1"
        ],
        [
         "Q22",
         "1",
         "1",
         "1",
         "1"
        ],
        [
         "Q23",
         "1",
         "1",
         "1",
         "1"
        ]
       ],
       "shape": {
        "columns": 4,
        "rows": 23
       }
      },
      "text/html": [
       "<div>\n",
       "<style scoped>\n",
       "    .dataframe tbody tr th:only-of-type {\n",
       "        vertical-align: middle;\n",
       "    }\n",
       "\n",
       "    .dataframe tbody tr th {\n",
       "        vertical-align: top;\n",
       "    }\n",
       "\n",
       "    .dataframe thead th {\n",
       "        text-align: right;\n",
       "    }\n",
       "</style>\n",
       "<table border=\"1\" class=\"dataframe\">\n",
       "  <thead>\n",
       "    <tr style=\"text-align: right;\">\n",
       "      <th></th>\n",
       "      <th>avaliador_1</th>\n",
       "      <th>avaliador_2</th>\n",
       "      <th>avaliador_3</th>\n",
       "      <th>avaliador_4</th>\n",
       "    </tr>\n",
       "    <tr>\n",
       "      <th>item</th>\n",
       "      <th></th>\n",
       "      <th></th>\n",
       "      <th></th>\n",
       "      <th></th>\n",
       "    </tr>\n",
       "  </thead>\n",
       "  <tbody>\n",
       "    <tr>\n",
       "      <th>Q01</th>\n",
       "      <td>1</td>\n",
       "      <td>1</td>\n",
       "      <td>1</td>\n",
       "      <td>1</td>\n",
       "    </tr>\n",
       "    <tr>\n",
       "      <th>Q02</th>\n",
       "      <td>1</td>\n",
       "      <td>1</td>\n",
       "      <td>1</td>\n",
       "      <td>1</td>\n",
       "    </tr>\n",
       "    <tr>\n",
       "      <th>Q03</th>\n",
       "      <td>1</td>\n",
       "      <td>1</td>\n",
       "      <td>1</td>\n",
       "      <td>1</td>\n",
       "    </tr>\n",
       "    <tr>\n",
       "      <th>Q04</th>\n",
       "      <td>1</td>\n",
       "      <td>1</td>\n",
       "      <td>1</td>\n",
       "      <td>1</td>\n",
       "    </tr>\n",
       "    <tr>\n",
       "      <th>Q05</th>\n",
       "      <td>1</td>\n",
       "      <td>1</td>\n",
       "      <td>1</td>\n",
       "      <td>1</td>\n",
       "    </tr>\n",
       "    <tr>\n",
       "      <th>Q06</th>\n",
       "      <td>1</td>\n",
       "      <td>1</td>\n",
       "      <td>1</td>\n",
       "      <td>1</td>\n",
       "    </tr>\n",
       "    <tr>\n",
       "      <th>Q07</th>\n",
       "      <td>1</td>\n",
       "      <td>1</td>\n",
       "      <td>1</td>\n",
       "      <td>1</td>\n",
       "    </tr>\n",
       "    <tr>\n",
       "      <th>Q08</th>\n",
       "      <td>1</td>\n",
       "      <td>1</td>\n",
       "      <td>1</td>\n",
       "      <td>1</td>\n",
       "    </tr>\n",
       "    <tr>\n",
       "      <th>Q09</th>\n",
       "      <td>1</td>\n",
       "      <td>1</td>\n",
       "      <td>1</td>\n",
       "      <td>1</td>\n",
       "    </tr>\n",
       "    <tr>\n",
       "      <th>Q10</th>\n",
       "      <td>1</td>\n",
       "      <td>1</td>\n",
       "      <td>1</td>\n",
       "      <td>1</td>\n",
       "    </tr>\n",
       "    <tr>\n",
       "      <th>Q11</th>\n",
       "      <td>1</td>\n",
       "      <td>1</td>\n",
       "      <td>1</td>\n",
       "      <td>1</td>\n",
       "    </tr>\n",
       "    <tr>\n",
       "      <th>Q12</th>\n",
       "      <td>1</td>\n",
       "      <td>1</td>\n",
       "      <td>1</td>\n",
       "      <td>1</td>\n",
       "    </tr>\n",
       "    <tr>\n",
       "      <th>Q13</th>\n",
       "      <td>1</td>\n",
       "      <td>1</td>\n",
       "      <td>1</td>\n",
       "      <td>1</td>\n",
       "    </tr>\n",
       "    <tr>\n",
       "      <th>Q14</th>\n",
       "      <td>1</td>\n",
       "      <td>1</td>\n",
       "      <td>1</td>\n",
       "      <td>1</td>\n",
       "    </tr>\n",
       "    <tr>\n",
       "      <th>Q15</th>\n",
       "      <td>1</td>\n",
       "      <td>1</td>\n",
       "      <td>1</td>\n",
       "      <td>1</td>\n",
       "    </tr>\n",
       "    <tr>\n",
       "      <th>Q16</th>\n",
       "      <td>1</td>\n",
       "      <td>1</td>\n",
       "      <td>1</td>\n",
       "      <td>1</td>\n",
       "    </tr>\n",
       "    <tr>\n",
       "      <th>Q17</th>\n",
       "      <td>1</td>\n",
       "      <td>1</td>\n",
       "      <td>1</td>\n",
       "      <td>1</td>\n",
       "    </tr>\n",
       "    <tr>\n",
       "      <th>Q18</th>\n",
       "      <td>1</td>\n",
       "      <td>1</td>\n",
       "      <td>1</td>\n",
       "      <td>1</td>\n",
       "    </tr>\n",
       "    <tr>\n",
       "      <th>Q19</th>\n",
       "      <td>1</td>\n",
       "      <td>1</td>\n",
       "      <td>1</td>\n",
       "      <td>1</td>\n",
       "    </tr>\n",
       "    <tr>\n",
       "      <th>Q20</th>\n",
       "      <td>1</td>\n",
       "      <td>1</td>\n",
       "      <td>1</td>\n",
       "      <td>1</td>\n",
       "    </tr>\n",
       "    <tr>\n",
       "      <th>Q21</th>\n",
       "      <td>1</td>\n",
       "      <td>1</td>\n",
       "      <td>1</td>\n",
       "      <td>1</td>\n",
       "    </tr>\n",
       "    <tr>\n",
       "      <th>Q22</th>\n",
       "      <td>1</td>\n",
       "      <td>1</td>\n",
       "      <td>1</td>\n",
       "      <td>1</td>\n",
       "    </tr>\n",
       "    <tr>\n",
       "      <th>Q23</th>\n",
       "      <td>1</td>\n",
       "      <td>1</td>\n",
       "      <td>1</td>\n",
       "      <td>1</td>\n",
       "    </tr>\n",
       "  </tbody>\n",
       "</table>\n",
       "</div>"
      ],
      "text/plain": [
       "      avaliador_1  avaliador_2  avaliador_3  avaliador_4\n",
       "item                                                    \n",
       "Q01             1            1            1            1\n",
       "Q02             1            1            1            1\n",
       "Q03             1            1            1            1\n",
       "Q04             1            1            1            1\n",
       "Q05             1            1            1            1\n",
       "Q06             1            1            1            1\n",
       "Q07             1            1            1            1\n",
       "Q08             1            1            1            1\n",
       "Q09             1            1            1            1\n",
       "Q10             1            1            1            1\n",
       "Q11             1            1            1            1\n",
       "Q12             1            1            1            1\n",
       "Q13             1            1            1            1\n",
       "Q14             1            1            1            1\n",
       "Q15             1            1            1            1\n",
       "Q16             1            1            1            1\n",
       "Q17             1            1            1            1\n",
       "Q18             1            1            1            1\n",
       "Q19             1            1            1            1\n",
       "Q20             1            1            1            1\n",
       "Q21             1            1            1            1\n",
       "Q22             1            1            1            1\n",
       "Q23             1            1            1            1"
      ]
     },
     "execution_count": 10,
     "metadata": {},
     "output_type": "execute_result"
    }
   ],
   "source": [
    "round_2"
   ]
  },
  {
   "cell_type": "code",
   "execution_count": 11,
   "id": "c4a4695b",
   "metadata": {},
   "outputs": [
    {
     "data": {
      "text/plain": [
       "(avaliador_1    1\n",
       " avaliador_2    1\n",
       " avaliador_3    1\n",
       " avaliador_4    1\n",
       " dtype: int64,\n",
       " avaliador_1    1\n",
       " avaliador_2    1\n",
       " avaliador_3    1\n",
       " avaliador_4    1\n",
       " dtype: int64)"
      ]
     },
     "execution_count": 11,
     "metadata": {},
     "output_type": "execute_result"
    }
   ],
   "source": [
    "round_2.max(), round_2.min()"
   ]
  },
  {
   "cell_type": "code",
   "execution_count": 12,
   "id": "07a3e480",
   "metadata": {},
   "outputs": [
    {
     "name": "stdout",
     "output_type": "stream",
     "text": [
      "Round 1 shape: (14, 4)\n",
      "Round 2 shape: (23, 4)\n",
      "\n",
      "Round 1 sample:\n",
      "      avaliador_1  avaliador_2  avaliador_3  avaliador_4\n",
      "item                                                    \n",
      "Q01             1            1            1            0\n",
      "Q02             1            1            1            0\n",
      "Q03             1            1            1            0\n",
      "Q04             1            1            1            0\n",
      "Q05             1            1            1            0\n",
      "\n",
      "Round 2 sample:\n",
      "      avaliador_1  avaliador_2  avaliador_3  avaliador_4\n",
      "item                                                    \n",
      "Q01             1            1            1            1\n",
      "Q02             1            1            1            1\n",
      "Q03             1            1            1            1\n",
      "Q04             1            1            1            1\n",
      "Q05             1            1            1            1\n",
      "\n",
      "Unique values in round_1:\n",
      "[1 0]\n",
      "\n",
      "Unique values in round_2:\n",
      "[1]\n"
     ]
    }
   ],
   "source": [
    "# Examining the data structure\n",
    "print(\"Round 1 shape:\", round_1.shape)\n",
    "print(\"Round 2 shape:\", round_2.shape)\n",
    "print(\"\\nRound 1 sample:\")\n",
    "print(round_1.head())\n",
    "print(\"\\nRound 2 sample:\")\n",
    "print(round_2.head())\n",
    "print(\"\\nUnique values in round_1:\")\n",
    "print(round_1.stack().unique())\n",
    "print(\"\\nUnique values in round_2:\")\n",
    "print(round_2.stack().unique())"
   ]
  },
  {
   "cell_type": "code",
   "execution_count": 13,
   "id": "46fc3701",
   "metadata": {},
   "outputs": [],
   "source": [
    "# Import required libraries for inter-annotator agreement\n",
    "from sklearn.metrics import cohen_kappa_score\n",
    "from itertools import combinations\n",
    "from scipy.stats import pearsonr, spearmanr\n",
    "from sklearn.metrics import accuracy_score"
   ]
  },
  {
   "cell_type": "code",
   "execution_count": 14,
   "id": "cbada86c",
   "metadata": {},
   "outputs": [],
   "source": [
    "# Functions for calculating inter-annotator agreement metrics\n",
    "\n",
    "\n",
    "def calculate_pairwise_agreement(data, metric=\"cohen_kappa\"):\n",
    "    \"\"\"\n",
    "    Calculate pairwise agreement between all annotators\n",
    "\n",
    "    Parameters:\n",
    "    data: DataFrame with annotators as columns\n",
    "    metric: 'cohen_kappa', 'accuracy', 'pearson', 'spearman'\n",
    "\n",
    "    Returns:\n",
    "    DataFrame with pairwise agreement scores\n",
    "    \"\"\"\n",
    "    annotators = data.columns\n",
    "    n_annotators = len(annotators)\n",
    "\n",
    "    # Initialize results matrix\n",
    "    agreement_matrix = np.zeros((n_annotators, n_annotators))\n",
    "\n",
    "    for i, ann1 in enumerate(annotators):\n",
    "        for j, ann2 in enumerate(annotators):\n",
    "            if i == j:\n",
    "                agreement_matrix[i, j] = 1.0  # Perfect agreement with self\n",
    "            elif i < j:  # Calculate only upper triangle\n",
    "                if metric == \"cohen_kappa\":\n",
    "                    score = cohen_kappa_score(data[ann1], data[ann2])\n",
    "                elif metric == \"accuracy\":\n",
    "                    score = accuracy_score(data[ann1], data[ann2])\n",
    "                elif metric == \"pearson\":\n",
    "                    score, _ = pearsonr(data[ann1], data[ann2])\n",
    "                elif metric == \"spearman\":\n",
    "                    score, _ = spearmanr(data[ann1], data[ann2])\n",
    "\n",
    "                agreement_matrix[i, j] = score\n",
    "                agreement_matrix[j, i] = score  # Symmetric matrix\n",
    "\n",
    "    return pd.DataFrame(agreement_matrix, index=annotators, columns=annotators)\n",
    "\n",
    "\n",
    "def calculate_fleiss_kappa(data):\n",
    "    \"\"\"\n",
    "    Calculate Fleiss' kappa for multi-rater agreement\n",
    "\n",
    "    Parameters:\n",
    "    data: DataFrame with annotators as columns and items as rows\n",
    "\n",
    "    Returns:\n",
    "    float: Fleiss' kappa value\n",
    "    dict: Additional statistics including P_bar, P_e, and interpretation\n",
    "    \"\"\"\n",
    "    n_items, n_annotators = data.shape\n",
    "\n",
    "    # Get all unique categories/labels\n",
    "    all_categories = pd.unique(data.values.ravel())\n",
    "    n_categories = len(all_categories)\n",
    "\n",
    "    # Create contingency table: items x categories\n",
    "    contingency_table = np.zeros((n_items, n_categories))\n",
    "\n",
    "    for i in range(n_items):\n",
    "        for j, category in enumerate(all_categories):\n",
    "            contingency_table[i, j] = (data.iloc[i] == category).sum()\n",
    "\n",
    "    # Calculate P_i (proportion of agreement for each item)\n",
    "    P_i = np.zeros(n_items)\n",
    "    for i in range(n_items):\n",
    "        sum_squares = np.sum(contingency_table[i] ** 2)\n",
    "        P_i[i] = (sum_squares - n_annotators) / (n_annotators * (n_annotators - 1))\n",
    "\n",
    "    # Calculate P_bar (mean proportion of agreement)\n",
    "    P_bar = np.mean(P_i)\n",
    "\n",
    "    # Calculate marginal proportions (p_j for each category)\n",
    "    marginal_props = np.zeros(n_categories)\n",
    "    for j in range(n_categories):\n",
    "        marginal_props[j] = np.sum(contingency_table[:, j]) / (n_items * n_annotators)\n",
    "\n",
    "    # Calculate P_e (expected agreement by chance)\n",
    "    P_e = np.sum(marginal_props**2)\n",
    "\n",
    "    # Calculate Fleiss' kappa\n",
    "    if P_e == 1.0:\n",
    "        kappa = 1.0  # Perfect agreement case\n",
    "    else:\n",
    "        kappa = (P_bar - P_e) / (1 - P_e)\n",
    "\n",
    "    # Interpretation\n",
    "    if kappa < 0:\n",
    "        interpretation = \"Poor (worse than chance)\"\n",
    "    elif kappa < 0.20:\n",
    "        interpretation = \"Slight\"\n",
    "    elif kappa < 0.40:\n",
    "        interpretation = \"Fair\"\n",
    "    elif kappa < 0.60:\n",
    "        interpretation = \"Moderate\"\n",
    "    elif kappa < 0.80:\n",
    "        interpretation = \"Substantial\"\n",
    "    else:\n",
    "        interpretation = \"Almost Perfect\"\n",
    "\n",
    "    return kappa, {\"P_bar\": P_bar, \"P_e\": P_e, \"interpretation\": interpretation, \"n_items\": n_items, \"n_annotators\": n_annotators, \"n_categories\": n_categories, \"categories\": all_categories, \"marginal_proportions\": dict(zip(all_categories, marginal_props))}\n",
    "\n",
    "\n",
    "def calculate_fleiss_kappa_simple(data):\n",
    "    \"\"\"\n",
    "    Calculate a simplified version of overall agreement (for backwards compatibility)\n",
    "    \"\"\"\n",
    "    kappa, stats = calculate_fleiss_kappa(data)\n",
    "    return stats[\"P_bar\"]  # Return observed agreement proportion"
   ]
  },
  {
   "cell_type": "code",
   "execution_count": 15,
   "id": "5cd832bb",
   "metadata": {},
   "outputs": [
    {
     "name": "stdout",
     "output_type": "stream",
     "text": [
      "============================================================\n",
      "PROPER FLEISS' KAPPA ANALYSIS\n",
      "============================================================\n",
      "\n",
      "ROUND 1 - FLEISS' KAPPA ANALYSIS\n",
      "---------------------------------------------\n",
      "Fleiss' Kappa: -0.3333\n",
      "Interpretation: Poor (worse than chance)\n",
      "Observed Agreement (P̄): 0.5000\n",
      "Expected Agreement (Pe): 0.6250\n",
      "Number of items: 14\n",
      "Number of annotators: 4\n",
      "Categories: [np.int64(1), np.int64(0)]\n",
      "Marginal proportions:\n",
      "  - '1': 0.750\n",
      "  - '0': 0.250\n",
      "\n",
      "ROUND 2 - FLEISS' KAPPA ANALYSIS\n",
      "---------------------------------------------\n",
      "Fleiss' Kappa: 1.0000\n",
      "Interpretation: Almost Perfect\n",
      "Observed Agreement (P̄): 1.0000\n",
      "Expected Agreement (Pe): 1.0000\n",
      "Number of items: 23\n",
      "Number of annotators: 4\n",
      "Categories: [np.int64(1)]\n",
      "Marginal proportions:\n",
      "  - '1': 1.000\n",
      "\n",
      "COMPARISON SUMMARY\n",
      "-------------------------\n",
      "Round 1 Fleiss' κ: -0.3333 (Poor (worse than chance))\n",
      "Round 2 Fleiss' κ: 1.0000 (Almost Perfect)\n",
      "\n",
      "STATISTICAL INTERPRETATION\n",
      "------------------------------\n",
      "Fleiss' Kappa interpretation guidelines:\n",
      "  < 0.00: Poor (worse than chance)\n",
      "  0.00-0.20: Slight agreement\n",
      "  0.21-0.40: Fair agreement\n",
      "  0.41-0.60: Moderate agreement\n",
      "  0.61-0.80: Substantial agreement\n",
      "  0.81-1.00: Almost perfect agreement\n"
     ]
    }
   ],
   "source": [
    "# =============================================================================\n",
    "# PROPER FLEISS' KAPPA CALCULATION\n",
    "# =============================================================================\n",
    "\n",
    "print(\"=\" * 60)\n",
    "print(\"PROPER FLEISS' KAPPA ANALYSIS\")\n",
    "print(\"=\" * 60)\n",
    "\n",
    "# Calculate proper Fleiss' kappa for Round 1\n",
    "print(\"\\nROUND 1 - FLEISS' KAPPA ANALYSIS\")\n",
    "print(\"-\" * 45)\n",
    "\n",
    "fleiss_kappa_r1, stats_r1 = calculate_fleiss_kappa(round_1)\n",
    "print(f\"Fleiss' Kappa: {fleiss_kappa_r1:.4f}\")\n",
    "print(f\"Interpretation: {stats_r1['interpretation']}\")\n",
    "print(f\"Observed Agreement (P̄): {stats_r1['P_bar']:.4f}\")\n",
    "print(f\"Expected Agreement (Pe): {stats_r1['P_e']:.4f}\")\n",
    "print(f\"Number of items: {stats_r1['n_items']}\")\n",
    "print(f\"Number of annotators: {stats_r1['n_annotators']}\")\n",
    "print(f\"Categories: {list(stats_r1['categories'])}\")\n",
    "print(\"Marginal proportions:\")\n",
    "for cat, prop in stats_r1[\"marginal_proportions\"].items():\n",
    "    print(f\"  - '{cat}': {prop:.3f}\")\n",
    "\n",
    "# Calculate proper Fleiss' kappa for Round 2\n",
    "print(f\"\\nROUND 2 - FLEISS' KAPPA ANALYSIS\")\n",
    "print(\"-\" * 45)\n",
    "\n",
    "fleiss_kappa_r2, stats_r2 = calculate_fleiss_kappa(round_2)\n",
    "print(f\"Fleiss' Kappa: {fleiss_kappa_r2:.4f}\")\n",
    "print(f\"Interpretation: {stats_r2['interpretation']}\")\n",
    "print(f\"Observed Agreement (P̄): {stats_r2['P_bar']:.4f}\")\n",
    "print(f\"Expected Agreement (Pe): {stats_r2['P_e']:.4f}\")\n",
    "print(f\"Number of items: {stats_r2['n_items']}\")\n",
    "print(f\"Number of annotators: {stats_r2['n_annotators']}\")\n",
    "print(f\"Categories: {list(stats_r2['categories'])}\")\n",
    "print(\"Marginal proportions:\")\n",
    "for cat, prop in stats_r2[\"marginal_proportions\"].items():\n",
    "    print(f\"  - '{cat}': {prop:.3f}\")\n",
    "\n",
    "print(f\"\\nCOMPARISON SUMMARY\")\n",
    "print(\"-\" * 25)\n",
    "print(f\"Round 1 Fleiss' κ: {fleiss_kappa_r1:.4f} ({stats_r1['interpretation']})\")\n",
    "print(f\"Round 2 Fleiss' κ: {fleiss_kappa_r2:.4f} ({stats_r2['interpretation']})\")\n",
    "\n",
    "# Significance test information\n",
    "print(f\"\\nSTATISTICAL INTERPRETATION\")\n",
    "print(\"-\" * 30)\n",
    "print(\"Fleiss' Kappa interpretation guidelines:\")\n",
    "print(\"  < 0.00: Poor (worse than chance)\")\n",
    "print(\"  0.00-0.20: Slight agreement\")\n",
    "print(\"  0.21-0.40: Fair agreement\")\n",
    "print(\"  0.41-0.60: Moderate agreement\")\n",
    "print(\"  0.61-0.80: Substantial agreement\")\n",
    "print(\"  0.81-1.00: Almost perfect agreement\")"
   ]
  },
  {
   "cell_type": "code",
   "execution_count": 16,
   "id": "29f9c70b",
   "metadata": {},
   "outputs": [
    {
     "name": "stdout",
     "output_type": "stream",
     "text": [
      "\n",
      "Creating Fleiss' Kappa Comparison Visualizations...\n"
     ]
    },
    {
     "data": {
      "application/vnd.plotly.v1+json": {
       "config": {
        "plotlyServerURL": "https://plot.ly"
       },
       "data": [
        {
         "marker": {
          "color": [
           "#FF6B6B",
           "#4ECDC4"
          ]
         },
         "name": "Fleiss' Kappa",
         "text": [
          "-0.333",
          "1.000"
         ],
         "textposition": "auto",
         "type": "bar",
         "x": [
          "Round 1<br>(Binary)",
          "Round 2<br>(Binary)"
         ],
         "xaxis": "x",
         "y": [
          -0.3333333333333333,
          1
         ],
         "yaxis": "y"
        },
        {
         "marker": {
          "color": [
           "#3498DB",
           "#95A5A6",
           "#FF6B6B"
          ]
         },
         "name": "Round 1 Components",
         "text": [
          "0.500",
          "0.625",
          "-0.333"
         ],
         "textposition": "auto",
         "type": "bar",
         "x": [
          "Observed Agreement<br>(P̄)",
          "Expected Agreement<br>(Pe)",
          "Fleiss' Kappa<br>(κ)"
         ],
         "xaxis": "x2",
         "y": [
          0.5,
          0.625,
          -0.3333333333333333
         ],
         "yaxis": "y2"
        },
        {
         "marker": {
          "color": [
           "#3498DB",
           "#95A5A6",
           "#4ECDC4"
          ]
         },
         "name": "Round 2 Components",
         "text": [
          "1.000",
          "1.000",
          "1.000"
         ],
         "textposition": "auto",
         "type": "bar",
         "x": [
          "Observed Agreement<br>(P̄)",
          "Expected Agreement<br>(Pe)",
          "Fleiss' Kappa<br>(κ)"
         ],
         "xaxis": "x3",
         "y": [
          1,
          1,
          1
         ],
         "yaxis": "y3"
        },
        {
         "marker": {
          "color": [
           "#FF6B6B",
           "#FFA07A",
           "#FFD700",
           "#98FB98",
           "#32CD32",
           "#228B22"
          ]
         },
         "name": "Interpretation Scale",
         "text": [
          "-0.1",
          "0.1",
          "0.3",
          "0.5",
          "0.7",
          "0.9"
         ],
         "textposition": "auto",
         "type": "bar",
         "x": [
          "Poor<br>(<0.00)",
          "Slight<br>(0.00-0.20)",
          "Fair<br>(0.21-0.40)",
          "Moderate<br>(0.41-0.60)",
          "Substantial<br>(0.61-0.80)",
          "Almost Perfect<br>(0.81-1.00)"
         ],
         "xaxis": "x4",
         "y": [
          -0.1,
          0.1,
          0.3,
          0.5,
          0.7,
          0.9
         ],
         "yaxis": "y4"
        }
       ],
       "layout": {
        "annotations": [
         {
          "font": {
           "size": 16
          },
          "showarrow": false,
          "text": "Fleiss' Kappa Comparison",
          "x": 0.225,
          "xanchor": "center",
          "xref": "paper",
          "y": 1,
          "yanchor": "bottom",
          "yref": "paper"
         },
         {
          "font": {
           "size": 16
          },
          "showarrow": false,
          "text": "Agreement Components - Round 1",
          "x": 0.775,
          "xanchor": "center",
          "xref": "paper",
          "y": 1,
          "yanchor": "bottom",
          "yref": "paper"
         },
         {
          "font": {
           "size": 16
          },
          "showarrow": false,
          "text": "Agreement Components - Round 2",
          "x": 0.225,
          "xanchor": "center",
          "xref": "paper",
          "y": 0.44,
          "yanchor": "bottom",
          "yref": "paper"
         },
         {
          "font": {
           "size": 16
          },
          "showarrow": false,
          "text": "Interpretation Categories",
          "x": 0.775,
          "xanchor": "center",
          "xref": "paper",
          "y": 0.44,
          "yanchor": "bottom",
          "yref": "paper"
         },
         {
          "showarrow": false,
          "text": "Round 1: -0.333",
          "x": 1,
          "xanchor": "right",
          "xref": "x4 domain",
          "y": -0.3333333333333333,
          "yanchor": "bottom",
          "yref": "y4"
         },
         {
          "showarrow": false,
          "text": "Round 2: 1.000",
          "x": 1,
          "xanchor": "right",
          "xref": "x4 domain",
          "y": 1,
          "yanchor": "bottom",
          "yref": "y4"
         }
        ],
        "height": 800,
        "shapes": [
         {
          "line": {
           "color": "red",
           "dash": "dash"
          },
          "type": "line",
          "x0": 0,
          "x1": 1,
          "xref": "x4 domain",
          "y0": -0.3333333333333333,
          "y1": -0.3333333333333333,
          "yref": "y4"
         },
         {
          "line": {
           "color": "blue",
           "dash": "dash"
          },
          "type": "line",
          "x0": 0,
          "x1": 1,
          "xref": "x4 domain",
          "y0": 1,
          "y1": 1,
          "yref": "y4"
         }
        ],
        "showlegend": false,
        "template": {
         "data": {
          "bar": [
           {
            "error_x": {
             "color": "#2a3f5f"
            },
            "error_y": {
             "color": "#2a3f5f"
            },
            "marker": {
             "line": {
              "color": "white",
              "width": 0.5
             },
             "pattern": {
              "fillmode": "overlay",
              "size": 10,
              "solidity": 0.2
             }
            },
            "type": "bar"
           }
          ],
          "barpolar": [
           {
            "marker": {
             "line": {
              "color": "white",
              "width": 0.5
             },
             "pattern": {
              "fillmode": "overlay",
              "size": 10,
              "solidity": 0.2
             }
            },
            "type": "barpolar"
           }
          ],
          "carpet": [
           {
            "aaxis": {
             "endlinecolor": "#2a3f5f",
             "gridcolor": "#C8D4E3",
             "linecolor": "#C8D4E3",
             "minorgridcolor": "#C8D4E3",
             "startlinecolor": "#2a3f5f"
            },
            "baxis": {
             "endlinecolor": "#2a3f5f",
             "gridcolor": "#C8D4E3",
             "linecolor": "#C8D4E3",
             "minorgridcolor": "#C8D4E3",
             "startlinecolor": "#2a3f5f"
            },
            "type": "carpet"
           }
          ],
          "choropleth": [
           {
            "colorbar": {
             "outlinewidth": 0,
             "ticks": ""
            },
            "type": "choropleth"
           }
          ],
          "contour": [
           {
            "colorbar": {
             "outlinewidth": 0,
             "ticks": ""
            },
            "colorscale": [
             [
              0,
              "#0d0887"
             ],
             [
              0.1111111111111111,
              "#46039f"
             ],
             [
              0.2222222222222222,
              "#7201a8"
             ],
             [
              0.3333333333333333,
              "#9c179e"
             ],
             [
              0.4444444444444444,
              "#bd3786"
             ],
             [
              0.5555555555555556,
              "#d8576b"
             ],
             [
              0.6666666666666666,
              "#ed7953"
             ],
             [
              0.7777777777777778,
              "#fb9f3a"
             ],
             [
              0.8888888888888888,
              "#fdca26"
             ],
             [
              1,
              "#f0f921"
             ]
            ],
            "type": "contour"
           }
          ],
          "contourcarpet": [
           {
            "colorbar": {
             "outlinewidth": 0,
             "ticks": ""
            },
            "type": "contourcarpet"
           }
          ],
          "heatmap": [
           {
            "colorbar": {
             "outlinewidth": 0,
             "ticks": ""
            },
            "colorscale": [
             [
              0,
              "#0d0887"
             ],
             [
              0.1111111111111111,
              "#46039f"
             ],
             [
              0.2222222222222222,
              "#7201a8"
             ],
             [
              0.3333333333333333,
              "#9c179e"
             ],
             [
              0.4444444444444444,
              "#bd3786"
             ],
             [
              0.5555555555555556,
              "#d8576b"
             ],
             [
              0.6666666666666666,
              "#ed7953"
             ],
             [
              0.7777777777777778,
              "#fb9f3a"
             ],
             [
              0.8888888888888888,
              "#fdca26"
             ],
             [
              1,
              "#f0f921"
             ]
            ],
            "type": "heatmap"
           }
          ],
          "histogram": [
           {
            "marker": {
             "pattern": {
              "fillmode": "overlay",
              "size": 10,
              "solidity": 0.2
             }
            },
            "type": "histogram"
           }
          ],
          "histogram2d": [
           {
            "colorbar": {
             "outlinewidth": 0,
             "ticks": ""
            },
            "colorscale": [
             [
              0,
              "#0d0887"
             ],
             [
              0.1111111111111111,
              "#46039f"
             ],
             [
              0.2222222222222222,
              "#7201a8"
             ],
             [
              0.3333333333333333,
              "#9c179e"
             ],
             [
              0.4444444444444444,
              "#bd3786"
             ],
             [
              0.5555555555555556,
              "#d8576b"
             ],
             [
              0.6666666666666666,
              "#ed7953"
             ],
             [
              0.7777777777777778,
              "#fb9f3a"
             ],
             [
              0.8888888888888888,
              "#fdca26"
             ],
             [
              1,
              "#f0f921"
             ]
            ],
            "type": "histogram2d"
           }
          ],
          "histogram2dcontour": [
           {
            "colorbar": {
             "outlinewidth": 0,
             "ticks": ""
            },
            "colorscale": [
             [
              0,
              "#0d0887"
             ],
             [
              0.1111111111111111,
              "#46039f"
             ],
             [
              0.2222222222222222,
              "#7201a8"
             ],
             [
              0.3333333333333333,
              "#9c179e"
             ],
             [
              0.4444444444444444,
              "#bd3786"
             ],
             [
              0.5555555555555556,
              "#d8576b"
             ],
             [
              0.6666666666666666,
              "#ed7953"
             ],
             [
              0.7777777777777778,
              "#fb9f3a"
             ],
             [
              0.8888888888888888,
              "#fdca26"
             ],
             [
              1,
              "#f0f921"
             ]
            ],
            "type": "histogram2dcontour"
           }
          ],
          "mesh3d": [
           {
            "colorbar": {
             "outlinewidth": 0,
             "ticks": ""
            },
            "type": "mesh3d"
           }
          ],
          "parcoords": [
           {
            "line": {
             "colorbar": {
              "outlinewidth": 0,
              "ticks": ""
             }
            },
            "type": "parcoords"
           }
          ],
          "pie": [
           {
            "automargin": true,
            "type": "pie"
           }
          ],
          "scatter": [
           {
            "fillpattern": {
             "fillmode": "overlay",
             "size": 10,
             "solidity": 0.2
            },
            "type": "scatter"
           }
          ],
          "scatter3d": [
           {
            "line": {
             "colorbar": {
              "outlinewidth": 0,
              "ticks": ""
             }
            },
            "marker": {
             "colorbar": {
              "outlinewidth": 0,
              "ticks": ""
             }
            },
            "type": "scatter3d"
           }
          ],
          "scattercarpet": [
           {
            "marker": {
             "colorbar": {
              "outlinewidth": 0,
              "ticks": ""
             }
            },
            "type": "scattercarpet"
           }
          ],
          "scattergeo": [
           {
            "marker": {
             "colorbar": {
              "outlinewidth": 0,
              "ticks": ""
             }
            },
            "type": "scattergeo"
           }
          ],
          "scattergl": [
           {
            "marker": {
             "colorbar": {
              "outlinewidth": 0,
              "ticks": ""
             }
            },
            "type": "scattergl"
           }
          ],
          "scattermap": [
           {
            "marker": {
             "colorbar": {
              "outlinewidth": 0,
              "ticks": ""
             }
            },
            "type": "scattermap"
           }
          ],
          "scattermapbox": [
           {
            "marker": {
             "colorbar": {
              "outlinewidth": 0,
              "ticks": ""
             }
            },
            "type": "scattermapbox"
           }
          ],
          "scatterpolar": [
           {
            "marker": {
             "colorbar": {
              "outlinewidth": 0,
              "ticks": ""
             }
            },
            "type": "scatterpolar"
           }
          ],
          "scatterpolargl": [
           {
            "marker": {
             "colorbar": {
              "outlinewidth": 0,
              "ticks": ""
             }
            },
            "type": "scatterpolargl"
           }
          ],
          "scatterternary": [
           {
            "marker": {
             "colorbar": {
              "outlinewidth": 0,
              "ticks": ""
             }
            },
            "type": "scatterternary"
           }
          ],
          "surface": [
           {
            "colorbar": {
             "outlinewidth": 0,
             "ticks": ""
            },
            "colorscale": [
             [
              0,
              "#0d0887"
             ],
             [
              0.1111111111111111,
              "#46039f"
             ],
             [
              0.2222222222222222,
              "#7201a8"
             ],
             [
              0.3333333333333333,
              "#9c179e"
             ],
             [
              0.4444444444444444,
              "#bd3786"
             ],
             [
              0.5555555555555556,
              "#d8576b"
             ],
             [
              0.6666666666666666,
              "#ed7953"
             ],
             [
              0.7777777777777778,
              "#fb9f3a"
             ],
             [
              0.8888888888888888,
              "#fdca26"
             ],
             [
              1,
              "#f0f921"
             ]
            ],
            "type": "surface"
           }
          ],
          "table": [
           {
            "cells": {
             "fill": {
              "color": "#EBF0F8"
             },
             "line": {
              "color": "white"
             }
            },
            "header": {
             "fill": {
              "color": "#C8D4E3"
             },
             "line": {
              "color": "white"
             }
            },
            "type": "table"
           }
          ]
         },
         "layout": {
          "annotationdefaults": {
           "arrowcolor": "#2a3f5f",
           "arrowhead": 0,
           "arrowwidth": 1
          },
          "autotypenumbers": "strict",
          "coloraxis": {
           "colorbar": {
            "outlinewidth": 0,
            "ticks": ""
           }
          },
          "colorscale": {
           "diverging": [
            [
             0,
             "#8e0152"
            ],
            [
             0.1,
             "#c51b7d"
            ],
            [
             0.2,
             "#de77ae"
            ],
            [
             0.3,
             "#f1b6da"
            ],
            [
             0.4,
             "#fde0ef"
            ],
            [
             0.5,
             "#f7f7f7"
            ],
            [
             0.6,
             "#e6f5d0"
            ],
            [
             0.7,
             "#b8e186"
            ],
            [
             0.8,
             "#7fbc41"
            ],
            [
             0.9,
             "#4d9221"
            ],
            [
             1,
             "#276419"
            ]
           ],
           "sequential": [
            [
             0,
             "#0d0887"
            ],
            [
             0.1111111111111111,
             "#46039f"
            ],
            [
             0.2222222222222222,
             "#7201a8"
            ],
            [
             0.3333333333333333,
             "#9c179e"
            ],
            [
             0.4444444444444444,
             "#bd3786"
            ],
            [
             0.5555555555555556,
             "#d8576b"
            ],
            [
             0.6666666666666666,
             "#ed7953"
            ],
            [
             0.7777777777777778,
             "#fb9f3a"
            ],
            [
             0.8888888888888888,
             "#fdca26"
            ],
            [
             1,
             "#f0f921"
            ]
           ],
           "sequentialminus": [
            [
             0,
             "#0d0887"
            ],
            [
             0.1111111111111111,
             "#46039f"
            ],
            [
             0.2222222222222222,
             "#7201a8"
            ],
            [
             0.3333333333333333,
             "#9c179e"
            ],
            [
             0.4444444444444444,
             "#bd3786"
            ],
            [
             0.5555555555555556,
             "#d8576b"
            ],
            [
             0.6666666666666666,
             "#ed7953"
            ],
            [
             0.7777777777777778,
             "#fb9f3a"
            ],
            [
             0.8888888888888888,
             "#fdca26"
            ],
            [
             1,
             "#f0f921"
            ]
           ]
          },
          "colorway": [
           "#636efa",
           "#EF553B",
           "#00cc96",
           "#ab63fa",
           "#FFA15A",
           "#19d3f3",
           "#FF6692",
           "#B6E880",
           "#FF97FF",
           "#FECB52"
          ],
          "font": {
           "color": "#2a3f5f"
          },
          "geo": {
           "bgcolor": "white",
           "lakecolor": "white",
           "landcolor": "white",
           "showlakes": true,
           "showland": true,
           "subunitcolor": "#C8D4E3"
          },
          "hoverlabel": {
           "align": "left"
          },
          "hovermode": "closest",
          "mapbox": {
           "style": "light"
          },
          "paper_bgcolor": "white",
          "plot_bgcolor": "white",
          "polar": {
           "angularaxis": {
            "gridcolor": "#EBF0F8",
            "linecolor": "#EBF0F8",
            "ticks": ""
           },
           "bgcolor": "white",
           "radialaxis": {
            "gridcolor": "#EBF0F8",
            "linecolor": "#EBF0F8",
            "ticks": ""
           }
          },
          "scene": {
           "xaxis": {
            "backgroundcolor": "white",
            "gridcolor": "#DFE8F3",
            "gridwidth": 2,
            "linecolor": "#EBF0F8",
            "showbackground": true,
            "ticks": "",
            "zerolinecolor": "#EBF0F8"
           },
           "yaxis": {
            "backgroundcolor": "white",
            "gridcolor": "#DFE8F3",
            "gridwidth": 2,
            "linecolor": "#EBF0F8",
            "showbackground": true,
            "ticks": "",
            "zerolinecolor": "#EBF0F8"
           },
           "zaxis": {
            "backgroundcolor": "white",
            "gridcolor": "#DFE8F3",
            "gridwidth": 2,
            "linecolor": "#EBF0F8",
            "showbackground": true,
            "ticks": "",
            "zerolinecolor": "#EBF0F8"
           }
          },
          "shapedefaults": {
           "line": {
            "color": "#2a3f5f"
           }
          },
          "ternary": {
           "aaxis": {
            "gridcolor": "#DFE8F3",
            "linecolor": "#A2B1C6",
            "ticks": ""
           },
           "baxis": {
            "gridcolor": "#DFE8F3",
            "linecolor": "#A2B1C6",
            "ticks": ""
           },
           "bgcolor": "white",
           "caxis": {
            "gridcolor": "#DFE8F3",
            "linecolor": "#A2B1C6",
            "ticks": ""
           }
          },
          "title": {
           "x": 0.05
          },
          "xaxis": {
           "automargin": true,
           "gridcolor": "#EBF0F8",
           "linecolor": "#EBF0F8",
           "ticks": "",
           "title": {
            "standoff": 15
           },
           "zerolinecolor": "#EBF0F8",
           "zerolinewidth": 2
          },
          "yaxis": {
           "automargin": true,
           "gridcolor": "#EBF0F8",
           "linecolor": "#EBF0F8",
           "ticks": "",
           "title": {
            "standoff": 15
           },
           "zerolinecolor": "#EBF0F8",
           "zerolinewidth": 2
          }
         }
        },
        "title": {
         "font": {
          "size": 20
         },
         "text": "Comprehensive Fleiss' Kappa Analysis",
         "x": 0.5
        },
        "xaxis": {
         "anchor": "y",
         "domain": [
          0,
          0.45
         ]
        },
        "xaxis2": {
         "anchor": "y2",
         "domain": [
          0.55,
          1
         ]
        },
        "xaxis3": {
         "anchor": "y3",
         "domain": [
          0,
          0.45
         ]
        },
        "xaxis4": {
         "anchor": "y4",
         "domain": [
          0.55,
          1
         ]
        },
        "yaxis": {
         "anchor": "x",
         "domain": [
          0.56,
          1
         ],
         "title": {
          "text": "Kappa Value"
         }
        },
        "yaxis2": {
         "anchor": "x2",
         "domain": [
          0.56,
          1
         ],
         "title": {
          "text": "Agreement Value"
         }
        },
        "yaxis3": {
         "anchor": "x3",
         "domain": [
          0,
          0.44
         ],
         "title": {
          "text": "Agreement Value"
         }
        },
        "yaxis4": {
         "anchor": "x4",
         "domain": [
          0,
          0.44
         ],
         "title": {
          "text": "Reference Value"
         }
        }
       }
      }
     },
     "metadata": {},
     "output_type": "display_data"
    },
    {
     "name": "stdout",
     "output_type": "stream",
     "text": [
      "Saved: 03_iaa_fleiss_kappa_comprehensive.html and .png\n"
     ]
    }
   ],
   "source": [
    "# =============================================================================\n",
    "# FLEISS' KAPPA VISUALIZATION\n",
    "# =============================================================================\n",
    "\n",
    "print(\"\\nCreating Fleiss' Kappa Comparison Visualizations...\")\n",
    "\n",
    "# Create a comprehensive comparison of agreement metrics\n",
    "fig_fleiss = make_subplots(\n",
    "    rows=2, cols=2, subplot_titles=[\"Fleiss' Kappa Comparison\", \"Agreement Components - Round 1\", \"Agreement Components - Round 2\", \"Interpretation Categories\"], specs=[[{\"type\": \"bar\"}, {\"type\": \"bar\"}], [{\"type\": \"bar\"}, {\"type\": \"bar\"}]], vertical_spacing=0.12, horizontal_spacing=0.1\n",
    ")\n",
    "\n",
    "# 1. Fleiss' Kappa Comparison\n",
    "datasets = [\"Round 1<br>(Binary)\", \"Round 2<br>(Binary)\"]\n",
    "fleiss_values = [fleiss_kappa_r1, fleiss_kappa_r2]\n",
    "colors = [\"#FF6B6B\" if val < 0 else \"#4ECDC4\" for val in fleiss_values]\n",
    "\n",
    "fig_fleiss.add_trace(go.Bar(x=datasets, y=fleiss_values, text=[f\"{val:.3f}\" for val in fleiss_values], textposition=\"auto\", marker_color=colors, name=\"Fleiss' Kappa\"), row=1, col=1)\n",
    "\n",
    "# 2. Agreement Components - Round 1\n",
    "components_r1 = [\"Observed Agreement<br>(P̄)\", \"Expected Agreement<br>(Pe)\", \"Fleiss' Kappa<br>(κ)\"]\n",
    "values_r1 = [stats_r1[\"P_bar\"], stats_r1[\"P_e\"], fleiss_kappa_r1]\n",
    "colors_r1 = [\"#3498DB\", \"#95A5A6\", \"#FF6B6B\" if fleiss_kappa_r1 < 0 else \"#4ECDC4\"]\n",
    "\n",
    "fig_fleiss.add_trace(go.Bar(x=components_r1, y=values_r1, text=[f\"{val:.3f}\" for val in values_r1], textposition=\"auto\", marker_color=colors_r1, name=\"Round 1 Components\"), row=1, col=2)\n",
    "\n",
    "# 3. Agreement Components - Round 2\n",
    "components_r2 = [\"Observed Agreement<br>(P̄)\", \"Expected Agreement<br>(Pe)\", \"Fleiss' Kappa<br>(κ)\"]\n",
    "values_r2 = [stats_r2[\"P_bar\"], stats_r2[\"P_e\"], fleiss_kappa_r2]\n",
    "colors_r2 = [\"#3498DB\", \"#95A5A6\", \"#FF6B6B\" if fleiss_kappa_r2 < 0 else \"#4ECDC4\"]\n",
    "\n",
    "fig_fleiss.add_trace(go.Bar(x=components_r2, y=values_r2, text=[f\"{val:.3f}\" for val in values_r2], textposition=\"auto\", marker_color=colors_r2, name=\"Round 2 Components\"), row=2, col=1)\n",
    "\n",
    "# 4. Interpretation scale reference\n",
    "interpretation_ranges = [\"Poor<br>(<0.00)\", \"Slight<br>(0.00-0.20)\", \"Fair<br>(0.21-0.40)\", \"Moderate<br>(0.41-0.60)\", \"Substantial<br>(0.61-0.80)\", \"Almost Perfect<br>(0.81-1.00)\"]\n",
    "range_values = [-0.1, 0.1, 0.3, 0.5, 0.7, 0.9]  # Representative values for each range\n",
    "range_colors = [\"#FF6B6B\", \"#FFA07A\", \"#FFD700\", \"#98FB98\", \"#32CD32\", \"#228B22\"]\n",
    "\n",
    "fig_fleiss.add_trace(go.Bar(x=interpretation_ranges, y=range_values, text=[f\"{val:.1f}\" for val in range_values], textposition=\"auto\", marker_color=range_colors, name=\"Interpretation Scale\"), row=2, col=2)\n",
    "\n",
    "# Add horizontal lines to show where our values fall\n",
    "fig_fleiss.add_hline(y=fleiss_kappa_r1, line_dash=\"dash\", line_color=\"red\", annotation_text=f\"Round 1: {fleiss_kappa_r1:.3f}\", row=2, col=2)\n",
    "fig_fleiss.add_hline(y=fleiss_kappa_r2, line_dash=\"dash\", line_color=\"blue\", annotation_text=f\"Round 2: {fleiss_kappa_r2:.3f}\", row=2, col=2)\n",
    "\n",
    "# Update layout\n",
    "fig_fleiss.update_layout(height=800, title={\"text\": \"Comprehensive Fleiss' Kappa Analysis\", \"x\": 0.5, \"font\": {\"size\": 20}}, showlegend=False)\n",
    "\n",
    "# Update y-axes\n",
    "fig_fleiss.update_yaxes(title_text=\"Kappa Value\", row=1, col=1)\n",
    "fig_fleiss.update_yaxes(title_text=\"Agreement Value\", row=1, col=2)\n",
    "fig_fleiss.update_yaxes(title_text=\"Agreement Value\", row=2, col=1)\n",
    "fig_fleiss.update_yaxes(title_text=\"Reference Value\", row=2, col=2)\n",
    "\n",
    "fig_fleiss.show()\n",
    "\n",
    "# Save the figure\n",
    "fig_fleiss.write_html(images_path / \"03_iaa_fleiss_kappa_comprehensive.html\")\n",
    "fig_fleiss.write_image(images_path / \"03_iaa_fleiss_kappa_comprehensive.png\", width=1200, height=800, scale=3)\n",
    "print(f\"Saved: 03_iaa_fleiss_kappa_comprehensive.html and .png\")"
   ]
  },
  {
   "cell_type": "code",
   "execution_count": 17,
   "id": "86f02c94",
   "metadata": {},
   "outputs": [
    {
     "name": "stdout",
     "output_type": "stream",
     "text": [
      "======================================================================\n",
      "DETAILED FLEISS' KAPPA INTERPRETATION & RECOMMENDATIONS\n",
      "======================================================================\n",
      "\n",
      "ROUND 1 DETAILED ANALYSIS\n",
      "-----------------------------------\n",
      "Data Type: Binary (0/1)\n",
      "Fleiss' Kappa: -0.3333\n",
      "Label distribution: {np.int64(1): np.float64(0.75), np.int64(0): np.float64(0.25)}\n",
      "Problem: High expected agreement by chance (Pe = 0.625)\n",
      "Observed agreement (0.500) vs chance expectation\n",
      "Result: Kappa is negative, indicating systematic disagreement\n",
      "\n",
      "ROUND 2 DETAILED ANALYSIS\n",
      "-----------------------------------\n",
      "Data Type: Binary (0/1)\n",
      "Fleiss' Kappa: 1.0000\n",
      "Label distribution: {np.int64(1): np.float64(1.0)}\n",
      "Problem: High expected agreement by chance (Pe = 1.000)\n",
      "Observed agreement (1.000) vs chance expectation\n",
      "Result: Almost Perfect\n",
      "\n",
      "CRITICAL ISSUES IDENTIFIED\n",
      "-----------------------------------\n",
      "1. Negative kappa values indicate systematic disagreement\n",
      "2. Annotators may have systematic biases or different interpretations\n",
      "3. High marginal imbalance creates inflated chance agreement\n",
      "4. Both rounds show binary classification challenges\n",
      "\n",
      "STATISTICAL CONTEXT\n",
      "-------------------------\n",
      "- Fleiss' kappa measures agreement beyond chance for multiple raters\n",
      "- Negative values indicate systematic bias or disagreement\n",
      "- Binary data can be affected by prevalence and bias effects\n",
      "- Consider complementary metrics like accuracy or percent agreement\n",
      "\n",
      "ACTIONABLE RECOMMENDATIONS\n",
      "-----------------------------------\n",
      "IMMEDIATE ACTIONS:\n",
      "1. Review and clarify annotation guidelines\n",
      "2. Conduct annotator retraining sessions\n",
      "3. Implement calibration exercises with gold standard examples\n",
      "4. Analyze systematic patterns in disagreements\n",
      "\n",
      "DATA COLLECTION IMPROVEMENTS:\n",
      "5. Ensure balanced representation of both classes if possible\n",
      "6. Provide clearer category definitions with examples\n",
      "7. Implement pilot testing of annotation protocols\n",
      "8. Add inter-annotator discussion sessions\n",
      "\n",
      "ANALYSIS ENHANCEMENTS:\n",
      "9. Calculate confidence intervals for kappa values\n",
      "10. Perform significance testing\n",
      "11. Analyze disagreement patterns by item characteristics\n",
      "12. Consider prevalence-adjusted bias-adjusted kappa (PABAK)\n",
      "\n",
      "QUALITY THRESHOLDS\n",
      "-------------------------\n",
      "Target Fleiss' Kappa values:\n",
      "- Minimum acceptable: κ > 0.40 (Moderate)\n",
      "- Good quality: κ > 0.60 (Substantial)\n",
      "- Excellent quality: κ > 0.80 (Almost Perfect)\n",
      "\n",
      "Current status:\n",
      "  Round 1: κ = -0.333 (Poor (worse than chance))\n",
      "  Round 2: κ = 1.000 (Almost Perfect)\n",
      "  Round 1 gap to minimum: needs +0.733\n"
     ]
    }
   ],
   "source": [
    "# =============================================================================\n",
    "# DETAILED FLEISS' KAPPA INTERPRETATION\n",
    "# =============================================================================\n",
    "\n",
    "print(\"=\" * 70)\n",
    "print(\"DETAILED FLEISS' KAPPA INTERPRETATION & RECOMMENDATIONS\")\n",
    "print(\"=\" * 70)\n",
    "\n",
    "print(f\"\\nROUND 1 DETAILED ANALYSIS\")\n",
    "print(\"-\" * 35)\n",
    "print(f\"Data Type: Binary (0/1)\")\n",
    "print(f\"Fleiss' Kappa: {fleiss_kappa_r1:.4f}\")\n",
    "print(f\"Label distribution: {dict(stats_r1['marginal_proportions'])}\")\n",
    "print(f\"Problem: High expected agreement by chance (Pe = {stats_r1['P_e']:.3f})\")\n",
    "print(f\"Observed agreement ({stats_r1['P_bar']:.3f}) vs chance expectation\")\n",
    "if fleiss_kappa_r1 < 0:\n",
    "    print(f\"Result: Kappa is negative, indicating systematic disagreement\")\n",
    "else:\n",
    "    print(f\"Result: {stats_r1['interpretation']}\")\n",
    "\n",
    "print(f\"\\nROUND 2 DETAILED ANALYSIS\")\n",
    "print(\"-\" * 35)\n",
    "print(f\"Data Type: Binary (0/1)\")\n",
    "print(f\"Fleiss' Kappa: {fleiss_kappa_r2:.4f}\")\n",
    "print(f\"Label distribution: {dict(stats_r2['marginal_proportions'])}\")\n",
    "print(f\"Problem: High expected agreement by chance (Pe = {stats_r2['P_e']:.3f})\")\n",
    "print(f\"Observed agreement ({stats_r2['P_bar']:.3f}) vs chance expectation\")\n",
    "if fleiss_kappa_r2 < 0:\n",
    "    print(f\"Result: Kappa is negative, indicating systematic disagreement\")\n",
    "else:\n",
    "    print(f\"Result: {stats_r2['interpretation']}\")\n",
    "\n",
    "print(f\"\\nCRITICAL ISSUES IDENTIFIED\")\n",
    "print(\"-\" * 35)\n",
    "if fleiss_kappa_r1 < 0 or fleiss_kappa_r2 < 0:\n",
    "    print(\"1. Negative kappa values indicate systematic disagreement\")\n",
    "    print(\"2. Annotators may have systematic biases or different interpretations\")\n",
    "    print(\"3. High marginal imbalance creates inflated chance agreement\")\n",
    "    print(\"4. Both rounds show binary classification challenges\")\n",
    "else:\n",
    "    print(\"1. Both rounds use binary classification (0/1)\")\n",
    "    print(\"2. Agreement levels may be affected by class imbalance\")\n",
    "    print(\"3. Consider the distribution of positive and negative labels\")\n",
    "\n",
    "print(f\"\\nSTATISTICAL CONTEXT\")\n",
    "print(\"-\" * 25)\n",
    "print(\"- Fleiss' kappa measures agreement beyond chance for multiple raters\")\n",
    "print(\"- Negative values indicate systematic bias or disagreement\")\n",
    "print(\"- Binary data can be affected by prevalence and bias effects\")\n",
    "print(\"- Consider complementary metrics like accuracy or percent agreement\")\n",
    "\n",
    "print(f\"\\nACTIONABLE RECOMMENDATIONS\")\n",
    "print(\"-\" * 35)\n",
    "print(\"IMMEDIATE ACTIONS:\")\n",
    "print(\"1. Review and clarify annotation guidelines\")\n",
    "print(\"2. Conduct annotator retraining sessions\")\n",
    "print(\"3. Implement calibration exercises with gold standard examples\")\n",
    "print(\"4. Analyze systematic patterns in disagreements\")\n",
    "\n",
    "print(\"\\nDATA COLLECTION IMPROVEMENTS:\")\n",
    "print(\"5. Ensure balanced representation of both classes if possible\")\n",
    "print(\"6. Provide clearer category definitions with examples\")\n",
    "print(\"7. Implement pilot testing of annotation protocols\")\n",
    "print(\"8. Add inter-annotator discussion sessions\")\n",
    "\n",
    "print(\"\\nANALYSIS ENHANCEMENTS:\")\n",
    "print(\"9. Calculate confidence intervals for kappa values\")\n",
    "print(\"10. Perform significance testing\")\n",
    "print(\"11. Analyze disagreement patterns by item characteristics\")\n",
    "print(\"12. Consider prevalence-adjusted bias-adjusted kappa (PABAK)\")\n",
    "\n",
    "print(f\"\\nQUALITY THRESHOLDS\")\n",
    "print(\"-\" * 25)\n",
    "print(\"Target Fleiss' Kappa values:\")\n",
    "print(\"- Minimum acceptable: κ > 0.40 (Moderate)\")\n",
    "print(\"- Good quality: κ > 0.60 (Substantial)\")\n",
    "print(\"- Excellent quality: κ > 0.80 (Almost Perfect)\")\n",
    "print(f\"\\nCurrent status:\")\n",
    "print(f\"  Round 1: κ = {fleiss_kappa_r1:.3f} ({stats_r1['interpretation']})\")\n",
    "print(f\"  Round 2: κ = {fleiss_kappa_r2:.3f} ({stats_r2['interpretation']})\")\n",
    "if fleiss_kappa_r1 < 0.40:\n",
    "    print(f\"  Round 1 gap to minimum: needs +{0.40 - fleiss_kappa_r1:.3f}\")\n",
    "if fleiss_kappa_r2 < 0.40:\n",
    "    print(f\"  Round 2 gap to minimum: needs +{0.40 - fleiss_kappa_r2:.3f}\")"
   ]
  },
  {
   "cell_type": "code",
   "execution_count": 18,
   "id": "bea3a518",
   "metadata": {},
   "outputs": [
    {
     "name": "stdout",
     "output_type": "stream",
     "text": [
      "==================================================\n",
      "ROUND 1 - BINARY DATA AGREEMENT ANALYSIS\n",
      "==================================================\n",
      "\n",
      "Cohen's Kappa Matrix (Round 1):\n",
      "             avaliador_1  avaliador_2  avaliador_3  avaliador_4\n",
      "avaliador_1          1.0          NaN          NaN          0.0\n",
      "avaliador_2          NaN          1.0          NaN          0.0\n",
      "avaliador_3          NaN          NaN          1.0          0.0\n",
      "avaliador_4          0.0          0.0          0.0          1.0\n",
      "\n",
      "Accuracy Matrix (Round 1):\n",
      "             avaliador_1  avaliador_2  avaliador_3  avaliador_4\n",
      "avaliador_1          1.0          1.0          1.0          0.0\n",
      "avaliador_2          1.0          1.0          1.0          0.0\n",
      "avaliador_3          1.0          1.0          1.0          0.0\n",
      "avaliador_4          0.0          0.0          0.0          1.0\n",
      "\n",
      "Overall Agreement (Round 1): 0.500\n",
      "\n",
      "Summary Statistics (Round 1):\n",
      "Mean Cohen's Kappa: nan\n",
      "Std Cohen's Kappa: nan\n",
      "Mean Accuracy: 0.500\n",
      "Std Accuracy: 0.500\n"
     ]
    }
   ],
   "source": [
    "# =============================================================================\n",
    "# ROUND 1 ANALYSIS (Binary Data: 0/1)\n",
    "# =============================================================================\n",
    "\n",
    "print(\"=\" * 50)\n",
    "print(\"ROUND 1 - BINARY DATA AGREEMENT ANALYSIS\")\n",
    "print(\"=\" * 50)\n",
    "\n",
    "# Calculate Cohen's Kappa for all pairs\n",
    "kappa_matrix_r1 = calculate_pairwise_agreement(round_1, metric=\"cohen_kappa\")\n",
    "print(\"\\nCohen's Kappa Matrix (Round 1):\")\n",
    "print(kappa_matrix_r1.round(3))\n",
    "\n",
    "# Calculate accuracy for all pairs\n",
    "accuracy_matrix_r1 = calculate_pairwise_agreement(round_1, metric=\"accuracy\")\n",
    "print(\"\\nAccuracy Matrix (Round 1):\")\n",
    "print(accuracy_matrix_r1.round(3))\n",
    "\n",
    "# Calculate overall agreement\n",
    "overall_agreement_r1 = calculate_fleiss_kappa_simple(round_1)\n",
    "print(f\"\\nOverall Agreement (Round 1): {overall_agreement_r1:.3f}\")\n",
    "\n",
    "# Summary statistics\n",
    "kappa_values = []\n",
    "accuracy_values = []\n",
    "\n",
    "for i in range(len(round_1.columns)):\n",
    "    for j in range(i + 1, len(round_1.columns)):\n",
    "        kappa_values.append(kappa_matrix_r1.iloc[i, j])\n",
    "        accuracy_values.append(accuracy_matrix_r1.iloc[i, j])\n",
    "\n",
    "print(f\"\\nSummary Statistics (Round 1):\")\n",
    "print(f\"Mean Cohen's Kappa: {np.mean(kappa_values):.3f}\")\n",
    "print(f\"Std Cohen's Kappa: {np.std(kappa_values):.3f}\")\n",
    "print(f\"Mean Accuracy: {np.mean(accuracy_values):.3f}\")\n",
    "print(f\"Std Accuracy: {np.std(accuracy_values):.3f}\")"
   ]
  },
  {
   "cell_type": "code",
   "execution_count": null,
   "id": "23208082",
   "metadata": {},
   "outputs": [],
   "source": []
  },
  {
   "cell_type": "code",
   "execution_count": 19,
   "id": "230deccf",
   "metadata": {},
   "outputs": [
    {
     "name": "stdout",
     "output_type": "stream",
     "text": [
      "Examining Round 1 data distribution per annotator:\n",
      "avaliador_1: {1: 14}\n",
      "avaliador_2: {1: 14}\n",
      "avaliador_3: {1: 14}\n",
      "avaliador_4: {0: 14}\n",
      "\n",
      "==================================================\n",
      "ROUND 2 - BINARY DATA AGREEMENT ANALYSIS\n",
      "==================================================\n",
      "\n",
      "Cohen's Kappa Matrix (Round 2):\n",
      "             avaliador_1  avaliador_2  avaliador_3  avaliador_4\n",
      "avaliador_1          1.0          NaN          NaN          NaN\n",
      "avaliador_2          NaN          1.0          NaN          NaN\n",
      "avaliador_3          NaN          NaN          1.0          NaN\n",
      "avaliador_4          NaN          NaN          NaN          1.0\n",
      "\n",
      "Accuracy Matrix (Round 2):\n",
      "             avaliador_1  avaliador_2  avaliador_3  avaliador_4\n",
      "avaliador_1          1.0          1.0          1.0          1.0\n",
      "avaliador_2          1.0          1.0          1.0          1.0\n",
      "avaliador_3          1.0          1.0          1.0          1.0\n",
      "avaliador_4          1.0          1.0          1.0          1.0\n",
      "\n",
      "Pearson Correlation Matrix (Round 2) - Phi Coefficient for binary data:\n",
      "             avaliador_1  avaliador_2  avaliador_3  avaliador_4\n",
      "avaliador_1          1.0          NaN          NaN          NaN\n",
      "avaliador_2          NaN          1.0          NaN          NaN\n",
      "avaliador_3          NaN          NaN          1.0          NaN\n",
      "avaliador_4          NaN          NaN          NaN          1.0\n",
      "\n",
      "Spearman Correlation Matrix (Round 2):\n",
      "             avaliador_1  avaliador_2  avaliador_3  avaliador_4\n",
      "avaliador_1          1.0          NaN          NaN          NaN\n",
      "avaliador_2          NaN          1.0          NaN          NaN\n",
      "avaliador_3          NaN          NaN          1.0          NaN\n",
      "avaliador_4          NaN          NaN          NaN          1.0\n",
      "\n",
      "Overall Agreement (Round 2): 1.000\n",
      "\n",
      "Summary Statistics (Round 2):\n",
      "Mean Cohen's Kappa: nan\n",
      "Std Cohen's Kappa: nan\n",
      "Mean Phi Coefficient (Pearson for binary): nan\n",
      "Std Phi Coefficient: nan\n",
      "Mean Spearman ρ: nan\n",
      "Std Spearman ρ: nan\n"
     ]
    }
   ],
   "source": [
    "# Let's examine why Cohen's Kappa is giving NaN values\n",
    "print(\"Examining Round 1 data distribution per annotator:\")\n",
    "for col in round_1.columns:\n",
    "    print(f\"{col}: {round_1[col].value_counts().to_dict()}\")\n",
    "\n",
    "print(\"\\n\" + \"=\" * 50)\n",
    "print(\"ROUND 2 - BINARY DATA AGREEMENT ANALYSIS\")\n",
    "print(\"=\" * 50)\n",
    "\n",
    "# Calculate Cohen's Kappa for Round 2 (binary data)\n",
    "kappa_matrix_r2 = calculate_pairwise_agreement(round_2, metric=\"cohen_kappa\")\n",
    "print(\"\\nCohen's Kappa Matrix (Round 2):\")\n",
    "print(kappa_matrix_r2.round(3))\n",
    "\n",
    "# Calculate accuracy for Round 2\n",
    "accuracy_matrix_r2 = calculate_pairwise_agreement(round_2, metric=\"accuracy\")\n",
    "print(\"\\nAccuracy Matrix (Round 2):\")\n",
    "print(accuracy_matrix_r2.round(3))\n",
    "\n",
    "# Calculate Pearson correlation for Round 2 (for binary data, this is phi coefficient)\n",
    "pearson_matrix_r2 = calculate_pairwise_agreement(round_2, metric=\"pearson\")\n",
    "print(\"\\nPearson Correlation Matrix (Round 2) - Phi Coefficient for binary data:\")\n",
    "print(pearson_matrix_r2.round(3))\n",
    "\n",
    "# Calculate Spearman correlation for Round 2\n",
    "spearman_matrix_r2 = calculate_pairwise_agreement(round_2, metric=\"spearman\")\n",
    "print(\"\\nSpearman Correlation Matrix (Round 2):\")\n",
    "print(spearman_matrix_r2.round(3))\n",
    "\n",
    "# Calculate overall agreement for Round 2\n",
    "overall_agreement_r2 = calculate_fleiss_kappa_simple(round_2)\n",
    "print(f\"\\nOverall Agreement (Round 2): {overall_agreement_r2:.3f}\")\n",
    "\n",
    "# Summary statistics for Round 2\n",
    "kappa_values_r2 = []\n",
    "pearson_values = []\n",
    "spearman_values = []\n",
    "\n",
    "for i in range(len(round_2.columns)):\n",
    "    for j in range(i + 1, len(round_2.columns)):\n",
    "        kappa_values_r2.append(kappa_matrix_r2.iloc[i, j])\n",
    "        pearson_values.append(pearson_matrix_r2.iloc[i, j])\n",
    "        spearman_values.append(spearman_matrix_r2.iloc[i, j])\n",
    "\n",
    "print(f\"\\nSummary Statistics (Round 2):\")\n",
    "print(f\"Mean Cohen's Kappa: {np.mean(kappa_values_r2):.3f}\")\n",
    "print(f\"Std Cohen's Kappa: {np.std(kappa_values_r2):.3f}\")\n",
    "print(f\"Mean Phi Coefficient (Pearson for binary): {np.mean(pearson_values):.3f}\")\n",
    "print(f\"Std Phi Coefficient: {np.std(pearson_values):.3f}\")\n",
    "print(f\"Mean Spearman ρ: {np.mean(spearman_values):.3f}\")\n",
    "print(f\"Std Spearman ρ: {np.std(spearman_values):.3f}\")"
   ]
  },
  {
   "cell_type": "code",
   "execution_count": 20,
   "id": "c5099701",
   "metadata": {},
   "outputs": [
    {
     "name": "stdout",
     "output_type": "stream",
     "text": [
      "1. Round 1: Accuracy Matrix\n"
     ]
    },
    {
     "data": {
      "application/vnd.plotly.v1+json": {
       "config": {
        "plotlyServerURL": "https://plot.ly"
       },
       "data": [
        {
         "colorscale": [
          [
           0,
           "rgb(49,54,149)"
          ],
          [
           0.1,
           "rgb(69,117,180)"
          ],
          [
           0.2,
           "rgb(116,173,209)"
          ],
          [
           0.3,
           "rgb(171,217,233)"
          ],
          [
           0.4,
           "rgb(224,243,248)"
          ],
          [
           0.5,
           "rgb(255,255,191)"
          ],
          [
           0.6,
           "rgb(254,224,144)"
          ],
          [
           0.7,
           "rgb(253,174,97)"
          ],
          [
           0.8,
           "rgb(244,109,67)"
          ],
          [
           0.9,
           "rgb(215,48,39)"
          ],
          [
           1,
           "rgb(165,0,38)"
          ]
         ],
         "showscale": true,
         "text": {
          "bdata": "AAAAAAAA8D8AAAAAAADwPwAAAAAAAPA/AAAAAAAAAAAAAAAAAADwPwAAAAAAAPA/AAAAAAAA8D8AAAAAAAAAAAAAAAAAAPA/AAAAAAAA8D8AAAAAAADwPwAAAAAAAAAAAAAAAAAAAAAAAAAAAAAAAAAAAAAAAAAAAAAAAAAA8D8=",
          "dtype": "f8",
          "shape": "4, 4"
         },
         "textfont": {
          "size": 12
         },
         "texttemplate": "%{text}",
         "type": "heatmap",
         "x": [
          "avaliador_1",
          "avaliador_2",
          "avaliador_3",
          "avaliador_4"
         ],
         "y": [
          "avaliador_1",
          "avaliador_2",
          "avaliador_3",
          "avaliador_4"
         ],
         "z": {
          "bdata": "AAAAAAAA8D8AAAAAAADwPwAAAAAAAPA/AAAAAAAAAAAAAAAAAADwPwAAAAAAAPA/AAAAAAAA8D8AAAAAAAAAAAAAAAAAAPA/AAAAAAAA8D8AAAAAAADwPwAAAAAAAAAAAAAAAAAAAAAAAAAAAAAAAAAAAAAAAAAAAAAAAAAA8D8=",
          "dtype": "f8",
          "shape": "4, 4"
         },
         "zmax": 1,
         "zmin": 0
        }
       ],
       "layout": {
        "height": 500,
        "template": {
         "data": {
          "bar": [
           {
            "error_x": {
             "color": "#2a3f5f"
            },
            "error_y": {
             "color": "#2a3f5f"
            },
            "marker": {
             "line": {
              "color": "white",
              "width": 0.5
             },
             "pattern": {
              "fillmode": "overlay",
              "size": 10,
              "solidity": 0.2
             }
            },
            "type": "bar"
           }
          ],
          "barpolar": [
           {
            "marker": {
             "line": {
              "color": "white",
              "width": 0.5
             },
             "pattern": {
              "fillmode": "overlay",
              "size": 10,
              "solidity": 0.2
             }
            },
            "type": "barpolar"
           }
          ],
          "carpet": [
           {
            "aaxis": {
             "endlinecolor": "#2a3f5f",
             "gridcolor": "#C8D4E3",
             "linecolor": "#C8D4E3",
             "minorgridcolor": "#C8D4E3",
             "startlinecolor": "#2a3f5f"
            },
            "baxis": {
             "endlinecolor": "#2a3f5f",
             "gridcolor": "#C8D4E3",
             "linecolor": "#C8D4E3",
             "minorgridcolor": "#C8D4E3",
             "startlinecolor": "#2a3f5f"
            },
            "type": "carpet"
           }
          ],
          "choropleth": [
           {
            "colorbar": {
             "outlinewidth": 0,
             "ticks": ""
            },
            "type": "choropleth"
           }
          ],
          "contour": [
           {
            "colorbar": {
             "outlinewidth": 0,
             "ticks": ""
            },
            "colorscale": [
             [
              0,
              "#0d0887"
             ],
             [
              0.1111111111111111,
              "#46039f"
             ],
             [
              0.2222222222222222,
              "#7201a8"
             ],
             [
              0.3333333333333333,
              "#9c179e"
             ],
             [
              0.4444444444444444,
              "#bd3786"
             ],
             [
              0.5555555555555556,
              "#d8576b"
             ],
             [
              0.6666666666666666,
              "#ed7953"
             ],
             [
              0.7777777777777778,
              "#fb9f3a"
             ],
             [
              0.8888888888888888,
              "#fdca26"
             ],
             [
              1,
              "#f0f921"
             ]
            ],
            "type": "contour"
           }
          ],
          "contourcarpet": [
           {
            "colorbar": {
             "outlinewidth": 0,
             "ticks": ""
            },
            "type": "contourcarpet"
           }
          ],
          "heatmap": [
           {
            "colorbar": {
             "outlinewidth": 0,
             "ticks": ""
            },
            "colorscale": [
             [
              0,
              "#0d0887"
             ],
             [
              0.1111111111111111,
              "#46039f"
             ],
             [
              0.2222222222222222,
              "#7201a8"
             ],
             [
              0.3333333333333333,
              "#9c179e"
             ],
             [
              0.4444444444444444,
              "#bd3786"
             ],
             [
              0.5555555555555556,
              "#d8576b"
             ],
             [
              0.6666666666666666,
              "#ed7953"
             ],
             [
              0.7777777777777778,
              "#fb9f3a"
             ],
             [
              0.8888888888888888,
              "#fdca26"
             ],
             [
              1,
              "#f0f921"
             ]
            ],
            "type": "heatmap"
           }
          ],
          "histogram": [
           {
            "marker": {
             "pattern": {
              "fillmode": "overlay",
              "size": 10,
              "solidity": 0.2
             }
            },
            "type": "histogram"
           }
          ],
          "histogram2d": [
           {
            "colorbar": {
             "outlinewidth": 0,
             "ticks": ""
            },
            "colorscale": [
             [
              0,
              "#0d0887"
             ],
             [
              0.1111111111111111,
              "#46039f"
             ],
             [
              0.2222222222222222,
              "#7201a8"
             ],
             [
              0.3333333333333333,
              "#9c179e"
             ],
             [
              0.4444444444444444,
              "#bd3786"
             ],
             [
              0.5555555555555556,
              "#d8576b"
             ],
             [
              0.6666666666666666,
              "#ed7953"
             ],
             [
              0.7777777777777778,
              "#fb9f3a"
             ],
             [
              0.8888888888888888,
              "#fdca26"
             ],
             [
              1,
              "#f0f921"
             ]
            ],
            "type": "histogram2d"
           }
          ],
          "histogram2dcontour": [
           {
            "colorbar": {
             "outlinewidth": 0,
             "ticks": ""
            },
            "colorscale": [
             [
              0,
              "#0d0887"
             ],
             [
              0.1111111111111111,
              "#46039f"
             ],
             [
              0.2222222222222222,
              "#7201a8"
             ],
             [
              0.3333333333333333,
              "#9c179e"
             ],
             [
              0.4444444444444444,
              "#bd3786"
             ],
             [
              0.5555555555555556,
              "#d8576b"
             ],
             [
              0.6666666666666666,
              "#ed7953"
             ],
             [
              0.7777777777777778,
              "#fb9f3a"
             ],
             [
              0.8888888888888888,
              "#fdca26"
             ],
             [
              1,
              "#f0f921"
             ]
            ],
            "type": "histogram2dcontour"
           }
          ],
          "mesh3d": [
           {
            "colorbar": {
             "outlinewidth": 0,
             "ticks": ""
            },
            "type": "mesh3d"
           }
          ],
          "parcoords": [
           {
            "line": {
             "colorbar": {
              "outlinewidth": 0,
              "ticks": ""
             }
            },
            "type": "parcoords"
           }
          ],
          "pie": [
           {
            "automargin": true,
            "type": "pie"
           }
          ],
          "scatter": [
           {
            "fillpattern": {
             "fillmode": "overlay",
             "size": 10,
             "solidity": 0.2
            },
            "type": "scatter"
           }
          ],
          "scatter3d": [
           {
            "line": {
             "colorbar": {
              "outlinewidth": 0,
              "ticks": ""
             }
            },
            "marker": {
             "colorbar": {
              "outlinewidth": 0,
              "ticks": ""
             }
            },
            "type": "scatter3d"
           }
          ],
          "scattercarpet": [
           {
            "marker": {
             "colorbar": {
              "outlinewidth": 0,
              "ticks": ""
             }
            },
            "type": "scattercarpet"
           }
          ],
          "scattergeo": [
           {
            "marker": {
             "colorbar": {
              "outlinewidth": 0,
              "ticks": ""
             }
            },
            "type": "scattergeo"
           }
          ],
          "scattergl": [
           {
            "marker": {
             "colorbar": {
              "outlinewidth": 0,
              "ticks": ""
             }
            },
            "type": "scattergl"
           }
          ],
          "scattermap": [
           {
            "marker": {
             "colorbar": {
              "outlinewidth": 0,
              "ticks": ""
             }
            },
            "type": "scattermap"
           }
          ],
          "scattermapbox": [
           {
            "marker": {
             "colorbar": {
              "outlinewidth": 0,
              "ticks": ""
             }
            },
            "type": "scattermapbox"
           }
          ],
          "scatterpolar": [
           {
            "marker": {
             "colorbar": {
              "outlinewidth": 0,
              "ticks": ""
             }
            },
            "type": "scatterpolar"
           }
          ],
          "scatterpolargl": [
           {
            "marker": {
             "colorbar": {
              "outlinewidth": 0,
              "ticks": ""
             }
            },
            "type": "scatterpolargl"
           }
          ],
          "scatterternary": [
           {
            "marker": {
             "colorbar": {
              "outlinewidth": 0,
              "ticks": ""
             }
            },
            "type": "scatterternary"
           }
          ],
          "surface": [
           {
            "colorbar": {
             "outlinewidth": 0,
             "ticks": ""
            },
            "colorscale": [
             [
              0,
              "#0d0887"
             ],
             [
              0.1111111111111111,
              "#46039f"
             ],
             [
              0.2222222222222222,
              "#7201a8"
             ],
             [
              0.3333333333333333,
              "#9c179e"
             ],
             [
              0.4444444444444444,
              "#bd3786"
             ],
             [
              0.5555555555555556,
              "#d8576b"
             ],
             [
              0.6666666666666666,
              "#ed7953"
             ],
             [
              0.7777777777777778,
              "#fb9f3a"
             ],
             [
              0.8888888888888888,
              "#fdca26"
             ],
             [
              1,
              "#f0f921"
             ]
            ],
            "type": "surface"
           }
          ],
          "table": [
           {
            "cells": {
             "fill": {
              "color": "#EBF0F8"
             },
             "line": {
              "color": "white"
             }
            },
            "header": {
             "fill": {
              "color": "#C8D4E3"
             },
             "line": {
              "color": "white"
             }
            },
            "type": "table"
           }
          ]
         },
         "layout": {
          "annotationdefaults": {
           "arrowcolor": "#2a3f5f",
           "arrowhead": 0,
           "arrowwidth": 1
          },
          "autotypenumbers": "strict",
          "coloraxis": {
           "colorbar": {
            "outlinewidth": 0,
            "ticks": ""
           }
          },
          "colorscale": {
           "diverging": [
            [
             0,
             "#8e0152"
            ],
            [
             0.1,
             "#c51b7d"
            ],
            [
             0.2,
             "#de77ae"
            ],
            [
             0.3,
             "#f1b6da"
            ],
            [
             0.4,
             "#fde0ef"
            ],
            [
             0.5,
             "#f7f7f7"
            ],
            [
             0.6,
             "#e6f5d0"
            ],
            [
             0.7,
             "#b8e186"
            ],
            [
             0.8,
             "#7fbc41"
            ],
            [
             0.9,
             "#4d9221"
            ],
            [
             1,
             "#276419"
            ]
           ],
           "sequential": [
            [
             0,
             "#0d0887"
            ],
            [
             0.1111111111111111,
             "#46039f"
            ],
            [
             0.2222222222222222,
             "#7201a8"
            ],
            [
             0.3333333333333333,
             "#9c179e"
            ],
            [
             0.4444444444444444,
             "#bd3786"
            ],
            [
             0.5555555555555556,
             "#d8576b"
            ],
            [
             0.6666666666666666,
             "#ed7953"
            ],
            [
             0.7777777777777778,
             "#fb9f3a"
            ],
            [
             0.8888888888888888,
             "#fdca26"
            ],
            [
             1,
             "#f0f921"
            ]
           ],
           "sequentialminus": [
            [
             0,
             "#0d0887"
            ],
            [
             0.1111111111111111,
             "#46039f"
            ],
            [
             0.2222222222222222,
             "#7201a8"
            ],
            [
             0.3333333333333333,
             "#9c179e"
            ],
            [
             0.4444444444444444,
             "#bd3786"
            ],
            [
             0.5555555555555556,
             "#d8576b"
            ],
            [
             0.6666666666666666,
             "#ed7953"
            ],
            [
             0.7777777777777778,
             "#fb9f3a"
            ],
            [
             0.8888888888888888,
             "#fdca26"
            ],
            [
             1,
             "#f0f921"
            ]
           ]
          },
          "colorway": [
           "#636efa",
           "#EF553B",
           "#00cc96",
           "#ab63fa",
           "#FFA15A",
           "#19d3f3",
           "#FF6692",
           "#B6E880",
           "#FF97FF",
           "#FECB52"
          ],
          "font": {
           "color": "#2a3f5f"
          },
          "geo": {
           "bgcolor": "white",
           "lakecolor": "white",
           "landcolor": "white",
           "showlakes": true,
           "showland": true,
           "subunitcolor": "#C8D4E3"
          },
          "hoverlabel": {
           "align": "left"
          },
          "hovermode": "closest",
          "mapbox": {
           "style": "light"
          },
          "paper_bgcolor": "white",
          "plot_bgcolor": "white",
          "polar": {
           "angularaxis": {
            "gridcolor": "#EBF0F8",
            "linecolor": "#EBF0F8",
            "ticks": ""
           },
           "bgcolor": "white",
           "radialaxis": {
            "gridcolor": "#EBF0F8",
            "linecolor": "#EBF0F8",
            "ticks": ""
           }
          },
          "scene": {
           "xaxis": {
            "backgroundcolor": "white",
            "gridcolor": "#DFE8F3",
            "gridwidth": 2,
            "linecolor": "#EBF0F8",
            "showbackground": true,
            "ticks": "",
            "zerolinecolor": "#EBF0F8"
           },
           "yaxis": {
            "backgroundcolor": "white",
            "gridcolor": "#DFE8F3",
            "gridwidth": 2,
            "linecolor": "#EBF0F8",
            "showbackground": true,
            "ticks": "",
            "zerolinecolor": "#EBF0F8"
           },
           "zaxis": {
            "backgroundcolor": "white",
            "gridcolor": "#DFE8F3",
            "gridwidth": 2,
            "linecolor": "#EBF0F8",
            "showbackground": true,
            "ticks": "",
            "zerolinecolor": "#EBF0F8"
           }
          },
          "shapedefaults": {
           "line": {
            "color": "#2a3f5f"
           }
          },
          "ternary": {
           "aaxis": {
            "gridcolor": "#DFE8F3",
            "linecolor": "#A2B1C6",
            "ticks": ""
           },
           "baxis": {
            "gridcolor": "#DFE8F3",
            "linecolor": "#A2B1C6",
            "ticks": ""
           },
           "bgcolor": "white",
           "caxis": {
            "gridcolor": "#DFE8F3",
            "linecolor": "#A2B1C6",
            "ticks": ""
           }
          },
          "title": {
           "x": 0.05
          },
          "xaxis": {
           "automargin": true,
           "gridcolor": "#EBF0F8",
           "linecolor": "#EBF0F8",
           "ticks": "",
           "title": {
            "standoff": 15
           },
           "zerolinecolor": "#EBF0F8",
           "zerolinewidth": 2
          },
          "yaxis": {
           "automargin": true,
           "gridcolor": "#EBF0F8",
           "linecolor": "#EBF0F8",
           "ticks": "",
           "title": {
            "standoff": 15
           },
           "zerolinecolor": "#EBF0F8",
           "zerolinewidth": 2
          }
         }
        },
        "title": {
         "font": {
          "size": 16
         },
         "text": "Round 1: Inter-Annotator Accuracy Matrix",
         "x": 0.5
        },
        "width": 600,
        "xaxis": {
         "title": {
          "text": "Annotators"
         }
        },
        "yaxis": {
         "title": {
          "text": "Annotators"
         }
        }
       }
      }
     },
     "metadata": {},
     "output_type": "display_data"
    },
    {
     "name": "stdout",
     "output_type": "stream",
     "text": [
      "Saved: 03_iaa_r1_accuracy_matrix.html and .png\n"
     ]
    }
   ],
   "source": [
    "# =============================================================================\n",
    "# INDIVIDUAL VISUALIZATIONS WITH PLOTLY\n",
    "# =============================================================================\n",
    "\n",
    "# 1. Round 1 Accuracy Heatmap\n",
    "print(\"1. Round 1: Accuracy Matrix\")\n",
    "fig1 = go.Figure(data=go.Heatmap(z=accuracy_matrix_r1.values, x=accuracy_matrix_r1.columns, y=accuracy_matrix_r1.index, colorscale=\"RdYlBu_r\", zmin=0, zmax=1, text=accuracy_matrix_r1.round(3).values, texttemplate=\"%{text}\", textfont={\"size\": 12}, showscale=True))\n",
    "\n",
    "fig1.update_layout(title={\"text\": \"Round 1: Inter-Annotator Accuracy Matrix\", \"x\": 0.5, \"font\": {\"size\": 16}}, xaxis_title=\"Annotators\", yaxis_title=\"Annotators\", height=500, width=600)\n",
    "\n",
    "fig1.show()\n",
    "fig1.write_html(images_path / \"03_iaa_r1_accuracy_matrix.html\")\n",
    "fig1.write_image(images_path / \"03_iaa_r1_accuracy_matrix.png\", width=600, height=500, scale=3)\n",
    "print(\"Saved: 03_iaa_r1_accuracy_matrix.html and .png\")"
   ]
  },
  {
   "cell_type": "code",
   "execution_count": 21,
   "id": "98cc8e68",
   "metadata": {},
   "outputs": [
    {
     "name": "stdout",
     "output_type": "stream",
     "text": [
      "2. Round 2: Cohen's Kappa Matrix\n"
     ]
    },
    {
     "data": {
      "application/vnd.plotly.v1+json": {
       "config": {
        "plotlyServerURL": "https://plot.ly"
       },
       "data": [
        {
         "colorscale": [
          [
           0,
           "rgb(49,54,149)"
          ],
          [
           0.1,
           "rgb(69,117,180)"
          ],
          [
           0.2,
           "rgb(116,173,209)"
          ],
          [
           0.3,
           "rgb(171,217,233)"
          ],
          [
           0.4,
           "rgb(224,243,248)"
          ],
          [
           0.5,
           "rgb(255,255,191)"
          ],
          [
           0.6,
           "rgb(254,224,144)"
          ],
          [
           0.7,
           "rgb(253,174,97)"
          ],
          [
           0.8,
           "rgb(244,109,67)"
          ],
          [
           0.9,
           "rgb(215,48,39)"
          ],
          [
           1,
           "rgb(165,0,38)"
          ]
         ],
         "showscale": true,
         "text": {
          "bdata": "AAAAAAAA8D8AAAAAAAD4fwAAAAAAAPh/AAAAAAAA+H8AAAAAAAD4fwAAAAAAAPA/AAAAAAAA+H8AAAAAAAD4fwAAAAAAAPh/AAAAAAAA+H8AAAAAAADwPwAAAAAAAPh/AAAAAAAA+H8AAAAAAAD4fwAAAAAAAPh/AAAAAAAA8D8=",
          "dtype": "f8",
          "shape": "4, 4"
         },
         "textfont": {
          "size": 12
         },
         "texttemplate": "%{text}",
         "type": "heatmap",
         "x": [
          "avaliador_1",
          "avaliador_2",
          "avaliador_3",
          "avaliador_4"
         ],
         "y": [
          "avaliador_1",
          "avaliador_2",
          "avaliador_3",
          "avaliador_4"
         ],
         "z": {
          "bdata": "AAAAAAAA8D8AAAAAAAD4fwAAAAAAAPh/AAAAAAAA+H8AAAAAAAD4fwAAAAAAAPA/AAAAAAAA+H8AAAAAAAD4fwAAAAAAAPh/AAAAAAAA+H8AAAAAAADwPwAAAAAAAPh/AAAAAAAA+H8AAAAAAAD4fwAAAAAAAPh/AAAAAAAA8D8=",
          "dtype": "f8",
          "shape": "4, 4"
         },
         "zmax": 1,
         "zmin": -1
        }
       ],
       "layout": {
        "height": 500,
        "template": {
         "data": {
          "bar": [
           {
            "error_x": {
             "color": "#2a3f5f"
            },
            "error_y": {
             "color": "#2a3f5f"
            },
            "marker": {
             "line": {
              "color": "white",
              "width": 0.5
             },
             "pattern": {
              "fillmode": "overlay",
              "size": 10,
              "solidity": 0.2
             }
            },
            "type": "bar"
           }
          ],
          "barpolar": [
           {
            "marker": {
             "line": {
              "color": "white",
              "width": 0.5
             },
             "pattern": {
              "fillmode": "overlay",
              "size": 10,
              "solidity": 0.2
             }
            },
            "type": "barpolar"
           }
          ],
          "carpet": [
           {
            "aaxis": {
             "endlinecolor": "#2a3f5f",
             "gridcolor": "#C8D4E3",
             "linecolor": "#C8D4E3",
             "minorgridcolor": "#C8D4E3",
             "startlinecolor": "#2a3f5f"
            },
            "baxis": {
             "endlinecolor": "#2a3f5f",
             "gridcolor": "#C8D4E3",
             "linecolor": "#C8D4E3",
             "minorgridcolor": "#C8D4E3",
             "startlinecolor": "#2a3f5f"
            },
            "type": "carpet"
           }
          ],
          "choropleth": [
           {
            "colorbar": {
             "outlinewidth": 0,
             "ticks": ""
            },
            "type": "choropleth"
           }
          ],
          "contour": [
           {
            "colorbar": {
             "outlinewidth": 0,
             "ticks": ""
            },
            "colorscale": [
             [
              0,
              "#0d0887"
             ],
             [
              0.1111111111111111,
              "#46039f"
             ],
             [
              0.2222222222222222,
              "#7201a8"
             ],
             [
              0.3333333333333333,
              "#9c179e"
             ],
             [
              0.4444444444444444,
              "#bd3786"
             ],
             [
              0.5555555555555556,
              "#d8576b"
             ],
             [
              0.6666666666666666,
              "#ed7953"
             ],
             [
              0.7777777777777778,
              "#fb9f3a"
             ],
             [
              0.8888888888888888,
              "#fdca26"
             ],
             [
              1,
              "#f0f921"
             ]
            ],
            "type": "contour"
           }
          ],
          "contourcarpet": [
           {
            "colorbar": {
             "outlinewidth": 0,
             "ticks": ""
            },
            "type": "contourcarpet"
           }
          ],
          "heatmap": [
           {
            "colorbar": {
             "outlinewidth": 0,
             "ticks": ""
            },
            "colorscale": [
             [
              0,
              "#0d0887"
             ],
             [
              0.1111111111111111,
              "#46039f"
             ],
             [
              0.2222222222222222,
              "#7201a8"
             ],
             [
              0.3333333333333333,
              "#9c179e"
             ],
             [
              0.4444444444444444,
              "#bd3786"
             ],
             [
              0.5555555555555556,
              "#d8576b"
             ],
             [
              0.6666666666666666,
              "#ed7953"
             ],
             [
              0.7777777777777778,
              "#fb9f3a"
             ],
             [
              0.8888888888888888,
              "#fdca26"
             ],
             [
              1,
              "#f0f921"
             ]
            ],
            "type": "heatmap"
           }
          ],
          "histogram": [
           {
            "marker": {
             "pattern": {
              "fillmode": "overlay",
              "size": 10,
              "solidity": 0.2
             }
            },
            "type": "histogram"
           }
          ],
          "histogram2d": [
           {
            "colorbar": {
             "outlinewidth": 0,
             "ticks": ""
            },
            "colorscale": [
             [
              0,
              "#0d0887"
             ],
             [
              0.1111111111111111,
              "#46039f"
             ],
             [
              0.2222222222222222,
              "#7201a8"
             ],
             [
              0.3333333333333333,
              "#9c179e"
             ],
             [
              0.4444444444444444,
              "#bd3786"
             ],
             [
              0.5555555555555556,
              "#d8576b"
             ],
             [
              0.6666666666666666,
              "#ed7953"
             ],
             [
              0.7777777777777778,
              "#fb9f3a"
             ],
             [
              0.8888888888888888,
              "#fdca26"
             ],
             [
              1,
              "#f0f921"
             ]
            ],
            "type": "histogram2d"
           }
          ],
          "histogram2dcontour": [
           {
            "colorbar": {
             "outlinewidth": 0,
             "ticks": ""
            },
            "colorscale": [
             [
              0,
              "#0d0887"
             ],
             [
              0.1111111111111111,
              "#46039f"
             ],
             [
              0.2222222222222222,
              "#7201a8"
             ],
             [
              0.3333333333333333,
              "#9c179e"
             ],
             [
              0.4444444444444444,
              "#bd3786"
             ],
             [
              0.5555555555555556,
              "#d8576b"
             ],
             [
              0.6666666666666666,
              "#ed7953"
             ],
             [
              0.7777777777777778,
              "#fb9f3a"
             ],
             [
              0.8888888888888888,
              "#fdca26"
             ],
             [
              1,
              "#f0f921"
             ]
            ],
            "type": "histogram2dcontour"
           }
          ],
          "mesh3d": [
           {
            "colorbar": {
             "outlinewidth": 0,
             "ticks": ""
            },
            "type": "mesh3d"
           }
          ],
          "parcoords": [
           {
            "line": {
             "colorbar": {
              "outlinewidth": 0,
              "ticks": ""
             }
            },
            "type": "parcoords"
           }
          ],
          "pie": [
           {
            "automargin": true,
            "type": "pie"
           }
          ],
          "scatter": [
           {
            "fillpattern": {
             "fillmode": "overlay",
             "size": 10,
             "solidity": 0.2
            },
            "type": "scatter"
           }
          ],
          "scatter3d": [
           {
            "line": {
             "colorbar": {
              "outlinewidth": 0,
              "ticks": ""
             }
            },
            "marker": {
             "colorbar": {
              "outlinewidth": 0,
              "ticks": ""
             }
            },
            "type": "scatter3d"
           }
          ],
          "scattercarpet": [
           {
            "marker": {
             "colorbar": {
              "outlinewidth": 0,
              "ticks": ""
             }
            },
            "type": "scattercarpet"
           }
          ],
          "scattergeo": [
           {
            "marker": {
             "colorbar": {
              "outlinewidth": 0,
              "ticks": ""
             }
            },
            "type": "scattergeo"
           }
          ],
          "scattergl": [
           {
            "marker": {
             "colorbar": {
              "outlinewidth": 0,
              "ticks": ""
             }
            },
            "type": "scattergl"
           }
          ],
          "scattermap": [
           {
            "marker": {
             "colorbar": {
              "outlinewidth": 0,
              "ticks": ""
             }
            },
            "type": "scattermap"
           }
          ],
          "scattermapbox": [
           {
            "marker": {
             "colorbar": {
              "outlinewidth": 0,
              "ticks": ""
             }
            },
            "type": "scattermapbox"
           }
          ],
          "scatterpolar": [
           {
            "marker": {
             "colorbar": {
              "outlinewidth": 0,
              "ticks": ""
             }
            },
            "type": "scatterpolar"
           }
          ],
          "scatterpolargl": [
           {
            "marker": {
             "colorbar": {
              "outlinewidth": 0,
              "ticks": ""
             }
            },
            "type": "scatterpolargl"
           }
          ],
          "scatterternary": [
           {
            "marker": {
             "colorbar": {
              "outlinewidth": 0,
              "ticks": ""
             }
            },
            "type": "scatterternary"
           }
          ],
          "surface": [
           {
            "colorbar": {
             "outlinewidth": 0,
             "ticks": ""
            },
            "colorscale": [
             [
              0,
              "#0d0887"
             ],
             [
              0.1111111111111111,
              "#46039f"
             ],
             [
              0.2222222222222222,
              "#7201a8"
             ],
             [
              0.3333333333333333,
              "#9c179e"
             ],
             [
              0.4444444444444444,
              "#bd3786"
             ],
             [
              0.5555555555555556,
              "#d8576b"
             ],
             [
              0.6666666666666666,
              "#ed7953"
             ],
             [
              0.7777777777777778,
              "#fb9f3a"
             ],
             [
              0.8888888888888888,
              "#fdca26"
             ],
             [
              1,
              "#f0f921"
             ]
            ],
            "type": "surface"
           }
          ],
          "table": [
           {
            "cells": {
             "fill": {
              "color": "#EBF0F8"
             },
             "line": {
              "color": "white"
             }
            },
            "header": {
             "fill": {
              "color": "#C8D4E3"
             },
             "line": {
              "color": "white"
             }
            },
            "type": "table"
           }
          ]
         },
         "layout": {
          "annotationdefaults": {
           "arrowcolor": "#2a3f5f",
           "arrowhead": 0,
           "arrowwidth": 1
          },
          "autotypenumbers": "strict",
          "coloraxis": {
           "colorbar": {
            "outlinewidth": 0,
            "ticks": ""
           }
          },
          "colorscale": {
           "diverging": [
            [
             0,
             "#8e0152"
            ],
            [
             0.1,
             "#c51b7d"
            ],
            [
             0.2,
             "#de77ae"
            ],
            [
             0.3,
             "#f1b6da"
            ],
            [
             0.4,
             "#fde0ef"
            ],
            [
             0.5,
             "#f7f7f7"
            ],
            [
             0.6,
             "#e6f5d0"
            ],
            [
             0.7,
             "#b8e186"
            ],
            [
             0.8,
             "#7fbc41"
            ],
            [
             0.9,
             "#4d9221"
            ],
            [
             1,
             "#276419"
            ]
           ],
           "sequential": [
            [
             0,
             "#0d0887"
            ],
            [
             0.1111111111111111,
             "#46039f"
            ],
            [
             0.2222222222222222,
             "#7201a8"
            ],
            [
             0.3333333333333333,
             "#9c179e"
            ],
            [
             0.4444444444444444,
             "#bd3786"
            ],
            [
             0.5555555555555556,
             "#d8576b"
            ],
            [
             0.6666666666666666,
             "#ed7953"
            ],
            [
             0.7777777777777778,
             "#fb9f3a"
            ],
            [
             0.8888888888888888,
             "#fdca26"
            ],
            [
             1,
             "#f0f921"
            ]
           ],
           "sequentialminus": [
            [
             0,
             "#0d0887"
            ],
            [
             0.1111111111111111,
             "#46039f"
            ],
            [
             0.2222222222222222,
             "#7201a8"
            ],
            [
             0.3333333333333333,
             "#9c179e"
            ],
            [
             0.4444444444444444,
             "#bd3786"
            ],
            [
             0.5555555555555556,
             "#d8576b"
            ],
            [
             0.6666666666666666,
             "#ed7953"
            ],
            [
             0.7777777777777778,
             "#fb9f3a"
            ],
            [
             0.8888888888888888,
             "#fdca26"
            ],
            [
             1,
             "#f0f921"
            ]
           ]
          },
          "colorway": [
           "#636efa",
           "#EF553B",
           "#00cc96",
           "#ab63fa",
           "#FFA15A",
           "#19d3f3",
           "#FF6692",
           "#B6E880",
           "#FF97FF",
           "#FECB52"
          ],
          "font": {
           "color": "#2a3f5f"
          },
          "geo": {
           "bgcolor": "white",
           "lakecolor": "white",
           "landcolor": "white",
           "showlakes": true,
           "showland": true,
           "subunitcolor": "#C8D4E3"
          },
          "hoverlabel": {
           "align": "left"
          },
          "hovermode": "closest",
          "mapbox": {
           "style": "light"
          },
          "paper_bgcolor": "white",
          "plot_bgcolor": "white",
          "polar": {
           "angularaxis": {
            "gridcolor": "#EBF0F8",
            "linecolor": "#EBF0F8",
            "ticks": ""
           },
           "bgcolor": "white",
           "radialaxis": {
            "gridcolor": "#EBF0F8",
            "linecolor": "#EBF0F8",
            "ticks": ""
           }
          },
          "scene": {
           "xaxis": {
            "backgroundcolor": "white",
            "gridcolor": "#DFE8F3",
            "gridwidth": 2,
            "linecolor": "#EBF0F8",
            "showbackground": true,
            "ticks": "",
            "zerolinecolor": "#EBF0F8"
           },
           "yaxis": {
            "backgroundcolor": "white",
            "gridcolor": "#DFE8F3",
            "gridwidth": 2,
            "linecolor": "#EBF0F8",
            "showbackground": true,
            "ticks": "",
            "zerolinecolor": "#EBF0F8"
           },
           "zaxis": {
            "backgroundcolor": "white",
            "gridcolor": "#DFE8F3",
            "gridwidth": 2,
            "linecolor": "#EBF0F8",
            "showbackground": true,
            "ticks": "",
            "zerolinecolor": "#EBF0F8"
           }
          },
          "shapedefaults": {
           "line": {
            "color": "#2a3f5f"
           }
          },
          "ternary": {
           "aaxis": {
            "gridcolor": "#DFE8F3",
            "linecolor": "#A2B1C6",
            "ticks": ""
           },
           "baxis": {
            "gridcolor": "#DFE8F3",
            "linecolor": "#A2B1C6",
            "ticks": ""
           },
           "bgcolor": "white",
           "caxis": {
            "gridcolor": "#DFE8F3",
            "linecolor": "#A2B1C6",
            "ticks": ""
           }
          },
          "title": {
           "x": 0.05
          },
          "xaxis": {
           "automargin": true,
           "gridcolor": "#EBF0F8",
           "linecolor": "#EBF0F8",
           "ticks": "",
           "title": {
            "standoff": 15
           },
           "zerolinecolor": "#EBF0F8",
           "zerolinewidth": 2
          },
          "yaxis": {
           "automargin": true,
           "gridcolor": "#EBF0F8",
           "linecolor": "#EBF0F8",
           "ticks": "",
           "title": {
            "standoff": 15
           },
           "zerolinecolor": "#EBF0F8",
           "zerolinewidth": 2
          }
         }
        },
        "title": {
         "font": {
          "size": 16
         },
         "text": "Round 2: Cohen's Kappa Agreement Matrix",
         "x": 0.5
        },
        "width": 600,
        "xaxis": {
         "title": {
          "text": "Annotators"
         }
        },
        "yaxis": {
         "title": {
          "text": "Annotators"
         }
        }
       }
      }
     },
     "metadata": {},
     "output_type": "display_data"
    },
    {
     "name": "stdout",
     "output_type": "stream",
     "text": [
      "Saved: 03_iaa_r2_kappa_matrix.html and .png\n"
     ]
    }
   ],
   "source": [
    "# 2. Round 2 Cohen's Kappa Heatmap\n",
    "print(\"2. Round 2: Cohen's Kappa Matrix\")\n",
    "fig2 = go.Figure(data=go.Heatmap(z=kappa_matrix_r2.values, x=kappa_matrix_r2.columns, y=kappa_matrix_r2.index, colorscale=\"RdYlBu_r\", zmin=-1, zmax=1, text=kappa_matrix_r2.round(3).values, texttemplate=\"%{text}\", textfont={\"size\": 12}, showscale=True))\n",
    "\n",
    "fig2.update_layout(title={\"text\": \"Round 2: Cohen's Kappa Agreement Matrix\", \"x\": 0.5, \"font\": {\"size\": 16}}, xaxis_title=\"Annotators\", yaxis_title=\"Annotators\", height=500, width=600)\n",
    "\n",
    "fig2.show()\n",
    "fig2.write_html(images_path / \"03_iaa_r2_kappa_matrix.html\")\n",
    "fig2.write_image(images_path / \"03_iaa_r2_kappa_matrix.png\", width=600, height=500, scale=3)\n",
    "print(\"Saved: 03_iaa_r2_kappa_matrix.html and .png\")"
   ]
  },
  {
   "cell_type": "code",
   "execution_count": 22,
   "id": "598fdc4d",
   "metadata": {},
   "outputs": [
    {
     "name": "stdout",
     "output_type": "stream",
     "text": [
      "3. Round 2: Agreement Metrics Comparison\n"
     ]
    },
    {
     "data": {
      "application/vnd.plotly.v1+json": {
       "config": {
        "plotlyServerURL": "https://plot.ly"
       },
       "data": [
        {
         "marker": {
          "color": [
           "#1f77b4",
           "#ff7f0e",
           "#2ca02c"
          ]
         },
         "text": [
          "0.000",
          "0.000",
          "0.000"
         ],
         "textposition": "auto",
         "type": "bar",
         "x": [
          "Cohen's Kappa",
          "Phi Coefficient\n(Pearson)",
          "Spearman ρ"
         ],
         "y": [
          0,
          0,
          0
         ]
        }
       ],
       "layout": {
        "height": 500,
        "template": {
         "data": {
          "bar": [
           {
            "error_x": {
             "color": "#2a3f5f"
            },
            "error_y": {
             "color": "#2a3f5f"
            },
            "marker": {
             "line": {
              "color": "white",
              "width": 0.5
             },
             "pattern": {
              "fillmode": "overlay",
              "size": 10,
              "solidity": 0.2
             }
            },
            "type": "bar"
           }
          ],
          "barpolar": [
           {
            "marker": {
             "line": {
              "color": "white",
              "width": 0.5
             },
             "pattern": {
              "fillmode": "overlay",
              "size": 10,
              "solidity": 0.2
             }
            },
            "type": "barpolar"
           }
          ],
          "carpet": [
           {
            "aaxis": {
             "endlinecolor": "#2a3f5f",
             "gridcolor": "#C8D4E3",
             "linecolor": "#C8D4E3",
             "minorgridcolor": "#C8D4E3",
             "startlinecolor": "#2a3f5f"
            },
            "baxis": {
             "endlinecolor": "#2a3f5f",
             "gridcolor": "#C8D4E3",
             "linecolor": "#C8D4E3",
             "minorgridcolor": "#C8D4E3",
             "startlinecolor": "#2a3f5f"
            },
            "type": "carpet"
           }
          ],
          "choropleth": [
           {
            "colorbar": {
             "outlinewidth": 0,
             "ticks": ""
            },
            "type": "choropleth"
           }
          ],
          "contour": [
           {
            "colorbar": {
             "outlinewidth": 0,
             "ticks": ""
            },
            "colorscale": [
             [
              0,
              "#0d0887"
             ],
             [
              0.1111111111111111,
              "#46039f"
             ],
             [
              0.2222222222222222,
              "#7201a8"
             ],
             [
              0.3333333333333333,
              "#9c179e"
             ],
             [
              0.4444444444444444,
              "#bd3786"
             ],
             [
              0.5555555555555556,
              "#d8576b"
             ],
             [
              0.6666666666666666,
              "#ed7953"
             ],
             [
              0.7777777777777778,
              "#fb9f3a"
             ],
             [
              0.8888888888888888,
              "#fdca26"
             ],
             [
              1,
              "#f0f921"
             ]
            ],
            "type": "contour"
           }
          ],
          "contourcarpet": [
           {
            "colorbar": {
             "outlinewidth": 0,
             "ticks": ""
            },
            "type": "contourcarpet"
           }
          ],
          "heatmap": [
           {
            "colorbar": {
             "outlinewidth": 0,
             "ticks": ""
            },
            "colorscale": [
             [
              0,
              "#0d0887"
             ],
             [
              0.1111111111111111,
              "#46039f"
             ],
             [
              0.2222222222222222,
              "#7201a8"
             ],
             [
              0.3333333333333333,
              "#9c179e"
             ],
             [
              0.4444444444444444,
              "#bd3786"
             ],
             [
              0.5555555555555556,
              "#d8576b"
             ],
             [
              0.6666666666666666,
              "#ed7953"
             ],
             [
              0.7777777777777778,
              "#fb9f3a"
             ],
             [
              0.8888888888888888,
              "#fdca26"
             ],
             [
              1,
              "#f0f921"
             ]
            ],
            "type": "heatmap"
           }
          ],
          "histogram": [
           {
            "marker": {
             "pattern": {
              "fillmode": "overlay",
              "size": 10,
              "solidity": 0.2
             }
            },
            "type": "histogram"
           }
          ],
          "histogram2d": [
           {
            "colorbar": {
             "outlinewidth": 0,
             "ticks": ""
            },
            "colorscale": [
             [
              0,
              "#0d0887"
             ],
             [
              0.1111111111111111,
              "#46039f"
             ],
             [
              0.2222222222222222,
              "#7201a8"
             ],
             [
              0.3333333333333333,
              "#9c179e"
             ],
             [
              0.4444444444444444,
              "#bd3786"
             ],
             [
              0.5555555555555556,
              "#d8576b"
             ],
             [
              0.6666666666666666,
              "#ed7953"
             ],
             [
              0.7777777777777778,
              "#fb9f3a"
             ],
             [
              0.8888888888888888,
              "#fdca26"
             ],
             [
              1,
              "#f0f921"
             ]
            ],
            "type": "histogram2d"
           }
          ],
          "histogram2dcontour": [
           {
            "colorbar": {
             "outlinewidth": 0,
             "ticks": ""
            },
            "colorscale": [
             [
              0,
              "#0d0887"
             ],
             [
              0.1111111111111111,
              "#46039f"
             ],
             [
              0.2222222222222222,
              "#7201a8"
             ],
             [
              0.3333333333333333,
              "#9c179e"
             ],
             [
              0.4444444444444444,
              "#bd3786"
             ],
             [
              0.5555555555555556,
              "#d8576b"
             ],
             [
              0.6666666666666666,
              "#ed7953"
             ],
             [
              0.7777777777777778,
              "#fb9f3a"
             ],
             [
              0.8888888888888888,
              "#fdca26"
             ],
             [
              1,
              "#f0f921"
             ]
            ],
            "type": "histogram2dcontour"
           }
          ],
          "mesh3d": [
           {
            "colorbar": {
             "outlinewidth": 0,
             "ticks": ""
            },
            "type": "mesh3d"
           }
          ],
          "parcoords": [
           {
            "line": {
             "colorbar": {
              "outlinewidth": 0,
              "ticks": ""
             }
            },
            "type": "parcoords"
           }
          ],
          "pie": [
           {
            "automargin": true,
            "type": "pie"
           }
          ],
          "scatter": [
           {
            "fillpattern": {
             "fillmode": "overlay",
             "size": 10,
             "solidity": 0.2
            },
            "type": "scatter"
           }
          ],
          "scatter3d": [
           {
            "line": {
             "colorbar": {
              "outlinewidth": 0,
              "ticks": ""
             }
            },
            "marker": {
             "colorbar": {
              "outlinewidth": 0,
              "ticks": ""
             }
            },
            "type": "scatter3d"
           }
          ],
          "scattercarpet": [
           {
            "marker": {
             "colorbar": {
              "outlinewidth": 0,
              "ticks": ""
             }
            },
            "type": "scattercarpet"
           }
          ],
          "scattergeo": [
           {
            "marker": {
             "colorbar": {
              "outlinewidth": 0,
              "ticks": ""
             }
            },
            "type": "scattergeo"
           }
          ],
          "scattergl": [
           {
            "marker": {
             "colorbar": {
              "outlinewidth": 0,
              "ticks": ""
             }
            },
            "type": "scattergl"
           }
          ],
          "scattermap": [
           {
            "marker": {
             "colorbar": {
              "outlinewidth": 0,
              "ticks": ""
             }
            },
            "type": "scattermap"
           }
          ],
          "scattermapbox": [
           {
            "marker": {
             "colorbar": {
              "outlinewidth": 0,
              "ticks": ""
             }
            },
            "type": "scattermapbox"
           }
          ],
          "scatterpolar": [
           {
            "marker": {
             "colorbar": {
              "outlinewidth": 0,
              "ticks": ""
             }
            },
            "type": "scatterpolar"
           }
          ],
          "scatterpolargl": [
           {
            "marker": {
             "colorbar": {
              "outlinewidth": 0,
              "ticks": ""
             }
            },
            "type": "scatterpolargl"
           }
          ],
          "scatterternary": [
           {
            "marker": {
             "colorbar": {
              "outlinewidth": 0,
              "ticks": ""
             }
            },
            "type": "scatterternary"
           }
          ],
          "surface": [
           {
            "colorbar": {
             "outlinewidth": 0,
             "ticks": ""
            },
            "colorscale": [
             [
              0,
              "#0d0887"
             ],
             [
              0.1111111111111111,
              "#46039f"
             ],
             [
              0.2222222222222222,
              "#7201a8"
             ],
             [
              0.3333333333333333,
              "#9c179e"
             ],
             [
              0.4444444444444444,
              "#bd3786"
             ],
             [
              0.5555555555555556,
              "#d8576b"
             ],
             [
              0.6666666666666666,
              "#ed7953"
             ],
             [
              0.7777777777777778,
              "#fb9f3a"
             ],
             [
              0.8888888888888888,
              "#fdca26"
             ],
             [
              1,
              "#f0f921"
             ]
            ],
            "type": "surface"
           }
          ],
          "table": [
           {
            "cells": {
             "fill": {
              "color": "#EBF0F8"
             },
             "line": {
              "color": "white"
             }
            },
            "header": {
             "fill": {
              "color": "#C8D4E3"
             },
             "line": {
              "color": "white"
             }
            },
            "type": "table"
           }
          ]
         },
         "layout": {
          "annotationdefaults": {
           "arrowcolor": "#2a3f5f",
           "arrowhead": 0,
           "arrowwidth": 1
          },
          "autotypenumbers": "strict",
          "coloraxis": {
           "colorbar": {
            "outlinewidth": 0,
            "ticks": ""
           }
          },
          "colorscale": {
           "diverging": [
            [
             0,
             "#8e0152"
            ],
            [
             0.1,
             "#c51b7d"
            ],
            [
             0.2,
             "#de77ae"
            ],
            [
             0.3,
             "#f1b6da"
            ],
            [
             0.4,
             "#fde0ef"
            ],
            [
             0.5,
             "#f7f7f7"
            ],
            [
             0.6,
             "#e6f5d0"
            ],
            [
             0.7,
             "#b8e186"
            ],
            [
             0.8,
             "#7fbc41"
            ],
            [
             0.9,
             "#4d9221"
            ],
            [
             1,
             "#276419"
            ]
           ],
           "sequential": [
            [
             0,
             "#0d0887"
            ],
            [
             0.1111111111111111,
             "#46039f"
            ],
            [
             0.2222222222222222,
             "#7201a8"
            ],
            [
             0.3333333333333333,
             "#9c179e"
            ],
            [
             0.4444444444444444,
             "#bd3786"
            ],
            [
             0.5555555555555556,
             "#d8576b"
            ],
            [
             0.6666666666666666,
             "#ed7953"
            ],
            [
             0.7777777777777778,
             "#fb9f3a"
            ],
            [
             0.8888888888888888,
             "#fdca26"
            ],
            [
             1,
             "#f0f921"
            ]
           ],
           "sequentialminus": [
            [
             0,
             "#0d0887"
            ],
            [
             0.1111111111111111,
             "#46039f"
            ],
            [
             0.2222222222222222,
             "#7201a8"
            ],
            [
             0.3333333333333333,
             "#9c179e"
            ],
            [
             0.4444444444444444,
             "#bd3786"
            ],
            [
             0.5555555555555556,
             "#d8576b"
            ],
            [
             0.6666666666666666,
             "#ed7953"
            ],
            [
             0.7777777777777778,
             "#fb9f3a"
            ],
            [
             0.8888888888888888,
             "#fdca26"
            ],
            [
             1,
             "#f0f921"
            ]
           ]
          },
          "colorway": [
           "#636efa",
           "#EF553B",
           "#00cc96",
           "#ab63fa",
           "#FFA15A",
           "#19d3f3",
           "#FF6692",
           "#B6E880",
           "#FF97FF",
           "#FECB52"
          ],
          "font": {
           "color": "#2a3f5f"
          },
          "geo": {
           "bgcolor": "white",
           "lakecolor": "white",
           "landcolor": "white",
           "showlakes": true,
           "showland": true,
           "subunitcolor": "#C8D4E3"
          },
          "hoverlabel": {
           "align": "left"
          },
          "hovermode": "closest",
          "mapbox": {
           "style": "light"
          },
          "paper_bgcolor": "white",
          "plot_bgcolor": "white",
          "polar": {
           "angularaxis": {
            "gridcolor": "#EBF0F8",
            "linecolor": "#EBF0F8",
            "ticks": ""
           },
           "bgcolor": "white",
           "radialaxis": {
            "gridcolor": "#EBF0F8",
            "linecolor": "#EBF0F8",
            "ticks": ""
           }
          },
          "scene": {
           "xaxis": {
            "backgroundcolor": "white",
            "gridcolor": "#DFE8F3",
            "gridwidth": 2,
            "linecolor": "#EBF0F8",
            "showbackground": true,
            "ticks": "",
            "zerolinecolor": "#EBF0F8"
           },
           "yaxis": {
            "backgroundcolor": "white",
            "gridcolor": "#DFE8F3",
            "gridwidth": 2,
            "linecolor": "#EBF0F8",
            "showbackground": true,
            "ticks": "",
            "zerolinecolor": "#EBF0F8"
           },
           "zaxis": {
            "backgroundcolor": "white",
            "gridcolor": "#DFE8F3",
            "gridwidth": 2,
            "linecolor": "#EBF0F8",
            "showbackground": true,
            "ticks": "",
            "zerolinecolor": "#EBF0F8"
           }
          },
          "shapedefaults": {
           "line": {
            "color": "#2a3f5f"
           }
          },
          "ternary": {
           "aaxis": {
            "gridcolor": "#DFE8F3",
            "linecolor": "#A2B1C6",
            "ticks": ""
           },
           "baxis": {
            "gridcolor": "#DFE8F3",
            "linecolor": "#A2B1C6",
            "ticks": ""
           },
           "bgcolor": "white",
           "caxis": {
            "gridcolor": "#DFE8F3",
            "linecolor": "#A2B1C6",
            "ticks": ""
           }
          },
          "title": {
           "x": 0.05
          },
          "xaxis": {
           "automargin": true,
           "gridcolor": "#EBF0F8",
           "linecolor": "#EBF0F8",
           "ticks": "",
           "title": {
            "standoff": 15
           },
           "zerolinecolor": "#EBF0F8",
           "zerolinewidth": 2
          },
          "yaxis": {
           "automargin": true,
           "gridcolor": "#EBF0F8",
           "linecolor": "#EBF0F8",
           "ticks": "",
           "title": {
            "standoff": 15
           },
           "zerolinecolor": "#EBF0F8",
           "zerolinewidth": 2
          }
         }
        },
        "title": {
         "font": {
          "size": 16
         },
         "text": "Round 2: Mean Agreement Metrics Comparison (Binary Data)",
         "x": 0.5
        },
        "width": 700,
        "xaxis": {
         "title": {
          "text": "Metric Type"
         }
        },
        "yaxis": {
         "title": {
          "text": "Mean Agreement Value"
         }
        }
       }
      }
     },
     "metadata": {},
     "output_type": "display_data"
    },
    {
     "name": "stdout",
     "output_type": "stream",
     "text": [
      "Saved: 03_iaa_r2_metrics_comparison.html and .png\n"
     ]
    }
   ],
   "source": [
    "# 3. Round 2 Correlations Comparison\n",
    "print(\"3. Round 2: Agreement Metrics Comparison\")\n",
    "\n",
    "# Filter out NaN values for comparison\n",
    "valid_pearson = [val for val in pearson_values if not np.isnan(val)]\n",
    "valid_spearman = [val for val in spearman_values if not np.isnan(val)]\n",
    "valid_kappa_r2 = [val for val in kappa_values_r2 if not np.isnan(val)]\n",
    "\n",
    "correlation_types = [\"Cohen's Kappa\", \"Phi Coefficient\\n(Pearson)\", \"Spearman ρ\"]\n",
    "correlation_means = [np.mean(valid_kappa_r2) if valid_kappa_r2 else 0, np.mean(valid_pearson) if valid_pearson else 0, np.mean(valid_spearman) if valid_spearman else 0]\n",
    "\n",
    "fig3 = go.Figure(data=go.Bar(x=correlation_types, y=correlation_means, text=[f\"{val:.3f}\" for val in correlation_means], textposition=\"auto\", marker_color=[\"#1f77b4\", \"#ff7f0e\", \"#2ca02c\"]))\n",
    "\n",
    "fig3.update_layout(title={\"text\": \"Round 2: Mean Agreement Metrics Comparison (Binary Data)\", \"x\": 0.5, \"font\": {\"size\": 16}}, xaxis_title=\"Metric Type\", yaxis_title=\"Mean Agreement Value\", height=500, width=700)\n",
    "\n",
    "fig3.show()\n",
    "fig3.write_html(images_path / \"03_iaa_r2_metrics_comparison.html\")\n",
    "fig3.write_image(images_path / \"03_iaa_r2_metrics_comparison.png\", width=700, height=500, scale=3)\n",
    "print(\"Saved: 03_iaa_r2_metrics_comparison.html and .png\")"
   ]
  },
  {
   "cell_type": "code",
   "execution_count": 23,
   "id": "af0e3b9c",
   "metadata": {},
   "outputs": [
    {
     "name": "stdout",
     "output_type": "stream",
     "text": [
      "4. Round 1: Response Distribution\n"
     ]
    },
    {
     "data": {
      "application/vnd.plotly.v1+json": {
       "config": {
        "plotlyServerURL": "https://plot.ly"
       },
       "data": [
        {
         "marker": {
          "color": "lightblue"
         },
         "text": {
          "bdata": "AAAAAAAARUAAAAAAAAAsQA==",
          "dtype": "f8"
         },
         "textposition": "auto",
         "type": "bar",
         "x": {
          "bdata": "AQA=",
          "dtype": "i1"
         },
         "y": {
          "bdata": "Kg4=",
          "dtype": "i1"
         }
        }
       ],
       "layout": {
        "height": 500,
        "template": {
         "data": {
          "bar": [
           {
            "error_x": {
             "color": "#2a3f5f"
            },
            "error_y": {
             "color": "#2a3f5f"
            },
            "marker": {
             "line": {
              "color": "white",
              "width": 0.5
             },
             "pattern": {
              "fillmode": "overlay",
              "size": 10,
              "solidity": 0.2
             }
            },
            "type": "bar"
           }
          ],
          "barpolar": [
           {
            "marker": {
             "line": {
              "color": "white",
              "width": 0.5
             },
             "pattern": {
              "fillmode": "overlay",
              "size": 10,
              "solidity": 0.2
             }
            },
            "type": "barpolar"
           }
          ],
          "carpet": [
           {
            "aaxis": {
             "endlinecolor": "#2a3f5f",
             "gridcolor": "#C8D4E3",
             "linecolor": "#C8D4E3",
             "minorgridcolor": "#C8D4E3",
             "startlinecolor": "#2a3f5f"
            },
            "baxis": {
             "endlinecolor": "#2a3f5f",
             "gridcolor": "#C8D4E3",
             "linecolor": "#C8D4E3",
             "minorgridcolor": "#C8D4E3",
             "startlinecolor": "#2a3f5f"
            },
            "type": "carpet"
           }
          ],
          "choropleth": [
           {
            "colorbar": {
             "outlinewidth": 0,
             "ticks": ""
            },
            "type": "choropleth"
           }
          ],
          "contour": [
           {
            "colorbar": {
             "outlinewidth": 0,
             "ticks": ""
            },
            "colorscale": [
             [
              0,
              "#0d0887"
             ],
             [
              0.1111111111111111,
              "#46039f"
             ],
             [
              0.2222222222222222,
              "#7201a8"
             ],
             [
              0.3333333333333333,
              "#9c179e"
             ],
             [
              0.4444444444444444,
              "#bd3786"
             ],
             [
              0.5555555555555556,
              "#d8576b"
             ],
             [
              0.6666666666666666,
              "#ed7953"
             ],
             [
              0.7777777777777778,
              "#fb9f3a"
             ],
             [
              0.8888888888888888,
              "#fdca26"
             ],
             [
              1,
              "#f0f921"
             ]
            ],
            "type": "contour"
           }
          ],
          "contourcarpet": [
           {
            "colorbar": {
             "outlinewidth": 0,
             "ticks": ""
            },
            "type": "contourcarpet"
           }
          ],
          "heatmap": [
           {
            "colorbar": {
             "outlinewidth": 0,
             "ticks": ""
            },
            "colorscale": [
             [
              0,
              "#0d0887"
             ],
             [
              0.1111111111111111,
              "#46039f"
             ],
             [
              0.2222222222222222,
              "#7201a8"
             ],
             [
              0.3333333333333333,
              "#9c179e"
             ],
             [
              0.4444444444444444,
              "#bd3786"
             ],
             [
              0.5555555555555556,
              "#d8576b"
             ],
             [
              0.6666666666666666,
              "#ed7953"
             ],
             [
              0.7777777777777778,
              "#fb9f3a"
             ],
             [
              0.8888888888888888,
              "#fdca26"
             ],
             [
              1,
              "#f0f921"
             ]
            ],
            "type": "heatmap"
           }
          ],
          "histogram": [
           {
            "marker": {
             "pattern": {
              "fillmode": "overlay",
              "size": 10,
              "solidity": 0.2
             }
            },
            "type": "histogram"
           }
          ],
          "histogram2d": [
           {
            "colorbar": {
             "outlinewidth": 0,
             "ticks": ""
            },
            "colorscale": [
             [
              0,
              "#0d0887"
             ],
             [
              0.1111111111111111,
              "#46039f"
             ],
             [
              0.2222222222222222,
              "#7201a8"
             ],
             [
              0.3333333333333333,
              "#9c179e"
             ],
             [
              0.4444444444444444,
              "#bd3786"
             ],
             [
              0.5555555555555556,
              "#d8576b"
             ],
             [
              0.6666666666666666,
              "#ed7953"
             ],
             [
              0.7777777777777778,
              "#fb9f3a"
             ],
             [
              0.8888888888888888,
              "#fdca26"
             ],
             [
              1,
              "#f0f921"
             ]
            ],
            "type": "histogram2d"
           }
          ],
          "histogram2dcontour": [
           {
            "colorbar": {
             "outlinewidth": 0,
             "ticks": ""
            },
            "colorscale": [
             [
              0,
              "#0d0887"
             ],
             [
              0.1111111111111111,
              "#46039f"
             ],
             [
              0.2222222222222222,
              "#7201a8"
             ],
             [
              0.3333333333333333,
              "#9c179e"
             ],
             [
              0.4444444444444444,
              "#bd3786"
             ],
             [
              0.5555555555555556,
              "#d8576b"
             ],
             [
              0.6666666666666666,
              "#ed7953"
             ],
             [
              0.7777777777777778,
              "#fb9f3a"
             ],
             [
              0.8888888888888888,
              "#fdca26"
             ],
             [
              1,
              "#f0f921"
             ]
            ],
            "type": "histogram2dcontour"
           }
          ],
          "mesh3d": [
           {
            "colorbar": {
             "outlinewidth": 0,
             "ticks": ""
            },
            "type": "mesh3d"
           }
          ],
          "parcoords": [
           {
            "line": {
             "colorbar": {
              "outlinewidth": 0,
              "ticks": ""
             }
            },
            "type": "parcoords"
           }
          ],
          "pie": [
           {
            "automargin": true,
            "type": "pie"
           }
          ],
          "scatter": [
           {
            "fillpattern": {
             "fillmode": "overlay",
             "size": 10,
             "solidity": 0.2
            },
            "type": "scatter"
           }
          ],
          "scatter3d": [
           {
            "line": {
             "colorbar": {
              "outlinewidth": 0,
              "ticks": ""
             }
            },
            "marker": {
             "colorbar": {
              "outlinewidth": 0,
              "ticks": ""
             }
            },
            "type": "scatter3d"
           }
          ],
          "scattercarpet": [
           {
            "marker": {
             "colorbar": {
              "outlinewidth": 0,
              "ticks": ""
             }
            },
            "type": "scattercarpet"
           }
          ],
          "scattergeo": [
           {
            "marker": {
             "colorbar": {
              "outlinewidth": 0,
              "ticks": ""
             }
            },
            "type": "scattergeo"
           }
          ],
          "scattergl": [
           {
            "marker": {
             "colorbar": {
              "outlinewidth": 0,
              "ticks": ""
             }
            },
            "type": "scattergl"
           }
          ],
          "scattermap": [
           {
            "marker": {
             "colorbar": {
              "outlinewidth": 0,
              "ticks": ""
             }
            },
            "type": "scattermap"
           }
          ],
          "scattermapbox": [
           {
            "marker": {
             "colorbar": {
              "outlinewidth": 0,
              "ticks": ""
             }
            },
            "type": "scattermapbox"
           }
          ],
          "scatterpolar": [
           {
            "marker": {
             "colorbar": {
              "outlinewidth": 0,
              "ticks": ""
             }
            },
            "type": "scatterpolar"
           }
          ],
          "scatterpolargl": [
           {
            "marker": {
             "colorbar": {
              "outlinewidth": 0,
              "ticks": ""
             }
            },
            "type": "scatterpolargl"
           }
          ],
          "scatterternary": [
           {
            "marker": {
             "colorbar": {
              "outlinewidth": 0,
              "ticks": ""
             }
            },
            "type": "scatterternary"
           }
          ],
          "surface": [
           {
            "colorbar": {
             "outlinewidth": 0,
             "ticks": ""
            },
            "colorscale": [
             [
              0,
              "#0d0887"
             ],
             [
              0.1111111111111111,
              "#46039f"
             ],
             [
              0.2222222222222222,
              "#7201a8"
             ],
             [
              0.3333333333333333,
              "#9c179e"
             ],
             [
              0.4444444444444444,
              "#bd3786"
             ],
             [
              0.5555555555555556,
              "#d8576b"
             ],
             [
              0.6666666666666666,
              "#ed7953"
             ],
             [
              0.7777777777777778,
              "#fb9f3a"
             ],
             [
              0.8888888888888888,
              "#fdca26"
             ],
             [
              1,
              "#f0f921"
             ]
            ],
            "type": "surface"
           }
          ],
          "table": [
           {
            "cells": {
             "fill": {
              "color": "#EBF0F8"
             },
             "line": {
              "color": "white"
             }
            },
            "header": {
             "fill": {
              "color": "#C8D4E3"
             },
             "line": {
              "color": "white"
             }
            },
            "type": "table"
           }
          ]
         },
         "layout": {
          "annotationdefaults": {
           "arrowcolor": "#2a3f5f",
           "arrowhead": 0,
           "arrowwidth": 1
          },
          "autotypenumbers": "strict",
          "coloraxis": {
           "colorbar": {
            "outlinewidth": 0,
            "ticks": ""
           }
          },
          "colorscale": {
           "diverging": [
            [
             0,
             "#8e0152"
            ],
            [
             0.1,
             "#c51b7d"
            ],
            [
             0.2,
             "#de77ae"
            ],
            [
             0.3,
             "#f1b6da"
            ],
            [
             0.4,
             "#fde0ef"
            ],
            [
             0.5,
             "#f7f7f7"
            ],
            [
             0.6,
             "#e6f5d0"
            ],
            [
             0.7,
             "#b8e186"
            ],
            [
             0.8,
             "#7fbc41"
            ],
            [
             0.9,
             "#4d9221"
            ],
            [
             1,
             "#276419"
            ]
           ],
           "sequential": [
            [
             0,
             "#0d0887"
            ],
            [
             0.1111111111111111,
             "#46039f"
            ],
            [
             0.2222222222222222,
             "#7201a8"
            ],
            [
             0.3333333333333333,
             "#9c179e"
            ],
            [
             0.4444444444444444,
             "#bd3786"
            ],
            [
             0.5555555555555556,
             "#d8576b"
            ],
            [
             0.6666666666666666,
             "#ed7953"
            ],
            [
             0.7777777777777778,
             "#fb9f3a"
            ],
            [
             0.8888888888888888,
             "#fdca26"
            ],
            [
             1,
             "#f0f921"
            ]
           ],
           "sequentialminus": [
            [
             0,
             "#0d0887"
            ],
            [
             0.1111111111111111,
             "#46039f"
            ],
            [
             0.2222222222222222,
             "#7201a8"
            ],
            [
             0.3333333333333333,
             "#9c179e"
            ],
            [
             0.4444444444444444,
             "#bd3786"
            ],
            [
             0.5555555555555556,
             "#d8576b"
            ],
            [
             0.6666666666666666,
             "#ed7953"
            ],
            [
             0.7777777777777778,
             "#fb9f3a"
            ],
            [
             0.8888888888888888,
             "#fdca26"
            ],
            [
             1,
             "#f0f921"
            ]
           ]
          },
          "colorway": [
           "#636efa",
           "#EF553B",
           "#00cc96",
           "#ab63fa",
           "#FFA15A",
           "#19d3f3",
           "#FF6692",
           "#B6E880",
           "#FF97FF",
           "#FECB52"
          ],
          "font": {
           "color": "#2a3f5f"
          },
          "geo": {
           "bgcolor": "white",
           "lakecolor": "white",
           "landcolor": "white",
           "showlakes": true,
           "showland": true,
           "subunitcolor": "#C8D4E3"
          },
          "hoverlabel": {
           "align": "left"
          },
          "hovermode": "closest",
          "mapbox": {
           "style": "light"
          },
          "paper_bgcolor": "white",
          "plot_bgcolor": "white",
          "polar": {
           "angularaxis": {
            "gridcolor": "#EBF0F8",
            "linecolor": "#EBF0F8",
            "ticks": ""
           },
           "bgcolor": "white",
           "radialaxis": {
            "gridcolor": "#EBF0F8",
            "linecolor": "#EBF0F8",
            "ticks": ""
           }
          },
          "scene": {
           "xaxis": {
            "backgroundcolor": "white",
            "gridcolor": "#DFE8F3",
            "gridwidth": 2,
            "linecolor": "#EBF0F8",
            "showbackground": true,
            "ticks": "",
            "zerolinecolor": "#EBF0F8"
           },
           "yaxis": {
            "backgroundcolor": "white",
            "gridcolor": "#DFE8F3",
            "gridwidth": 2,
            "linecolor": "#EBF0F8",
            "showbackground": true,
            "ticks": "",
            "zerolinecolor": "#EBF0F8"
           },
           "zaxis": {
            "backgroundcolor": "white",
            "gridcolor": "#DFE8F3",
            "gridwidth": 2,
            "linecolor": "#EBF0F8",
            "showbackground": true,
            "ticks": "",
            "zerolinecolor": "#EBF0F8"
           }
          },
          "shapedefaults": {
           "line": {
            "color": "#2a3f5f"
           }
          },
          "ternary": {
           "aaxis": {
            "gridcolor": "#DFE8F3",
            "linecolor": "#A2B1C6",
            "ticks": ""
           },
           "baxis": {
            "gridcolor": "#DFE8F3",
            "linecolor": "#A2B1C6",
            "ticks": ""
           },
           "bgcolor": "white",
           "caxis": {
            "gridcolor": "#DFE8F3",
            "linecolor": "#A2B1C6",
            "ticks": ""
           }
          },
          "title": {
           "x": 0.05
          },
          "xaxis": {
           "automargin": true,
           "gridcolor": "#EBF0F8",
           "linecolor": "#EBF0F8",
           "ticks": "",
           "title": {
            "standoff": 15
           },
           "zerolinecolor": "#EBF0F8",
           "zerolinewidth": 2
          },
          "yaxis": {
           "automargin": true,
           "gridcolor": "#EBF0F8",
           "linecolor": "#EBF0F8",
           "ticks": "",
           "title": {
            "standoff": 15
           },
           "zerolinecolor": "#EBF0F8",
           "zerolinewidth": 2
          }
         }
        },
        "title": {
         "font": {
          "size": 16
         },
         "text": "Round 1: Distribution of Responses Across All Annotators",
         "x": 0.5
        },
        "width": 600,
        "xaxis": {
         "title": {
          "text": "Response"
         }
        },
        "yaxis": {
         "title": {
          "text": "Count"
         }
        }
       }
      }
     },
     "metadata": {},
     "output_type": "display_data"
    }
   ],
   "source": [
    "# 4. Round 1 Response Distribution\n",
    "print(\"4. Round 1: Response Distribution\")\n",
    "\n",
    "r1_dist = round_1.stack().value_counts()\n",
    "fig4 = go.Figure(data=go.Bar(x=r1_dist.index, y=r1_dist.values, text=r1_dist.values, textposition=\"auto\", marker_color=\"lightblue\"))\n",
    "\n",
    "fig4.update_layout(title={\"text\": \"Round 1: Distribution of Responses Across All Annotators\", \"x\": 0.5, \"font\": {\"size\": 16}}, xaxis_title=\"Response\", yaxis_title=\"Count\", height=500, width=600)\n",
    "\n",
    "fig4.show()"
   ]
  },
  {
   "cell_type": "code",
   "execution_count": 24,
   "id": "1ebbb16c",
   "metadata": {},
   "outputs": [
    {
     "name": "stdout",
     "output_type": "stream",
     "text": [
      "5. Round 2: Response Distribution\n"
     ]
    },
    {
     "data": {
      "application/vnd.plotly.v1+json": {
       "config": {
        "plotlyServerURL": "https://plot.ly"
       },
       "data": [
        {
         "marker": {
          "color": "lightcoral"
         },
         "text": {
          "bdata": "AAAAAAAAV0A=",
          "dtype": "f8"
         },
         "textposition": "auto",
         "type": "bar",
         "x": {
          "bdata": "AQ==",
          "dtype": "i1"
         },
         "y": {
          "bdata": "XA==",
          "dtype": "i1"
         }
        }
       ],
       "layout": {
        "height": 500,
        "template": {
         "data": {
          "bar": [
           {
            "error_x": {
             "color": "#2a3f5f"
            },
            "error_y": {
             "color": "#2a3f5f"
            },
            "marker": {
             "line": {
              "color": "white",
              "width": 0.5
             },
             "pattern": {
              "fillmode": "overlay",
              "size": 10,
              "solidity": 0.2
             }
            },
            "type": "bar"
           }
          ],
          "barpolar": [
           {
            "marker": {
             "line": {
              "color": "white",
              "width": 0.5
             },
             "pattern": {
              "fillmode": "overlay",
              "size": 10,
              "solidity": 0.2
             }
            },
            "type": "barpolar"
           }
          ],
          "carpet": [
           {
            "aaxis": {
             "endlinecolor": "#2a3f5f",
             "gridcolor": "#C8D4E3",
             "linecolor": "#C8D4E3",
             "minorgridcolor": "#C8D4E3",
             "startlinecolor": "#2a3f5f"
            },
            "baxis": {
             "endlinecolor": "#2a3f5f",
             "gridcolor": "#C8D4E3",
             "linecolor": "#C8D4E3",
             "minorgridcolor": "#C8D4E3",
             "startlinecolor": "#2a3f5f"
            },
            "type": "carpet"
           }
          ],
          "choropleth": [
           {
            "colorbar": {
             "outlinewidth": 0,
             "ticks": ""
            },
            "type": "choropleth"
           }
          ],
          "contour": [
           {
            "colorbar": {
             "outlinewidth": 0,
             "ticks": ""
            },
            "colorscale": [
             [
              0,
              "#0d0887"
             ],
             [
              0.1111111111111111,
              "#46039f"
             ],
             [
              0.2222222222222222,
              "#7201a8"
             ],
             [
              0.3333333333333333,
              "#9c179e"
             ],
             [
              0.4444444444444444,
              "#bd3786"
             ],
             [
              0.5555555555555556,
              "#d8576b"
             ],
             [
              0.6666666666666666,
              "#ed7953"
             ],
             [
              0.7777777777777778,
              "#fb9f3a"
             ],
             [
              0.8888888888888888,
              "#fdca26"
             ],
             [
              1,
              "#f0f921"
             ]
            ],
            "type": "contour"
           }
          ],
          "contourcarpet": [
           {
            "colorbar": {
             "outlinewidth": 0,
             "ticks": ""
            },
            "type": "contourcarpet"
           }
          ],
          "heatmap": [
           {
            "colorbar": {
             "outlinewidth": 0,
             "ticks": ""
            },
            "colorscale": [
             [
              0,
              "#0d0887"
             ],
             [
              0.1111111111111111,
              "#46039f"
             ],
             [
              0.2222222222222222,
              "#7201a8"
             ],
             [
              0.3333333333333333,
              "#9c179e"
             ],
             [
              0.4444444444444444,
              "#bd3786"
             ],
             [
              0.5555555555555556,
              "#d8576b"
             ],
             [
              0.6666666666666666,
              "#ed7953"
             ],
             [
              0.7777777777777778,
              "#fb9f3a"
             ],
             [
              0.8888888888888888,
              "#fdca26"
             ],
             [
              1,
              "#f0f921"
             ]
            ],
            "type": "heatmap"
           }
          ],
          "histogram": [
           {
            "marker": {
             "pattern": {
              "fillmode": "overlay",
              "size": 10,
              "solidity": 0.2
             }
            },
            "type": "histogram"
           }
          ],
          "histogram2d": [
           {
            "colorbar": {
             "outlinewidth": 0,
             "ticks": ""
            },
            "colorscale": [
             [
              0,
              "#0d0887"
             ],
             [
              0.1111111111111111,
              "#46039f"
             ],
             [
              0.2222222222222222,
              "#7201a8"
             ],
             [
              0.3333333333333333,
              "#9c179e"
             ],
             [
              0.4444444444444444,
              "#bd3786"
             ],
             [
              0.5555555555555556,
              "#d8576b"
             ],
             [
              0.6666666666666666,
              "#ed7953"
             ],
             [
              0.7777777777777778,
              "#fb9f3a"
             ],
             [
              0.8888888888888888,
              "#fdca26"
             ],
             [
              1,
              "#f0f921"
             ]
            ],
            "type": "histogram2d"
           }
          ],
          "histogram2dcontour": [
           {
            "colorbar": {
             "outlinewidth": 0,
             "ticks": ""
            },
            "colorscale": [
             [
              0,
              "#0d0887"
             ],
             [
              0.1111111111111111,
              "#46039f"
             ],
             [
              0.2222222222222222,
              "#7201a8"
             ],
             [
              0.3333333333333333,
              "#9c179e"
             ],
             [
              0.4444444444444444,
              "#bd3786"
             ],
             [
              0.5555555555555556,
              "#d8576b"
             ],
             [
              0.6666666666666666,
              "#ed7953"
             ],
             [
              0.7777777777777778,
              "#fb9f3a"
             ],
             [
              0.8888888888888888,
              "#fdca26"
             ],
             [
              1,
              "#f0f921"
             ]
            ],
            "type": "histogram2dcontour"
           }
          ],
          "mesh3d": [
           {
            "colorbar": {
             "outlinewidth": 0,
             "ticks": ""
            },
            "type": "mesh3d"
           }
          ],
          "parcoords": [
           {
            "line": {
             "colorbar": {
              "outlinewidth": 0,
              "ticks": ""
             }
            },
            "type": "parcoords"
           }
          ],
          "pie": [
           {
            "automargin": true,
            "type": "pie"
           }
          ],
          "scatter": [
           {
            "fillpattern": {
             "fillmode": "overlay",
             "size": 10,
             "solidity": 0.2
            },
            "type": "scatter"
           }
          ],
          "scatter3d": [
           {
            "line": {
             "colorbar": {
              "outlinewidth": 0,
              "ticks": ""
             }
            },
            "marker": {
             "colorbar": {
              "outlinewidth": 0,
              "ticks": ""
             }
            },
            "type": "scatter3d"
           }
          ],
          "scattercarpet": [
           {
            "marker": {
             "colorbar": {
              "outlinewidth": 0,
              "ticks": ""
             }
            },
            "type": "scattercarpet"
           }
          ],
          "scattergeo": [
           {
            "marker": {
             "colorbar": {
              "outlinewidth": 0,
              "ticks": ""
             }
            },
            "type": "scattergeo"
           }
          ],
          "scattergl": [
           {
            "marker": {
             "colorbar": {
              "outlinewidth": 0,
              "ticks": ""
             }
            },
            "type": "scattergl"
           }
          ],
          "scattermap": [
           {
            "marker": {
             "colorbar": {
              "outlinewidth": 0,
              "ticks": ""
             }
            },
            "type": "scattermap"
           }
          ],
          "scattermapbox": [
           {
            "marker": {
             "colorbar": {
              "outlinewidth": 0,
              "ticks": ""
             }
            },
            "type": "scattermapbox"
           }
          ],
          "scatterpolar": [
           {
            "marker": {
             "colorbar": {
              "outlinewidth": 0,
              "ticks": ""
             }
            },
            "type": "scatterpolar"
           }
          ],
          "scatterpolargl": [
           {
            "marker": {
             "colorbar": {
              "outlinewidth": 0,
              "ticks": ""
             }
            },
            "type": "scatterpolargl"
           }
          ],
          "scatterternary": [
           {
            "marker": {
             "colorbar": {
              "outlinewidth": 0,
              "ticks": ""
             }
            },
            "type": "scatterternary"
           }
          ],
          "surface": [
           {
            "colorbar": {
             "outlinewidth": 0,
             "ticks": ""
            },
            "colorscale": [
             [
              0,
              "#0d0887"
             ],
             [
              0.1111111111111111,
              "#46039f"
             ],
             [
              0.2222222222222222,
              "#7201a8"
             ],
             [
              0.3333333333333333,
              "#9c179e"
             ],
             [
              0.4444444444444444,
              "#bd3786"
             ],
             [
              0.5555555555555556,
              "#d8576b"
             ],
             [
              0.6666666666666666,
              "#ed7953"
             ],
             [
              0.7777777777777778,
              "#fb9f3a"
             ],
             [
              0.8888888888888888,
              "#fdca26"
             ],
             [
              1,
              "#f0f921"
             ]
            ],
            "type": "surface"
           }
          ],
          "table": [
           {
            "cells": {
             "fill": {
              "color": "#EBF0F8"
             },
             "line": {
              "color": "white"
             }
            },
            "header": {
             "fill": {
              "color": "#C8D4E3"
             },
             "line": {
              "color": "white"
             }
            },
            "type": "table"
           }
          ]
         },
         "layout": {
          "annotationdefaults": {
           "arrowcolor": "#2a3f5f",
           "arrowhead": 0,
           "arrowwidth": 1
          },
          "autotypenumbers": "strict",
          "coloraxis": {
           "colorbar": {
            "outlinewidth": 0,
            "ticks": ""
           }
          },
          "colorscale": {
           "diverging": [
            [
             0,
             "#8e0152"
            ],
            [
             0.1,
             "#c51b7d"
            ],
            [
             0.2,
             "#de77ae"
            ],
            [
             0.3,
             "#f1b6da"
            ],
            [
             0.4,
             "#fde0ef"
            ],
            [
             0.5,
             "#f7f7f7"
            ],
            [
             0.6,
             "#e6f5d0"
            ],
            [
             0.7,
             "#b8e186"
            ],
            [
             0.8,
             "#7fbc41"
            ],
            [
             0.9,
             "#4d9221"
            ],
            [
             1,
             "#276419"
            ]
           ],
           "sequential": [
            [
             0,
             "#0d0887"
            ],
            [
             0.1111111111111111,
             "#46039f"
            ],
            [
             0.2222222222222222,
             "#7201a8"
            ],
            [
             0.3333333333333333,
             "#9c179e"
            ],
            [
             0.4444444444444444,
             "#bd3786"
            ],
            [
             0.5555555555555556,
             "#d8576b"
            ],
            [
             0.6666666666666666,
             "#ed7953"
            ],
            [
             0.7777777777777778,
             "#fb9f3a"
            ],
            [
             0.8888888888888888,
             "#fdca26"
            ],
            [
             1,
             "#f0f921"
            ]
           ],
           "sequentialminus": [
            [
             0,
             "#0d0887"
            ],
            [
             0.1111111111111111,
             "#46039f"
            ],
            [
             0.2222222222222222,
             "#7201a8"
            ],
            [
             0.3333333333333333,
             "#9c179e"
            ],
            [
             0.4444444444444444,
             "#bd3786"
            ],
            [
             0.5555555555555556,
             "#d8576b"
            ],
            [
             0.6666666666666666,
             "#ed7953"
            ],
            [
             0.7777777777777778,
             "#fb9f3a"
            ],
            [
             0.8888888888888888,
             "#fdca26"
            ],
            [
             1,
             "#f0f921"
            ]
           ]
          },
          "colorway": [
           "#636efa",
           "#EF553B",
           "#00cc96",
           "#ab63fa",
           "#FFA15A",
           "#19d3f3",
           "#FF6692",
           "#B6E880",
           "#FF97FF",
           "#FECB52"
          ],
          "font": {
           "color": "#2a3f5f"
          },
          "geo": {
           "bgcolor": "white",
           "lakecolor": "white",
           "landcolor": "white",
           "showlakes": true,
           "showland": true,
           "subunitcolor": "#C8D4E3"
          },
          "hoverlabel": {
           "align": "left"
          },
          "hovermode": "closest",
          "mapbox": {
           "style": "light"
          },
          "paper_bgcolor": "white",
          "plot_bgcolor": "white",
          "polar": {
           "angularaxis": {
            "gridcolor": "#EBF0F8",
            "linecolor": "#EBF0F8",
            "ticks": ""
           },
           "bgcolor": "white",
           "radialaxis": {
            "gridcolor": "#EBF0F8",
            "linecolor": "#EBF0F8",
            "ticks": ""
           }
          },
          "scene": {
           "xaxis": {
            "backgroundcolor": "white",
            "gridcolor": "#DFE8F3",
            "gridwidth": 2,
            "linecolor": "#EBF0F8",
            "showbackground": true,
            "ticks": "",
            "zerolinecolor": "#EBF0F8"
           },
           "yaxis": {
            "backgroundcolor": "white",
            "gridcolor": "#DFE8F3",
            "gridwidth": 2,
            "linecolor": "#EBF0F8",
            "showbackground": true,
            "ticks": "",
            "zerolinecolor": "#EBF0F8"
           },
           "zaxis": {
            "backgroundcolor": "white",
            "gridcolor": "#DFE8F3",
            "gridwidth": 2,
            "linecolor": "#EBF0F8",
            "showbackground": true,
            "ticks": "",
            "zerolinecolor": "#EBF0F8"
           }
          },
          "shapedefaults": {
           "line": {
            "color": "#2a3f5f"
           }
          },
          "ternary": {
           "aaxis": {
            "gridcolor": "#DFE8F3",
            "linecolor": "#A2B1C6",
            "ticks": ""
           },
           "baxis": {
            "gridcolor": "#DFE8F3",
            "linecolor": "#A2B1C6",
            "ticks": ""
           },
           "bgcolor": "white",
           "caxis": {
            "gridcolor": "#DFE8F3",
            "linecolor": "#A2B1C6",
            "ticks": ""
           }
          },
          "title": {
           "x": 0.05
          },
          "xaxis": {
           "automargin": true,
           "gridcolor": "#EBF0F8",
           "linecolor": "#EBF0F8",
           "ticks": "",
           "title": {
            "standoff": 15
           },
           "zerolinecolor": "#EBF0F8",
           "zerolinewidth": 2
          },
          "yaxis": {
           "automargin": true,
           "gridcolor": "#EBF0F8",
           "linecolor": "#EBF0F8",
           "ticks": "",
           "title": {
            "standoff": 15
           },
           "zerolinecolor": "#EBF0F8",
           "zerolinewidth": 2
          }
         }
        },
        "title": {
         "font": {
          "size": 16
         },
         "text": "Round 2: Distribution of Responses Across All Annotators (Binary)",
         "x": 0.5
        },
        "width": 600,
        "xaxis": {
         "title": {
          "text": "Response (0/1)"
         }
        },
        "yaxis": {
         "title": {
          "text": "Count"
         }
        }
       }
      }
     },
     "metadata": {},
     "output_type": "display_data"
    }
   ],
   "source": [
    "# 5. Round 2 Response Distribution\n",
    "print(\"5. Round 2: Response Distribution\")\n",
    "\n",
    "r2_dist = round_2.stack().value_counts()\n",
    "fig5 = go.Figure(data=go.Bar(x=r2_dist.index, y=r2_dist.values, text=r2_dist.values, textposition=\"auto\", marker_color=\"lightcoral\"))\n",
    "\n",
    "fig5.update_layout(title={\"text\": \"Round 2: Distribution of Responses Across All Annotators (Binary)\", \"x\": 0.5, \"font\": {\"size\": 16}}, xaxis_title=\"Response (0/1)\", yaxis_title=\"Count\", height=500, width=600)\n",
    "\n",
    "fig5.show()"
   ]
  },
  {
   "cell_type": "code",
   "execution_count": 25,
   "id": "abf3eb40",
   "metadata": {},
   "outputs": [
    {
     "name": "stdout",
     "output_type": "stream",
     "text": [
      "6. Overall Agreement Summary\n"
     ]
    },
    {
     "data": {
      "application/vnd.plotly.v1+json": {
       "config": {
        "plotlyServerURL": "https://plot.ly"
       },
       "data": [
        {
         "marker": {
          "color": [
           "#9467bd",
           "#8c564b"
          ]
         },
         "text": [
          "50.0%",
          "100.0%"
         ],
         "textposition": "auto",
         "type": "bar",
         "x": [
          "Round 1\n(Binary)",
          "Round 2\n(Binary)"
         ],
         "y": [
          0.5,
          1
         ]
        }
       ],
       "layout": {
        "height": 500,
        "template": {
         "data": {
          "bar": [
           {
            "error_x": {
             "color": "#2a3f5f"
            },
            "error_y": {
             "color": "#2a3f5f"
            },
            "marker": {
             "line": {
              "color": "white",
              "width": 0.5
             },
             "pattern": {
              "fillmode": "overlay",
              "size": 10,
              "solidity": 0.2
             }
            },
            "type": "bar"
           }
          ],
          "barpolar": [
           {
            "marker": {
             "line": {
              "color": "white",
              "width": 0.5
             },
             "pattern": {
              "fillmode": "overlay",
              "size": 10,
              "solidity": 0.2
             }
            },
            "type": "barpolar"
           }
          ],
          "carpet": [
           {
            "aaxis": {
             "endlinecolor": "#2a3f5f",
             "gridcolor": "#C8D4E3",
             "linecolor": "#C8D4E3",
             "minorgridcolor": "#C8D4E3",
             "startlinecolor": "#2a3f5f"
            },
            "baxis": {
             "endlinecolor": "#2a3f5f",
             "gridcolor": "#C8D4E3",
             "linecolor": "#C8D4E3",
             "minorgridcolor": "#C8D4E3",
             "startlinecolor": "#2a3f5f"
            },
            "type": "carpet"
           }
          ],
          "choropleth": [
           {
            "colorbar": {
             "outlinewidth": 0,
             "ticks": ""
            },
            "type": "choropleth"
           }
          ],
          "contour": [
           {
            "colorbar": {
             "outlinewidth": 0,
             "ticks": ""
            },
            "colorscale": [
             [
              0,
              "#0d0887"
             ],
             [
              0.1111111111111111,
              "#46039f"
             ],
             [
              0.2222222222222222,
              "#7201a8"
             ],
             [
              0.3333333333333333,
              "#9c179e"
             ],
             [
              0.4444444444444444,
              "#bd3786"
             ],
             [
              0.5555555555555556,
              "#d8576b"
             ],
             [
              0.6666666666666666,
              "#ed7953"
             ],
             [
              0.7777777777777778,
              "#fb9f3a"
             ],
             [
              0.8888888888888888,
              "#fdca26"
             ],
             [
              1,
              "#f0f921"
             ]
            ],
            "type": "contour"
           }
          ],
          "contourcarpet": [
           {
            "colorbar": {
             "outlinewidth": 0,
             "ticks": ""
            },
            "type": "contourcarpet"
           }
          ],
          "heatmap": [
           {
            "colorbar": {
             "outlinewidth": 0,
             "ticks": ""
            },
            "colorscale": [
             [
              0,
              "#0d0887"
             ],
             [
              0.1111111111111111,
              "#46039f"
             ],
             [
              0.2222222222222222,
              "#7201a8"
             ],
             [
              0.3333333333333333,
              "#9c179e"
             ],
             [
              0.4444444444444444,
              "#bd3786"
             ],
             [
              0.5555555555555556,
              "#d8576b"
             ],
             [
              0.6666666666666666,
              "#ed7953"
             ],
             [
              0.7777777777777778,
              "#fb9f3a"
             ],
             [
              0.8888888888888888,
              "#fdca26"
             ],
             [
              1,
              "#f0f921"
             ]
            ],
            "type": "heatmap"
           }
          ],
          "histogram": [
           {
            "marker": {
             "pattern": {
              "fillmode": "overlay",
              "size": 10,
              "solidity": 0.2
             }
            },
            "type": "histogram"
           }
          ],
          "histogram2d": [
           {
            "colorbar": {
             "outlinewidth": 0,
             "ticks": ""
            },
            "colorscale": [
             [
              0,
              "#0d0887"
             ],
             [
              0.1111111111111111,
              "#46039f"
             ],
             [
              0.2222222222222222,
              "#7201a8"
             ],
             [
              0.3333333333333333,
              "#9c179e"
             ],
             [
              0.4444444444444444,
              "#bd3786"
             ],
             [
              0.5555555555555556,
              "#d8576b"
             ],
             [
              0.6666666666666666,
              "#ed7953"
             ],
             [
              0.7777777777777778,
              "#fb9f3a"
             ],
             [
              0.8888888888888888,
              "#fdca26"
             ],
             [
              1,
              "#f0f921"
             ]
            ],
            "type": "histogram2d"
           }
          ],
          "histogram2dcontour": [
           {
            "colorbar": {
             "outlinewidth": 0,
             "ticks": ""
            },
            "colorscale": [
             [
              0,
              "#0d0887"
             ],
             [
              0.1111111111111111,
              "#46039f"
             ],
             [
              0.2222222222222222,
              "#7201a8"
             ],
             [
              0.3333333333333333,
              "#9c179e"
             ],
             [
              0.4444444444444444,
              "#bd3786"
             ],
             [
              0.5555555555555556,
              "#d8576b"
             ],
             [
              0.6666666666666666,
              "#ed7953"
             ],
             [
              0.7777777777777778,
              "#fb9f3a"
             ],
             [
              0.8888888888888888,
              "#fdca26"
             ],
             [
              1,
              "#f0f921"
             ]
            ],
            "type": "histogram2dcontour"
           }
          ],
          "mesh3d": [
           {
            "colorbar": {
             "outlinewidth": 0,
             "ticks": ""
            },
            "type": "mesh3d"
           }
          ],
          "parcoords": [
           {
            "line": {
             "colorbar": {
              "outlinewidth": 0,
              "ticks": ""
             }
            },
            "type": "parcoords"
           }
          ],
          "pie": [
           {
            "automargin": true,
            "type": "pie"
           }
          ],
          "scatter": [
           {
            "fillpattern": {
             "fillmode": "overlay",
             "size": 10,
             "solidity": 0.2
            },
            "type": "scatter"
           }
          ],
          "scatter3d": [
           {
            "line": {
             "colorbar": {
              "outlinewidth": 0,
              "ticks": ""
             }
            },
            "marker": {
             "colorbar": {
              "outlinewidth": 0,
              "ticks": ""
             }
            },
            "type": "scatter3d"
           }
          ],
          "scattercarpet": [
           {
            "marker": {
             "colorbar": {
              "outlinewidth": 0,
              "ticks": ""
             }
            },
            "type": "scattercarpet"
           }
          ],
          "scattergeo": [
           {
            "marker": {
             "colorbar": {
              "outlinewidth": 0,
              "ticks": ""
             }
            },
            "type": "scattergeo"
           }
          ],
          "scattergl": [
           {
            "marker": {
             "colorbar": {
              "outlinewidth": 0,
              "ticks": ""
             }
            },
            "type": "scattergl"
           }
          ],
          "scattermap": [
           {
            "marker": {
             "colorbar": {
              "outlinewidth": 0,
              "ticks": ""
             }
            },
            "type": "scattermap"
           }
          ],
          "scattermapbox": [
           {
            "marker": {
             "colorbar": {
              "outlinewidth": 0,
              "ticks": ""
             }
            },
            "type": "scattermapbox"
           }
          ],
          "scatterpolar": [
           {
            "marker": {
             "colorbar": {
              "outlinewidth": 0,
              "ticks": ""
             }
            },
            "type": "scatterpolar"
           }
          ],
          "scatterpolargl": [
           {
            "marker": {
             "colorbar": {
              "outlinewidth": 0,
              "ticks": ""
             }
            },
            "type": "scatterpolargl"
           }
          ],
          "scatterternary": [
           {
            "marker": {
             "colorbar": {
              "outlinewidth": 0,
              "ticks": ""
             }
            },
            "type": "scatterternary"
           }
          ],
          "surface": [
           {
            "colorbar": {
             "outlinewidth": 0,
             "ticks": ""
            },
            "colorscale": [
             [
              0,
              "#0d0887"
             ],
             [
              0.1111111111111111,
              "#46039f"
             ],
             [
              0.2222222222222222,
              "#7201a8"
             ],
             [
              0.3333333333333333,
              "#9c179e"
             ],
             [
              0.4444444444444444,
              "#bd3786"
             ],
             [
              0.5555555555555556,
              "#d8576b"
             ],
             [
              0.6666666666666666,
              "#ed7953"
             ],
             [
              0.7777777777777778,
              "#fb9f3a"
             ],
             [
              0.8888888888888888,
              "#fdca26"
             ],
             [
              1,
              "#f0f921"
             ]
            ],
            "type": "surface"
           }
          ],
          "table": [
           {
            "cells": {
             "fill": {
              "color": "#EBF0F8"
             },
             "line": {
              "color": "white"
             }
            },
            "header": {
             "fill": {
              "color": "#C8D4E3"
             },
             "line": {
              "color": "white"
             }
            },
            "type": "table"
           }
          ]
         },
         "layout": {
          "annotationdefaults": {
           "arrowcolor": "#2a3f5f",
           "arrowhead": 0,
           "arrowwidth": 1
          },
          "autotypenumbers": "strict",
          "coloraxis": {
           "colorbar": {
            "outlinewidth": 0,
            "ticks": ""
           }
          },
          "colorscale": {
           "diverging": [
            [
             0,
             "#8e0152"
            ],
            [
             0.1,
             "#c51b7d"
            ],
            [
             0.2,
             "#de77ae"
            ],
            [
             0.3,
             "#f1b6da"
            ],
            [
             0.4,
             "#fde0ef"
            ],
            [
             0.5,
             "#f7f7f7"
            ],
            [
             0.6,
             "#e6f5d0"
            ],
            [
             0.7,
             "#b8e186"
            ],
            [
             0.8,
             "#7fbc41"
            ],
            [
             0.9,
             "#4d9221"
            ],
            [
             1,
             "#276419"
            ]
           ],
           "sequential": [
            [
             0,
             "#0d0887"
            ],
            [
             0.1111111111111111,
             "#46039f"
            ],
            [
             0.2222222222222222,
             "#7201a8"
            ],
            [
             0.3333333333333333,
             "#9c179e"
            ],
            [
             0.4444444444444444,
             "#bd3786"
            ],
            [
             0.5555555555555556,
             "#d8576b"
            ],
            [
             0.6666666666666666,
             "#ed7953"
            ],
            [
             0.7777777777777778,
             "#fb9f3a"
            ],
            [
             0.8888888888888888,
             "#fdca26"
            ],
            [
             1,
             "#f0f921"
            ]
           ],
           "sequentialminus": [
            [
             0,
             "#0d0887"
            ],
            [
             0.1111111111111111,
             "#46039f"
            ],
            [
             0.2222222222222222,
             "#7201a8"
            ],
            [
             0.3333333333333333,
             "#9c179e"
            ],
            [
             0.4444444444444444,
             "#bd3786"
            ],
            [
             0.5555555555555556,
             "#d8576b"
            ],
            [
             0.6666666666666666,
             "#ed7953"
            ],
            [
             0.7777777777777778,
             "#fb9f3a"
            ],
            [
             0.8888888888888888,
             "#fdca26"
            ],
            [
             1,
             "#f0f921"
            ]
           ]
          },
          "colorway": [
           "#636efa",
           "#EF553B",
           "#00cc96",
           "#ab63fa",
           "#FFA15A",
           "#19d3f3",
           "#FF6692",
           "#B6E880",
           "#FF97FF",
           "#FECB52"
          ],
          "font": {
           "color": "#2a3f5f"
          },
          "geo": {
           "bgcolor": "white",
           "lakecolor": "white",
           "landcolor": "white",
           "showlakes": true,
           "showland": true,
           "subunitcolor": "#C8D4E3"
          },
          "hoverlabel": {
           "align": "left"
          },
          "hovermode": "closest",
          "mapbox": {
           "style": "light"
          },
          "paper_bgcolor": "white",
          "plot_bgcolor": "white",
          "polar": {
           "angularaxis": {
            "gridcolor": "#EBF0F8",
            "linecolor": "#EBF0F8",
            "ticks": ""
           },
           "bgcolor": "white",
           "radialaxis": {
            "gridcolor": "#EBF0F8",
            "linecolor": "#EBF0F8",
            "ticks": ""
           }
          },
          "scene": {
           "xaxis": {
            "backgroundcolor": "white",
            "gridcolor": "#DFE8F3",
            "gridwidth": 2,
            "linecolor": "#EBF0F8",
            "showbackground": true,
            "ticks": "",
            "zerolinecolor": "#EBF0F8"
           },
           "yaxis": {
            "backgroundcolor": "white",
            "gridcolor": "#DFE8F3",
            "gridwidth": 2,
            "linecolor": "#EBF0F8",
            "showbackground": true,
            "ticks": "",
            "zerolinecolor": "#EBF0F8"
           },
           "zaxis": {
            "backgroundcolor": "white",
            "gridcolor": "#DFE8F3",
            "gridwidth": 2,
            "linecolor": "#EBF0F8",
            "showbackground": true,
            "ticks": "",
            "zerolinecolor": "#EBF0F8"
           }
          },
          "shapedefaults": {
           "line": {
            "color": "#2a3f5f"
           }
          },
          "ternary": {
           "aaxis": {
            "gridcolor": "#DFE8F3",
            "linecolor": "#A2B1C6",
            "ticks": ""
           },
           "baxis": {
            "gridcolor": "#DFE8F3",
            "linecolor": "#A2B1C6",
            "ticks": ""
           },
           "bgcolor": "white",
           "caxis": {
            "gridcolor": "#DFE8F3",
            "linecolor": "#A2B1C6",
            "ticks": ""
           }
          },
          "title": {
           "x": 0.05
          },
          "xaxis": {
           "automargin": true,
           "gridcolor": "#EBF0F8",
           "linecolor": "#EBF0F8",
           "ticks": "",
           "title": {
            "standoff": 15
           },
           "zerolinecolor": "#EBF0F8",
           "zerolinewidth": 2
          },
          "yaxis": {
           "automargin": true,
           "gridcolor": "#EBF0F8",
           "linecolor": "#EBF0F8",
           "ticks": "",
           "title": {
            "standoff": 15
           },
           "zerolinecolor": "#EBF0F8",
           "zerolinewidth": 2
          }
         }
        },
        "title": {
         "font": {
          "size": 16
         },
         "text": "Overall Inter-Annotator Agreement Comparison",
         "x": 0.5
        },
        "width": 600,
        "xaxis": {
         "title": {
          "text": "Dataset"
         }
        },
        "yaxis": {
         "range": [
          0,
          1
         ],
         "title": {
          "text": "Overall Agreement Score"
         }
        }
       }
      }
     },
     "metadata": {},
     "output_type": "display_data"
    }
   ],
   "source": [
    "# 6. Overall Agreement Summary\n",
    "print(\"6. Overall Agreement Summary\")\n",
    "\n",
    "agreement_summary = [\"Round 1\\n(Binary)\", \"Round 2\\n(Binary)\"]\n",
    "overall_agreements = [overall_agreement_r1, overall_agreement_r2]\n",
    "\n",
    "fig6 = go.Figure(data=go.Bar(x=agreement_summary, y=overall_agreements, text=[f\"{val:.1%}\" for val in overall_agreements], textposition=\"auto\", marker_color=[\"#9467bd\", \"#8c564b\"]))\n",
    "\n",
    "fig6.update_layout(title={\"text\": \"Overall Inter-Annotator Agreement Comparison\", \"x\": 0.5, \"font\": {\"size\": 16}}, xaxis_title=\"Dataset\", yaxis_title=\"Overall Agreement Score\", yaxis=dict(range=[0, 1]), height=500, width=600)\n",
    "\n",
    "fig6.show()"
   ]
  },
  {
   "cell_type": "code",
   "execution_count": 26,
   "id": "3ad80b11",
   "metadata": {},
   "outputs": [
    {
     "name": "stdout",
     "output_type": "stream",
     "text": [
      "Detailed Pairwise Analysis - Round 1\n",
      "----------------------------------------\n",
      "                         Pair  Accuracy  Annotator_1  Annotator_2\n",
      "0  avaliador_1 vs avaliador_2       1.0  avaliador_1  avaliador_2\n",
      "1  avaliador_1 vs avaliador_3       1.0  avaliador_1  avaliador_3\n",
      "2  avaliador_1 vs avaliador_4       0.0  avaliador_1  avaliador_4\n",
      "3  avaliador_2 vs avaliador_3       1.0  avaliador_2  avaliador_3\n",
      "4  avaliador_2 vs avaliador_4       0.0  avaliador_2  avaliador_4\n",
      "5  avaliador_3 vs avaliador_4       0.0  avaliador_3  avaliador_4\n"
     ]
    },
    {
     "data": {
      "application/vnd.plotly.v1+json": {
       "config": {
        "plotlyServerURL": "https://plot.ly"
       },
       "data": [
        {
         "hovertemplate": "Annotator Pairs=%{x}<br>Accuracy Score=%{text}<extra></extra>",
         "legendgroup": "",
         "marker": {
          "color": "#636efa",
          "pattern": {
           "shape": ""
          }
         },
         "name": "",
         "orientation": "v",
         "showlegend": false,
         "text": {
          "bdata": "AAAAAAAA8D8AAAAAAADwPwAAAAAAAAAAAAAAAAAA8D8AAAAAAAAAAAAAAAAAAAAA",
          "dtype": "f8"
         },
         "textposition": "outside",
         "texttemplate": "%{text:.3f}",
         "type": "bar",
         "x": [
          "avaliador_1 vs avaliador_2",
          "avaliador_1 vs avaliador_3",
          "avaliador_1 vs avaliador_4",
          "avaliador_2 vs avaliador_3",
          "avaliador_2 vs avaliador_4",
          "avaliador_3 vs avaliador_4"
         ],
         "xaxis": "x",
         "y": {
          "bdata": "AAAAAAAA8D8AAAAAAADwPwAAAAAAAAAAAAAAAAAA8D8AAAAAAAAAAAAAAAAAAAAA",
          "dtype": "f8"
         },
         "yaxis": "y"
        }
       ],
       "layout": {
        "barmode": "relative",
        "height": 400,
        "legend": {
         "tracegroupgap": 0
        },
        "template": {
         "data": {
          "bar": [
           {
            "error_x": {
             "color": "#2a3f5f"
            },
            "error_y": {
             "color": "#2a3f5f"
            },
            "marker": {
             "line": {
              "color": "white",
              "width": 0.5
             },
             "pattern": {
              "fillmode": "overlay",
              "size": 10,
              "solidity": 0.2
             }
            },
            "type": "bar"
           }
          ],
          "barpolar": [
           {
            "marker": {
             "line": {
              "color": "white",
              "width": 0.5
             },
             "pattern": {
              "fillmode": "overlay",
              "size": 10,
              "solidity": 0.2
             }
            },
            "type": "barpolar"
           }
          ],
          "carpet": [
           {
            "aaxis": {
             "endlinecolor": "#2a3f5f",
             "gridcolor": "#C8D4E3",
             "linecolor": "#C8D4E3",
             "minorgridcolor": "#C8D4E3",
             "startlinecolor": "#2a3f5f"
            },
            "baxis": {
             "endlinecolor": "#2a3f5f",
             "gridcolor": "#C8D4E3",
             "linecolor": "#C8D4E3",
             "minorgridcolor": "#C8D4E3",
             "startlinecolor": "#2a3f5f"
            },
            "type": "carpet"
           }
          ],
          "choropleth": [
           {
            "colorbar": {
             "outlinewidth": 0,
             "ticks": ""
            },
            "type": "choropleth"
           }
          ],
          "contour": [
           {
            "colorbar": {
             "outlinewidth": 0,
             "ticks": ""
            },
            "colorscale": [
             [
              0,
              "#0d0887"
             ],
             [
              0.1111111111111111,
              "#46039f"
             ],
             [
              0.2222222222222222,
              "#7201a8"
             ],
             [
              0.3333333333333333,
              "#9c179e"
             ],
             [
              0.4444444444444444,
              "#bd3786"
             ],
             [
              0.5555555555555556,
              "#d8576b"
             ],
             [
              0.6666666666666666,
              "#ed7953"
             ],
             [
              0.7777777777777778,
              "#fb9f3a"
             ],
             [
              0.8888888888888888,
              "#fdca26"
             ],
             [
              1,
              "#f0f921"
             ]
            ],
            "type": "contour"
           }
          ],
          "contourcarpet": [
           {
            "colorbar": {
             "outlinewidth": 0,
             "ticks": ""
            },
            "type": "contourcarpet"
           }
          ],
          "heatmap": [
           {
            "colorbar": {
             "outlinewidth": 0,
             "ticks": ""
            },
            "colorscale": [
             [
              0,
              "#0d0887"
             ],
             [
              0.1111111111111111,
              "#46039f"
             ],
             [
              0.2222222222222222,
              "#7201a8"
             ],
             [
              0.3333333333333333,
              "#9c179e"
             ],
             [
              0.4444444444444444,
              "#bd3786"
             ],
             [
              0.5555555555555556,
              "#d8576b"
             ],
             [
              0.6666666666666666,
              "#ed7953"
             ],
             [
              0.7777777777777778,
              "#fb9f3a"
             ],
             [
              0.8888888888888888,
              "#fdca26"
             ],
             [
              1,
              "#f0f921"
             ]
            ],
            "type": "heatmap"
           }
          ],
          "histogram": [
           {
            "marker": {
             "pattern": {
              "fillmode": "overlay",
              "size": 10,
              "solidity": 0.2
             }
            },
            "type": "histogram"
           }
          ],
          "histogram2d": [
           {
            "colorbar": {
             "outlinewidth": 0,
             "ticks": ""
            },
            "colorscale": [
             [
              0,
              "#0d0887"
             ],
             [
              0.1111111111111111,
              "#46039f"
             ],
             [
              0.2222222222222222,
              "#7201a8"
             ],
             [
              0.3333333333333333,
              "#9c179e"
             ],
             [
              0.4444444444444444,
              "#bd3786"
             ],
             [
              0.5555555555555556,
              "#d8576b"
             ],
             [
              0.6666666666666666,
              "#ed7953"
             ],
             [
              0.7777777777777778,
              "#fb9f3a"
             ],
             [
              0.8888888888888888,
              "#fdca26"
             ],
             [
              1,
              "#f0f921"
             ]
            ],
            "type": "histogram2d"
           }
          ],
          "histogram2dcontour": [
           {
            "colorbar": {
             "outlinewidth": 0,
             "ticks": ""
            },
            "colorscale": [
             [
              0,
              "#0d0887"
             ],
             [
              0.1111111111111111,
              "#46039f"
             ],
             [
              0.2222222222222222,
              "#7201a8"
             ],
             [
              0.3333333333333333,
              "#9c179e"
             ],
             [
              0.4444444444444444,
              "#bd3786"
             ],
             [
              0.5555555555555556,
              "#d8576b"
             ],
             [
              0.6666666666666666,
              "#ed7953"
             ],
             [
              0.7777777777777778,
              "#fb9f3a"
             ],
             [
              0.8888888888888888,
              "#fdca26"
             ],
             [
              1,
              "#f0f921"
             ]
            ],
            "type": "histogram2dcontour"
           }
          ],
          "mesh3d": [
           {
            "colorbar": {
             "outlinewidth": 0,
             "ticks": ""
            },
            "type": "mesh3d"
           }
          ],
          "parcoords": [
           {
            "line": {
             "colorbar": {
              "outlinewidth": 0,
              "ticks": ""
             }
            },
            "type": "parcoords"
           }
          ],
          "pie": [
           {
            "automargin": true,
            "type": "pie"
           }
          ],
          "scatter": [
           {
            "fillpattern": {
             "fillmode": "overlay",
             "size": 10,
             "solidity": 0.2
            },
            "type": "scatter"
           }
          ],
          "scatter3d": [
           {
            "line": {
             "colorbar": {
              "outlinewidth": 0,
              "ticks": ""
             }
            },
            "marker": {
             "colorbar": {
              "outlinewidth": 0,
              "ticks": ""
             }
            },
            "type": "scatter3d"
           }
          ],
          "scattercarpet": [
           {
            "marker": {
             "colorbar": {
              "outlinewidth": 0,
              "ticks": ""
             }
            },
            "type": "scattercarpet"
           }
          ],
          "scattergeo": [
           {
            "marker": {
             "colorbar": {
              "outlinewidth": 0,
              "ticks": ""
             }
            },
            "type": "scattergeo"
           }
          ],
          "scattergl": [
           {
            "marker": {
             "colorbar": {
              "outlinewidth": 0,
              "ticks": ""
             }
            },
            "type": "scattergl"
           }
          ],
          "scattermap": [
           {
            "marker": {
             "colorbar": {
              "outlinewidth": 0,
              "ticks": ""
             }
            },
            "type": "scattermap"
           }
          ],
          "scattermapbox": [
           {
            "marker": {
             "colorbar": {
              "outlinewidth": 0,
              "ticks": ""
             }
            },
            "type": "scattermapbox"
           }
          ],
          "scatterpolar": [
           {
            "marker": {
             "colorbar": {
              "outlinewidth": 0,
              "ticks": ""
             }
            },
            "type": "scatterpolar"
           }
          ],
          "scatterpolargl": [
           {
            "marker": {
             "colorbar": {
              "outlinewidth": 0,
              "ticks": ""
             }
            },
            "type": "scatterpolargl"
           }
          ],
          "scatterternary": [
           {
            "marker": {
             "colorbar": {
              "outlinewidth": 0,
              "ticks": ""
             }
            },
            "type": "scatterternary"
           }
          ],
          "surface": [
           {
            "colorbar": {
             "outlinewidth": 0,
             "ticks": ""
            },
            "colorscale": [
             [
              0,
              "#0d0887"
             ],
             [
              0.1111111111111111,
              "#46039f"
             ],
             [
              0.2222222222222222,
              "#7201a8"
             ],
             [
              0.3333333333333333,
              "#9c179e"
             ],
             [
              0.4444444444444444,
              "#bd3786"
             ],
             [
              0.5555555555555556,
              "#d8576b"
             ],
             [
              0.6666666666666666,
              "#ed7953"
             ],
             [
              0.7777777777777778,
              "#fb9f3a"
             ],
             [
              0.8888888888888888,
              "#fdca26"
             ],
             [
              1,
              "#f0f921"
             ]
            ],
            "type": "surface"
           }
          ],
          "table": [
           {
            "cells": {
             "fill": {
              "color": "#EBF0F8"
             },
             "line": {
              "color": "white"
             }
            },
            "header": {
             "fill": {
              "color": "#C8D4E3"
             },
             "line": {
              "color": "white"
             }
            },
            "type": "table"
           }
          ]
         },
         "layout": {
          "annotationdefaults": {
           "arrowcolor": "#2a3f5f",
           "arrowhead": 0,
           "arrowwidth": 1
          },
          "autotypenumbers": "strict",
          "coloraxis": {
           "colorbar": {
            "outlinewidth": 0,
            "ticks": ""
           }
          },
          "colorscale": {
           "diverging": [
            [
             0,
             "#8e0152"
            ],
            [
             0.1,
             "#c51b7d"
            ],
            [
             0.2,
             "#de77ae"
            ],
            [
             0.3,
             "#f1b6da"
            ],
            [
             0.4,
             "#fde0ef"
            ],
            [
             0.5,
             "#f7f7f7"
            ],
            [
             0.6,
             "#e6f5d0"
            ],
            [
             0.7,
             "#b8e186"
            ],
            [
             0.8,
             "#7fbc41"
            ],
            [
             0.9,
             "#4d9221"
            ],
            [
             1,
             "#276419"
            ]
           ],
           "sequential": [
            [
             0,
             "#0d0887"
            ],
            [
             0.1111111111111111,
             "#46039f"
            ],
            [
             0.2222222222222222,
             "#7201a8"
            ],
            [
             0.3333333333333333,
             "#9c179e"
            ],
            [
             0.4444444444444444,
             "#bd3786"
            ],
            [
             0.5555555555555556,
             "#d8576b"
            ],
            [
             0.6666666666666666,
             "#ed7953"
            ],
            [
             0.7777777777777778,
             "#fb9f3a"
            ],
            [
             0.8888888888888888,
             "#fdca26"
            ],
            [
             1,
             "#f0f921"
            ]
           ],
           "sequentialminus": [
            [
             0,
             "#0d0887"
            ],
            [
             0.1111111111111111,
             "#46039f"
            ],
            [
             0.2222222222222222,
             "#7201a8"
            ],
            [
             0.3333333333333333,
             "#9c179e"
            ],
            [
             0.4444444444444444,
             "#bd3786"
            ],
            [
             0.5555555555555556,
             "#d8576b"
            ],
            [
             0.6666666666666666,
             "#ed7953"
            ],
            [
             0.7777777777777778,
             "#fb9f3a"
            ],
            [
             0.8888888888888888,
             "#fdca26"
            ],
            [
             1,
             "#f0f921"
            ]
           ]
          },
          "colorway": [
           "#636efa",
           "#EF553B",
           "#00cc96",
           "#ab63fa",
           "#FFA15A",
           "#19d3f3",
           "#FF6692",
           "#B6E880",
           "#FF97FF",
           "#FECB52"
          ],
          "font": {
           "color": "#2a3f5f"
          },
          "geo": {
           "bgcolor": "white",
           "lakecolor": "white",
           "landcolor": "white",
           "showlakes": true,
           "showland": true,
           "subunitcolor": "#C8D4E3"
          },
          "hoverlabel": {
           "align": "left"
          },
          "hovermode": "closest",
          "mapbox": {
           "style": "light"
          },
          "paper_bgcolor": "white",
          "plot_bgcolor": "white",
          "polar": {
           "angularaxis": {
            "gridcolor": "#EBF0F8",
            "linecolor": "#EBF0F8",
            "ticks": ""
           },
           "bgcolor": "white",
           "radialaxis": {
            "gridcolor": "#EBF0F8",
            "linecolor": "#EBF0F8",
            "ticks": ""
           }
          },
          "scene": {
           "xaxis": {
            "backgroundcolor": "white",
            "gridcolor": "#DFE8F3",
            "gridwidth": 2,
            "linecolor": "#EBF0F8",
            "showbackground": true,
            "ticks": "",
            "zerolinecolor": "#EBF0F8"
           },
           "yaxis": {
            "backgroundcolor": "white",
            "gridcolor": "#DFE8F3",
            "gridwidth": 2,
            "linecolor": "#EBF0F8",
            "showbackground": true,
            "ticks": "",
            "zerolinecolor": "#EBF0F8"
           },
           "zaxis": {
            "backgroundcolor": "white",
            "gridcolor": "#DFE8F3",
            "gridwidth": 2,
            "linecolor": "#EBF0F8",
            "showbackground": true,
            "ticks": "",
            "zerolinecolor": "#EBF0F8"
           }
          },
          "shapedefaults": {
           "line": {
            "color": "#2a3f5f"
           }
          },
          "ternary": {
           "aaxis": {
            "gridcolor": "#DFE8F3",
            "linecolor": "#A2B1C6",
            "ticks": ""
           },
           "baxis": {
            "gridcolor": "#DFE8F3",
            "linecolor": "#A2B1C6",
            "ticks": ""
           },
           "bgcolor": "white",
           "caxis": {
            "gridcolor": "#DFE8F3",
            "linecolor": "#A2B1C6",
            "ticks": ""
           }
          },
          "title": {
           "x": 0.05
          },
          "xaxis": {
           "automargin": true,
           "gridcolor": "#EBF0F8",
           "linecolor": "#EBF0F8",
           "ticks": "",
           "title": {
            "standoff": 15
           },
           "zerolinecolor": "#EBF0F8",
           "zerolinewidth": 2
          },
          "yaxis": {
           "automargin": true,
           "gridcolor": "#EBF0F8",
           "linecolor": "#EBF0F8",
           "ticks": "",
           "title": {
            "standoff": 15
           },
           "zerolinecolor": "#EBF0F8",
           "zerolinewidth": 2
          }
         }
        },
        "title": {
         "text": "Round 1: Pairwise Accuracy Between Annotators"
        },
        "xaxis": {
         "anchor": "y",
         "domain": [
          0,
          1
         ],
         "tickangle": -45,
         "title": {
          "text": "Annotator Pairs"
         }
        },
        "yaxis": {
         "anchor": "x",
         "domain": [
          0,
          1
         ],
         "title": {
          "text": "Accuracy Score"
         }
        }
       }
      }
     },
     "metadata": {},
     "output_type": "display_data"
    }
   ],
   "source": [
    "# =============================================================================\n",
    "# DETAILED INDIVIDUAL PLOTS\n",
    "# =============================================================================\n",
    "\n",
    "# 1. Detailed Pairwise Agreement Analysis for Round 1\n",
    "print(\"Detailed Pairwise Analysis - Round 1\")\n",
    "print(\"-\" * 40)\n",
    "\n",
    "pairwise_results_r1 = []\n",
    "for i, ann1 in enumerate(round_1.columns):\n",
    "    for j, ann2 in enumerate(round_1.columns):\n",
    "        if i < j:\n",
    "            acc = accuracy_score(round_1[ann1], round_1[ann2])\n",
    "            pairwise_results_r1.append({\"Pair\": f\"{ann1} vs {ann2}\", \"Accuracy\": acc, \"Annotator_1\": ann1, \"Annotator_2\": ann2})\n",
    "\n",
    "pairwise_df_r1 = pd.DataFrame(pairwise_results_r1)\n",
    "print(pairwise_df_r1)\n",
    "\n",
    "# Visualize pairwise agreements for Round 1\n",
    "fig_r1 = px.bar(pairwise_df_r1, x=\"Pair\", y=\"Accuracy\", title=\"Round 1: Pairwise Accuracy Between Annotators\", labels={\"Accuracy\": \"Accuracy Score\", \"Pair\": \"Annotator Pairs\"}, text=\"Accuracy\")\n",
    "fig_r1.update_traces(texttemplate=\"%{text:.3f}\", textposition=\"outside\")\n",
    "fig_r1.update_layout(height=400, xaxis_tickangle=-45)\n",
    "fig_r1.show()"
   ]
  },
  {
   "cell_type": "code",
   "execution_count": 27,
   "id": "3de37afc",
   "metadata": {},
   "outputs": [
    {
     "name": "stdout",
     "output_type": "stream",
     "text": [
      "\n",
      "Detailed Pairwise Analysis - Round 2\n",
      "----------------------------------------\n",
      "                         Pair  Cohen_Kappa  Phi_Coefficient  Spearman_r  \\\n",
      "0  avaliador_1 vs avaliador_2          NaN              NaN         NaN   \n",
      "1  avaliador_1 vs avaliador_3          NaN              NaN         NaN   \n",
      "2  avaliador_1 vs avaliador_4          NaN              NaN         NaN   \n",
      "3  avaliador_2 vs avaliador_3          NaN              NaN         NaN   \n",
      "4  avaliador_2 vs avaliador_4          NaN              NaN         NaN   \n",
      "5  avaliador_3 vs avaliador_4          NaN              NaN         NaN   \n",
      "\n",
      "   Annotator_1  Annotator_2  \n",
      "0  avaliador_1  avaliador_2  \n",
      "1  avaliador_1  avaliador_3  \n",
      "2  avaliador_1  avaliador_4  \n",
      "3  avaliador_2  avaliador_3  \n",
      "4  avaliador_2  avaliador_4  \n",
      "5  avaliador_3  avaliador_4  \n"
     ]
    },
    {
     "data": {
      "application/vnd.plotly.v1+json": {
       "config": {
        "plotlyServerURL": "https://plot.ly"
       },
       "data": [
        {
         "marker": {
          "color": "lightblue"
         },
         "name": "Cohen's Kappa",
         "text": {
          "bdata": "AAAAAAAA+H8AAAAAAAD4fwAAAAAAAPh/AAAAAAAA+H8AAAAAAAD4fwAAAAAAAPh/",
          "dtype": "f8"
         },
         "textposition": "auto",
         "type": "bar",
         "x": [
          "avaliador_1 vs avaliador_2",
          "avaliador_1 vs avaliador_3",
          "avaliador_1 vs avaliador_4",
          "avaliador_2 vs avaliador_3",
          "avaliador_2 vs avaliador_4",
          "avaliador_3 vs avaliador_4"
         ],
         "xaxis": "x",
         "y": {
          "bdata": "AAAAAAAA+H8AAAAAAAD4fwAAAAAAAPh/AAAAAAAA+H8AAAAAAAD4fwAAAAAAAPh/",
          "dtype": "f8"
         },
         "yaxis": "y"
        }
       ],
       "layout": {
        "annotations": [
         {
          "font": {
           "size": 16
          },
          "showarrow": false,
          "text": "Cohen's Kappa",
          "x": 0.14444444444444446,
          "xanchor": "center",
          "xref": "paper",
          "y": 1,
          "yanchor": "bottom",
          "yref": "paper"
         },
         {
          "font": {
           "size": 16
          },
          "showarrow": false,
          "text": "Phi Coefficient (Binary)",
          "x": 0.5,
          "xanchor": "center",
          "xref": "paper",
          "y": 1,
          "yanchor": "bottom",
          "yref": "paper"
         },
         {
          "font": {
           "size": 16
          },
          "showarrow": false,
          "text": "Spearman Correlation",
          "x": 0.8555555555555556,
          "xanchor": "center",
          "xref": "paper",
          "y": 1,
          "yanchor": "bottom",
          "yref": "paper"
         }
        ],
        "height": 500,
        "showlegend": false,
        "template": {
         "data": {
          "bar": [
           {
            "error_x": {
             "color": "#2a3f5f"
            },
            "error_y": {
             "color": "#2a3f5f"
            },
            "marker": {
             "line": {
              "color": "white",
              "width": 0.5
             },
             "pattern": {
              "fillmode": "overlay",
              "size": 10,
              "solidity": 0.2
             }
            },
            "type": "bar"
           }
          ],
          "barpolar": [
           {
            "marker": {
             "line": {
              "color": "white",
              "width": 0.5
             },
             "pattern": {
              "fillmode": "overlay",
              "size": 10,
              "solidity": 0.2
             }
            },
            "type": "barpolar"
           }
          ],
          "carpet": [
           {
            "aaxis": {
             "endlinecolor": "#2a3f5f",
             "gridcolor": "#C8D4E3",
             "linecolor": "#C8D4E3",
             "minorgridcolor": "#C8D4E3",
             "startlinecolor": "#2a3f5f"
            },
            "baxis": {
             "endlinecolor": "#2a3f5f",
             "gridcolor": "#C8D4E3",
             "linecolor": "#C8D4E3",
             "minorgridcolor": "#C8D4E3",
             "startlinecolor": "#2a3f5f"
            },
            "type": "carpet"
           }
          ],
          "choropleth": [
           {
            "colorbar": {
             "outlinewidth": 0,
             "ticks": ""
            },
            "type": "choropleth"
           }
          ],
          "contour": [
           {
            "colorbar": {
             "outlinewidth": 0,
             "ticks": ""
            },
            "colorscale": [
             [
              0,
              "#0d0887"
             ],
             [
              0.1111111111111111,
              "#46039f"
             ],
             [
              0.2222222222222222,
              "#7201a8"
             ],
             [
              0.3333333333333333,
              "#9c179e"
             ],
             [
              0.4444444444444444,
              "#bd3786"
             ],
             [
              0.5555555555555556,
              "#d8576b"
             ],
             [
              0.6666666666666666,
              "#ed7953"
             ],
             [
              0.7777777777777778,
              "#fb9f3a"
             ],
             [
              0.8888888888888888,
              "#fdca26"
             ],
             [
              1,
              "#f0f921"
             ]
            ],
            "type": "contour"
           }
          ],
          "contourcarpet": [
           {
            "colorbar": {
             "outlinewidth": 0,
             "ticks": ""
            },
            "type": "contourcarpet"
           }
          ],
          "heatmap": [
           {
            "colorbar": {
             "outlinewidth": 0,
             "ticks": ""
            },
            "colorscale": [
             [
              0,
              "#0d0887"
             ],
             [
              0.1111111111111111,
              "#46039f"
             ],
             [
              0.2222222222222222,
              "#7201a8"
             ],
             [
              0.3333333333333333,
              "#9c179e"
             ],
             [
              0.4444444444444444,
              "#bd3786"
             ],
             [
              0.5555555555555556,
              "#d8576b"
             ],
             [
              0.6666666666666666,
              "#ed7953"
             ],
             [
              0.7777777777777778,
              "#fb9f3a"
             ],
             [
              0.8888888888888888,
              "#fdca26"
             ],
             [
              1,
              "#f0f921"
             ]
            ],
            "type": "heatmap"
           }
          ],
          "histogram": [
           {
            "marker": {
             "pattern": {
              "fillmode": "overlay",
              "size": 10,
              "solidity": 0.2
             }
            },
            "type": "histogram"
           }
          ],
          "histogram2d": [
           {
            "colorbar": {
             "outlinewidth": 0,
             "ticks": ""
            },
            "colorscale": [
             [
              0,
              "#0d0887"
             ],
             [
              0.1111111111111111,
              "#46039f"
             ],
             [
              0.2222222222222222,
              "#7201a8"
             ],
             [
              0.3333333333333333,
              "#9c179e"
             ],
             [
              0.4444444444444444,
              "#bd3786"
             ],
             [
              0.5555555555555556,
              "#d8576b"
             ],
             [
              0.6666666666666666,
              "#ed7953"
             ],
             [
              0.7777777777777778,
              "#fb9f3a"
             ],
             [
              0.8888888888888888,
              "#fdca26"
             ],
             [
              1,
              "#f0f921"
             ]
            ],
            "type": "histogram2d"
           }
          ],
          "histogram2dcontour": [
           {
            "colorbar": {
             "outlinewidth": 0,
             "ticks": ""
            },
            "colorscale": [
             [
              0,
              "#0d0887"
             ],
             [
              0.1111111111111111,
              "#46039f"
             ],
             [
              0.2222222222222222,
              "#7201a8"
             ],
             [
              0.3333333333333333,
              "#9c179e"
             ],
             [
              0.4444444444444444,
              "#bd3786"
             ],
             [
              0.5555555555555556,
              "#d8576b"
             ],
             [
              0.6666666666666666,
              "#ed7953"
             ],
             [
              0.7777777777777778,
              "#fb9f3a"
             ],
             [
              0.8888888888888888,
              "#fdca26"
             ],
             [
              1,
              "#f0f921"
             ]
            ],
            "type": "histogram2dcontour"
           }
          ],
          "mesh3d": [
           {
            "colorbar": {
             "outlinewidth": 0,
             "ticks": ""
            },
            "type": "mesh3d"
           }
          ],
          "parcoords": [
           {
            "line": {
             "colorbar": {
              "outlinewidth": 0,
              "ticks": ""
             }
            },
            "type": "parcoords"
           }
          ],
          "pie": [
           {
            "automargin": true,
            "type": "pie"
           }
          ],
          "scatter": [
           {
            "fillpattern": {
             "fillmode": "overlay",
             "size": 10,
             "solidity": 0.2
            },
            "type": "scatter"
           }
          ],
          "scatter3d": [
           {
            "line": {
             "colorbar": {
              "outlinewidth": 0,
              "ticks": ""
             }
            },
            "marker": {
             "colorbar": {
              "outlinewidth": 0,
              "ticks": ""
             }
            },
            "type": "scatter3d"
           }
          ],
          "scattercarpet": [
           {
            "marker": {
             "colorbar": {
              "outlinewidth": 0,
              "ticks": ""
             }
            },
            "type": "scattercarpet"
           }
          ],
          "scattergeo": [
           {
            "marker": {
             "colorbar": {
              "outlinewidth": 0,
              "ticks": ""
             }
            },
            "type": "scattergeo"
           }
          ],
          "scattergl": [
           {
            "marker": {
             "colorbar": {
              "outlinewidth": 0,
              "ticks": ""
             }
            },
            "type": "scattergl"
           }
          ],
          "scattermap": [
           {
            "marker": {
             "colorbar": {
              "outlinewidth": 0,
              "ticks": ""
             }
            },
            "type": "scattermap"
           }
          ],
          "scattermapbox": [
           {
            "marker": {
             "colorbar": {
              "outlinewidth": 0,
              "ticks": ""
             }
            },
            "type": "scattermapbox"
           }
          ],
          "scatterpolar": [
           {
            "marker": {
             "colorbar": {
              "outlinewidth": 0,
              "ticks": ""
             }
            },
            "type": "scatterpolar"
           }
          ],
          "scatterpolargl": [
           {
            "marker": {
             "colorbar": {
              "outlinewidth": 0,
              "ticks": ""
             }
            },
            "type": "scatterpolargl"
           }
          ],
          "scatterternary": [
           {
            "marker": {
             "colorbar": {
              "outlinewidth": 0,
              "ticks": ""
             }
            },
            "type": "scatterternary"
           }
          ],
          "surface": [
           {
            "colorbar": {
             "outlinewidth": 0,
             "ticks": ""
            },
            "colorscale": [
             [
              0,
              "#0d0887"
             ],
             [
              0.1111111111111111,
              "#46039f"
             ],
             [
              0.2222222222222222,
              "#7201a8"
             ],
             [
              0.3333333333333333,
              "#9c179e"
             ],
             [
              0.4444444444444444,
              "#bd3786"
             ],
             [
              0.5555555555555556,
              "#d8576b"
             ],
             [
              0.6666666666666666,
              "#ed7953"
             ],
             [
              0.7777777777777778,
              "#fb9f3a"
             ],
             [
              0.8888888888888888,
              "#fdca26"
             ],
             [
              1,
              "#f0f921"
             ]
            ],
            "type": "surface"
           }
          ],
          "table": [
           {
            "cells": {
             "fill": {
              "color": "#EBF0F8"
             },
             "line": {
              "color": "white"
             }
            },
            "header": {
             "fill": {
              "color": "#C8D4E3"
             },
             "line": {
              "color": "white"
             }
            },
            "type": "table"
           }
          ]
         },
         "layout": {
          "annotationdefaults": {
           "arrowcolor": "#2a3f5f",
           "arrowhead": 0,
           "arrowwidth": 1
          },
          "autotypenumbers": "strict",
          "coloraxis": {
           "colorbar": {
            "outlinewidth": 0,
            "ticks": ""
           }
          },
          "colorscale": {
           "diverging": [
            [
             0,
             "#8e0152"
            ],
            [
             0.1,
             "#c51b7d"
            ],
            [
             0.2,
             "#de77ae"
            ],
            [
             0.3,
             "#f1b6da"
            ],
            [
             0.4,
             "#fde0ef"
            ],
            [
             0.5,
             "#f7f7f7"
            ],
            [
             0.6,
             "#e6f5d0"
            ],
            [
             0.7,
             "#b8e186"
            ],
            [
             0.8,
             "#7fbc41"
            ],
            [
             0.9,
             "#4d9221"
            ],
            [
             1,
             "#276419"
            ]
           ],
           "sequential": [
            [
             0,
             "#0d0887"
            ],
            [
             0.1111111111111111,
             "#46039f"
            ],
            [
             0.2222222222222222,
             "#7201a8"
            ],
            [
             0.3333333333333333,
             "#9c179e"
            ],
            [
             0.4444444444444444,
             "#bd3786"
            ],
            [
             0.5555555555555556,
             "#d8576b"
            ],
            [
             0.6666666666666666,
             "#ed7953"
            ],
            [
             0.7777777777777778,
             "#fb9f3a"
            ],
            [
             0.8888888888888888,
             "#fdca26"
            ],
            [
             1,
             "#f0f921"
            ]
           ],
           "sequentialminus": [
            [
             0,
             "#0d0887"
            ],
            [
             0.1111111111111111,
             "#46039f"
            ],
            [
             0.2222222222222222,
             "#7201a8"
            ],
            [
             0.3333333333333333,
             "#9c179e"
            ],
            [
             0.4444444444444444,
             "#bd3786"
            ],
            [
             0.5555555555555556,
             "#d8576b"
            ],
            [
             0.6666666666666666,
             "#ed7953"
            ],
            [
             0.7777777777777778,
             "#fb9f3a"
            ],
            [
             0.8888888888888888,
             "#fdca26"
            ],
            [
             1,
             "#f0f921"
            ]
           ]
          },
          "colorway": [
           "#636efa",
           "#EF553B",
           "#00cc96",
           "#ab63fa",
           "#FFA15A",
           "#19d3f3",
           "#FF6692",
           "#B6E880",
           "#FF97FF",
           "#FECB52"
          ],
          "font": {
           "color": "#2a3f5f"
          },
          "geo": {
           "bgcolor": "white",
           "lakecolor": "white",
           "landcolor": "white",
           "showlakes": true,
           "showland": true,
           "subunitcolor": "#C8D4E3"
          },
          "hoverlabel": {
           "align": "left"
          },
          "hovermode": "closest",
          "mapbox": {
           "style": "light"
          },
          "paper_bgcolor": "white",
          "plot_bgcolor": "white",
          "polar": {
           "angularaxis": {
            "gridcolor": "#EBF0F8",
            "linecolor": "#EBF0F8",
            "ticks": ""
           },
           "bgcolor": "white",
           "radialaxis": {
            "gridcolor": "#EBF0F8",
            "linecolor": "#EBF0F8",
            "ticks": ""
           }
          },
          "scene": {
           "xaxis": {
            "backgroundcolor": "white",
            "gridcolor": "#DFE8F3",
            "gridwidth": 2,
            "linecolor": "#EBF0F8",
            "showbackground": true,
            "ticks": "",
            "zerolinecolor": "#EBF0F8"
           },
           "yaxis": {
            "backgroundcolor": "white",
            "gridcolor": "#DFE8F3",
            "gridwidth": 2,
            "linecolor": "#EBF0F8",
            "showbackground": true,
            "ticks": "",
            "zerolinecolor": "#EBF0F8"
           },
           "zaxis": {
            "backgroundcolor": "white",
            "gridcolor": "#DFE8F3",
            "gridwidth": 2,
            "linecolor": "#EBF0F8",
            "showbackground": true,
            "ticks": "",
            "zerolinecolor": "#EBF0F8"
           }
          },
          "shapedefaults": {
           "line": {
            "color": "#2a3f5f"
           }
          },
          "ternary": {
           "aaxis": {
            "gridcolor": "#DFE8F3",
            "linecolor": "#A2B1C6",
            "ticks": ""
           },
           "baxis": {
            "gridcolor": "#DFE8F3",
            "linecolor": "#A2B1C6",
            "ticks": ""
           },
           "bgcolor": "white",
           "caxis": {
            "gridcolor": "#DFE8F3",
            "linecolor": "#A2B1C6",
            "ticks": ""
           }
          },
          "title": {
           "x": 0.05
          },
          "xaxis": {
           "automargin": true,
           "gridcolor": "#EBF0F8",
           "linecolor": "#EBF0F8",
           "ticks": "",
           "title": {
            "standoff": 15
           },
           "zerolinecolor": "#EBF0F8",
           "zerolinewidth": 2
          },
          "yaxis": {
           "automargin": true,
           "gridcolor": "#EBF0F8",
           "linecolor": "#EBF0F8",
           "ticks": "",
           "title": {
            "standoff": 15
           },
           "zerolinecolor": "#EBF0F8",
           "zerolinewidth": 2
          }
         }
        },
        "title": {
         "font": {
          "size": 16
         },
         "text": "Round 2: Pairwise Agreement Metrics Between Annotators (Binary Data)",
         "x": 0.5
        },
        "xaxis": {
         "anchor": "y",
         "domain": [
          0,
          0.2888888888888889
         ],
         "tickangle": -45
        },
        "xaxis2": {
         "anchor": "y2",
         "domain": [
          0.35555555555555557,
          0.6444444444444445
         ],
         "tickangle": -45
        },
        "xaxis3": {
         "anchor": "y3",
         "domain": [
          0.7111111111111111,
          1
         ],
         "tickangle": -45
        },
        "yaxis": {
         "anchor": "x",
         "domain": [
          0,
          1
         ]
        },
        "yaxis2": {
         "anchor": "x2",
         "domain": [
          0,
          1
         ],
         "matches": "y",
         "showticklabels": false
        },
        "yaxis3": {
         "anchor": "x3",
         "domain": [
          0,
          1
         ],
         "matches": "y",
         "showticklabels": false
        }
       }
      }
     },
     "metadata": {},
     "output_type": "display_data"
    }
   ],
   "source": [
    "# 2. Detailed Pairwise Agreement Analysis for Round 2\n",
    "print(\"\\nDetailed Pairwise Analysis - Round 2\")\n",
    "print(\"-\" * 40)\n",
    "\n",
    "pairwise_results_r2 = []\n",
    "for i, ann1 in enumerate(round_2.columns):\n",
    "    for j, ann2 in enumerate(round_2.columns):\n",
    "        if i < j:\n",
    "            # Calculate multiple metrics\n",
    "            kappa = cohen_kappa_score(round_2[ann1], round_2[ann2])\n",
    "\n",
    "            # Calculate correlation only if there's variation in both annotators\n",
    "            try:\n",
    "                pearson_r, _ = pearsonr(round_2[ann1], round_2[ann2])  # Phi coefficient for binary data\n",
    "                spearman_r, _ = spearmanr(round_2[ann1], round_2[ann2])\n",
    "            except:\n",
    "                pearson_r = np.nan\n",
    "                spearman_r = np.nan\n",
    "\n",
    "            pairwise_results_r2.append({\"Pair\": f\"{ann1} vs {ann2}\", \"Cohen_Kappa\": kappa, \"Phi_Coefficient\": pearson_r, \"Spearman_r\": spearman_r, \"Annotator_1\": ann1, \"Annotator_2\": ann2})\n",
    "\n",
    "pairwise_df_r2 = pd.DataFrame(pairwise_results_r2)\n",
    "print(pairwise_df_r2.round(3))\n",
    "\n",
    "# Create multiple visualizations for Round 2\n",
    "fig_r2_multi = make_subplots(rows=1, cols=3, subplot_titles=[\"Cohen's Kappa\", \"Phi Coefficient (Binary)\", \"Spearman Correlation\"], shared_yaxes=True)\n",
    "\n",
    "# Cohen's Kappa\n",
    "fig_r2_multi.add_trace(go.Bar(x=pairwise_df_r2[\"Pair\"], y=pairwise_df_r2[\"Cohen_Kappa\"], text=pairwise_df_r2[\"Cohen_Kappa\"].round(3), textposition=\"auto\", name=\"Cohen's Kappa\", marker_color=\"lightblue\"), row=1, col=1)\n",
    "\n",
    "# Phi Coefficient (filter out NaN)\n",
    "valid_pearson_df = pairwise_df_r2.dropna(subset=[\"Phi_Coefficient\"])\n",
    "if not valid_pearson_df.empty:\n",
    "    fig_r2_multi.add_trace(go.Bar(x=valid_pearson_df[\"Pair\"], y=valid_pearson_df[\"Phi_Coefficient\"], text=valid_pearson_df[\"Phi_Coefficient\"].round(3), textposition=\"auto\", name=\"Phi Coefficient\", marker_color=\"lightcoral\"), row=1, col=2)\n",
    "\n",
    "# Spearman (filter out NaN)\n",
    "valid_spearman_df = pairwise_df_r2.dropna(subset=[\"Spearman_r\"])\n",
    "if not valid_spearman_df.empty:\n",
    "    fig_r2_multi.add_trace(go.Bar(x=valid_spearman_df[\"Pair\"], y=valid_spearman_df[\"Spearman_r\"], text=valid_spearman_df[\"Spearman_r\"].round(3), textposition=\"auto\", name=\"Spearman ρ\", marker_color=\"lightgreen\"), row=1, col=3)\n",
    "\n",
    "fig_r2_multi.update_layout(height=500, title={\"text\": \"Round 2: Pairwise Agreement Metrics Between Annotators (Binary Data)\", \"x\": 0.5, \"font\": {\"size\": 16}}, showlegend=False)\n",
    "\n",
    "fig_r2_multi.update_xaxes(tickangle=-45)\n",
    "fig_r2_multi.show()"
   ]
  },
  {
   "cell_type": "code",
   "execution_count": 28,
   "id": "08a36ba7",
   "metadata": {},
   "outputs": [
    {
     "name": "stdout",
     "output_type": "stream",
     "text": [
      "============================================================\n",
      "INTER-ANNOTATOR AGREEMENT ANALYSIS SUMMARY\n",
      "============================================================\n",
      "\n",
      "ROUND 1 (Binary Data: 0/1):\n",
      "---------------------------------------------\n",
      "- Dataset size: 14 items, 4 annotators\n",
      "- Overall agreement: 50.0%\n",
      "- Mean pairwise accuracy: 50.0%\n",
      "\n",
      "Key findings (Round 1):\n",
      "  - avaliador_1: {1: 14}\n",
      "  - avaliador_2: {1: 14}\n",
      "  - avaliador_3: {1: 14}\n",
      "  - avaliador_4: {0: 14}\n",
      "\n",
      "ROUND 2 (Binary Data: 0/1):\n",
      "---------------------------------------------\n",
      "- Dataset size: 23 items, 4 annotators\n",
      "- Overall agreement: 100.0%\n",
      "- Mean Cohen's Kappa: nan\n",
      "\n",
      "Annotator distribution (Round 2):\n",
      "  - avaliador_1: {1: 23}\n",
      "  - avaliador_2: {1: 23}\n",
      "  - avaliador_3: {1: 23}\n",
      "  - avaliador_4: {1: 23}\n"
     ]
    },
    {
     "data": {
      "application/vnd.plotly.v1+json": {
       "config": {
        "plotlyServerURL": "https://plot.ly"
       },
       "data": [
        {
         "marker": {
          "color": [
           "#2E86AB",
           "#A23B72"
          ]
         },
         "name": "Overall Agreement",
         "text": [
          "50.0%",
          "100.0%"
         ],
         "textposition": "auto",
         "type": "bar",
         "x": [
          "Round 1<br>(Binary)",
          "Round 2<br>(Binary)"
         ],
         "y": [
          0.5,
          1
         ]
        }
       ],
       "layout": {
        "height": 400,
        "showlegend": false,
        "template": {
         "data": {
          "bar": [
           {
            "error_x": {
             "color": "#2a3f5f"
            },
            "error_y": {
             "color": "#2a3f5f"
            },
            "marker": {
             "line": {
              "color": "white",
              "width": 0.5
             },
             "pattern": {
              "fillmode": "overlay",
              "size": 10,
              "solidity": 0.2
             }
            },
            "type": "bar"
           }
          ],
          "barpolar": [
           {
            "marker": {
             "line": {
              "color": "white",
              "width": 0.5
             },
             "pattern": {
              "fillmode": "overlay",
              "size": 10,
              "solidity": 0.2
             }
            },
            "type": "barpolar"
           }
          ],
          "carpet": [
           {
            "aaxis": {
             "endlinecolor": "#2a3f5f",
             "gridcolor": "#C8D4E3",
             "linecolor": "#C8D4E3",
             "minorgridcolor": "#C8D4E3",
             "startlinecolor": "#2a3f5f"
            },
            "baxis": {
             "endlinecolor": "#2a3f5f",
             "gridcolor": "#C8D4E3",
             "linecolor": "#C8D4E3",
             "minorgridcolor": "#C8D4E3",
             "startlinecolor": "#2a3f5f"
            },
            "type": "carpet"
           }
          ],
          "choropleth": [
           {
            "colorbar": {
             "outlinewidth": 0,
             "ticks": ""
            },
            "type": "choropleth"
           }
          ],
          "contour": [
           {
            "colorbar": {
             "outlinewidth": 0,
             "ticks": ""
            },
            "colorscale": [
             [
              0,
              "#0d0887"
             ],
             [
              0.1111111111111111,
              "#46039f"
             ],
             [
              0.2222222222222222,
              "#7201a8"
             ],
             [
              0.3333333333333333,
              "#9c179e"
             ],
             [
              0.4444444444444444,
              "#bd3786"
             ],
             [
              0.5555555555555556,
              "#d8576b"
             ],
             [
              0.6666666666666666,
              "#ed7953"
             ],
             [
              0.7777777777777778,
              "#fb9f3a"
             ],
             [
              0.8888888888888888,
              "#fdca26"
             ],
             [
              1,
              "#f0f921"
             ]
            ],
            "type": "contour"
           }
          ],
          "contourcarpet": [
           {
            "colorbar": {
             "outlinewidth": 0,
             "ticks": ""
            },
            "type": "contourcarpet"
           }
          ],
          "heatmap": [
           {
            "colorbar": {
             "outlinewidth": 0,
             "ticks": ""
            },
            "colorscale": [
             [
              0,
              "#0d0887"
             ],
             [
              0.1111111111111111,
              "#46039f"
             ],
             [
              0.2222222222222222,
              "#7201a8"
             ],
             [
              0.3333333333333333,
              "#9c179e"
             ],
             [
              0.4444444444444444,
              "#bd3786"
             ],
             [
              0.5555555555555556,
              "#d8576b"
             ],
             [
              0.6666666666666666,
              "#ed7953"
             ],
             [
              0.7777777777777778,
              "#fb9f3a"
             ],
             [
              0.8888888888888888,
              "#fdca26"
             ],
             [
              1,
              "#f0f921"
             ]
            ],
            "type": "heatmap"
           }
          ],
          "histogram": [
           {
            "marker": {
             "pattern": {
              "fillmode": "overlay",
              "size": 10,
              "solidity": 0.2
             }
            },
            "type": "histogram"
           }
          ],
          "histogram2d": [
           {
            "colorbar": {
             "outlinewidth": 0,
             "ticks": ""
            },
            "colorscale": [
             [
              0,
              "#0d0887"
             ],
             [
              0.1111111111111111,
              "#46039f"
             ],
             [
              0.2222222222222222,
              "#7201a8"
             ],
             [
              0.3333333333333333,
              "#9c179e"
             ],
             [
              0.4444444444444444,
              "#bd3786"
             ],
             [
              0.5555555555555556,
              "#d8576b"
             ],
             [
              0.6666666666666666,
              "#ed7953"
             ],
             [
              0.7777777777777778,
              "#fb9f3a"
             ],
             [
              0.8888888888888888,
              "#fdca26"
             ],
             [
              1,
              "#f0f921"
             ]
            ],
            "type": "histogram2d"
           }
          ],
          "histogram2dcontour": [
           {
            "colorbar": {
             "outlinewidth": 0,
             "ticks": ""
            },
            "colorscale": [
             [
              0,
              "#0d0887"
             ],
             [
              0.1111111111111111,
              "#46039f"
             ],
             [
              0.2222222222222222,
              "#7201a8"
             ],
             [
              0.3333333333333333,
              "#9c179e"
             ],
             [
              0.4444444444444444,
              "#bd3786"
             ],
             [
              0.5555555555555556,
              "#d8576b"
             ],
             [
              0.6666666666666666,
              "#ed7953"
             ],
             [
              0.7777777777777778,
              "#fb9f3a"
             ],
             [
              0.8888888888888888,
              "#fdca26"
             ],
             [
              1,
              "#f0f921"
             ]
            ],
            "type": "histogram2dcontour"
           }
          ],
          "mesh3d": [
           {
            "colorbar": {
             "outlinewidth": 0,
             "ticks": ""
            },
            "type": "mesh3d"
           }
          ],
          "parcoords": [
           {
            "line": {
             "colorbar": {
              "outlinewidth": 0,
              "ticks": ""
             }
            },
            "type": "parcoords"
           }
          ],
          "pie": [
           {
            "automargin": true,
            "type": "pie"
           }
          ],
          "scatter": [
           {
            "fillpattern": {
             "fillmode": "overlay",
             "size": 10,
             "solidity": 0.2
            },
            "type": "scatter"
           }
          ],
          "scatter3d": [
           {
            "line": {
             "colorbar": {
              "outlinewidth": 0,
              "ticks": ""
             }
            },
            "marker": {
             "colorbar": {
              "outlinewidth": 0,
              "ticks": ""
             }
            },
            "type": "scatter3d"
           }
          ],
          "scattercarpet": [
           {
            "marker": {
             "colorbar": {
              "outlinewidth": 0,
              "ticks": ""
             }
            },
            "type": "scattercarpet"
           }
          ],
          "scattergeo": [
           {
            "marker": {
             "colorbar": {
              "outlinewidth": 0,
              "ticks": ""
             }
            },
            "type": "scattergeo"
           }
          ],
          "scattergl": [
           {
            "marker": {
             "colorbar": {
              "outlinewidth": 0,
              "ticks": ""
             }
            },
            "type": "scattergl"
           }
          ],
          "scattermap": [
           {
            "marker": {
             "colorbar": {
              "outlinewidth": 0,
              "ticks": ""
             }
            },
            "type": "scattermap"
           }
          ],
          "scattermapbox": [
           {
            "marker": {
             "colorbar": {
              "outlinewidth": 0,
              "ticks": ""
             }
            },
            "type": "scattermapbox"
           }
          ],
          "scatterpolar": [
           {
            "marker": {
             "colorbar": {
              "outlinewidth": 0,
              "ticks": ""
             }
            },
            "type": "scatterpolar"
           }
          ],
          "scatterpolargl": [
           {
            "marker": {
             "colorbar": {
              "outlinewidth": 0,
              "ticks": ""
             }
            },
            "type": "scatterpolargl"
           }
          ],
          "scatterternary": [
           {
            "marker": {
             "colorbar": {
              "outlinewidth": 0,
              "ticks": ""
             }
            },
            "type": "scatterternary"
           }
          ],
          "surface": [
           {
            "colorbar": {
             "outlinewidth": 0,
             "ticks": ""
            },
            "colorscale": [
             [
              0,
              "#0d0887"
             ],
             [
              0.1111111111111111,
              "#46039f"
             ],
             [
              0.2222222222222222,
              "#7201a8"
             ],
             [
              0.3333333333333333,
              "#9c179e"
             ],
             [
              0.4444444444444444,
              "#bd3786"
             ],
             [
              0.5555555555555556,
              "#d8576b"
             ],
             [
              0.6666666666666666,
              "#ed7953"
             ],
             [
              0.7777777777777778,
              "#fb9f3a"
             ],
             [
              0.8888888888888888,
              "#fdca26"
             ],
             [
              1,
              "#f0f921"
             ]
            ],
            "type": "surface"
           }
          ],
          "table": [
           {
            "cells": {
             "fill": {
              "color": "#EBF0F8"
             },
             "line": {
              "color": "white"
             }
            },
            "header": {
             "fill": {
              "color": "#C8D4E3"
             },
             "line": {
              "color": "white"
             }
            },
            "type": "table"
           }
          ]
         },
         "layout": {
          "annotationdefaults": {
           "arrowcolor": "#2a3f5f",
           "arrowhead": 0,
           "arrowwidth": 1
          },
          "autotypenumbers": "strict",
          "coloraxis": {
           "colorbar": {
            "outlinewidth": 0,
            "ticks": ""
           }
          },
          "colorscale": {
           "diverging": [
            [
             0,
             "#8e0152"
            ],
            [
             0.1,
             "#c51b7d"
            ],
            [
             0.2,
             "#de77ae"
            ],
            [
             0.3,
             "#f1b6da"
            ],
            [
             0.4,
             "#fde0ef"
            ],
            [
             0.5,
             "#f7f7f7"
            ],
            [
             0.6,
             "#e6f5d0"
            ],
            [
             0.7,
             "#b8e186"
            ],
            [
             0.8,
             "#7fbc41"
            ],
            [
             0.9,
             "#4d9221"
            ],
            [
             1,
             "#276419"
            ]
           ],
           "sequential": [
            [
             0,
             "#0d0887"
            ],
            [
             0.1111111111111111,
             "#46039f"
            ],
            [
             0.2222222222222222,
             "#7201a8"
            ],
            [
             0.3333333333333333,
             "#9c179e"
            ],
            [
             0.4444444444444444,
             "#bd3786"
            ],
            [
             0.5555555555555556,
             "#d8576b"
            ],
            [
             0.6666666666666666,
             "#ed7953"
            ],
            [
             0.7777777777777778,
             "#fb9f3a"
            ],
            [
             0.8888888888888888,
             "#fdca26"
            ],
            [
             1,
             "#f0f921"
            ]
           ],
           "sequentialminus": [
            [
             0,
             "#0d0887"
            ],
            [
             0.1111111111111111,
             "#46039f"
            ],
            [
             0.2222222222222222,
             "#7201a8"
            ],
            [
             0.3333333333333333,
             "#9c179e"
            ],
            [
             0.4444444444444444,
             "#bd3786"
            ],
            [
             0.5555555555555556,
             "#d8576b"
            ],
            [
             0.6666666666666666,
             "#ed7953"
            ],
            [
             0.7777777777777778,
             "#fb9f3a"
            ],
            [
             0.8888888888888888,
             "#fdca26"
            ],
            [
             1,
             "#f0f921"
            ]
           ]
          },
          "colorway": [
           "#636efa",
           "#EF553B",
           "#00cc96",
           "#ab63fa",
           "#FFA15A",
           "#19d3f3",
           "#FF6692",
           "#B6E880",
           "#FF97FF",
           "#FECB52"
          ],
          "font": {
           "color": "#2a3f5f"
          },
          "geo": {
           "bgcolor": "white",
           "lakecolor": "white",
           "landcolor": "white",
           "showlakes": true,
           "showland": true,
           "subunitcolor": "#C8D4E3"
          },
          "hoverlabel": {
           "align": "left"
          },
          "hovermode": "closest",
          "mapbox": {
           "style": "light"
          },
          "paper_bgcolor": "white",
          "plot_bgcolor": "white",
          "polar": {
           "angularaxis": {
            "gridcolor": "#EBF0F8",
            "linecolor": "#EBF0F8",
            "ticks": ""
           },
           "bgcolor": "white",
           "radialaxis": {
            "gridcolor": "#EBF0F8",
            "linecolor": "#EBF0F8",
            "ticks": ""
           }
          },
          "scene": {
           "xaxis": {
            "backgroundcolor": "white",
            "gridcolor": "#DFE8F3",
            "gridwidth": 2,
            "linecolor": "#EBF0F8",
            "showbackground": true,
            "ticks": "",
            "zerolinecolor": "#EBF0F8"
           },
           "yaxis": {
            "backgroundcolor": "white",
            "gridcolor": "#DFE8F3",
            "gridwidth": 2,
            "linecolor": "#EBF0F8",
            "showbackground": true,
            "ticks": "",
            "zerolinecolor": "#EBF0F8"
           },
           "zaxis": {
            "backgroundcolor": "white",
            "gridcolor": "#DFE8F3",
            "gridwidth": 2,
            "linecolor": "#EBF0F8",
            "showbackground": true,
            "ticks": "",
            "zerolinecolor": "#EBF0F8"
           }
          },
          "shapedefaults": {
           "line": {
            "color": "#2a3f5f"
           }
          },
          "ternary": {
           "aaxis": {
            "gridcolor": "#DFE8F3",
            "linecolor": "#A2B1C6",
            "ticks": ""
           },
           "baxis": {
            "gridcolor": "#DFE8F3",
            "linecolor": "#A2B1C6",
            "ticks": ""
           },
           "bgcolor": "white",
           "caxis": {
            "gridcolor": "#DFE8F3",
            "linecolor": "#A2B1C6",
            "ticks": ""
           }
          },
          "title": {
           "x": 0.05
          },
          "xaxis": {
           "automargin": true,
           "gridcolor": "#EBF0F8",
           "linecolor": "#EBF0F8",
           "ticks": "",
           "title": {
            "standoff": 15
           },
           "zerolinecolor": "#EBF0F8",
           "zerolinewidth": 2
          },
          "yaxis": {
           "automargin": true,
           "gridcolor": "#EBF0F8",
           "linecolor": "#EBF0F8",
           "ticks": "",
           "title": {
            "standoff": 15
           },
           "zerolinecolor": "#EBF0F8",
           "zerolinewidth": 2
          }
         }
        },
        "title": {
         "font": {
          "size": 18
         },
         "text": "Overall Inter-Annotator Agreement Comparison",
         "x": 0.5
        },
        "xaxis": {
         "title": {
          "text": "Dataset"
         }
        },
        "yaxis": {
         "range": [
          0,
          1
         ],
         "title": {
          "text": "Agreement Score"
         }
        }
       }
      }
     },
     "metadata": {},
     "output_type": "display_data"
    }
   ],
   "source": [
    "# =============================================================================\n",
    "# SUMMARY AND INTERPRETATION\n",
    "# =============================================================================\n",
    "\n",
    "print(\"=\" * 60)\n",
    "print(\"INTER-ANNOTATOR AGREEMENT ANALYSIS SUMMARY\")\n",
    "print(\"=\" * 60)\n",
    "\n",
    "print(\"\\nROUND 1 (Binary Data: 0/1):\")\n",
    "print(\"-\" * 45)\n",
    "print(f\"- Dataset size: {round_1.shape[0]} items, {round_1.shape[1]} annotators\")\n",
    "print(f\"- Overall agreement: {overall_agreement_r1:.1%}\")\n",
    "print(f\"- Mean pairwise accuracy: {np.mean(accuracy_values):.1%}\")\n",
    "\n",
    "print(\"\\nKey findings (Round 1):\")\n",
    "for col in round_1.columns:\n",
    "    dist = round_1[col].value_counts().to_dict()\n",
    "    print(f\"  - {col}: {dist}\")\n",
    "\n",
    "print(f\"\\nROUND 2 (Binary Data: 0/1):\")\n",
    "print(\"-\" * 45)\n",
    "print(f\"- Dataset size: {round_2.shape[0]} items, {round_2.shape[1]} annotators\")\n",
    "print(f\"- Overall agreement: {overall_agreement_r2:.1%}\")\n",
    "print(f\"- Mean Cohen's Kappa: {np.nanmean([kappa_matrix_r2.iloc[i, j] for i in range(len(kappa_matrix_r2)) for j in range(i + 1, len(kappa_matrix_r2))]):.3f}\")\n",
    "\n",
    "# Check variation in Round 2\n",
    "print(f\"\\nAnnotator distribution (Round 2):\")\n",
    "for col in round_2.columns:\n",
    "    dist = round_2[col].value_counts().to_dict()\n",
    "    print(f\"  - {col}: {dist}\")\n",
    "\n",
    "\n",
    "# Create a final summary visualization\n",
    "fig_summary = go.Figure()\n",
    "\n",
    "# Add overall agreement comparison\n",
    "fig_summary.add_trace(go.Bar(x=[\"Round 1<br>(Binary)\", \"Round 2<br>(Binary)\"], y=[overall_agreement_r1, overall_agreement_r2], text=[f\"{overall_agreement_r1:.1%}\", f\"{overall_agreement_r2:.1%}\"], textposition=\"auto\", marker_color=[\"#2E86AB\", \"#A23B72\"], name=\"Overall Agreement\"))\n",
    "\n",
    "fig_summary.update_layout(title={\"text\": \"Overall Inter-Annotator Agreement Comparison\", \"x\": 0.5, \"font\": {\"size\": 18}}, xaxis_title=\"Dataset\", yaxis_title=\"Agreement Score\", yaxis=dict(range=[0, 1]), height=400, showlegend=False)\n",
    "\n",
    "fig_summary.show()"
   ]
  }
 ],
 "metadata": {
  "kernelspec": {
   "display_name": "survey_garden",
   "language": "python",
   "name": "python3"
  },
  "language_info": {
   "codemirror_mode": {
    "name": "ipython",
    "version": 3
   },
   "file_extension": ".py",
   "mimetype": "text/x-python",
   "name": "python",
   "nbconvert_exporter": "python",
   "pygments_lexer": "ipython3",
   "version": "3.13.7"
  }
 },
 "nbformat": 4,
 "nbformat_minor": 5
}
