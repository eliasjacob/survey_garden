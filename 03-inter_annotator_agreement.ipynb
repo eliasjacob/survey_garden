{
 "cells": [
  {
   "cell_type": "markdown",
   "id": "7e3a8471",
   "metadata": {},
   "source": [
    "# Inter-Annotator Agreement Analysis\n",
    "\n",
    "This notebook analyzes the inter-annotator agreement for the IVC (Index of Content Validity) dataset.\n",
    "\n",
    "## Dataset Overview\n",
    "- **Source**: IVC.xlsx file from the 20250915 folder\n",
    "- **Number of items**: 14 questions (Q01-Q14)\n",
    "- **Number of annotators**: 4 evaluators (avaliador_1 through avaliador_4)\n",
    "- **Response type**: Categorical (Sim/Não - Yes/No)\n",
    "\n",
    "## Analysis Approach\n",
    "1. **Fleiss' Kappa**: Multi-rater agreement statistic for categorical data\n",
    "2. **Cohen's Kappa**: Pairwise agreement between individual annotators\n",
    "3. **Accuracy Matrix**: Pairwise accuracy scores\n",
    "4. **Visualizations**: Heatmaps, bar charts, and gauge charts\n",
    "\n",
    "## Key Sections\n",
    "- Data loading and preprocessing\n",
    "- Fleiss' Kappa calculation and interpretation\n",
    "- Pairwise agreement analysis\n",
    "- Visual representations\n",
    "- Detailed findings and recommendations"
   ]
  },
  {
   "cell_type": "code",
   "execution_count": 1,
   "id": "e4ad5085",
   "metadata": {},
   "outputs": [],
   "source": [
    "# Importando bibliotecas necessárias\n",
    "import pandas as pd\n",
    "import numpy as np\n",
    "import plotly.express as px\n",
    "import plotly.graph_objects as go\n",
    "from plotly.subplots import make_subplots\n",
    "import plotly.io as pio\n",
    "from pathlib import Path\n",
    "import warnings\n",
    "\n",
    "warnings.filterwarnings(\"ignore\")\n",
    "\n",
    "# Configurações de visualização\n",
    "pio.templates.default = \"plotly_white\"\n",
    "pd.set_option(\"display.max_columns\", None)\n",
    "pd.set_option(\"display.width\", None)\n",
    "# set default to plotly in pandas\n",
    "pd.options.plotting.backend = \"plotly\""
   ]
  },
  {
   "cell_type": "code",
   "execution_count": 2,
   "id": "388556c6",
   "metadata": {},
   "outputs": [
    {
     "name": "stdout",
     "output_type": "stream",
     "text": [
      "Loading files...\n",
      "DB_val2.xlsx loaded: 155 rows, 98 columns\n",
      "Dicionário.xlsx loaded: 207 rows, 7 columns\n",
      "IVC.xlsx loaded: 14 rows, 9 columns\n",
      "Dicionário.xlsx loaded: 207 rows, 7 columns\n",
      "IVC.xlsx loaded: 14 rows, 9 columns\n"
     ]
    }
   ],
   "source": [
    "# Definindo caminhos dos arquivos\n",
    "data_path = Path(\"20250915\")\n",
    "\n",
    "# Carregando os arquivos\n",
    "print(\"Loading files...\")\n",
    "\n",
    "# Dados principais para análises dos pontos 1-3\n",
    "db_val2 = pd.read_excel(data_path / \"DB_val2.xlsx\")\n",
    "print(f\"DB_val2.xlsx loaded: {db_val2.shape[0]} rows, {db_val2.shape[1]} columns\")\n",
    "\n",
    "# Dicionário de espécies\n",
    "dicionario = pd.read_excel(data_path / \"Dicionário.xlsx\")\n",
    "print(f\"Dicionário.xlsx loaded: {dicionario.shape[0]} rows, {dicionario.shape[1]} columns\")\n",
    "\n",
    "# Dados para análise do ponto 4 (IVC)\n",
    "ivc = pd.read_excel(data_path / \"IVC.xlsx\")\n",
    "print(f\"IVC.xlsx loaded: {ivc.shape[0]} rows, {ivc.shape[1]} columns\")"
   ]
  },
  {
   "cell_type": "code",
   "execution_count": 3,
   "id": "e0d9ef3b",
   "metadata": {},
   "outputs": [
    {
     "data": {
      "application/vnd.microsoft.datawrangler.viewer.v0+json": {
       "columns": [
        {
         "name": "index",
         "rawType": "int64",
         "type": "integer"
        },
        {
         "name": "Item",
         "rawType": "object",
         "type": "string"
        },
        {
         "name": "Avaliador 1",
         "rawType": "object",
         "type": "string"
        },
        {
         "name": "Avaliador 2",
         "rawType": "object",
         "type": "string"
        },
        {
         "name": "Avaliador 3",
         "rawType": "object",
         "type": "string"
        },
        {
         "name": "Avaliador 4",
         "rawType": "object",
         "type": "string"
        },
        {
         "name": "N° de \"sim\"",
         "rawType": "int64",
         "type": "integer"
        },
        {
         "name": "IVC-i",
         "rawType": "float64",
         "type": "float"
        },
        {
         "name": "Unnamed: 7",
         "rawType": "float64",
         "type": "float"
        },
        {
         "name": "Unnamed: 8",
         "rawType": "object",
         "type": "unknown"
        }
       ],
       "ref": "b900bc72-836f-457e-9fbd-1141285e517d",
       "rows": [
        [
         "0",
         "Q01",
         "Sim",
         "Sim",
         "Sim",
         "Não",
         "3",
         "0.75",
         null,
         "IVC-i = (Nº de Juízes que votaram \"SIM\") / (Nº Total de Juízes)"
        ],
        [
         "1",
         "Q02",
         "Sim",
         "Sim",
         "Sim",
         "Não",
         "3",
         "0.75",
         null,
         null
        ],
        [
         "2",
         "Q03",
         "Sim",
         "Sim",
         "Sim",
         "Não",
         "3",
         "0.75",
         null,
         null
        ],
        [
         "3",
         "Q04",
         "Sim",
         "Sim",
         "Sim",
         "Não",
         "3",
         "0.75",
         null,
         null
        ],
        [
         "4",
         "Q05",
         "Sim",
         "Sim",
         "Sim",
         "Não",
         "3",
         "0.75",
         null,
         null
        ],
        [
         "5",
         "Q06",
         "Sim",
         "Sim",
         "Sim",
         "Não",
         "3",
         "0.75",
         null,
         null
        ],
        [
         "6",
         "Q07",
         "Sim",
         "Sim",
         "Sim",
         "Não",
         "3",
         "0.75",
         null,
         null
        ],
        [
         "7",
         "Q08",
         "Sim",
         "Sim",
         "Sim",
         "Não",
         "3",
         "0.75",
         null,
         null
        ],
        [
         "8",
         "Q09",
         "Sim",
         "Sim",
         "Sim",
         "Não",
         "3",
         "0.75",
         null,
         null
        ],
        [
         "9",
         "Q10",
         "Sim",
         "Sim",
         "Sim",
         "Não",
         "3",
         "0.75",
         null,
         null
        ],
        [
         "10",
         "Q11",
         "Sim",
         "Sim",
         "Sim",
         "Não",
         "3",
         "0.75",
         null,
         null
        ],
        [
         "11",
         "Q12",
         "Sim",
         "Sim",
         "Sim",
         "Não",
         "3",
         "0.75",
         null,
         null
        ],
        [
         "12",
         "Q13",
         "Sim",
         "Sim",
         "Sim",
         "Não",
         "3",
         "0.75",
         null,
         null
        ],
        [
         "13",
         "Q14",
         "Sim",
         "Sim",
         "Sim",
         "Não",
         "3",
         "0.75",
         null,
         null
        ]
       ],
       "shape": {
        "columns": 9,
        "rows": 14
       }
      },
      "text/html": [
       "<div>\n",
       "<style scoped>\n",
       "    .dataframe tbody tr th:only-of-type {\n",
       "        vertical-align: middle;\n",
       "    }\n",
       "\n",
       "    .dataframe tbody tr th {\n",
       "        vertical-align: top;\n",
       "    }\n",
       "\n",
       "    .dataframe thead th {\n",
       "        text-align: right;\n",
       "    }\n",
       "</style>\n",
       "<table border=\"1\" class=\"dataframe\">\n",
       "  <thead>\n",
       "    <tr style=\"text-align: right;\">\n",
       "      <th></th>\n",
       "      <th>Item</th>\n",
       "      <th>Avaliador 1</th>\n",
       "      <th>Avaliador 2</th>\n",
       "      <th>Avaliador 3</th>\n",
       "      <th>Avaliador 4</th>\n",
       "      <th>N° de \"sim\"</th>\n",
       "      <th>IVC-i</th>\n",
       "      <th>Unnamed: 7</th>\n",
       "      <th>Unnamed: 8</th>\n",
       "    </tr>\n",
       "  </thead>\n",
       "  <tbody>\n",
       "    <tr>\n",
       "      <th>0</th>\n",
       "      <td>Q01</td>\n",
       "      <td>Sim</td>\n",
       "      <td>Sim</td>\n",
       "      <td>Sim</td>\n",
       "      <td>Não</td>\n",
       "      <td>3</td>\n",
       "      <td>0.75</td>\n",
       "      <td>NaN</td>\n",
       "      <td>IVC-i = (Nº de Juízes que votaram \"SIM\") / (Nº...</td>\n",
       "    </tr>\n",
       "    <tr>\n",
       "      <th>1</th>\n",
       "      <td>Q02</td>\n",
       "      <td>Sim</td>\n",
       "      <td>Sim</td>\n",
       "      <td>Sim</td>\n",
       "      <td>Não</td>\n",
       "      <td>3</td>\n",
       "      <td>0.75</td>\n",
       "      <td>NaN</td>\n",
       "      <td>NaN</td>\n",
       "    </tr>\n",
       "    <tr>\n",
       "      <th>2</th>\n",
       "      <td>Q03</td>\n",
       "      <td>Sim</td>\n",
       "      <td>Sim</td>\n",
       "      <td>Sim</td>\n",
       "      <td>Não</td>\n",
       "      <td>3</td>\n",
       "      <td>0.75</td>\n",
       "      <td>NaN</td>\n",
       "      <td>NaN</td>\n",
       "    </tr>\n",
       "    <tr>\n",
       "      <th>3</th>\n",
       "      <td>Q04</td>\n",
       "      <td>Sim</td>\n",
       "      <td>Sim</td>\n",
       "      <td>Sim</td>\n",
       "      <td>Não</td>\n",
       "      <td>3</td>\n",
       "      <td>0.75</td>\n",
       "      <td>NaN</td>\n",
       "      <td>NaN</td>\n",
       "    </tr>\n",
       "    <tr>\n",
       "      <th>4</th>\n",
       "      <td>Q05</td>\n",
       "      <td>Sim</td>\n",
       "      <td>Sim</td>\n",
       "      <td>Sim</td>\n",
       "      <td>Não</td>\n",
       "      <td>3</td>\n",
       "      <td>0.75</td>\n",
       "      <td>NaN</td>\n",
       "      <td>NaN</td>\n",
       "    </tr>\n",
       "    <tr>\n",
       "      <th>5</th>\n",
       "      <td>Q06</td>\n",
       "      <td>Sim</td>\n",
       "      <td>Sim</td>\n",
       "      <td>Sim</td>\n",
       "      <td>Não</td>\n",
       "      <td>3</td>\n",
       "      <td>0.75</td>\n",
       "      <td>NaN</td>\n",
       "      <td>NaN</td>\n",
       "    </tr>\n",
       "    <tr>\n",
       "      <th>6</th>\n",
       "      <td>Q07</td>\n",
       "      <td>Sim</td>\n",
       "      <td>Sim</td>\n",
       "      <td>Sim</td>\n",
       "      <td>Não</td>\n",
       "      <td>3</td>\n",
       "      <td>0.75</td>\n",
       "      <td>NaN</td>\n",
       "      <td>NaN</td>\n",
       "    </tr>\n",
       "    <tr>\n",
       "      <th>7</th>\n",
       "      <td>Q08</td>\n",
       "      <td>Sim</td>\n",
       "      <td>Sim</td>\n",
       "      <td>Sim</td>\n",
       "      <td>Não</td>\n",
       "      <td>3</td>\n",
       "      <td>0.75</td>\n",
       "      <td>NaN</td>\n",
       "      <td>NaN</td>\n",
       "    </tr>\n",
       "    <tr>\n",
       "      <th>8</th>\n",
       "      <td>Q09</td>\n",
       "      <td>Sim</td>\n",
       "      <td>Sim</td>\n",
       "      <td>Sim</td>\n",
       "      <td>Não</td>\n",
       "      <td>3</td>\n",
       "      <td>0.75</td>\n",
       "      <td>NaN</td>\n",
       "      <td>NaN</td>\n",
       "    </tr>\n",
       "    <tr>\n",
       "      <th>9</th>\n",
       "      <td>Q10</td>\n",
       "      <td>Sim</td>\n",
       "      <td>Sim</td>\n",
       "      <td>Sim</td>\n",
       "      <td>Não</td>\n",
       "      <td>3</td>\n",
       "      <td>0.75</td>\n",
       "      <td>NaN</td>\n",
       "      <td>NaN</td>\n",
       "    </tr>\n",
       "    <tr>\n",
       "      <th>10</th>\n",
       "      <td>Q11</td>\n",
       "      <td>Sim</td>\n",
       "      <td>Sim</td>\n",
       "      <td>Sim</td>\n",
       "      <td>Não</td>\n",
       "      <td>3</td>\n",
       "      <td>0.75</td>\n",
       "      <td>NaN</td>\n",
       "      <td>NaN</td>\n",
       "    </tr>\n",
       "    <tr>\n",
       "      <th>11</th>\n",
       "      <td>Q12</td>\n",
       "      <td>Sim</td>\n",
       "      <td>Sim</td>\n",
       "      <td>Sim</td>\n",
       "      <td>Não</td>\n",
       "      <td>3</td>\n",
       "      <td>0.75</td>\n",
       "      <td>NaN</td>\n",
       "      <td>NaN</td>\n",
       "    </tr>\n",
       "    <tr>\n",
       "      <th>12</th>\n",
       "      <td>Q13</td>\n",
       "      <td>Sim</td>\n",
       "      <td>Sim</td>\n",
       "      <td>Sim</td>\n",
       "      <td>Não</td>\n",
       "      <td>3</td>\n",
       "      <td>0.75</td>\n",
       "      <td>NaN</td>\n",
       "      <td>NaN</td>\n",
       "    </tr>\n",
       "    <tr>\n",
       "      <th>13</th>\n",
       "      <td>Q14</td>\n",
       "      <td>Sim</td>\n",
       "      <td>Sim</td>\n",
       "      <td>Sim</td>\n",
       "      <td>Não</td>\n",
       "      <td>3</td>\n",
       "      <td>0.75</td>\n",
       "      <td>NaN</td>\n",
       "      <td>NaN</td>\n",
       "    </tr>\n",
       "  </tbody>\n",
       "</table>\n",
       "</div>"
      ],
      "text/plain": [
       "   Item Avaliador 1 Avaliador 2 Avaliador 3 Avaliador 4  N° de \"sim\"  IVC-i  \\\n",
       "0   Q01         Sim         Sim         Sim         Não            3   0.75   \n",
       "1   Q02         Sim         Sim         Sim         Não            3   0.75   \n",
       "2   Q03         Sim         Sim         Sim         Não            3   0.75   \n",
       "3   Q04         Sim         Sim         Sim         Não            3   0.75   \n",
       "4   Q05         Sim         Sim         Sim         Não            3   0.75   \n",
       "5   Q06         Sim         Sim         Sim         Não            3   0.75   \n",
       "6   Q07         Sim         Sim         Sim         Não            3   0.75   \n",
       "7   Q08         Sim         Sim         Sim         Não            3   0.75   \n",
       "8   Q09         Sim         Sim         Sim         Não            3   0.75   \n",
       "9   Q10         Sim         Sim         Sim         Não            3   0.75   \n",
       "10  Q11         Sim         Sim         Sim         Não            3   0.75   \n",
       "11  Q12         Sim         Sim         Sim         Não            3   0.75   \n",
       "12  Q13         Sim         Sim         Sim         Não            3   0.75   \n",
       "13  Q14         Sim         Sim         Sim         Não            3   0.75   \n",
       "\n",
       "    Unnamed: 7                                         Unnamed: 8  \n",
       "0          NaN  IVC-i = (Nº de Juízes que votaram \"SIM\") / (Nº...  \n",
       "1          NaN                                                NaN  \n",
       "2          NaN                                                NaN  \n",
       "3          NaN                                                NaN  \n",
       "4          NaN                                                NaN  \n",
       "5          NaN                                                NaN  \n",
       "6          NaN                                                NaN  \n",
       "7          NaN                                                NaN  \n",
       "8          NaN                                                NaN  \n",
       "9          NaN                                                NaN  \n",
       "10         NaN                                                NaN  \n",
       "11         NaN                                                NaN  \n",
       "12         NaN                                                NaN  \n",
       "13         NaN                                                NaN  "
      ]
     },
     "execution_count": 3,
     "metadata": {},
     "output_type": "execute_result"
    }
   ],
   "source": [
    "ivc"
   ]
  },
  {
   "cell_type": "code",
   "execution_count": 4,
   "id": "6c1b300f",
   "metadata": {},
   "outputs": [
    {
     "data": {
      "application/vnd.microsoft.datawrangler.viewer.v0+json": {
       "columns": [
        {
         "name": "index",
         "rawType": "int64",
         "type": "integer"
        },
        {
         "name": "item",
         "rawType": "object",
         "type": "string"
        },
        {
         "name": "avaliador_1",
         "rawType": "object",
         "type": "string"
        },
        {
         "name": "avaliador_2",
         "rawType": "object",
         "type": "string"
        },
        {
         "name": "avaliador_3",
         "rawType": "object",
         "type": "string"
        },
        {
         "name": "avaliador_4",
         "rawType": "object",
         "type": "string"
        },
        {
         "name": "n°_de_\"sim\"",
         "rawType": "int64",
         "type": "integer"
        },
        {
         "name": "ivc-i",
         "rawType": "float64",
         "type": "float"
        },
        {
         "name": "unnamed:_7",
         "rawType": "float64",
         "type": "float"
        },
        {
         "name": "unnamed:_8",
         "rawType": "object",
         "type": "unknown"
        }
       ],
       "ref": "f962671f-9021-414b-8e9b-d223594c29bf",
       "rows": [
        [
         "0",
         "Q01",
         "Sim",
         "Sim",
         "Sim",
         "Não",
         "3",
         "0.75",
         null,
         "IVC-i = (Nº de Juízes que votaram \"SIM\") / (Nº Total de Juízes)"
        ],
        [
         "1",
         "Q02",
         "Sim",
         "Sim",
         "Sim",
         "Não",
         "3",
         "0.75",
         null,
         null
        ],
        [
         "2",
         "Q03",
         "Sim",
         "Sim",
         "Sim",
         "Não",
         "3",
         "0.75",
         null,
         null
        ],
        [
         "3",
         "Q04",
         "Sim",
         "Sim",
         "Sim",
         "Não",
         "3",
         "0.75",
         null,
         null
        ],
        [
         "4",
         "Q05",
         "Sim",
         "Sim",
         "Sim",
         "Não",
         "3",
         "0.75",
         null,
         null
        ],
        [
         "5",
         "Q06",
         "Sim",
         "Sim",
         "Sim",
         "Não",
         "3",
         "0.75",
         null,
         null
        ],
        [
         "6",
         "Q07",
         "Sim",
         "Sim",
         "Sim",
         "Não",
         "3",
         "0.75",
         null,
         null
        ],
        [
         "7",
         "Q08",
         "Sim",
         "Sim",
         "Sim",
         "Não",
         "3",
         "0.75",
         null,
         null
        ],
        [
         "8",
         "Q09",
         "Sim",
         "Sim",
         "Sim",
         "Não",
         "3",
         "0.75",
         null,
         null
        ],
        [
         "9",
         "Q10",
         "Sim",
         "Sim",
         "Sim",
         "Não",
         "3",
         "0.75",
         null,
         null
        ],
        [
         "10",
         "Q11",
         "Sim",
         "Sim",
         "Sim",
         "Não",
         "3",
         "0.75",
         null,
         null
        ],
        [
         "11",
         "Q12",
         "Sim",
         "Sim",
         "Sim",
         "Não",
         "3",
         "0.75",
         null,
         null
        ],
        [
         "12",
         "Q13",
         "Sim",
         "Sim",
         "Sim",
         "Não",
         "3",
         "0.75",
         null,
         null
        ],
        [
         "13",
         "Q14",
         "Sim",
         "Sim",
         "Sim",
         "Não",
         "3",
         "0.75",
         null,
         null
        ]
       ],
       "shape": {
        "columns": 9,
        "rows": 14
       }
      },
      "text/html": [
       "<div>\n",
       "<style scoped>\n",
       "    .dataframe tbody tr th:only-of-type {\n",
       "        vertical-align: middle;\n",
       "    }\n",
       "\n",
       "    .dataframe tbody tr th {\n",
       "        vertical-align: top;\n",
       "    }\n",
       "\n",
       "    .dataframe thead th {\n",
       "        text-align: right;\n",
       "    }\n",
       "</style>\n",
       "<table border=\"1\" class=\"dataframe\">\n",
       "  <thead>\n",
       "    <tr style=\"text-align: right;\">\n",
       "      <th></th>\n",
       "      <th>item</th>\n",
       "      <th>avaliador_1</th>\n",
       "      <th>avaliador_2</th>\n",
       "      <th>avaliador_3</th>\n",
       "      <th>avaliador_4</th>\n",
       "      <th>n°_de_\"sim\"</th>\n",
       "      <th>ivc-i</th>\n",
       "      <th>unnamed:_7</th>\n",
       "      <th>unnamed:_8</th>\n",
       "    </tr>\n",
       "  </thead>\n",
       "  <tbody>\n",
       "    <tr>\n",
       "      <th>0</th>\n",
       "      <td>Q01</td>\n",
       "      <td>Sim</td>\n",
       "      <td>Sim</td>\n",
       "      <td>Sim</td>\n",
       "      <td>Não</td>\n",
       "      <td>3</td>\n",
       "      <td>0.75</td>\n",
       "      <td>NaN</td>\n",
       "      <td>IVC-i = (Nº de Juízes que votaram \"SIM\") / (Nº...</td>\n",
       "    </tr>\n",
       "    <tr>\n",
       "      <th>1</th>\n",
       "      <td>Q02</td>\n",
       "      <td>Sim</td>\n",
       "      <td>Sim</td>\n",
       "      <td>Sim</td>\n",
       "      <td>Não</td>\n",
       "      <td>3</td>\n",
       "      <td>0.75</td>\n",
       "      <td>NaN</td>\n",
       "      <td>NaN</td>\n",
       "    </tr>\n",
       "    <tr>\n",
       "      <th>2</th>\n",
       "      <td>Q03</td>\n",
       "      <td>Sim</td>\n",
       "      <td>Sim</td>\n",
       "      <td>Sim</td>\n",
       "      <td>Não</td>\n",
       "      <td>3</td>\n",
       "      <td>0.75</td>\n",
       "      <td>NaN</td>\n",
       "      <td>NaN</td>\n",
       "    </tr>\n",
       "    <tr>\n",
       "      <th>3</th>\n",
       "      <td>Q04</td>\n",
       "      <td>Sim</td>\n",
       "      <td>Sim</td>\n",
       "      <td>Sim</td>\n",
       "      <td>Não</td>\n",
       "      <td>3</td>\n",
       "      <td>0.75</td>\n",
       "      <td>NaN</td>\n",
       "      <td>NaN</td>\n",
       "    </tr>\n",
       "    <tr>\n",
       "      <th>4</th>\n",
       "      <td>Q05</td>\n",
       "      <td>Sim</td>\n",
       "      <td>Sim</td>\n",
       "      <td>Sim</td>\n",
       "      <td>Não</td>\n",
       "      <td>3</td>\n",
       "      <td>0.75</td>\n",
       "      <td>NaN</td>\n",
       "      <td>NaN</td>\n",
       "    </tr>\n",
       "    <tr>\n",
       "      <th>5</th>\n",
       "      <td>Q06</td>\n",
       "      <td>Sim</td>\n",
       "      <td>Sim</td>\n",
       "      <td>Sim</td>\n",
       "      <td>Não</td>\n",
       "      <td>3</td>\n",
       "      <td>0.75</td>\n",
       "      <td>NaN</td>\n",
       "      <td>NaN</td>\n",
       "    </tr>\n",
       "    <tr>\n",
       "      <th>6</th>\n",
       "      <td>Q07</td>\n",
       "      <td>Sim</td>\n",
       "      <td>Sim</td>\n",
       "      <td>Sim</td>\n",
       "      <td>Não</td>\n",
       "      <td>3</td>\n",
       "      <td>0.75</td>\n",
       "      <td>NaN</td>\n",
       "      <td>NaN</td>\n",
       "    </tr>\n",
       "    <tr>\n",
       "      <th>7</th>\n",
       "      <td>Q08</td>\n",
       "      <td>Sim</td>\n",
       "      <td>Sim</td>\n",
       "      <td>Sim</td>\n",
       "      <td>Não</td>\n",
       "      <td>3</td>\n",
       "      <td>0.75</td>\n",
       "      <td>NaN</td>\n",
       "      <td>NaN</td>\n",
       "    </tr>\n",
       "    <tr>\n",
       "      <th>8</th>\n",
       "      <td>Q09</td>\n",
       "      <td>Sim</td>\n",
       "      <td>Sim</td>\n",
       "      <td>Sim</td>\n",
       "      <td>Não</td>\n",
       "      <td>3</td>\n",
       "      <td>0.75</td>\n",
       "      <td>NaN</td>\n",
       "      <td>NaN</td>\n",
       "    </tr>\n",
       "    <tr>\n",
       "      <th>9</th>\n",
       "      <td>Q10</td>\n",
       "      <td>Sim</td>\n",
       "      <td>Sim</td>\n",
       "      <td>Sim</td>\n",
       "      <td>Não</td>\n",
       "      <td>3</td>\n",
       "      <td>0.75</td>\n",
       "      <td>NaN</td>\n",
       "      <td>NaN</td>\n",
       "    </tr>\n",
       "    <tr>\n",
       "      <th>10</th>\n",
       "      <td>Q11</td>\n",
       "      <td>Sim</td>\n",
       "      <td>Sim</td>\n",
       "      <td>Sim</td>\n",
       "      <td>Não</td>\n",
       "      <td>3</td>\n",
       "      <td>0.75</td>\n",
       "      <td>NaN</td>\n",
       "      <td>NaN</td>\n",
       "    </tr>\n",
       "    <tr>\n",
       "      <th>11</th>\n",
       "      <td>Q12</td>\n",
       "      <td>Sim</td>\n",
       "      <td>Sim</td>\n",
       "      <td>Sim</td>\n",
       "      <td>Não</td>\n",
       "      <td>3</td>\n",
       "      <td>0.75</td>\n",
       "      <td>NaN</td>\n",
       "      <td>NaN</td>\n",
       "    </tr>\n",
       "    <tr>\n",
       "      <th>12</th>\n",
       "      <td>Q13</td>\n",
       "      <td>Sim</td>\n",
       "      <td>Sim</td>\n",
       "      <td>Sim</td>\n",
       "      <td>Não</td>\n",
       "      <td>3</td>\n",
       "      <td>0.75</td>\n",
       "      <td>NaN</td>\n",
       "      <td>NaN</td>\n",
       "    </tr>\n",
       "    <tr>\n",
       "      <th>13</th>\n",
       "      <td>Q14</td>\n",
       "      <td>Sim</td>\n",
       "      <td>Sim</td>\n",
       "      <td>Sim</td>\n",
       "      <td>Não</td>\n",
       "      <td>3</td>\n",
       "      <td>0.75</td>\n",
       "      <td>NaN</td>\n",
       "      <td>NaN</td>\n",
       "    </tr>\n",
       "  </tbody>\n",
       "</table>\n",
       "</div>"
      ],
      "text/plain": [
       "   item avaliador_1 avaliador_2 avaliador_3 avaliador_4  n°_de_\"sim\"  ivc-i  \\\n",
       "0   Q01         Sim         Sim         Sim         Não            3   0.75   \n",
       "1   Q02         Sim         Sim         Sim         Não            3   0.75   \n",
       "2   Q03         Sim         Sim         Sim         Não            3   0.75   \n",
       "3   Q04         Sim         Sim         Sim         Não            3   0.75   \n",
       "4   Q05         Sim         Sim         Sim         Não            3   0.75   \n",
       "5   Q06         Sim         Sim         Sim         Não            3   0.75   \n",
       "6   Q07         Sim         Sim         Sim         Não            3   0.75   \n",
       "7   Q08         Sim         Sim         Sim         Não            3   0.75   \n",
       "8   Q09         Sim         Sim         Sim         Não            3   0.75   \n",
       "9   Q10         Sim         Sim         Sim         Não            3   0.75   \n",
       "10  Q11         Sim         Sim         Sim         Não            3   0.75   \n",
       "11  Q12         Sim         Sim         Sim         Não            3   0.75   \n",
       "12  Q13         Sim         Sim         Sim         Não            3   0.75   \n",
       "13  Q14         Sim         Sim         Sim         Não            3   0.75   \n",
       "\n",
       "    unnamed:_7                                         unnamed:_8  \n",
       "0          NaN  IVC-i = (Nº de Juízes que votaram \"SIM\") / (Nº...  \n",
       "1          NaN                                                NaN  \n",
       "2          NaN                                                NaN  \n",
       "3          NaN                                                NaN  \n",
       "4          NaN                                                NaN  \n",
       "5          NaN                                                NaN  \n",
       "6          NaN                                                NaN  \n",
       "7          NaN                                                NaN  \n",
       "8          NaN                                                NaN  \n",
       "9          NaN                                                NaN  \n",
       "10         NaN                                                NaN  \n",
       "11         NaN                                                NaN  \n",
       "12         NaN                                                NaN  \n",
       "13         NaN                                                NaN  "
      ]
     },
     "execution_count": 4,
     "metadata": {},
     "output_type": "execute_result"
    }
   ],
   "source": [
    "ivc.columns = [i.lower().strip().replace(\" \", \"_\") for i in ivc.columns]\n",
    "ivc"
   ]
  },
  {
   "cell_type": "code",
   "execution_count": 5,
   "id": "cef5f711",
   "metadata": {},
   "outputs": [
    {
     "data": {
      "application/vnd.microsoft.datawrangler.viewer.v0+json": {
       "columns": [
        {
         "name": "item",
         "rawType": "object",
         "type": "string"
        },
        {
         "name": "avaliador_1",
         "rawType": "object",
         "type": "string"
        },
        {
         "name": "avaliador_2",
         "rawType": "object",
         "type": "string"
        },
        {
         "name": "avaliador_3",
         "rawType": "object",
         "type": "string"
        },
        {
         "name": "avaliador_4",
         "rawType": "object",
         "type": "string"
        },
        {
         "name": "n°_de_\"sim\"",
         "rawType": "int64",
         "type": "integer"
        },
        {
         "name": "ivc-i",
         "rawType": "float64",
         "type": "float"
        },
        {
         "name": "unnamed:_7",
         "rawType": "float64",
         "type": "float"
        },
        {
         "name": "unnamed:_8",
         "rawType": "object",
         "type": "unknown"
        }
       ],
       "ref": "1cfc1ff3-3db3-43ac-beee-ee296a6a95a7",
       "rows": [
        [
         "Q01",
         "Sim",
         "Sim",
         "Sim",
         "Não",
         "3",
         "0.75",
         null,
         "IVC-i = (Nº de Juízes que votaram \"SIM\") / (Nº Total de Juízes)"
        ],
        [
         "Q02",
         "Sim",
         "Sim",
         "Sim",
         "Não",
         "3",
         "0.75",
         null,
         null
        ],
        [
         "Q03",
         "Sim",
         "Sim",
         "Sim",
         "Não",
         "3",
         "0.75",
         null,
         null
        ],
        [
         "Q04",
         "Sim",
         "Sim",
         "Sim",
         "Não",
         "3",
         "0.75",
         null,
         null
        ],
        [
         "Q05",
         "Sim",
         "Sim",
         "Sim",
         "Não",
         "3",
         "0.75",
         null,
         null
        ],
        [
         "Q06",
         "Sim",
         "Sim",
         "Sim",
         "Não",
         "3",
         "0.75",
         null,
         null
        ],
        [
         "Q07",
         "Sim",
         "Sim",
         "Sim",
         "Não",
         "3",
         "0.75",
         null,
         null
        ],
        [
         "Q08",
         "Sim",
         "Sim",
         "Sim",
         "Não",
         "3",
         "0.75",
         null,
         null
        ],
        [
         "Q09",
         "Sim",
         "Sim",
         "Sim",
         "Não",
         "3",
         "0.75",
         null,
         null
        ],
        [
         "Q10",
         "Sim",
         "Sim",
         "Sim",
         "Não",
         "3",
         "0.75",
         null,
         null
        ],
        [
         "Q11",
         "Sim",
         "Sim",
         "Sim",
         "Não",
         "3",
         "0.75",
         null,
         null
        ],
        [
         "Q12",
         "Sim",
         "Sim",
         "Sim",
         "Não",
         "3",
         "0.75",
         null,
         null
        ],
        [
         "Q13",
         "Sim",
         "Sim",
         "Sim",
         "Não",
         "3",
         "0.75",
         null,
         null
        ],
        [
         "Q14",
         "Sim",
         "Sim",
         "Sim",
         "Não",
         "3",
         "0.75",
         null,
         null
        ]
       ],
       "shape": {
        "columns": 8,
        "rows": 14
       }
      },
      "text/html": [
       "<div>\n",
       "<style scoped>\n",
       "    .dataframe tbody tr th:only-of-type {\n",
       "        vertical-align: middle;\n",
       "    }\n",
       "\n",
       "    .dataframe tbody tr th {\n",
       "        vertical-align: top;\n",
       "    }\n",
       "\n",
       "    .dataframe thead th {\n",
       "        text-align: right;\n",
       "    }\n",
       "</style>\n",
       "<table border=\"1\" class=\"dataframe\">\n",
       "  <thead>\n",
       "    <tr style=\"text-align: right;\">\n",
       "      <th></th>\n",
       "      <th>avaliador_1</th>\n",
       "      <th>avaliador_2</th>\n",
       "      <th>avaliador_3</th>\n",
       "      <th>avaliador_4</th>\n",
       "      <th>n°_de_\"sim\"</th>\n",
       "      <th>ivc-i</th>\n",
       "      <th>unnamed:_7</th>\n",
       "      <th>unnamed:_8</th>\n",
       "    </tr>\n",
       "    <tr>\n",
       "      <th>item</th>\n",
       "      <th></th>\n",
       "      <th></th>\n",
       "      <th></th>\n",
       "      <th></th>\n",
       "      <th></th>\n",
       "      <th></th>\n",
       "      <th></th>\n",
       "      <th></th>\n",
       "    </tr>\n",
       "  </thead>\n",
       "  <tbody>\n",
       "    <tr>\n",
       "      <th>Q01</th>\n",
       "      <td>Sim</td>\n",
       "      <td>Sim</td>\n",
       "      <td>Sim</td>\n",
       "      <td>Não</td>\n",
       "      <td>3</td>\n",
       "      <td>0.75</td>\n",
       "      <td>NaN</td>\n",
       "      <td>IVC-i = (Nº de Juízes que votaram \"SIM\") / (Nº...</td>\n",
       "    </tr>\n",
       "    <tr>\n",
       "      <th>Q02</th>\n",
       "      <td>Sim</td>\n",
       "      <td>Sim</td>\n",
       "      <td>Sim</td>\n",
       "      <td>Não</td>\n",
       "      <td>3</td>\n",
       "      <td>0.75</td>\n",
       "      <td>NaN</td>\n",
       "      <td>NaN</td>\n",
       "    </tr>\n",
       "    <tr>\n",
       "      <th>Q03</th>\n",
       "      <td>Sim</td>\n",
       "      <td>Sim</td>\n",
       "      <td>Sim</td>\n",
       "      <td>Não</td>\n",
       "      <td>3</td>\n",
       "      <td>0.75</td>\n",
       "      <td>NaN</td>\n",
       "      <td>NaN</td>\n",
       "    </tr>\n",
       "    <tr>\n",
       "      <th>Q04</th>\n",
       "      <td>Sim</td>\n",
       "      <td>Sim</td>\n",
       "      <td>Sim</td>\n",
       "      <td>Não</td>\n",
       "      <td>3</td>\n",
       "      <td>0.75</td>\n",
       "      <td>NaN</td>\n",
       "      <td>NaN</td>\n",
       "    </tr>\n",
       "    <tr>\n",
       "      <th>Q05</th>\n",
       "      <td>Sim</td>\n",
       "      <td>Sim</td>\n",
       "      <td>Sim</td>\n",
       "      <td>Não</td>\n",
       "      <td>3</td>\n",
       "      <td>0.75</td>\n",
       "      <td>NaN</td>\n",
       "      <td>NaN</td>\n",
       "    </tr>\n",
       "    <tr>\n",
       "      <th>Q06</th>\n",
       "      <td>Sim</td>\n",
       "      <td>Sim</td>\n",
       "      <td>Sim</td>\n",
       "      <td>Não</td>\n",
       "      <td>3</td>\n",
       "      <td>0.75</td>\n",
       "      <td>NaN</td>\n",
       "      <td>NaN</td>\n",
       "    </tr>\n",
       "    <tr>\n",
       "      <th>Q07</th>\n",
       "      <td>Sim</td>\n",
       "      <td>Sim</td>\n",
       "      <td>Sim</td>\n",
       "      <td>Não</td>\n",
       "      <td>3</td>\n",
       "      <td>0.75</td>\n",
       "      <td>NaN</td>\n",
       "      <td>NaN</td>\n",
       "    </tr>\n",
       "    <tr>\n",
       "      <th>Q08</th>\n",
       "      <td>Sim</td>\n",
       "      <td>Sim</td>\n",
       "      <td>Sim</td>\n",
       "      <td>Não</td>\n",
       "      <td>3</td>\n",
       "      <td>0.75</td>\n",
       "      <td>NaN</td>\n",
       "      <td>NaN</td>\n",
       "    </tr>\n",
       "    <tr>\n",
       "      <th>Q09</th>\n",
       "      <td>Sim</td>\n",
       "      <td>Sim</td>\n",
       "      <td>Sim</td>\n",
       "      <td>Não</td>\n",
       "      <td>3</td>\n",
       "      <td>0.75</td>\n",
       "      <td>NaN</td>\n",
       "      <td>NaN</td>\n",
       "    </tr>\n",
       "    <tr>\n",
       "      <th>Q10</th>\n",
       "      <td>Sim</td>\n",
       "      <td>Sim</td>\n",
       "      <td>Sim</td>\n",
       "      <td>Não</td>\n",
       "      <td>3</td>\n",
       "      <td>0.75</td>\n",
       "      <td>NaN</td>\n",
       "      <td>NaN</td>\n",
       "    </tr>\n",
       "    <tr>\n",
       "      <th>Q11</th>\n",
       "      <td>Sim</td>\n",
       "      <td>Sim</td>\n",
       "      <td>Sim</td>\n",
       "      <td>Não</td>\n",
       "      <td>3</td>\n",
       "      <td>0.75</td>\n",
       "      <td>NaN</td>\n",
       "      <td>NaN</td>\n",
       "    </tr>\n",
       "    <tr>\n",
       "      <th>Q12</th>\n",
       "      <td>Sim</td>\n",
       "      <td>Sim</td>\n",
       "      <td>Sim</td>\n",
       "      <td>Não</td>\n",
       "      <td>3</td>\n",
       "      <td>0.75</td>\n",
       "      <td>NaN</td>\n",
       "      <td>NaN</td>\n",
       "    </tr>\n",
       "    <tr>\n",
       "      <th>Q13</th>\n",
       "      <td>Sim</td>\n",
       "      <td>Sim</td>\n",
       "      <td>Sim</td>\n",
       "      <td>Não</td>\n",
       "      <td>3</td>\n",
       "      <td>0.75</td>\n",
       "      <td>NaN</td>\n",
       "      <td>NaN</td>\n",
       "    </tr>\n",
       "    <tr>\n",
       "      <th>Q14</th>\n",
       "      <td>Sim</td>\n",
       "      <td>Sim</td>\n",
       "      <td>Sim</td>\n",
       "      <td>Não</td>\n",
       "      <td>3</td>\n",
       "      <td>0.75</td>\n",
       "      <td>NaN</td>\n",
       "      <td>NaN</td>\n",
       "    </tr>\n",
       "  </tbody>\n",
       "</table>\n",
       "</div>"
      ],
      "text/plain": [
       "     avaliador_1 avaliador_2 avaliador_3 avaliador_4  n°_de_\"sim\"  ivc-i  \\\n",
       "item                                                                       \n",
       "Q01          Sim         Sim         Sim         Não            3   0.75   \n",
       "Q02          Sim         Sim         Sim         Não            3   0.75   \n",
       "Q03          Sim         Sim         Sim         Não            3   0.75   \n",
       "Q04          Sim         Sim         Sim         Não            3   0.75   \n",
       "Q05          Sim         Sim         Sim         Não            3   0.75   \n",
       "Q06          Sim         Sim         Sim         Não            3   0.75   \n",
       "Q07          Sim         Sim         Sim         Não            3   0.75   \n",
       "Q08          Sim         Sim         Sim         Não            3   0.75   \n",
       "Q09          Sim         Sim         Sim         Não            3   0.75   \n",
       "Q10          Sim         Sim         Sim         Não            3   0.75   \n",
       "Q11          Sim         Sim         Sim         Não            3   0.75   \n",
       "Q12          Sim         Sim         Sim         Não            3   0.75   \n",
       "Q13          Sim         Sim         Sim         Não            3   0.75   \n",
       "Q14          Sim         Sim         Sim         Não            3   0.75   \n",
       "\n",
       "      unnamed:_7                                         unnamed:_8  \n",
       "item                                                                 \n",
       "Q01          NaN  IVC-i = (Nº de Juízes que votaram \"SIM\") / (Nº...  \n",
       "Q02          NaN                                                NaN  \n",
       "Q03          NaN                                                NaN  \n",
       "Q04          NaN                                                NaN  \n",
       "Q05          NaN                                                NaN  \n",
       "Q06          NaN                                                NaN  \n",
       "Q07          NaN                                                NaN  \n",
       "Q08          NaN                                                NaN  \n",
       "Q09          NaN                                                NaN  \n",
       "Q10          NaN                                                NaN  \n",
       "Q11          NaN                                                NaN  \n",
       "Q12          NaN                                                NaN  \n",
       "Q13          NaN                                                NaN  \n",
       "Q14          NaN                                                NaN  "
      ]
     },
     "execution_count": 5,
     "metadata": {},
     "output_type": "execute_result"
    }
   ],
   "source": [
    "ivc.set_index(\"item\", inplace=True)\n",
    "ivc"
   ]
  },
  {
   "cell_type": "code",
   "execution_count": 6,
   "id": "7f50baa7",
   "metadata": {},
   "outputs": [
    {
     "data": {
      "application/vnd.microsoft.datawrangler.viewer.v0+json": {
       "columns": [
        {
         "name": "item",
         "rawType": "object",
         "type": "string"
        },
        {
         "name": "avaliador_1",
         "rawType": "object",
         "type": "string"
        },
        {
         "name": "avaliador_2",
         "rawType": "object",
         "type": "string"
        },
        {
         "name": "avaliador_3",
         "rawType": "object",
         "type": "string"
        },
        {
         "name": "avaliador_4",
         "rawType": "object",
         "type": "string"
        }
       ],
       "ref": "3ee37053-04f0-4b9e-90ce-276e2bec1212",
       "rows": [
        [
         "Q01",
         "Sim",
         "Sim",
         "Sim",
         "Não"
        ],
        [
         "Q02",
         "Sim",
         "Sim",
         "Sim",
         "Não"
        ],
        [
         "Q03",
         "Sim",
         "Sim",
         "Sim",
         "Não"
        ],
        [
         "Q04",
         "Sim",
         "Sim",
         "Sim",
         "Não"
        ],
        [
         "Q05",
         "Sim",
         "Sim",
         "Sim",
         "Não"
        ],
        [
         "Q06",
         "Sim",
         "Sim",
         "Sim",
         "Não"
        ],
        [
         "Q07",
         "Sim",
         "Sim",
         "Sim",
         "Não"
        ],
        [
         "Q08",
         "Sim",
         "Sim",
         "Sim",
         "Não"
        ],
        [
         "Q09",
         "Sim",
         "Sim",
         "Sim",
         "Não"
        ],
        [
         "Q10",
         "Sim",
         "Sim",
         "Sim",
         "Não"
        ],
        [
         "Q11",
         "Sim",
         "Sim",
         "Sim",
         "Não"
        ],
        [
         "Q12",
         "Sim",
         "Sim",
         "Sim",
         "Não"
        ],
        [
         "Q13",
         "Sim",
         "Sim",
         "Sim",
         "Não"
        ],
        [
         "Q14",
         "Sim",
         "Sim",
         "Sim",
         "Não"
        ]
       ],
       "shape": {
        "columns": 4,
        "rows": 14
       }
      },
      "text/html": [
       "<div>\n",
       "<style scoped>\n",
       "    .dataframe tbody tr th:only-of-type {\n",
       "        vertical-align: middle;\n",
       "    }\n",
       "\n",
       "    .dataframe tbody tr th {\n",
       "        vertical-align: top;\n",
       "    }\n",
       "\n",
       "    .dataframe thead th {\n",
       "        text-align: right;\n",
       "    }\n",
       "</style>\n",
       "<table border=\"1\" class=\"dataframe\">\n",
       "  <thead>\n",
       "    <tr style=\"text-align: right;\">\n",
       "      <th></th>\n",
       "      <th>avaliador_1</th>\n",
       "      <th>avaliador_2</th>\n",
       "      <th>avaliador_3</th>\n",
       "      <th>avaliador_4</th>\n",
       "    </tr>\n",
       "    <tr>\n",
       "      <th>item</th>\n",
       "      <th></th>\n",
       "      <th></th>\n",
       "      <th></th>\n",
       "      <th></th>\n",
       "    </tr>\n",
       "  </thead>\n",
       "  <tbody>\n",
       "    <tr>\n",
       "      <th>Q01</th>\n",
       "      <td>Sim</td>\n",
       "      <td>Sim</td>\n",
       "      <td>Sim</td>\n",
       "      <td>Não</td>\n",
       "    </tr>\n",
       "    <tr>\n",
       "      <th>Q02</th>\n",
       "      <td>Sim</td>\n",
       "      <td>Sim</td>\n",
       "      <td>Sim</td>\n",
       "      <td>Não</td>\n",
       "    </tr>\n",
       "    <tr>\n",
       "      <th>Q03</th>\n",
       "      <td>Sim</td>\n",
       "      <td>Sim</td>\n",
       "      <td>Sim</td>\n",
       "      <td>Não</td>\n",
       "    </tr>\n",
       "    <tr>\n",
       "      <th>Q04</th>\n",
       "      <td>Sim</td>\n",
       "      <td>Sim</td>\n",
       "      <td>Sim</td>\n",
       "      <td>Não</td>\n",
       "    </tr>\n",
       "    <tr>\n",
       "      <th>Q05</th>\n",
       "      <td>Sim</td>\n",
       "      <td>Sim</td>\n",
       "      <td>Sim</td>\n",
       "      <td>Não</td>\n",
       "    </tr>\n",
       "    <tr>\n",
       "      <th>Q06</th>\n",
       "      <td>Sim</td>\n",
       "      <td>Sim</td>\n",
       "      <td>Sim</td>\n",
       "      <td>Não</td>\n",
       "    </tr>\n",
       "    <tr>\n",
       "      <th>Q07</th>\n",
       "      <td>Sim</td>\n",
       "      <td>Sim</td>\n",
       "      <td>Sim</td>\n",
       "      <td>Não</td>\n",
       "    </tr>\n",
       "    <tr>\n",
       "      <th>Q08</th>\n",
       "      <td>Sim</td>\n",
       "      <td>Sim</td>\n",
       "      <td>Sim</td>\n",
       "      <td>Não</td>\n",
       "    </tr>\n",
       "    <tr>\n",
       "      <th>Q09</th>\n",
       "      <td>Sim</td>\n",
       "      <td>Sim</td>\n",
       "      <td>Sim</td>\n",
       "      <td>Não</td>\n",
       "    </tr>\n",
       "    <tr>\n",
       "      <th>Q10</th>\n",
       "      <td>Sim</td>\n",
       "      <td>Sim</td>\n",
       "      <td>Sim</td>\n",
       "      <td>Não</td>\n",
       "    </tr>\n",
       "    <tr>\n",
       "      <th>Q11</th>\n",
       "      <td>Sim</td>\n",
       "      <td>Sim</td>\n",
       "      <td>Sim</td>\n",
       "      <td>Não</td>\n",
       "    </tr>\n",
       "    <tr>\n",
       "      <th>Q12</th>\n",
       "      <td>Sim</td>\n",
       "      <td>Sim</td>\n",
       "      <td>Sim</td>\n",
       "      <td>Não</td>\n",
       "    </tr>\n",
       "    <tr>\n",
       "      <th>Q13</th>\n",
       "      <td>Sim</td>\n",
       "      <td>Sim</td>\n",
       "      <td>Sim</td>\n",
       "      <td>Não</td>\n",
       "    </tr>\n",
       "    <tr>\n",
       "      <th>Q14</th>\n",
       "      <td>Sim</td>\n",
       "      <td>Sim</td>\n",
       "      <td>Sim</td>\n",
       "      <td>Não</td>\n",
       "    </tr>\n",
       "  </tbody>\n",
       "</table>\n",
       "</div>"
      ],
      "text/plain": [
       "     avaliador_1 avaliador_2 avaliador_3 avaliador_4\n",
       "item                                                \n",
       "Q01          Sim         Sim         Sim         Não\n",
       "Q02          Sim         Sim         Sim         Não\n",
       "Q03          Sim         Sim         Sim         Não\n",
       "Q04          Sim         Sim         Sim         Não\n",
       "Q05          Sim         Sim         Sim         Não\n",
       "Q06          Sim         Sim         Sim         Não\n",
       "Q07          Sim         Sim         Sim         Não\n",
       "Q08          Sim         Sim         Sim         Não\n",
       "Q09          Sim         Sim         Sim         Não\n",
       "Q10          Sim         Sim         Sim         Não\n",
       "Q11          Sim         Sim         Sim         Não\n",
       "Q12          Sim         Sim         Sim         Não\n",
       "Q13          Sim         Sim         Sim         Não\n",
       "Q14          Sim         Sim         Sim         Não"
      ]
     },
     "execution_count": 6,
     "metadata": {},
     "output_type": "execute_result"
    }
   ],
   "source": [
    "ivc = ivc[[col for col in ivc.columns if \"avaliador_\" in col]]\n",
    "ivc"
   ]
  },
  {
   "cell_type": "code",
   "execution_count": 7,
   "id": "b3287146",
   "metadata": {},
   "outputs": [
    {
     "data": {
      "application/vnd.microsoft.datawrangler.viewer.v0+json": {
       "columns": [
        {
         "name": "index",
         "rawType": "object",
         "type": "string"
        },
        {
         "name": "0",
         "rawType": "int64",
         "type": "integer"
        }
       ],
       "ref": "72003075-71ee-47b0-b56f-3f8ffd78ddfe",
       "rows": [
        [
         "avaliador_1",
         "0"
        ],
        [
         "avaliador_2",
         "0"
        ],
        [
         "avaliador_3",
         "0"
        ],
        [
         "avaliador_4",
         "0"
        ]
       ],
       "shape": {
        "columns": 1,
        "rows": 4
       }
      },
      "text/plain": [
       "avaliador_1    0\n",
       "avaliador_2    0\n",
       "avaliador_3    0\n",
       "avaliador_4    0\n",
       "dtype: int64"
      ]
     },
     "execution_count": 7,
     "metadata": {},
     "output_type": "execute_result"
    }
   ],
   "source": [
    "ivc.isnull().sum()"
   ]
  },
  {
   "cell_type": "code",
   "execution_count": 8,
   "id": "c4a4695b",
   "metadata": {},
   "outputs": [
    {
     "data": {
      "text/plain": [
       "(avaliador_1    Sim\n",
       " avaliador_2    Sim\n",
       " avaliador_3    Sim\n",
       " avaliador_4    Não\n",
       " dtype: object,\n",
       " avaliador_1    Sim\n",
       " avaliador_2    Sim\n",
       " avaliador_3    Sim\n",
       " avaliador_4    Não\n",
       " dtype: object)"
      ]
     },
     "execution_count": 8,
     "metadata": {},
     "output_type": "execute_result"
    }
   ],
   "source": [
    "ivc.max(), ivc.min()"
   ]
  },
  {
   "cell_type": "code",
   "execution_count": 9,
   "id": "07a3e480",
   "metadata": {},
   "outputs": [
    {
     "name": "stdout",
     "output_type": "stream",
     "text": [
      "Round 1 shape: (14, 4)\n",
      "\n",
      "Round 1 sample:\n",
      "     avaliador_1 avaliador_2 avaliador_3 avaliador_4\n",
      "item                                                \n",
      "Q01          Sim         Sim         Sim         Não\n",
      "Q02          Sim         Sim         Sim         Não\n",
      "Q03          Sim         Sim         Sim         Não\n",
      "Q04          Sim         Sim         Sim         Não\n",
      "Q05          Sim         Sim         Sim         Não\n",
      "\n",
      "Unique values in ivc:\n",
      "['Sim' 'Não']\n"
     ]
    }
   ],
   "source": [
    "# Examining the data structure\n",
    "print(\"Round 1 shape:\", ivc.shape)\n",
    "print(\"\\nRound 1 sample:\")\n",
    "print(ivc.head())\n",
    "print(\"\\nUnique values in ivc:\")\n",
    "print(ivc.stack().unique())\n"
   ]
  },
  {
   "cell_type": "code",
   "execution_count": 10,
   "id": "46fc3701",
   "metadata": {},
   "outputs": [
    {
     "name": "stdout",
     "output_type": "stream",
     "text": [
      "Images will be saved to: src/survey_garden/images\n"
     ]
    }
   ],
   "source": [
    "# Import required libraries for inter-annotator agreement\n",
    "from sklearn.metrics import cohen_kappa_score\n",
    "from itertools import combinations\n",
    "from scipy.stats import pearsonr, spearmanr\n",
    "from sklearn.metrics import accuracy_score\n",
    "\n",
    "# Create images directory if it doesn't exist\n",
    "images_path = Path(\"src/survey_garden/images\")\n",
    "images_path.mkdir(parents=True, exist_ok=True)\n",
    "print(f\"Images will be saved to: {images_path}\")"
   ]
  },
  {
   "cell_type": "code",
   "execution_count": 11,
   "id": "cbada86c",
   "metadata": {},
   "outputs": [],
   "source": [
    "# Functions for calculating inter-annotator agreement metrics\n",
    "\n",
    "\n",
    "def calculate_pairwise_agreement(data, metric=\"cohen_kappa\"):\n",
    "    \"\"\"\n",
    "    Calculate pairwise agreement between all annotators\n",
    "\n",
    "    Parameters:\n",
    "    data: DataFrame with annotators as columns\n",
    "    metric: 'cohen_kappa', 'accuracy', 'pearson', 'spearman'\n",
    "\n",
    "    Returns:\n",
    "    DataFrame with pairwise agreement scores\n",
    "    \"\"\"\n",
    "    annotators = data.columns\n",
    "    n_annotators = len(annotators)\n",
    "\n",
    "    # Initialize results matrix\n",
    "    agreement_matrix = np.zeros((n_annotators, n_annotators))\n",
    "\n",
    "    for i, ann1 in enumerate(annotators):\n",
    "        for j, ann2 in enumerate(annotators):\n",
    "            if i == j:\n",
    "                agreement_matrix[i, j] = 1.0  # Perfect agreement with self\n",
    "            elif i < j:  # Calculate only upper triangle\n",
    "                if metric == \"cohen_kappa\":\n",
    "                    score = cohen_kappa_score(data[ann1], data[ann2])\n",
    "                elif metric == \"accuracy\":\n",
    "                    score = accuracy_score(data[ann1], data[ann2])\n",
    "                elif metric == \"pearson\":\n",
    "                    score, _ = pearsonr(data[ann1], data[ann2])\n",
    "                elif metric == \"spearman\":\n",
    "                    score, _ = spearmanr(data[ann1], data[ann2])\n",
    "\n",
    "                agreement_matrix[i, j] = score\n",
    "                agreement_matrix[j, i] = score  # Symmetric matrix\n",
    "\n",
    "    return pd.DataFrame(agreement_matrix, index=annotators, columns=annotators)\n",
    "\n",
    "\n",
    "def calculate_fleiss_kappa(data):\n",
    "    \"\"\"\n",
    "    Calculate Fleiss' kappa for multi-rater agreement\n",
    "\n",
    "    Parameters:\n",
    "    data: DataFrame with annotators as columns and items as rows\n",
    "\n",
    "    Returns:\n",
    "    float: Fleiss' kappa value\n",
    "    dict: Additional statistics including P_bar, P_e, and interpretation\n",
    "    \"\"\"\n",
    "    n_items, n_annotators = data.shape\n",
    "\n",
    "    # Get all unique categories/labels\n",
    "    all_categories = pd.unique(data.values.ravel())\n",
    "    n_categories = len(all_categories)\n",
    "\n",
    "    # Create contingency table: items x categories\n",
    "    contingency_table = np.zeros((n_items, n_categories))\n",
    "\n",
    "    for i in range(n_items):\n",
    "        for j, category in enumerate(all_categories):\n",
    "            contingency_table[i, j] = (data.iloc[i] == category).sum()\n",
    "\n",
    "    # Calculate P_i (proportion of agreement for each item)\n",
    "    P_i = np.zeros(n_items)\n",
    "    for i in range(n_items):\n",
    "        sum_squares = np.sum(contingency_table[i] ** 2)\n",
    "        P_i[i] = (sum_squares - n_annotators) / (n_annotators * (n_annotators - 1))\n",
    "\n",
    "    # Calculate P_bar (mean proportion of agreement)\n",
    "    P_bar = np.mean(P_i)\n",
    "\n",
    "    # Calculate marginal proportions (p_j for each category)\n",
    "    marginal_props = np.zeros(n_categories)\n",
    "    for j in range(n_categories):\n",
    "        marginal_props[j] = np.sum(contingency_table[:, j]) / (n_items * n_annotators)\n",
    "\n",
    "    # Calculate P_e (expected agreement by chance)\n",
    "    P_e = np.sum(marginal_props**2)\n",
    "\n",
    "    # Calculate Fleiss' kappa\n",
    "    if P_e == 1.0:\n",
    "        kappa = 1.0  # Perfect agreement case\n",
    "    else:\n",
    "        kappa = (P_bar - P_e) / (1 - P_e)\n",
    "\n",
    "    # Interpretation\n",
    "    if kappa < 0:\n",
    "        interpretation = \"Poor (worse than chance)\"\n",
    "    elif kappa < 0.20:\n",
    "        interpretation = \"Slight\"\n",
    "    elif kappa < 0.40:\n",
    "        interpretation = \"Fair\"\n",
    "    elif kappa < 0.60:\n",
    "        interpretation = \"Moderate\"\n",
    "    elif kappa < 0.80:\n",
    "        interpretation = \"Substantial\"\n",
    "    else:\n",
    "        interpretation = \"Almost Perfect\"\n",
    "\n",
    "    return kappa, {\"P_bar\": P_bar, \"P_e\": P_e, \"interpretation\": interpretation, \"n_items\": n_items, \"n_annotators\": n_annotators, \"n_categories\": n_categories, \"categories\": all_categories, \"marginal_proportions\": dict(zip(all_categories, marginal_props))}\n",
    "\n",
    "\n",
    "def calculate_fleiss_kappa_simple(data):\n",
    "    \"\"\"\n",
    "    Calculate a simplified version of overall agreement (for backwards compatibility)\n",
    "    \"\"\"\n",
    "    kappa, stats = calculate_fleiss_kappa(data)\n",
    "    return stats[\"P_bar\"]  # Return observed agreement proportion"
   ]
  },
  {
   "cell_type": "code",
   "execution_count": 12,
   "id": "5cd832bb",
   "metadata": {},
   "outputs": [
    {
     "name": "stdout",
     "output_type": "stream",
     "text": [
      "============================================================\n",
      "FLEISS' KAPPA ANALYSIS - INTER-ANNOTATOR AGREEMENT\n",
      "============================================================\n",
      "\n",
      "Fleiss' Kappa: -0.3333\n",
      "Interpretation: Poor (worse than chance)\n",
      "Observed Agreement (P̄): 0.5000\n",
      "Expected Agreement (Pe): 0.6250\n",
      "Number of items: 14\n",
      "Number of annotators: 4\n",
      "Categories: ['Sim', 'Não']\n",
      "\n",
      "Marginal proportions:\n",
      "  - 'Sim': 0.750\n",
      "  - 'Não': 0.250\n",
      "\n",
      "STATISTICAL INTERPRETATION\n",
      "------------------------------\n",
      "Fleiss' Kappa interpretation guidelines:\n",
      "  < 0.00: Poor (worse than chance)\n",
      "  0.00-0.20: Slight agreement\n",
      "  0.21-0.40: Fair agreement\n",
      "  0.41-0.60: Moderate agreement\n",
      "  0.61-0.80: Substantial agreement\n",
      "  0.81-1.00: Almost perfect agreement\n"
     ]
    }
   ],
   "source": [
    "# =============================================================================\n",
    "# FLEISS' KAPPA ANALYSIS - Inter-Annotator Agreement\n",
    "# =============================================================================\n",
    "\n",
    "print(\"=\" * 60)\n",
    "print(\"FLEISS' KAPPA ANALYSIS - INTER-ANNOTATOR AGREEMENT\")\n",
    "print(\"=\" * 60)\n",
    "\n",
    "# Calculate Fleiss' kappa\n",
    "fleiss_kappa, stats = calculate_fleiss_kappa(ivc)\n",
    "print(f\"\\nFleiss' Kappa: {fleiss_kappa:.4f}\")\n",
    "print(f\"Interpretation: {stats['interpretation']}\")\n",
    "print(f\"Observed Agreement (P̄): {stats['P_bar']:.4f}\")\n",
    "print(f\"Expected Agreement (Pe): {stats['P_e']:.4f}\")\n",
    "print(f\"Number of items: {stats['n_items']}\")\n",
    "print(f\"Number of annotators: {stats['n_annotators']}\")\n",
    "print(f\"Categories: {list(stats['categories'])}\")\n",
    "print(\"\\nMarginal proportions:\")\n",
    "for cat, prop in stats[\"marginal_proportions\"].items():\n",
    "    print(f\"  - '{cat}': {prop:.3f}\")\n",
    "\n",
    "# Statistical interpretation\n",
    "print(f\"\\nSTATISTICAL INTERPRETATION\")\n",
    "print(\"-\" * 30)\n",
    "print(\"Fleiss' Kappa interpretation guidelines:\")\n",
    "print(\"  < 0.00: Poor (worse than chance)\")\n",
    "print(\"  0.00-0.20: Slight agreement\")\n",
    "print(\"  0.21-0.40: Fair agreement\")\n",
    "print(\"  0.41-0.60: Moderate agreement\")\n",
    "print(\"  0.61-0.80: Substantial agreement\")\n",
    "print(\"  0.81-1.00: Almost perfect agreement\")"
   ]
  },
  {
   "cell_type": "code",
   "execution_count": 13,
   "id": "29f9c70b",
   "metadata": {},
   "outputs": [
    {
     "name": "stdout",
     "output_type": "stream",
     "text": [
      "\n",
      "Creating Fleiss' Kappa Visualizations...\n"
     ]
    },
    {
     "data": {
      "application/vnd.plotly.v1+json": {
       "config": {
        "plotlyServerURL": "https://plot.ly"
       },
       "data": [
        {
         "marker": {
          "color": [
           "#3498DB",
           "#95A5A6",
           "#FF6B6B"
          ]
         },
         "name": "Agreement Components",
         "text": [
          "0.500",
          "0.625",
          "-0.333"
         ],
         "textposition": "auto",
         "type": "bar",
         "x": [
          "Observed Agreement<br>(P̄)",
          "Expected Agreement<br>(Pe)",
          "Fleiss' Kappa<br>(κ)"
         ],
         "xaxis": "x",
         "y": [
          0.5,
          0.625,
          -0.3333333333333333
         ],
         "yaxis": "y"
        },
        {
         "marker": {
          "color": [
           "#FF6B6B",
           "#FFA07A",
           "#FFD700",
           "#98FB98",
           "#32CD32",
           "#228B22"
          ]
         },
         "name": "Interpretation Scale",
         "text": [
          "-0.1",
          "0.1",
          "0.3",
          "0.5",
          "0.7",
          "0.9"
         ],
         "textposition": "auto",
         "type": "bar",
         "x": [
          "Poor<br>(<0.00)",
          "Slight<br>(0.00-0.20)",
          "Fair<br>(0.21-0.40)",
          "Moderate<br>(0.41-0.60)",
          "Substantial<br>(0.61-0.80)",
          "Almost Perfect<br>(0.81-1.00)"
         ],
         "xaxis": "x2",
         "y": [
          -0.1,
          0.1,
          0.3,
          0.5,
          0.7,
          0.9
         ],
         "yaxis": "y2"
        }
       ],
       "layout": {
        "annotations": [
         {
          "font": {
           "size": 16
          },
          "showarrow": false,
          "text": "Agreement Components",
          "x": 0.2125,
          "xanchor": "center",
          "xref": "paper",
          "y": 1,
          "yanchor": "bottom",
          "yref": "paper"
         },
         {
          "font": {
           "size": 16
          },
          "showarrow": false,
          "text": "Interpretation Scale",
          "x": 0.7875,
          "xanchor": "center",
          "xref": "paper",
          "y": 1,
          "yanchor": "bottom",
          "yref": "paper"
         },
         {
          "showarrow": false,
          "text": "κ = -0.333",
          "x": 1,
          "xanchor": "right",
          "xref": "x2 domain",
          "y": -0.3333333333333333,
          "yanchor": "bottom",
          "yref": "y2"
         }
        ],
        "height": 500,
        "shapes": [
         {
          "line": {
           "color": "red",
           "dash": "dash"
          },
          "type": "line",
          "x0": 0,
          "x1": 1,
          "xref": "x2 domain",
          "y0": -0.3333333333333333,
          "y1": -0.3333333333333333,
          "yref": "y2"
         }
        ],
        "showlegend": false,
        "template": {
         "data": {
          "bar": [
           {
            "error_x": {
             "color": "#2a3f5f"
            },
            "error_y": {
             "color": "#2a3f5f"
            },
            "marker": {
             "line": {
              "color": "white",
              "width": 0.5
             },
             "pattern": {
              "fillmode": "overlay",
              "size": 10,
              "solidity": 0.2
             }
            },
            "type": "bar"
           }
          ],
          "barpolar": [
           {
            "marker": {
             "line": {
              "color": "white",
              "width": 0.5
             },
             "pattern": {
              "fillmode": "overlay",
              "size": 10,
              "solidity": 0.2
             }
            },
            "type": "barpolar"
           }
          ],
          "carpet": [
           {
            "aaxis": {
             "endlinecolor": "#2a3f5f",
             "gridcolor": "#C8D4E3",
             "linecolor": "#C8D4E3",
             "minorgridcolor": "#C8D4E3",
             "startlinecolor": "#2a3f5f"
            },
            "baxis": {
             "endlinecolor": "#2a3f5f",
             "gridcolor": "#C8D4E3",
             "linecolor": "#C8D4E3",
             "minorgridcolor": "#C8D4E3",
             "startlinecolor": "#2a3f5f"
            },
            "type": "carpet"
           }
          ],
          "choropleth": [
           {
            "colorbar": {
             "outlinewidth": 0,
             "ticks": ""
            },
            "type": "choropleth"
           }
          ],
          "contour": [
           {
            "colorbar": {
             "outlinewidth": 0,
             "ticks": ""
            },
            "colorscale": [
             [
              0,
              "#0d0887"
             ],
             [
              0.1111111111111111,
              "#46039f"
             ],
             [
              0.2222222222222222,
              "#7201a8"
             ],
             [
              0.3333333333333333,
              "#9c179e"
             ],
             [
              0.4444444444444444,
              "#bd3786"
             ],
             [
              0.5555555555555556,
              "#d8576b"
             ],
             [
              0.6666666666666666,
              "#ed7953"
             ],
             [
              0.7777777777777778,
              "#fb9f3a"
             ],
             [
              0.8888888888888888,
              "#fdca26"
             ],
             [
              1,
              "#f0f921"
             ]
            ],
            "type": "contour"
           }
          ],
          "contourcarpet": [
           {
            "colorbar": {
             "outlinewidth": 0,
             "ticks": ""
            },
            "type": "contourcarpet"
           }
          ],
          "heatmap": [
           {
            "colorbar": {
             "outlinewidth": 0,
             "ticks": ""
            },
            "colorscale": [
             [
              0,
              "#0d0887"
             ],
             [
              0.1111111111111111,
              "#46039f"
             ],
             [
              0.2222222222222222,
              "#7201a8"
             ],
             [
              0.3333333333333333,
              "#9c179e"
             ],
             [
              0.4444444444444444,
              "#bd3786"
             ],
             [
              0.5555555555555556,
              "#d8576b"
             ],
             [
              0.6666666666666666,
              "#ed7953"
             ],
             [
              0.7777777777777778,
              "#fb9f3a"
             ],
             [
              0.8888888888888888,
              "#fdca26"
             ],
             [
              1,
              "#f0f921"
             ]
            ],
            "type": "heatmap"
           }
          ],
          "histogram": [
           {
            "marker": {
             "pattern": {
              "fillmode": "overlay",
              "size": 10,
              "solidity": 0.2
             }
            },
            "type": "histogram"
           }
          ],
          "histogram2d": [
           {
            "colorbar": {
             "outlinewidth": 0,
             "ticks": ""
            },
            "colorscale": [
             [
              0,
              "#0d0887"
             ],
             [
              0.1111111111111111,
              "#46039f"
             ],
             [
              0.2222222222222222,
              "#7201a8"
             ],
             [
              0.3333333333333333,
              "#9c179e"
             ],
             [
              0.4444444444444444,
              "#bd3786"
             ],
             [
              0.5555555555555556,
              "#d8576b"
             ],
             [
              0.6666666666666666,
              "#ed7953"
             ],
             [
              0.7777777777777778,
              "#fb9f3a"
             ],
             [
              0.8888888888888888,
              "#fdca26"
             ],
             [
              1,
              "#f0f921"
             ]
            ],
            "type": "histogram2d"
           }
          ],
          "histogram2dcontour": [
           {
            "colorbar": {
             "outlinewidth": 0,
             "ticks": ""
            },
            "colorscale": [
             [
              0,
              "#0d0887"
             ],
             [
              0.1111111111111111,
              "#46039f"
             ],
             [
              0.2222222222222222,
              "#7201a8"
             ],
             [
              0.3333333333333333,
              "#9c179e"
             ],
             [
              0.4444444444444444,
              "#bd3786"
             ],
             [
              0.5555555555555556,
              "#d8576b"
             ],
             [
              0.6666666666666666,
              "#ed7953"
             ],
             [
              0.7777777777777778,
              "#fb9f3a"
             ],
             [
              0.8888888888888888,
              "#fdca26"
             ],
             [
              1,
              "#f0f921"
             ]
            ],
            "type": "histogram2dcontour"
           }
          ],
          "mesh3d": [
           {
            "colorbar": {
             "outlinewidth": 0,
             "ticks": ""
            },
            "type": "mesh3d"
           }
          ],
          "parcoords": [
           {
            "line": {
             "colorbar": {
              "outlinewidth": 0,
              "ticks": ""
             }
            },
            "type": "parcoords"
           }
          ],
          "pie": [
           {
            "automargin": true,
            "type": "pie"
           }
          ],
          "scatter": [
           {
            "fillpattern": {
             "fillmode": "overlay",
             "size": 10,
             "solidity": 0.2
            },
            "type": "scatter"
           }
          ],
          "scatter3d": [
           {
            "line": {
             "colorbar": {
              "outlinewidth": 0,
              "ticks": ""
             }
            },
            "marker": {
             "colorbar": {
              "outlinewidth": 0,
              "ticks": ""
             }
            },
            "type": "scatter3d"
           }
          ],
          "scattercarpet": [
           {
            "marker": {
             "colorbar": {
              "outlinewidth": 0,
              "ticks": ""
             }
            },
            "type": "scattercarpet"
           }
          ],
          "scattergeo": [
           {
            "marker": {
             "colorbar": {
              "outlinewidth": 0,
              "ticks": ""
             }
            },
            "type": "scattergeo"
           }
          ],
          "scattergl": [
           {
            "marker": {
             "colorbar": {
              "outlinewidth": 0,
              "ticks": ""
             }
            },
            "type": "scattergl"
           }
          ],
          "scattermap": [
           {
            "marker": {
             "colorbar": {
              "outlinewidth": 0,
              "ticks": ""
             }
            },
            "type": "scattermap"
           }
          ],
          "scattermapbox": [
           {
            "marker": {
             "colorbar": {
              "outlinewidth": 0,
              "ticks": ""
             }
            },
            "type": "scattermapbox"
           }
          ],
          "scatterpolar": [
           {
            "marker": {
             "colorbar": {
              "outlinewidth": 0,
              "ticks": ""
             }
            },
            "type": "scatterpolar"
           }
          ],
          "scatterpolargl": [
           {
            "marker": {
             "colorbar": {
              "outlinewidth": 0,
              "ticks": ""
             }
            },
            "type": "scatterpolargl"
           }
          ],
          "scatterternary": [
           {
            "marker": {
             "colorbar": {
              "outlinewidth": 0,
              "ticks": ""
             }
            },
            "type": "scatterternary"
           }
          ],
          "surface": [
           {
            "colorbar": {
             "outlinewidth": 0,
             "ticks": ""
            },
            "colorscale": [
             [
              0,
              "#0d0887"
             ],
             [
              0.1111111111111111,
              "#46039f"
             ],
             [
              0.2222222222222222,
              "#7201a8"
             ],
             [
              0.3333333333333333,
              "#9c179e"
             ],
             [
              0.4444444444444444,
              "#bd3786"
             ],
             [
              0.5555555555555556,
              "#d8576b"
             ],
             [
              0.6666666666666666,
              "#ed7953"
             ],
             [
              0.7777777777777778,
              "#fb9f3a"
             ],
             [
              0.8888888888888888,
              "#fdca26"
             ],
             [
              1,
              "#f0f921"
             ]
            ],
            "type": "surface"
           }
          ],
          "table": [
           {
            "cells": {
             "fill": {
              "color": "#EBF0F8"
             },
             "line": {
              "color": "white"
             }
            },
            "header": {
             "fill": {
              "color": "#C8D4E3"
             },
             "line": {
              "color": "white"
             }
            },
            "type": "table"
           }
          ]
         },
         "layout": {
          "annotationdefaults": {
           "arrowcolor": "#2a3f5f",
           "arrowhead": 0,
           "arrowwidth": 1
          },
          "autotypenumbers": "strict",
          "coloraxis": {
           "colorbar": {
            "outlinewidth": 0,
            "ticks": ""
           }
          },
          "colorscale": {
           "diverging": [
            [
             0,
             "#8e0152"
            ],
            [
             0.1,
             "#c51b7d"
            ],
            [
             0.2,
             "#de77ae"
            ],
            [
             0.3,
             "#f1b6da"
            ],
            [
             0.4,
             "#fde0ef"
            ],
            [
             0.5,
             "#f7f7f7"
            ],
            [
             0.6,
             "#e6f5d0"
            ],
            [
             0.7,
             "#b8e186"
            ],
            [
             0.8,
             "#7fbc41"
            ],
            [
             0.9,
             "#4d9221"
            ],
            [
             1,
             "#276419"
            ]
           ],
           "sequential": [
            [
             0,
             "#0d0887"
            ],
            [
             0.1111111111111111,
             "#46039f"
            ],
            [
             0.2222222222222222,
             "#7201a8"
            ],
            [
             0.3333333333333333,
             "#9c179e"
            ],
            [
             0.4444444444444444,
             "#bd3786"
            ],
            [
             0.5555555555555556,
             "#d8576b"
            ],
            [
             0.6666666666666666,
             "#ed7953"
            ],
            [
             0.7777777777777778,
             "#fb9f3a"
            ],
            [
             0.8888888888888888,
             "#fdca26"
            ],
            [
             1,
             "#f0f921"
            ]
           ],
           "sequentialminus": [
            [
             0,
             "#0d0887"
            ],
            [
             0.1111111111111111,
             "#46039f"
            ],
            [
             0.2222222222222222,
             "#7201a8"
            ],
            [
             0.3333333333333333,
             "#9c179e"
            ],
            [
             0.4444444444444444,
             "#bd3786"
            ],
            [
             0.5555555555555556,
             "#d8576b"
            ],
            [
             0.6666666666666666,
             "#ed7953"
            ],
            [
             0.7777777777777778,
             "#fb9f3a"
            ],
            [
             0.8888888888888888,
             "#fdca26"
            ],
            [
             1,
             "#f0f921"
            ]
           ]
          },
          "colorway": [
           "#636efa",
           "#EF553B",
           "#00cc96",
           "#ab63fa",
           "#FFA15A",
           "#19d3f3",
           "#FF6692",
           "#B6E880",
           "#FF97FF",
           "#FECB52"
          ],
          "font": {
           "color": "#2a3f5f"
          },
          "geo": {
           "bgcolor": "white",
           "lakecolor": "white",
           "landcolor": "white",
           "showlakes": true,
           "showland": true,
           "subunitcolor": "#C8D4E3"
          },
          "hoverlabel": {
           "align": "left"
          },
          "hovermode": "closest",
          "mapbox": {
           "style": "light"
          },
          "paper_bgcolor": "white",
          "plot_bgcolor": "white",
          "polar": {
           "angularaxis": {
            "gridcolor": "#EBF0F8",
            "linecolor": "#EBF0F8",
            "ticks": ""
           },
           "bgcolor": "white",
           "radialaxis": {
            "gridcolor": "#EBF0F8",
            "linecolor": "#EBF0F8",
            "ticks": ""
           }
          },
          "scene": {
           "xaxis": {
            "backgroundcolor": "white",
            "gridcolor": "#DFE8F3",
            "gridwidth": 2,
            "linecolor": "#EBF0F8",
            "showbackground": true,
            "ticks": "",
            "zerolinecolor": "#EBF0F8"
           },
           "yaxis": {
            "backgroundcolor": "white",
            "gridcolor": "#DFE8F3",
            "gridwidth": 2,
            "linecolor": "#EBF0F8",
            "showbackground": true,
            "ticks": "",
            "zerolinecolor": "#EBF0F8"
           },
           "zaxis": {
            "backgroundcolor": "white",
            "gridcolor": "#DFE8F3",
            "gridwidth": 2,
            "linecolor": "#EBF0F8",
            "showbackground": true,
            "ticks": "",
            "zerolinecolor": "#EBF0F8"
           }
          },
          "shapedefaults": {
           "line": {
            "color": "#2a3f5f"
           }
          },
          "ternary": {
           "aaxis": {
            "gridcolor": "#DFE8F3",
            "linecolor": "#A2B1C6",
            "ticks": ""
           },
           "baxis": {
            "gridcolor": "#DFE8F3",
            "linecolor": "#A2B1C6",
            "ticks": ""
           },
           "bgcolor": "white",
           "caxis": {
            "gridcolor": "#DFE8F3",
            "linecolor": "#A2B1C6",
            "ticks": ""
           }
          },
          "title": {
           "x": 0.05
          },
          "xaxis": {
           "automargin": true,
           "gridcolor": "#EBF0F8",
           "linecolor": "#EBF0F8",
           "ticks": "",
           "title": {
            "standoff": 15
           },
           "zerolinecolor": "#EBF0F8",
           "zerolinewidth": 2
          },
          "yaxis": {
           "automargin": true,
           "gridcolor": "#EBF0F8",
           "linecolor": "#EBF0F8",
           "ticks": "",
           "title": {
            "standoff": 15
           },
           "zerolinecolor": "#EBF0F8",
           "zerolinewidth": 2
          }
         }
        },
        "title": {
         "font": {
          "size": 18
         },
         "text": "Fleiss' Kappa Inter-Annotator Agreement Analysis",
         "x": 0.5
        },
        "xaxis": {
         "anchor": "y",
         "domain": [
          0,
          0.425
         ]
        },
        "xaxis2": {
         "anchor": "y2",
         "domain": [
          0.575,
          1
         ]
        },
        "yaxis": {
         "anchor": "x",
         "domain": [
          0,
          1
         ],
         "title": {
          "text": "Agreement Value"
         }
        },
        "yaxis2": {
         "anchor": "x2",
         "domain": [
          0,
          1
         ],
         "title": {
          "text": "Reference Value"
         }
        }
       }
      }
     },
     "metadata": {},
     "output_type": "display_data"
    },
    {
     "name": "stdout",
     "output_type": "stream",
     "text": [
      "Saved: 03_iaa_fleiss_kappa_analysis.html and .png\n"
     ]
    }
   ],
   "source": [
    "# =============================================================================\n",
    "# FLEISS' KAPPA VISUALIZATION\n",
    "# =============================================================================\n",
    "\n",
    "print(\"\\nCreating Fleiss' Kappa Visualizations...\")\n",
    "\n",
    "# Create agreement components visualization\n",
    "fig_fleiss = make_subplots(rows=1, cols=2, subplot_titles=[\"Agreement Components\", \"Interpretation Scale\"], specs=[[{\"type\": \"bar\"}, {\"type\": \"bar\"}]], horizontal_spacing=0.15)\n",
    "\n",
    "# 1. Agreement Components\n",
    "components = [\"Observed Agreement<br>(P̄)\", \"Expected Agreement<br>(Pe)\", \"Fleiss' Kappa<br>(κ)\"]\n",
    "values = [stats[\"P_bar\"], stats[\"P_e\"], fleiss_kappa]\n",
    "colors = [\"#3498DB\", \"#95A5A6\", \"#FF6B6B\" if fleiss_kappa < 0 else \"#4ECDC4\"]\n",
    "\n",
    "fig_fleiss.add_trace(go.Bar(x=components, y=values, text=[f\"{val:.3f}\" for val in values], textposition=\"auto\", marker_color=colors, name=\"Agreement Components\"), row=1, col=1)\n",
    "\n",
    "# 2. Interpretation scale reference\n",
    "interpretation_ranges = [\"Poor<br>(<0.00)\", \"Slight<br>(0.00-0.20)\", \"Fair<br>(0.21-0.40)\", \"Moderate<br>(0.41-0.60)\", \"Substantial<br>(0.61-0.80)\", \"Almost Perfect<br>(0.81-1.00)\"]\n",
    "range_values = [-0.1, 0.1, 0.3, 0.5, 0.7, 0.9]\n",
    "range_colors = [\"#FF6B6B\", \"#FFA07A\", \"#FFD700\", \"#98FB98\", \"#32CD32\", \"#228B22\"]\n",
    "\n",
    "fig_fleiss.add_trace(go.Bar(x=interpretation_ranges, y=range_values, text=[f\"{val:.1f}\" for val in range_values], textposition=\"auto\", marker_color=range_colors, name=\"Interpretation Scale\"), row=1, col=2)\n",
    "\n",
    "# Add horizontal line to show where our value falls\n",
    "fig_fleiss.add_hline(y=fleiss_kappa, line_dash=\"dash\", line_color=\"red\", annotation_text=f\"κ = {fleiss_kappa:.3f}\", row=1, col=2)\n",
    "\n",
    "# Update layout\n",
    "fig_fleiss.update_layout(height=500, title={\"text\": \"Fleiss' Kappa Inter-Annotator Agreement Analysis\", \"x\": 0.5, \"font\": {\"size\": 18}}, showlegend=False)\n",
    "\n",
    "fig_fleiss.update_yaxes(title_text=\"Agreement Value\", row=1, col=1)\n",
    "fig_fleiss.update_yaxes(title_text=\"Reference Value\", row=1, col=2)\n",
    "\n",
    "fig_fleiss.show()\n",
    "\n",
    "# Save the figure\n",
    "fig_fleiss.write_html(images_path / \"03_iaa_fleiss_kappa_analysis.html\")\n",
    "fig_fleiss.write_image(images_path / \"03_iaa_fleiss_kappa_analysis.png\", width=1200, height=500, scale=3)\n",
    "print(f\"Saved: 03_iaa_fleiss_kappa_analysis.html and .png\")"
   ]
  },
  {
   "cell_type": "code",
   "execution_count": 14,
   "id": "86f02c94",
   "metadata": {},
   "outputs": [
    {
     "name": "stdout",
     "output_type": "stream",
     "text": [
      "============================================================\n",
      "PAIRWISE COHEN'S KAPPA & ACCURACY ANALYSIS\n",
      "============================================================\n",
      "\n",
      "Cohen's Kappa Matrix:\n",
      "             avaliador_1  avaliador_2  avaliador_3  avaliador_4\n",
      "avaliador_1          1.0          NaN          NaN          0.0\n",
      "avaliador_2          NaN          1.0          NaN          0.0\n",
      "avaliador_3          NaN          NaN          1.0          0.0\n",
      "avaliador_4          0.0          0.0          0.0          1.0\n",
      "\n",
      "Accuracy Matrix:\n",
      "             avaliador_1  avaliador_2  avaliador_3  avaliador_4\n",
      "avaliador_1          1.0          1.0          1.0          0.0\n",
      "avaliador_2          1.0          1.0          1.0          0.0\n",
      "avaliador_3          1.0          1.0          1.0          0.0\n",
      "avaliador_4          0.0          0.0          0.0          1.0\n",
      "\n",
      "Observed Overall Agreement: 0.500\n",
      "\n",
      "Pairwise Summary Statistics:\n",
      "Mean Cohen's Kappa: 0.000\n",
      "Std Cohen's Kappa: 0.000\n",
      "Mean Accuracy: 0.500\n",
      "Std Accuracy: 0.500\n",
      "\n",
      "Data distribution per annotator:\n",
      "avaliador_1: {'Sim': 14}\n",
      "avaliador_2: {'Sim': 14}\n",
      "avaliador_3: {'Sim': 14}\n",
      "avaliador_4: {'Não': 14}\n"
     ]
    }
   ],
   "source": [
    "# =============================================================================\n",
    "# PAIRWISE COHEN'S KAPPA ANALYSIS\n",
    "# =============================================================================\n",
    "\n",
    "print(\"=\" * 60)\n",
    "print(\"PAIRWISE COHEN'S KAPPA & ACCURACY ANALYSIS\")\n",
    "print(\"=\" * 60)\n",
    "\n",
    "# Calculate Cohen's Kappa for all pairs\n",
    "kappa_matrix = calculate_pairwise_agreement(ivc, metric=\"cohen_kappa\")\n",
    "print(\"\\nCohen's Kappa Matrix:\")\n",
    "print(kappa_matrix.round(3))\n",
    "\n",
    "# Calculate accuracy for all pairs\n",
    "accuracy_matrix = calculate_pairwise_agreement(ivc, metric=\"accuracy\")\n",
    "print(\"\\nAccuracy Matrix:\")\n",
    "print(accuracy_matrix.round(3))\n",
    "\n",
    "# Calculate overall agreement\n",
    "overall_agreement = calculate_fleiss_kappa_simple(ivc)\n",
    "print(f\"\\nObserved Overall Agreement: {overall_agreement:.3f}\")\n",
    "\n",
    "# Summary statistics\n",
    "kappa_values = []\n",
    "accuracy_values = []\n",
    "\n",
    "for i in range(len(ivc.columns)):\n",
    "    for j in range(i + 1, len(ivc.columns)):\n",
    "        kappa_values.append(kappa_matrix.iloc[i, j])\n",
    "        accuracy_values.append(accuracy_matrix.iloc[i, j])\n",
    "\n",
    "print(f\"\\nPairwise Summary Statistics:\")\n",
    "print(f\"Mean Cohen's Kappa: {np.nanmean(kappa_values):.3f}\")\n",
    "print(f\"Std Cohen's Kappa: {np.nanstd(kappa_values):.3f}\")\n",
    "print(f\"Mean Accuracy: {np.mean(accuracy_values):.3f}\")\n",
    "print(f\"Std Accuracy: {np.std(accuracy_values):.3f}\")\n",
    "\n",
    "# Examine data distribution per annotator\n",
    "print(\"\\nData distribution per annotator:\")\n",
    "for col in ivc.columns:\n",
    "    print(f\"{col}: {ivc[col].value_counts().to_dict()}\")"
   ]
  },
  {
   "cell_type": "code",
   "execution_count": 15,
   "id": "bea3a518",
   "metadata": {},
   "outputs": [
    {
     "name": "stdout",
     "output_type": "stream",
     "text": [
      "======================================================================\n",
      "DETAILED INTERPRETATION & KEY FINDINGS\n",
      "======================================================================\n",
      "\n",
      "DATASET OVERVIEW\n",
      "-----------------------------------\n",
      "Data Type: Categorical (Sim/Não)\n",
      "Number of items: 14\n",
      "Number of annotators: 4\n",
      "Categories: Sim, Não\n",
      "\n",
      "AGREEMENT METRICS\n",
      "-----------------------------------\n",
      "Fleiss' Kappa: -0.3333 (Poor (worse than chance))\n",
      "Observed Agreement: 0.500 (50.0%)\n",
      "Expected Agreement by chance: 0.625 (62.5%)\n",
      "\n",
      "KEY FINDINGS\n",
      "-----------------------------------\n",
      "- 'Sim' appears in 75.0% of all annotations\n",
      "- 'Não' appears in 25.0% of all annotations\n",
      "\n",
      "PROBLEM ANALYSIS\n",
      "-----------------------------------\n",
      "- High expected agreement by chance (Pe = 0.625)\n",
      "- Observed agreement (0.500) is LOWER than chance expectation\n",
      "- Result: Negative kappa indicates systematic disagreement between annotators\n",
      "- Pattern: Clear split in annotator behavior (3 vs 1)\n",
      "\n",
      "QUALITY ASSESSMENT\n",
      "-----------------------------------\n",
      "Target Fleiss' Kappa values:\n",
      "- Minimum acceptable: κ > 0.40 (Moderate)\n",
      "- Good quality: κ > 0.60 (Substantial)\n",
      "- Excellent quality: κ > 0.80 (Almost Perfect)\n",
      "\n",
      "Current status: κ = -0.333 - BELOW minimum threshold\n",
      "Gap to minimum acceptable: +0.733 needed\n"
     ]
    }
   ],
   "source": [
    "# =============================================================================\n",
    "# DETAILED INTERPRETATION & FINDINGS\n",
    "# =============================================================================\n",
    "\n",
    "print(\"=\" * 70)\n",
    "print(\"DETAILED INTERPRETATION & KEY FINDINGS\")\n",
    "print(\"=\" * 70)\n",
    "\n",
    "print(f\"\\nDATASET OVERVIEW\")\n",
    "print(\"-\" * 35)\n",
    "print(f\"Data Type: Categorical (Sim/Não)\")\n",
    "print(f\"Number of items: {stats['n_items']}\")\n",
    "print(f\"Number of annotators: {stats['n_annotators']}\")\n",
    "print(f\"Categories: {', '.join([str(c) for c in stats['categories']])}\")\n",
    "\n",
    "print(f\"\\nAGREEMENT METRICS\")\n",
    "print(\"-\" * 35)\n",
    "print(f\"Fleiss' Kappa: {fleiss_kappa:.4f} ({stats['interpretation']})\")\n",
    "print(f\"Observed Agreement: {stats['P_bar']:.3f} ({stats['P_bar'] * 100:.1f}%)\")\n",
    "print(f\"Expected Agreement by chance: {stats['P_e']:.3f} ({stats['P_e'] * 100:.1f}%)\")\n",
    "\n",
    "print(f\"\\nKEY FINDINGS\")\n",
    "print(\"-\" * 35)\n",
    "# Analyze the pattern\n",
    "marginal_props = stats[\"marginal_proportions\"]\n",
    "for cat, prop in marginal_props.items():\n",
    "    print(f\"- '{cat}' appears in {prop * 100:.1f}% of all annotations\")\n",
    "\n",
    "print(f\"\\nPROBLEM ANALYSIS\")\n",
    "print(\"-\" * 35)\n",
    "print(f\"- High expected agreement by chance (Pe = {stats['P_e']:.3f})\")\n",
    "print(f\"- Observed agreement ({stats['P_bar']:.3f}) is LOWER than chance expectation\")\n",
    "print(f\"- Result: Negative kappa indicates systematic disagreement between annotators\")\n",
    "print(f\"- Pattern: Clear split in annotator behavior (3 vs 1)\")\n",
    "\n",
    "print(f\"\\nQUALITY ASSESSMENT\")\n",
    "print(\"-\" * 35)\n",
    "print(\"Target Fleiss' Kappa values:\")\n",
    "print(\"- Minimum acceptable: κ > 0.40 (Moderate)\")\n",
    "print(\"- Good quality: κ > 0.60 (Substantial)\")\n",
    "print(\"- Excellent quality: κ > 0.80 (Almost Perfect)\")\n",
    "print(f\"\\nCurrent status: κ = {fleiss_kappa:.3f} - BELOW minimum threshold\")\n",
    "print(f\"Gap to minimum acceptable: +{0.40 - fleiss_kappa:.3f} needed\")"
   ]
  },
  {
   "cell_type": "code",
   "execution_count": 16,
   "id": "230deccf",
   "metadata": {},
   "outputs": [
    {
     "name": "stdout",
     "output_type": "stream",
     "text": [
      "1. Inter-Annotator Accuracy Matrix\n"
     ]
    },
    {
     "data": {
      "application/vnd.plotly.v1+json": {
       "config": {
        "plotlyServerURL": "https://plot.ly"
       },
       "data": [
        {
         "colorscale": [
          [
           0,
           "rgb(49,54,149)"
          ],
          [
           0.1,
           "rgb(69,117,180)"
          ],
          [
           0.2,
           "rgb(116,173,209)"
          ],
          [
           0.3,
           "rgb(171,217,233)"
          ],
          [
           0.4,
           "rgb(224,243,248)"
          ],
          [
           0.5,
           "rgb(255,255,191)"
          ],
          [
           0.6,
           "rgb(254,224,144)"
          ],
          [
           0.7,
           "rgb(253,174,97)"
          ],
          [
           0.8,
           "rgb(244,109,67)"
          ],
          [
           0.9,
           "rgb(215,48,39)"
          ],
          [
           1,
           "rgb(165,0,38)"
          ]
         ],
         "showscale": true,
         "text": {
          "bdata": "AAAAAAAA8D8AAAAAAADwPwAAAAAAAPA/AAAAAAAAAAAAAAAAAADwPwAAAAAAAPA/AAAAAAAA8D8AAAAAAAAAAAAAAAAAAPA/AAAAAAAA8D8AAAAAAADwPwAAAAAAAAAAAAAAAAAAAAAAAAAAAAAAAAAAAAAAAAAAAAAAAAAA8D8=",
          "dtype": "f8",
          "shape": "4, 4"
         },
         "textfont": {
          "size": 12
         },
         "texttemplate": "%{text}",
         "type": "heatmap",
         "x": [
          "avaliador_1",
          "avaliador_2",
          "avaliador_3",
          "avaliador_4"
         ],
         "y": [
          "avaliador_1",
          "avaliador_2",
          "avaliador_3",
          "avaliador_4"
         ],
         "z": {
          "bdata": "AAAAAAAA8D8AAAAAAADwPwAAAAAAAPA/AAAAAAAAAAAAAAAAAADwPwAAAAAAAPA/AAAAAAAA8D8AAAAAAAAAAAAAAAAAAPA/AAAAAAAA8D8AAAAAAADwPwAAAAAAAAAAAAAAAAAAAAAAAAAAAAAAAAAAAAAAAAAAAAAAAAAA8D8=",
          "dtype": "f8",
          "shape": "4, 4"
         },
         "zmax": 1,
         "zmin": 0
        }
       ],
       "layout": {
        "height": 500,
        "template": {
         "data": {
          "bar": [
           {
            "error_x": {
             "color": "#2a3f5f"
            },
            "error_y": {
             "color": "#2a3f5f"
            },
            "marker": {
             "line": {
              "color": "white",
              "width": 0.5
             },
             "pattern": {
              "fillmode": "overlay",
              "size": 10,
              "solidity": 0.2
             }
            },
            "type": "bar"
           }
          ],
          "barpolar": [
           {
            "marker": {
             "line": {
              "color": "white",
              "width": 0.5
             },
             "pattern": {
              "fillmode": "overlay",
              "size": 10,
              "solidity": 0.2
             }
            },
            "type": "barpolar"
           }
          ],
          "carpet": [
           {
            "aaxis": {
             "endlinecolor": "#2a3f5f",
             "gridcolor": "#C8D4E3",
             "linecolor": "#C8D4E3",
             "minorgridcolor": "#C8D4E3",
             "startlinecolor": "#2a3f5f"
            },
            "baxis": {
             "endlinecolor": "#2a3f5f",
             "gridcolor": "#C8D4E3",
             "linecolor": "#C8D4E3",
             "minorgridcolor": "#C8D4E3",
             "startlinecolor": "#2a3f5f"
            },
            "type": "carpet"
           }
          ],
          "choropleth": [
           {
            "colorbar": {
             "outlinewidth": 0,
             "ticks": ""
            },
            "type": "choropleth"
           }
          ],
          "contour": [
           {
            "colorbar": {
             "outlinewidth": 0,
             "ticks": ""
            },
            "colorscale": [
             [
              0,
              "#0d0887"
             ],
             [
              0.1111111111111111,
              "#46039f"
             ],
             [
              0.2222222222222222,
              "#7201a8"
             ],
             [
              0.3333333333333333,
              "#9c179e"
             ],
             [
              0.4444444444444444,
              "#bd3786"
             ],
             [
              0.5555555555555556,
              "#d8576b"
             ],
             [
              0.6666666666666666,
              "#ed7953"
             ],
             [
              0.7777777777777778,
              "#fb9f3a"
             ],
             [
              0.8888888888888888,
              "#fdca26"
             ],
             [
              1,
              "#f0f921"
             ]
            ],
            "type": "contour"
           }
          ],
          "contourcarpet": [
           {
            "colorbar": {
             "outlinewidth": 0,
             "ticks": ""
            },
            "type": "contourcarpet"
           }
          ],
          "heatmap": [
           {
            "colorbar": {
             "outlinewidth": 0,
             "ticks": ""
            },
            "colorscale": [
             [
              0,
              "#0d0887"
             ],
             [
              0.1111111111111111,
              "#46039f"
             ],
             [
              0.2222222222222222,
              "#7201a8"
             ],
             [
              0.3333333333333333,
              "#9c179e"
             ],
             [
              0.4444444444444444,
              "#bd3786"
             ],
             [
              0.5555555555555556,
              "#d8576b"
             ],
             [
              0.6666666666666666,
              "#ed7953"
             ],
             [
              0.7777777777777778,
              "#fb9f3a"
             ],
             [
              0.8888888888888888,
              "#fdca26"
             ],
             [
              1,
              "#f0f921"
             ]
            ],
            "type": "heatmap"
           }
          ],
          "histogram": [
           {
            "marker": {
             "pattern": {
              "fillmode": "overlay",
              "size": 10,
              "solidity": 0.2
             }
            },
            "type": "histogram"
           }
          ],
          "histogram2d": [
           {
            "colorbar": {
             "outlinewidth": 0,
             "ticks": ""
            },
            "colorscale": [
             [
              0,
              "#0d0887"
             ],
             [
              0.1111111111111111,
              "#46039f"
             ],
             [
              0.2222222222222222,
              "#7201a8"
             ],
             [
              0.3333333333333333,
              "#9c179e"
             ],
             [
              0.4444444444444444,
              "#bd3786"
             ],
             [
              0.5555555555555556,
              "#d8576b"
             ],
             [
              0.6666666666666666,
              "#ed7953"
             ],
             [
              0.7777777777777778,
              "#fb9f3a"
             ],
             [
              0.8888888888888888,
              "#fdca26"
             ],
             [
              1,
              "#f0f921"
             ]
            ],
            "type": "histogram2d"
           }
          ],
          "histogram2dcontour": [
           {
            "colorbar": {
             "outlinewidth": 0,
             "ticks": ""
            },
            "colorscale": [
             [
              0,
              "#0d0887"
             ],
             [
              0.1111111111111111,
              "#46039f"
             ],
             [
              0.2222222222222222,
              "#7201a8"
             ],
             [
              0.3333333333333333,
              "#9c179e"
             ],
             [
              0.4444444444444444,
              "#bd3786"
             ],
             [
              0.5555555555555556,
              "#d8576b"
             ],
             [
              0.6666666666666666,
              "#ed7953"
             ],
             [
              0.7777777777777778,
              "#fb9f3a"
             ],
             [
              0.8888888888888888,
              "#fdca26"
             ],
             [
              1,
              "#f0f921"
             ]
            ],
            "type": "histogram2dcontour"
           }
          ],
          "mesh3d": [
           {
            "colorbar": {
             "outlinewidth": 0,
             "ticks": ""
            },
            "type": "mesh3d"
           }
          ],
          "parcoords": [
           {
            "line": {
             "colorbar": {
              "outlinewidth": 0,
              "ticks": ""
             }
            },
            "type": "parcoords"
           }
          ],
          "pie": [
           {
            "automargin": true,
            "type": "pie"
           }
          ],
          "scatter": [
           {
            "fillpattern": {
             "fillmode": "overlay",
             "size": 10,
             "solidity": 0.2
            },
            "type": "scatter"
           }
          ],
          "scatter3d": [
           {
            "line": {
             "colorbar": {
              "outlinewidth": 0,
              "ticks": ""
             }
            },
            "marker": {
             "colorbar": {
              "outlinewidth": 0,
              "ticks": ""
             }
            },
            "type": "scatter3d"
           }
          ],
          "scattercarpet": [
           {
            "marker": {
             "colorbar": {
              "outlinewidth": 0,
              "ticks": ""
             }
            },
            "type": "scattercarpet"
           }
          ],
          "scattergeo": [
           {
            "marker": {
             "colorbar": {
              "outlinewidth": 0,
              "ticks": ""
             }
            },
            "type": "scattergeo"
           }
          ],
          "scattergl": [
           {
            "marker": {
             "colorbar": {
              "outlinewidth": 0,
              "ticks": ""
             }
            },
            "type": "scattergl"
           }
          ],
          "scattermap": [
           {
            "marker": {
             "colorbar": {
              "outlinewidth": 0,
              "ticks": ""
             }
            },
            "type": "scattermap"
           }
          ],
          "scattermapbox": [
           {
            "marker": {
             "colorbar": {
              "outlinewidth": 0,
              "ticks": ""
             }
            },
            "type": "scattermapbox"
           }
          ],
          "scatterpolar": [
           {
            "marker": {
             "colorbar": {
              "outlinewidth": 0,
              "ticks": ""
             }
            },
            "type": "scatterpolar"
           }
          ],
          "scatterpolargl": [
           {
            "marker": {
             "colorbar": {
              "outlinewidth": 0,
              "ticks": ""
             }
            },
            "type": "scatterpolargl"
           }
          ],
          "scatterternary": [
           {
            "marker": {
             "colorbar": {
              "outlinewidth": 0,
              "ticks": ""
             }
            },
            "type": "scatterternary"
           }
          ],
          "surface": [
           {
            "colorbar": {
             "outlinewidth": 0,
             "ticks": ""
            },
            "colorscale": [
             [
              0,
              "#0d0887"
             ],
             [
              0.1111111111111111,
              "#46039f"
             ],
             [
              0.2222222222222222,
              "#7201a8"
             ],
             [
              0.3333333333333333,
              "#9c179e"
             ],
             [
              0.4444444444444444,
              "#bd3786"
             ],
             [
              0.5555555555555556,
              "#d8576b"
             ],
             [
              0.6666666666666666,
              "#ed7953"
             ],
             [
              0.7777777777777778,
              "#fb9f3a"
             ],
             [
              0.8888888888888888,
              "#fdca26"
             ],
             [
              1,
              "#f0f921"
             ]
            ],
            "type": "surface"
           }
          ],
          "table": [
           {
            "cells": {
             "fill": {
              "color": "#EBF0F8"
             },
             "line": {
              "color": "white"
             }
            },
            "header": {
             "fill": {
              "color": "#C8D4E3"
             },
             "line": {
              "color": "white"
             }
            },
            "type": "table"
           }
          ]
         },
         "layout": {
          "annotationdefaults": {
           "arrowcolor": "#2a3f5f",
           "arrowhead": 0,
           "arrowwidth": 1
          },
          "autotypenumbers": "strict",
          "coloraxis": {
           "colorbar": {
            "outlinewidth": 0,
            "ticks": ""
           }
          },
          "colorscale": {
           "diverging": [
            [
             0,
             "#8e0152"
            ],
            [
             0.1,
             "#c51b7d"
            ],
            [
             0.2,
             "#de77ae"
            ],
            [
             0.3,
             "#f1b6da"
            ],
            [
             0.4,
             "#fde0ef"
            ],
            [
             0.5,
             "#f7f7f7"
            ],
            [
             0.6,
             "#e6f5d0"
            ],
            [
             0.7,
             "#b8e186"
            ],
            [
             0.8,
             "#7fbc41"
            ],
            [
             0.9,
             "#4d9221"
            ],
            [
             1,
             "#276419"
            ]
           ],
           "sequential": [
            [
             0,
             "#0d0887"
            ],
            [
             0.1111111111111111,
             "#46039f"
            ],
            [
             0.2222222222222222,
             "#7201a8"
            ],
            [
             0.3333333333333333,
             "#9c179e"
            ],
            [
             0.4444444444444444,
             "#bd3786"
            ],
            [
             0.5555555555555556,
             "#d8576b"
            ],
            [
             0.6666666666666666,
             "#ed7953"
            ],
            [
             0.7777777777777778,
             "#fb9f3a"
            ],
            [
             0.8888888888888888,
             "#fdca26"
            ],
            [
             1,
             "#f0f921"
            ]
           ],
           "sequentialminus": [
            [
             0,
             "#0d0887"
            ],
            [
             0.1111111111111111,
             "#46039f"
            ],
            [
             0.2222222222222222,
             "#7201a8"
            ],
            [
             0.3333333333333333,
             "#9c179e"
            ],
            [
             0.4444444444444444,
             "#bd3786"
            ],
            [
             0.5555555555555556,
             "#d8576b"
            ],
            [
             0.6666666666666666,
             "#ed7953"
            ],
            [
             0.7777777777777778,
             "#fb9f3a"
            ],
            [
             0.8888888888888888,
             "#fdca26"
            ],
            [
             1,
             "#f0f921"
            ]
           ]
          },
          "colorway": [
           "#636efa",
           "#EF553B",
           "#00cc96",
           "#ab63fa",
           "#FFA15A",
           "#19d3f3",
           "#FF6692",
           "#B6E880",
           "#FF97FF",
           "#FECB52"
          ],
          "font": {
           "color": "#2a3f5f"
          },
          "geo": {
           "bgcolor": "white",
           "lakecolor": "white",
           "landcolor": "white",
           "showlakes": true,
           "showland": true,
           "subunitcolor": "#C8D4E3"
          },
          "hoverlabel": {
           "align": "left"
          },
          "hovermode": "closest",
          "mapbox": {
           "style": "light"
          },
          "paper_bgcolor": "white",
          "plot_bgcolor": "white",
          "polar": {
           "angularaxis": {
            "gridcolor": "#EBF0F8",
            "linecolor": "#EBF0F8",
            "ticks": ""
           },
           "bgcolor": "white",
           "radialaxis": {
            "gridcolor": "#EBF0F8",
            "linecolor": "#EBF0F8",
            "ticks": ""
           }
          },
          "scene": {
           "xaxis": {
            "backgroundcolor": "white",
            "gridcolor": "#DFE8F3",
            "gridwidth": 2,
            "linecolor": "#EBF0F8",
            "showbackground": true,
            "ticks": "",
            "zerolinecolor": "#EBF0F8"
           },
           "yaxis": {
            "backgroundcolor": "white",
            "gridcolor": "#DFE8F3",
            "gridwidth": 2,
            "linecolor": "#EBF0F8",
            "showbackground": true,
            "ticks": "",
            "zerolinecolor": "#EBF0F8"
           },
           "zaxis": {
            "backgroundcolor": "white",
            "gridcolor": "#DFE8F3",
            "gridwidth": 2,
            "linecolor": "#EBF0F8",
            "showbackground": true,
            "ticks": "",
            "zerolinecolor": "#EBF0F8"
           }
          },
          "shapedefaults": {
           "line": {
            "color": "#2a3f5f"
           }
          },
          "ternary": {
           "aaxis": {
            "gridcolor": "#DFE8F3",
            "linecolor": "#A2B1C6",
            "ticks": ""
           },
           "baxis": {
            "gridcolor": "#DFE8F3",
            "linecolor": "#A2B1C6",
            "ticks": ""
           },
           "bgcolor": "white",
           "caxis": {
            "gridcolor": "#DFE8F3",
            "linecolor": "#A2B1C6",
            "ticks": ""
           }
          },
          "title": {
           "x": 0.05
          },
          "xaxis": {
           "automargin": true,
           "gridcolor": "#EBF0F8",
           "linecolor": "#EBF0F8",
           "ticks": "",
           "title": {
            "standoff": 15
           },
           "zerolinecolor": "#EBF0F8",
           "zerolinewidth": 2
          },
          "yaxis": {
           "automargin": true,
           "gridcolor": "#EBF0F8",
           "linecolor": "#EBF0F8",
           "ticks": "",
           "title": {
            "standoff": 15
           },
           "zerolinecolor": "#EBF0F8",
           "zerolinewidth": 2
          }
         }
        },
        "title": {
         "font": {
          "size": 16
         },
         "text": "Inter-Annotator Accuracy Matrix",
         "x": 0.5
        },
        "width": 600,
        "xaxis": {
         "title": {
          "text": "Annotators"
         }
        },
        "yaxis": {
         "title": {
          "text": "Annotators"
         }
        }
       }
      }
     },
     "metadata": {},
     "output_type": "display_data"
    },
    {
     "name": "stdout",
     "output_type": "stream",
     "text": [
      "Saved: 03_iaa_accuracy_heatmap.html and .png\n"
     ]
    }
   ],
   "source": [
    "# =============================================================================\n",
    "# VISUALIZATION 1: Accuracy Heatmap\n",
    "# =============================================================================\n",
    "\n",
    "print(\"1. Inter-Annotator Accuracy Matrix\")\n",
    "fig1 = go.Figure(data=go.Heatmap(z=accuracy_matrix.values, x=accuracy_matrix.columns, y=accuracy_matrix.index, colorscale=\"RdYlBu_r\", zmin=0, zmax=1, text=accuracy_matrix.round(3).values, texttemplate=\"%{text}\", textfont={\"size\": 12}, showscale=True))\n",
    "\n",
    "fig1.update_layout(title={\"text\": \"Inter-Annotator Accuracy Matrix\", \"x\": 0.5, \"font\": {\"size\": 16}}, xaxis_title=\"Annotators\", yaxis_title=\"Annotators\", height=500, width=600)\n",
    "\n",
    "fig1.show()\n",
    "\n",
    "# Save the figure\n",
    "fig1.write_html(images_path / \"03_iaa_accuracy_heatmap.html\")\n",
    "fig1.write_image(images_path / \"03_iaa_accuracy_heatmap.png\", width=600, height=500, scale=3)\n",
    "print(f\"Saved: 03_iaa_accuracy_heatmap.html and .png\")"
   ]
  },
  {
   "cell_type": "code",
   "execution_count": 17,
   "id": "c5099701",
   "metadata": {},
   "outputs": [
    {
     "name": "stdout",
     "output_type": "stream",
     "text": [
      "2. Cohen's Kappa Matrix\n"
     ]
    },
    {
     "data": {
      "application/vnd.plotly.v1+json": {
       "config": {
        "plotlyServerURL": "https://plot.ly"
       },
       "data": [
        {
         "colorscale": [
          [
           0,
           "rgb(49,54,149)"
          ],
          [
           0.1,
           "rgb(69,117,180)"
          ],
          [
           0.2,
           "rgb(116,173,209)"
          ],
          [
           0.3,
           "rgb(171,217,233)"
          ],
          [
           0.4,
           "rgb(224,243,248)"
          ],
          [
           0.5,
           "rgb(255,255,191)"
          ],
          [
           0.6,
           "rgb(254,224,144)"
          ],
          [
           0.7,
           "rgb(253,174,97)"
          ],
          [
           0.8,
           "rgb(244,109,67)"
          ],
          [
           0.9,
           "rgb(215,48,39)"
          ],
          [
           1,
           "rgb(165,0,38)"
          ]
         ],
         "showscale": true,
         "text": {
          "bdata": "AAAAAAAA8D8AAAAAAAD4fwAAAAAAAPh/AAAAAAAAAAAAAAAAAAD4fwAAAAAAAPA/AAAAAAAA+H8AAAAAAAAAAAAAAAAAAPh/AAAAAAAA+H8AAAAAAADwPwAAAAAAAAAAAAAAAAAAAAAAAAAAAAAAAAAAAAAAAAAAAAAAAAAA8D8=",
          "dtype": "f8",
          "shape": "4, 4"
         },
         "textfont": {
          "size": 12
         },
         "texttemplate": "%{text}",
         "type": "heatmap",
         "x": [
          "avaliador_1",
          "avaliador_2",
          "avaliador_3",
          "avaliador_4"
         ],
         "y": [
          "avaliador_1",
          "avaliador_2",
          "avaliador_3",
          "avaliador_4"
         ],
         "z": {
          "bdata": "AAAAAAAA8D8AAAAAAAD4fwAAAAAAAPh/AAAAAAAAAAAAAAAAAAD4fwAAAAAAAPA/AAAAAAAA+H8AAAAAAAAAAAAAAAAAAPh/AAAAAAAA+H8AAAAAAADwPwAAAAAAAAAAAAAAAAAAAAAAAAAAAAAAAAAAAAAAAAAAAAAAAAAA8D8=",
          "dtype": "f8",
          "shape": "4, 4"
         },
         "zmax": 1,
         "zmin": -1
        }
       ],
       "layout": {
        "height": 500,
        "template": {
         "data": {
          "bar": [
           {
            "error_x": {
             "color": "#2a3f5f"
            },
            "error_y": {
             "color": "#2a3f5f"
            },
            "marker": {
             "line": {
              "color": "white",
              "width": 0.5
             },
             "pattern": {
              "fillmode": "overlay",
              "size": 10,
              "solidity": 0.2
             }
            },
            "type": "bar"
           }
          ],
          "barpolar": [
           {
            "marker": {
             "line": {
              "color": "white",
              "width": 0.5
             },
             "pattern": {
              "fillmode": "overlay",
              "size": 10,
              "solidity": 0.2
             }
            },
            "type": "barpolar"
           }
          ],
          "carpet": [
           {
            "aaxis": {
             "endlinecolor": "#2a3f5f",
             "gridcolor": "#C8D4E3",
             "linecolor": "#C8D4E3",
             "minorgridcolor": "#C8D4E3",
             "startlinecolor": "#2a3f5f"
            },
            "baxis": {
             "endlinecolor": "#2a3f5f",
             "gridcolor": "#C8D4E3",
             "linecolor": "#C8D4E3",
             "minorgridcolor": "#C8D4E3",
             "startlinecolor": "#2a3f5f"
            },
            "type": "carpet"
           }
          ],
          "choropleth": [
           {
            "colorbar": {
             "outlinewidth": 0,
             "ticks": ""
            },
            "type": "choropleth"
           }
          ],
          "contour": [
           {
            "colorbar": {
             "outlinewidth": 0,
             "ticks": ""
            },
            "colorscale": [
             [
              0,
              "#0d0887"
             ],
             [
              0.1111111111111111,
              "#46039f"
             ],
             [
              0.2222222222222222,
              "#7201a8"
             ],
             [
              0.3333333333333333,
              "#9c179e"
             ],
             [
              0.4444444444444444,
              "#bd3786"
             ],
             [
              0.5555555555555556,
              "#d8576b"
             ],
             [
              0.6666666666666666,
              "#ed7953"
             ],
             [
              0.7777777777777778,
              "#fb9f3a"
             ],
             [
              0.8888888888888888,
              "#fdca26"
             ],
             [
              1,
              "#f0f921"
             ]
            ],
            "type": "contour"
           }
          ],
          "contourcarpet": [
           {
            "colorbar": {
             "outlinewidth": 0,
             "ticks": ""
            },
            "type": "contourcarpet"
           }
          ],
          "heatmap": [
           {
            "colorbar": {
             "outlinewidth": 0,
             "ticks": ""
            },
            "colorscale": [
             [
              0,
              "#0d0887"
             ],
             [
              0.1111111111111111,
              "#46039f"
             ],
             [
              0.2222222222222222,
              "#7201a8"
             ],
             [
              0.3333333333333333,
              "#9c179e"
             ],
             [
              0.4444444444444444,
              "#bd3786"
             ],
             [
              0.5555555555555556,
              "#d8576b"
             ],
             [
              0.6666666666666666,
              "#ed7953"
             ],
             [
              0.7777777777777778,
              "#fb9f3a"
             ],
             [
              0.8888888888888888,
              "#fdca26"
             ],
             [
              1,
              "#f0f921"
             ]
            ],
            "type": "heatmap"
           }
          ],
          "histogram": [
           {
            "marker": {
             "pattern": {
              "fillmode": "overlay",
              "size": 10,
              "solidity": 0.2
             }
            },
            "type": "histogram"
           }
          ],
          "histogram2d": [
           {
            "colorbar": {
             "outlinewidth": 0,
             "ticks": ""
            },
            "colorscale": [
             [
              0,
              "#0d0887"
             ],
             [
              0.1111111111111111,
              "#46039f"
             ],
             [
              0.2222222222222222,
              "#7201a8"
             ],
             [
              0.3333333333333333,
              "#9c179e"
             ],
             [
              0.4444444444444444,
              "#bd3786"
             ],
             [
              0.5555555555555556,
              "#d8576b"
             ],
             [
              0.6666666666666666,
              "#ed7953"
             ],
             [
              0.7777777777777778,
              "#fb9f3a"
             ],
             [
              0.8888888888888888,
              "#fdca26"
             ],
             [
              1,
              "#f0f921"
             ]
            ],
            "type": "histogram2d"
           }
          ],
          "histogram2dcontour": [
           {
            "colorbar": {
             "outlinewidth": 0,
             "ticks": ""
            },
            "colorscale": [
             [
              0,
              "#0d0887"
             ],
             [
              0.1111111111111111,
              "#46039f"
             ],
             [
              0.2222222222222222,
              "#7201a8"
             ],
             [
              0.3333333333333333,
              "#9c179e"
             ],
             [
              0.4444444444444444,
              "#bd3786"
             ],
             [
              0.5555555555555556,
              "#d8576b"
             ],
             [
              0.6666666666666666,
              "#ed7953"
             ],
             [
              0.7777777777777778,
              "#fb9f3a"
             ],
             [
              0.8888888888888888,
              "#fdca26"
             ],
             [
              1,
              "#f0f921"
             ]
            ],
            "type": "histogram2dcontour"
           }
          ],
          "mesh3d": [
           {
            "colorbar": {
             "outlinewidth": 0,
             "ticks": ""
            },
            "type": "mesh3d"
           }
          ],
          "parcoords": [
           {
            "line": {
             "colorbar": {
              "outlinewidth": 0,
              "ticks": ""
             }
            },
            "type": "parcoords"
           }
          ],
          "pie": [
           {
            "automargin": true,
            "type": "pie"
           }
          ],
          "scatter": [
           {
            "fillpattern": {
             "fillmode": "overlay",
             "size": 10,
             "solidity": 0.2
            },
            "type": "scatter"
           }
          ],
          "scatter3d": [
           {
            "line": {
             "colorbar": {
              "outlinewidth": 0,
              "ticks": ""
             }
            },
            "marker": {
             "colorbar": {
              "outlinewidth": 0,
              "ticks": ""
             }
            },
            "type": "scatter3d"
           }
          ],
          "scattercarpet": [
           {
            "marker": {
             "colorbar": {
              "outlinewidth": 0,
              "ticks": ""
             }
            },
            "type": "scattercarpet"
           }
          ],
          "scattergeo": [
           {
            "marker": {
             "colorbar": {
              "outlinewidth": 0,
              "ticks": ""
             }
            },
            "type": "scattergeo"
           }
          ],
          "scattergl": [
           {
            "marker": {
             "colorbar": {
              "outlinewidth": 0,
              "ticks": ""
             }
            },
            "type": "scattergl"
           }
          ],
          "scattermap": [
           {
            "marker": {
             "colorbar": {
              "outlinewidth": 0,
              "ticks": ""
             }
            },
            "type": "scattermap"
           }
          ],
          "scattermapbox": [
           {
            "marker": {
             "colorbar": {
              "outlinewidth": 0,
              "ticks": ""
             }
            },
            "type": "scattermapbox"
           }
          ],
          "scatterpolar": [
           {
            "marker": {
             "colorbar": {
              "outlinewidth": 0,
              "ticks": ""
             }
            },
            "type": "scatterpolar"
           }
          ],
          "scatterpolargl": [
           {
            "marker": {
             "colorbar": {
              "outlinewidth": 0,
              "ticks": ""
             }
            },
            "type": "scatterpolargl"
           }
          ],
          "scatterternary": [
           {
            "marker": {
             "colorbar": {
              "outlinewidth": 0,
              "ticks": ""
             }
            },
            "type": "scatterternary"
           }
          ],
          "surface": [
           {
            "colorbar": {
             "outlinewidth": 0,
             "ticks": ""
            },
            "colorscale": [
             [
              0,
              "#0d0887"
             ],
             [
              0.1111111111111111,
              "#46039f"
             ],
             [
              0.2222222222222222,
              "#7201a8"
             ],
             [
              0.3333333333333333,
              "#9c179e"
             ],
             [
              0.4444444444444444,
              "#bd3786"
             ],
             [
              0.5555555555555556,
              "#d8576b"
             ],
             [
              0.6666666666666666,
              "#ed7953"
             ],
             [
              0.7777777777777778,
              "#fb9f3a"
             ],
             [
              0.8888888888888888,
              "#fdca26"
             ],
             [
              1,
              "#f0f921"
             ]
            ],
            "type": "surface"
           }
          ],
          "table": [
           {
            "cells": {
             "fill": {
              "color": "#EBF0F8"
             },
             "line": {
              "color": "white"
             }
            },
            "header": {
             "fill": {
              "color": "#C8D4E3"
             },
             "line": {
              "color": "white"
             }
            },
            "type": "table"
           }
          ]
         },
         "layout": {
          "annotationdefaults": {
           "arrowcolor": "#2a3f5f",
           "arrowhead": 0,
           "arrowwidth": 1
          },
          "autotypenumbers": "strict",
          "coloraxis": {
           "colorbar": {
            "outlinewidth": 0,
            "ticks": ""
           }
          },
          "colorscale": {
           "diverging": [
            [
             0,
             "#8e0152"
            ],
            [
             0.1,
             "#c51b7d"
            ],
            [
             0.2,
             "#de77ae"
            ],
            [
             0.3,
             "#f1b6da"
            ],
            [
             0.4,
             "#fde0ef"
            ],
            [
             0.5,
             "#f7f7f7"
            ],
            [
             0.6,
             "#e6f5d0"
            ],
            [
             0.7,
             "#b8e186"
            ],
            [
             0.8,
             "#7fbc41"
            ],
            [
             0.9,
             "#4d9221"
            ],
            [
             1,
             "#276419"
            ]
           ],
           "sequential": [
            [
             0,
             "#0d0887"
            ],
            [
             0.1111111111111111,
             "#46039f"
            ],
            [
             0.2222222222222222,
             "#7201a8"
            ],
            [
             0.3333333333333333,
             "#9c179e"
            ],
            [
             0.4444444444444444,
             "#bd3786"
            ],
            [
             0.5555555555555556,
             "#d8576b"
            ],
            [
             0.6666666666666666,
             "#ed7953"
            ],
            [
             0.7777777777777778,
             "#fb9f3a"
            ],
            [
             0.8888888888888888,
             "#fdca26"
            ],
            [
             1,
             "#f0f921"
            ]
           ],
           "sequentialminus": [
            [
             0,
             "#0d0887"
            ],
            [
             0.1111111111111111,
             "#46039f"
            ],
            [
             0.2222222222222222,
             "#7201a8"
            ],
            [
             0.3333333333333333,
             "#9c179e"
            ],
            [
             0.4444444444444444,
             "#bd3786"
            ],
            [
             0.5555555555555556,
             "#d8576b"
            ],
            [
             0.6666666666666666,
             "#ed7953"
            ],
            [
             0.7777777777777778,
             "#fb9f3a"
            ],
            [
             0.8888888888888888,
             "#fdca26"
            ],
            [
             1,
             "#f0f921"
            ]
           ]
          },
          "colorway": [
           "#636efa",
           "#EF553B",
           "#00cc96",
           "#ab63fa",
           "#FFA15A",
           "#19d3f3",
           "#FF6692",
           "#B6E880",
           "#FF97FF",
           "#FECB52"
          ],
          "font": {
           "color": "#2a3f5f"
          },
          "geo": {
           "bgcolor": "white",
           "lakecolor": "white",
           "landcolor": "white",
           "showlakes": true,
           "showland": true,
           "subunitcolor": "#C8D4E3"
          },
          "hoverlabel": {
           "align": "left"
          },
          "hovermode": "closest",
          "mapbox": {
           "style": "light"
          },
          "paper_bgcolor": "white",
          "plot_bgcolor": "white",
          "polar": {
           "angularaxis": {
            "gridcolor": "#EBF0F8",
            "linecolor": "#EBF0F8",
            "ticks": ""
           },
           "bgcolor": "white",
           "radialaxis": {
            "gridcolor": "#EBF0F8",
            "linecolor": "#EBF0F8",
            "ticks": ""
           }
          },
          "scene": {
           "xaxis": {
            "backgroundcolor": "white",
            "gridcolor": "#DFE8F3",
            "gridwidth": 2,
            "linecolor": "#EBF0F8",
            "showbackground": true,
            "ticks": "",
            "zerolinecolor": "#EBF0F8"
           },
           "yaxis": {
            "backgroundcolor": "white",
            "gridcolor": "#DFE8F3",
            "gridwidth": 2,
            "linecolor": "#EBF0F8",
            "showbackground": true,
            "ticks": "",
            "zerolinecolor": "#EBF0F8"
           },
           "zaxis": {
            "backgroundcolor": "white",
            "gridcolor": "#DFE8F3",
            "gridwidth": 2,
            "linecolor": "#EBF0F8",
            "showbackground": true,
            "ticks": "",
            "zerolinecolor": "#EBF0F8"
           }
          },
          "shapedefaults": {
           "line": {
            "color": "#2a3f5f"
           }
          },
          "ternary": {
           "aaxis": {
            "gridcolor": "#DFE8F3",
            "linecolor": "#A2B1C6",
            "ticks": ""
           },
           "baxis": {
            "gridcolor": "#DFE8F3",
            "linecolor": "#A2B1C6",
            "ticks": ""
           },
           "bgcolor": "white",
           "caxis": {
            "gridcolor": "#DFE8F3",
            "linecolor": "#A2B1C6",
            "ticks": ""
           }
          },
          "title": {
           "x": 0.05
          },
          "xaxis": {
           "automargin": true,
           "gridcolor": "#EBF0F8",
           "linecolor": "#EBF0F8",
           "ticks": "",
           "title": {
            "standoff": 15
           },
           "zerolinecolor": "#EBF0F8",
           "zerolinewidth": 2
          },
          "yaxis": {
           "automargin": true,
           "gridcolor": "#EBF0F8",
           "linecolor": "#EBF0F8",
           "ticks": "",
           "title": {
            "standoff": 15
           },
           "zerolinecolor": "#EBF0F8",
           "zerolinewidth": 2
          }
         }
        },
        "title": {
         "font": {
          "size": 16
         },
         "text": "Cohen's Kappa Agreement Matrix",
         "x": 0.5
        },
        "width": 600,
        "xaxis": {
         "title": {
          "text": "Annotators"
         }
        },
        "yaxis": {
         "title": {
          "text": "Annotators"
         }
        }
       }
      }
     },
     "metadata": {},
     "output_type": "display_data"
    },
    {
     "name": "stdout",
     "output_type": "stream",
     "text": [
      "Saved: 03_iaa_cohens_kappa_heatmap.html and .png\n"
     ]
    }
   ],
   "source": [
    "# =============================================================================\n",
    "# VISUALIZATION 2: Cohen's Kappa Heatmap\n",
    "# =============================================================================\n",
    "\n",
    "print(\"2. Cohen's Kappa Matrix\")\n",
    "fig2 = go.Figure(data=go.Heatmap(z=kappa_matrix.values, x=kappa_matrix.columns, y=kappa_matrix.index, colorscale=\"RdYlBu_r\", zmin=-1, zmax=1, text=kappa_matrix.round(3).values, texttemplate=\"%{text}\", textfont={\"size\": 12}, showscale=True))\n",
    "\n",
    "fig2.update_layout(title={\"text\": \"Cohen's Kappa Agreement Matrix\", \"x\": 0.5, \"font\": {\"size\": 16}}, xaxis_title=\"Annotators\", yaxis_title=\"Annotators\", height=500, width=600)\n",
    "\n",
    "fig2.show()\n",
    "\n",
    "# Save the figure\n",
    "fig2.write_html(images_path / \"03_iaa_cohens_kappa_heatmap.html\")\n",
    "fig2.write_image(images_path / \"03_iaa_cohens_kappa_heatmap.png\", width=600, height=500, scale=3)\n",
    "print(f\"Saved: 03_iaa_cohens_kappa_heatmap.html and .png\")"
   ]
  },
  {
   "cell_type": "code",
   "execution_count": 18,
   "id": "af0e3b9c",
   "metadata": {},
   "outputs": [
    {
     "name": "stdout",
     "output_type": "stream",
     "text": [
      "3. Response Distribution Across All Annotators\n"
     ]
    },
    {
     "data": {
      "application/vnd.plotly.v1+json": {
       "config": {
        "plotlyServerURL": "https://plot.ly"
       },
       "data": [
        {
         "marker": {
          "color": [
           "#2E86AB",
           "#A23B72"
          ]
         },
         "text": {
          "bdata": "AAAAAAAARUAAAAAAAAAsQA==",
          "dtype": "f8"
         },
         "textposition": "auto",
         "type": "bar",
         "x": [
          "Sim",
          "Não"
         ],
         "y": {
          "bdata": "Kg4=",
          "dtype": "i1"
         }
        }
       ],
       "layout": {
        "height": 500,
        "template": {
         "data": {
          "bar": [
           {
            "error_x": {
             "color": "#2a3f5f"
            },
            "error_y": {
             "color": "#2a3f5f"
            },
            "marker": {
             "line": {
              "color": "white",
              "width": 0.5
             },
             "pattern": {
              "fillmode": "overlay",
              "size": 10,
              "solidity": 0.2
             }
            },
            "type": "bar"
           }
          ],
          "barpolar": [
           {
            "marker": {
             "line": {
              "color": "white",
              "width": 0.5
             },
             "pattern": {
              "fillmode": "overlay",
              "size": 10,
              "solidity": 0.2
             }
            },
            "type": "barpolar"
           }
          ],
          "carpet": [
           {
            "aaxis": {
             "endlinecolor": "#2a3f5f",
             "gridcolor": "#C8D4E3",
             "linecolor": "#C8D4E3",
             "minorgridcolor": "#C8D4E3",
             "startlinecolor": "#2a3f5f"
            },
            "baxis": {
             "endlinecolor": "#2a3f5f",
             "gridcolor": "#C8D4E3",
             "linecolor": "#C8D4E3",
             "minorgridcolor": "#C8D4E3",
             "startlinecolor": "#2a3f5f"
            },
            "type": "carpet"
           }
          ],
          "choropleth": [
           {
            "colorbar": {
             "outlinewidth": 0,
             "ticks": ""
            },
            "type": "choropleth"
           }
          ],
          "contour": [
           {
            "colorbar": {
             "outlinewidth": 0,
             "ticks": ""
            },
            "colorscale": [
             [
              0,
              "#0d0887"
             ],
             [
              0.1111111111111111,
              "#46039f"
             ],
             [
              0.2222222222222222,
              "#7201a8"
             ],
             [
              0.3333333333333333,
              "#9c179e"
             ],
             [
              0.4444444444444444,
              "#bd3786"
             ],
             [
              0.5555555555555556,
              "#d8576b"
             ],
             [
              0.6666666666666666,
              "#ed7953"
             ],
             [
              0.7777777777777778,
              "#fb9f3a"
             ],
             [
              0.8888888888888888,
              "#fdca26"
             ],
             [
              1,
              "#f0f921"
             ]
            ],
            "type": "contour"
           }
          ],
          "contourcarpet": [
           {
            "colorbar": {
             "outlinewidth": 0,
             "ticks": ""
            },
            "type": "contourcarpet"
           }
          ],
          "heatmap": [
           {
            "colorbar": {
             "outlinewidth": 0,
             "ticks": ""
            },
            "colorscale": [
             [
              0,
              "#0d0887"
             ],
             [
              0.1111111111111111,
              "#46039f"
             ],
             [
              0.2222222222222222,
              "#7201a8"
             ],
             [
              0.3333333333333333,
              "#9c179e"
             ],
             [
              0.4444444444444444,
              "#bd3786"
             ],
             [
              0.5555555555555556,
              "#d8576b"
             ],
             [
              0.6666666666666666,
              "#ed7953"
             ],
             [
              0.7777777777777778,
              "#fb9f3a"
             ],
             [
              0.8888888888888888,
              "#fdca26"
             ],
             [
              1,
              "#f0f921"
             ]
            ],
            "type": "heatmap"
           }
          ],
          "histogram": [
           {
            "marker": {
             "pattern": {
              "fillmode": "overlay",
              "size": 10,
              "solidity": 0.2
             }
            },
            "type": "histogram"
           }
          ],
          "histogram2d": [
           {
            "colorbar": {
             "outlinewidth": 0,
             "ticks": ""
            },
            "colorscale": [
             [
              0,
              "#0d0887"
             ],
             [
              0.1111111111111111,
              "#46039f"
             ],
             [
              0.2222222222222222,
              "#7201a8"
             ],
             [
              0.3333333333333333,
              "#9c179e"
             ],
             [
              0.4444444444444444,
              "#bd3786"
             ],
             [
              0.5555555555555556,
              "#d8576b"
             ],
             [
              0.6666666666666666,
              "#ed7953"
             ],
             [
              0.7777777777777778,
              "#fb9f3a"
             ],
             [
              0.8888888888888888,
              "#fdca26"
             ],
             [
              1,
              "#f0f921"
             ]
            ],
            "type": "histogram2d"
           }
          ],
          "histogram2dcontour": [
           {
            "colorbar": {
             "outlinewidth": 0,
             "ticks": ""
            },
            "colorscale": [
             [
              0,
              "#0d0887"
             ],
             [
              0.1111111111111111,
              "#46039f"
             ],
             [
              0.2222222222222222,
              "#7201a8"
             ],
             [
              0.3333333333333333,
              "#9c179e"
             ],
             [
              0.4444444444444444,
              "#bd3786"
             ],
             [
              0.5555555555555556,
              "#d8576b"
             ],
             [
              0.6666666666666666,
              "#ed7953"
             ],
             [
              0.7777777777777778,
              "#fb9f3a"
             ],
             [
              0.8888888888888888,
              "#fdca26"
             ],
             [
              1,
              "#f0f921"
             ]
            ],
            "type": "histogram2dcontour"
           }
          ],
          "mesh3d": [
           {
            "colorbar": {
             "outlinewidth": 0,
             "ticks": ""
            },
            "type": "mesh3d"
           }
          ],
          "parcoords": [
           {
            "line": {
             "colorbar": {
              "outlinewidth": 0,
              "ticks": ""
             }
            },
            "type": "parcoords"
           }
          ],
          "pie": [
           {
            "automargin": true,
            "type": "pie"
           }
          ],
          "scatter": [
           {
            "fillpattern": {
             "fillmode": "overlay",
             "size": 10,
             "solidity": 0.2
            },
            "type": "scatter"
           }
          ],
          "scatter3d": [
           {
            "line": {
             "colorbar": {
              "outlinewidth": 0,
              "ticks": ""
             }
            },
            "marker": {
             "colorbar": {
              "outlinewidth": 0,
              "ticks": ""
             }
            },
            "type": "scatter3d"
           }
          ],
          "scattercarpet": [
           {
            "marker": {
             "colorbar": {
              "outlinewidth": 0,
              "ticks": ""
             }
            },
            "type": "scattercarpet"
           }
          ],
          "scattergeo": [
           {
            "marker": {
             "colorbar": {
              "outlinewidth": 0,
              "ticks": ""
             }
            },
            "type": "scattergeo"
           }
          ],
          "scattergl": [
           {
            "marker": {
             "colorbar": {
              "outlinewidth": 0,
              "ticks": ""
             }
            },
            "type": "scattergl"
           }
          ],
          "scattermap": [
           {
            "marker": {
             "colorbar": {
              "outlinewidth": 0,
              "ticks": ""
             }
            },
            "type": "scattermap"
           }
          ],
          "scattermapbox": [
           {
            "marker": {
             "colorbar": {
              "outlinewidth": 0,
              "ticks": ""
             }
            },
            "type": "scattermapbox"
           }
          ],
          "scatterpolar": [
           {
            "marker": {
             "colorbar": {
              "outlinewidth": 0,
              "ticks": ""
             }
            },
            "type": "scatterpolar"
           }
          ],
          "scatterpolargl": [
           {
            "marker": {
             "colorbar": {
              "outlinewidth": 0,
              "ticks": ""
             }
            },
            "type": "scatterpolargl"
           }
          ],
          "scatterternary": [
           {
            "marker": {
             "colorbar": {
              "outlinewidth": 0,
              "ticks": ""
             }
            },
            "type": "scatterternary"
           }
          ],
          "surface": [
           {
            "colorbar": {
             "outlinewidth": 0,
             "ticks": ""
            },
            "colorscale": [
             [
              0,
              "#0d0887"
             ],
             [
              0.1111111111111111,
              "#46039f"
             ],
             [
              0.2222222222222222,
              "#7201a8"
             ],
             [
              0.3333333333333333,
              "#9c179e"
             ],
             [
              0.4444444444444444,
              "#bd3786"
             ],
             [
              0.5555555555555556,
              "#d8576b"
             ],
             [
              0.6666666666666666,
              "#ed7953"
             ],
             [
              0.7777777777777778,
              "#fb9f3a"
             ],
             [
              0.8888888888888888,
              "#fdca26"
             ],
             [
              1,
              "#f0f921"
             ]
            ],
            "type": "surface"
           }
          ],
          "table": [
           {
            "cells": {
             "fill": {
              "color": "#EBF0F8"
             },
             "line": {
              "color": "white"
             }
            },
            "header": {
             "fill": {
              "color": "#C8D4E3"
             },
             "line": {
              "color": "white"
             }
            },
            "type": "table"
           }
          ]
         },
         "layout": {
          "annotationdefaults": {
           "arrowcolor": "#2a3f5f",
           "arrowhead": 0,
           "arrowwidth": 1
          },
          "autotypenumbers": "strict",
          "coloraxis": {
           "colorbar": {
            "outlinewidth": 0,
            "ticks": ""
           }
          },
          "colorscale": {
           "diverging": [
            [
             0,
             "#8e0152"
            ],
            [
             0.1,
             "#c51b7d"
            ],
            [
             0.2,
             "#de77ae"
            ],
            [
             0.3,
             "#f1b6da"
            ],
            [
             0.4,
             "#fde0ef"
            ],
            [
             0.5,
             "#f7f7f7"
            ],
            [
             0.6,
             "#e6f5d0"
            ],
            [
             0.7,
             "#b8e186"
            ],
            [
             0.8,
             "#7fbc41"
            ],
            [
             0.9,
             "#4d9221"
            ],
            [
             1,
             "#276419"
            ]
           ],
           "sequential": [
            [
             0,
             "#0d0887"
            ],
            [
             0.1111111111111111,
             "#46039f"
            ],
            [
             0.2222222222222222,
             "#7201a8"
            ],
            [
             0.3333333333333333,
             "#9c179e"
            ],
            [
             0.4444444444444444,
             "#bd3786"
            ],
            [
             0.5555555555555556,
             "#d8576b"
            ],
            [
             0.6666666666666666,
             "#ed7953"
            ],
            [
             0.7777777777777778,
             "#fb9f3a"
            ],
            [
             0.8888888888888888,
             "#fdca26"
            ],
            [
             1,
             "#f0f921"
            ]
           ],
           "sequentialminus": [
            [
             0,
             "#0d0887"
            ],
            [
             0.1111111111111111,
             "#46039f"
            ],
            [
             0.2222222222222222,
             "#7201a8"
            ],
            [
             0.3333333333333333,
             "#9c179e"
            ],
            [
             0.4444444444444444,
             "#bd3786"
            ],
            [
             0.5555555555555556,
             "#d8576b"
            ],
            [
             0.6666666666666666,
             "#ed7953"
            ],
            [
             0.7777777777777778,
             "#fb9f3a"
            ],
            [
             0.8888888888888888,
             "#fdca26"
            ],
            [
             1,
             "#f0f921"
            ]
           ]
          },
          "colorway": [
           "#636efa",
           "#EF553B",
           "#00cc96",
           "#ab63fa",
           "#FFA15A",
           "#19d3f3",
           "#FF6692",
           "#B6E880",
           "#FF97FF",
           "#FECB52"
          ],
          "font": {
           "color": "#2a3f5f"
          },
          "geo": {
           "bgcolor": "white",
           "lakecolor": "white",
           "landcolor": "white",
           "showlakes": true,
           "showland": true,
           "subunitcolor": "#C8D4E3"
          },
          "hoverlabel": {
           "align": "left"
          },
          "hovermode": "closest",
          "mapbox": {
           "style": "light"
          },
          "paper_bgcolor": "white",
          "plot_bgcolor": "white",
          "polar": {
           "angularaxis": {
            "gridcolor": "#EBF0F8",
            "linecolor": "#EBF0F8",
            "ticks": ""
           },
           "bgcolor": "white",
           "radialaxis": {
            "gridcolor": "#EBF0F8",
            "linecolor": "#EBF0F8",
            "ticks": ""
           }
          },
          "scene": {
           "xaxis": {
            "backgroundcolor": "white",
            "gridcolor": "#DFE8F3",
            "gridwidth": 2,
            "linecolor": "#EBF0F8",
            "showbackground": true,
            "ticks": "",
            "zerolinecolor": "#EBF0F8"
           },
           "yaxis": {
            "backgroundcolor": "white",
            "gridcolor": "#DFE8F3",
            "gridwidth": 2,
            "linecolor": "#EBF0F8",
            "showbackground": true,
            "ticks": "",
            "zerolinecolor": "#EBF0F8"
           },
           "zaxis": {
            "backgroundcolor": "white",
            "gridcolor": "#DFE8F3",
            "gridwidth": 2,
            "linecolor": "#EBF0F8",
            "showbackground": true,
            "ticks": "",
            "zerolinecolor": "#EBF0F8"
           }
          },
          "shapedefaults": {
           "line": {
            "color": "#2a3f5f"
           }
          },
          "ternary": {
           "aaxis": {
            "gridcolor": "#DFE8F3",
            "linecolor": "#A2B1C6",
            "ticks": ""
           },
           "baxis": {
            "gridcolor": "#DFE8F3",
            "linecolor": "#A2B1C6",
            "ticks": ""
           },
           "bgcolor": "white",
           "caxis": {
            "gridcolor": "#DFE8F3",
            "linecolor": "#A2B1C6",
            "ticks": ""
           }
          },
          "title": {
           "x": 0.05
          },
          "xaxis": {
           "automargin": true,
           "gridcolor": "#EBF0F8",
           "linecolor": "#EBF0F8",
           "ticks": "",
           "title": {
            "standoff": 15
           },
           "zerolinecolor": "#EBF0F8",
           "zerolinewidth": 2
          },
          "yaxis": {
           "automargin": true,
           "gridcolor": "#EBF0F8",
           "linecolor": "#EBF0F8",
           "ticks": "",
           "title": {
            "standoff": 15
           },
           "zerolinecolor": "#EBF0F8",
           "zerolinewidth": 2
          }
         }
        },
        "title": {
         "font": {
          "size": 16
         },
         "text": "Distribution of Responses Across All Annotators",
         "x": 0.5
        },
        "width": 600,
        "xaxis": {
         "title": {
          "text": "Response"
         }
        },
        "yaxis": {
         "title": {
          "text": "Count"
         }
        }
       }
      }
     },
     "metadata": {},
     "output_type": "display_data"
    },
    {
     "name": "stdout",
     "output_type": "stream",
     "text": [
      "Saved: 03_iaa_response_distribution.html and .png\n"
     ]
    }
   ],
   "source": [
    "# =============================================================================\n",
    "# VISUALIZATION 3: Response Distribution\n",
    "# =============================================================================\n",
    "\n",
    "print(\"3. Response Distribution Across All Annotators\")\n",
    "\n",
    "response_dist = ivc.stack().value_counts()\n",
    "fig3 = go.Figure(data=go.Bar(x=response_dist.index, y=response_dist.values, text=response_dist.values, textposition=\"auto\", marker_color=[\"#2E86AB\", \"#A23B72\"]))\n",
    "\n",
    "fig3.update_layout(title={\"text\": \"Distribution of Responses Across All Annotators\", \"x\": 0.5, \"font\": {\"size\": 16}}, xaxis_title=\"Response\", yaxis_title=\"Count\", height=500, width=600)\n",
    "\n",
    "fig3.show()\n",
    "\n",
    "# Save the figure\n",
    "fig3.write_html(images_path / \"03_iaa_response_distribution.html\")\n",
    "fig3.write_image(images_path / \"03_iaa_response_distribution.png\", width=600, height=500, scale=3)\n",
    "print(f\"Saved: 03_iaa_response_distribution.html and .png\")"
   ]
  },
  {
   "cell_type": "code",
   "execution_count": 19,
   "id": "abf3eb40",
   "metadata": {},
   "outputs": [
    {
     "name": "stdout",
     "output_type": "stream",
     "text": [
      "4. Pairwise Accuracy Between Annotators\n",
      "                         Pair  Accuracy  Annotator_1  Annotator_2\n",
      "0  avaliador_1 vs avaliador_2       1.0  avaliador_1  avaliador_2\n",
      "1  avaliador_1 vs avaliador_3       1.0  avaliador_1  avaliador_3\n",
      "2  avaliador_1 vs avaliador_4       0.0  avaliador_1  avaliador_4\n",
      "3  avaliador_2 vs avaliador_3       1.0  avaliador_2  avaliador_3\n",
      "4  avaliador_2 vs avaliador_4       0.0  avaliador_2  avaliador_4\n",
      "5  avaliador_3 vs avaliador_4       0.0  avaliador_3  avaliador_4\n"
     ]
    },
    {
     "data": {
      "application/vnd.plotly.v1+json": {
       "config": {
        "plotlyServerURL": "https://plot.ly"
       },
       "data": [
        {
         "hovertemplate": "Annotator Pairs=%{x}<br>Accuracy Score=%{text}<extra></extra>",
         "legendgroup": "",
         "marker": {
          "color": "#636efa",
          "pattern": {
           "shape": ""
          }
         },
         "name": "",
         "orientation": "v",
         "showlegend": false,
         "text": {
          "bdata": "AAAAAAAA8D8AAAAAAADwPwAAAAAAAAAAAAAAAAAA8D8AAAAAAAAAAAAAAAAAAAAA",
          "dtype": "f8"
         },
         "textposition": "outside",
         "texttemplate": "%{text:.3f}",
         "type": "bar",
         "x": [
          "avaliador_1 vs avaliador_2",
          "avaliador_1 vs avaliador_3",
          "avaliador_1 vs avaliador_4",
          "avaliador_2 vs avaliador_3",
          "avaliador_2 vs avaliador_4",
          "avaliador_3 vs avaliador_4"
         ],
         "xaxis": "x",
         "y": {
          "bdata": "AAAAAAAA8D8AAAAAAADwPwAAAAAAAAAAAAAAAAAA8D8AAAAAAAAAAAAAAAAAAAAA",
          "dtype": "f8"
         },
         "yaxis": "y"
        }
       ],
       "layout": {
        "barmode": "relative",
        "height": 400,
        "legend": {
         "tracegroupgap": 0
        },
        "template": {
         "data": {
          "bar": [
           {
            "error_x": {
             "color": "#2a3f5f"
            },
            "error_y": {
             "color": "#2a3f5f"
            },
            "marker": {
             "line": {
              "color": "white",
              "width": 0.5
             },
             "pattern": {
              "fillmode": "overlay",
              "size": 10,
              "solidity": 0.2
             }
            },
            "type": "bar"
           }
          ],
          "barpolar": [
           {
            "marker": {
             "line": {
              "color": "white",
              "width": 0.5
             },
             "pattern": {
              "fillmode": "overlay",
              "size": 10,
              "solidity": 0.2
             }
            },
            "type": "barpolar"
           }
          ],
          "carpet": [
           {
            "aaxis": {
             "endlinecolor": "#2a3f5f",
             "gridcolor": "#C8D4E3",
             "linecolor": "#C8D4E3",
             "minorgridcolor": "#C8D4E3",
             "startlinecolor": "#2a3f5f"
            },
            "baxis": {
             "endlinecolor": "#2a3f5f",
             "gridcolor": "#C8D4E3",
             "linecolor": "#C8D4E3",
             "minorgridcolor": "#C8D4E3",
             "startlinecolor": "#2a3f5f"
            },
            "type": "carpet"
           }
          ],
          "choropleth": [
           {
            "colorbar": {
             "outlinewidth": 0,
             "ticks": ""
            },
            "type": "choropleth"
           }
          ],
          "contour": [
           {
            "colorbar": {
             "outlinewidth": 0,
             "ticks": ""
            },
            "colorscale": [
             [
              0,
              "#0d0887"
             ],
             [
              0.1111111111111111,
              "#46039f"
             ],
             [
              0.2222222222222222,
              "#7201a8"
             ],
             [
              0.3333333333333333,
              "#9c179e"
             ],
             [
              0.4444444444444444,
              "#bd3786"
             ],
             [
              0.5555555555555556,
              "#d8576b"
             ],
             [
              0.6666666666666666,
              "#ed7953"
             ],
             [
              0.7777777777777778,
              "#fb9f3a"
             ],
             [
              0.8888888888888888,
              "#fdca26"
             ],
             [
              1,
              "#f0f921"
             ]
            ],
            "type": "contour"
           }
          ],
          "contourcarpet": [
           {
            "colorbar": {
             "outlinewidth": 0,
             "ticks": ""
            },
            "type": "contourcarpet"
           }
          ],
          "heatmap": [
           {
            "colorbar": {
             "outlinewidth": 0,
             "ticks": ""
            },
            "colorscale": [
             [
              0,
              "#0d0887"
             ],
             [
              0.1111111111111111,
              "#46039f"
             ],
             [
              0.2222222222222222,
              "#7201a8"
             ],
             [
              0.3333333333333333,
              "#9c179e"
             ],
             [
              0.4444444444444444,
              "#bd3786"
             ],
             [
              0.5555555555555556,
              "#d8576b"
             ],
             [
              0.6666666666666666,
              "#ed7953"
             ],
             [
              0.7777777777777778,
              "#fb9f3a"
             ],
             [
              0.8888888888888888,
              "#fdca26"
             ],
             [
              1,
              "#f0f921"
             ]
            ],
            "type": "heatmap"
           }
          ],
          "histogram": [
           {
            "marker": {
             "pattern": {
              "fillmode": "overlay",
              "size": 10,
              "solidity": 0.2
             }
            },
            "type": "histogram"
           }
          ],
          "histogram2d": [
           {
            "colorbar": {
             "outlinewidth": 0,
             "ticks": ""
            },
            "colorscale": [
             [
              0,
              "#0d0887"
             ],
             [
              0.1111111111111111,
              "#46039f"
             ],
             [
              0.2222222222222222,
              "#7201a8"
             ],
             [
              0.3333333333333333,
              "#9c179e"
             ],
             [
              0.4444444444444444,
              "#bd3786"
             ],
             [
              0.5555555555555556,
              "#d8576b"
             ],
             [
              0.6666666666666666,
              "#ed7953"
             ],
             [
              0.7777777777777778,
              "#fb9f3a"
             ],
             [
              0.8888888888888888,
              "#fdca26"
             ],
             [
              1,
              "#f0f921"
             ]
            ],
            "type": "histogram2d"
           }
          ],
          "histogram2dcontour": [
           {
            "colorbar": {
             "outlinewidth": 0,
             "ticks": ""
            },
            "colorscale": [
             [
              0,
              "#0d0887"
             ],
             [
              0.1111111111111111,
              "#46039f"
             ],
             [
              0.2222222222222222,
              "#7201a8"
             ],
             [
              0.3333333333333333,
              "#9c179e"
             ],
             [
              0.4444444444444444,
              "#bd3786"
             ],
             [
              0.5555555555555556,
              "#d8576b"
             ],
             [
              0.6666666666666666,
              "#ed7953"
             ],
             [
              0.7777777777777778,
              "#fb9f3a"
             ],
             [
              0.8888888888888888,
              "#fdca26"
             ],
             [
              1,
              "#f0f921"
             ]
            ],
            "type": "histogram2dcontour"
           }
          ],
          "mesh3d": [
           {
            "colorbar": {
             "outlinewidth": 0,
             "ticks": ""
            },
            "type": "mesh3d"
           }
          ],
          "parcoords": [
           {
            "line": {
             "colorbar": {
              "outlinewidth": 0,
              "ticks": ""
             }
            },
            "type": "parcoords"
           }
          ],
          "pie": [
           {
            "automargin": true,
            "type": "pie"
           }
          ],
          "scatter": [
           {
            "fillpattern": {
             "fillmode": "overlay",
             "size": 10,
             "solidity": 0.2
            },
            "type": "scatter"
           }
          ],
          "scatter3d": [
           {
            "line": {
             "colorbar": {
              "outlinewidth": 0,
              "ticks": ""
             }
            },
            "marker": {
             "colorbar": {
              "outlinewidth": 0,
              "ticks": ""
             }
            },
            "type": "scatter3d"
           }
          ],
          "scattercarpet": [
           {
            "marker": {
             "colorbar": {
              "outlinewidth": 0,
              "ticks": ""
             }
            },
            "type": "scattercarpet"
           }
          ],
          "scattergeo": [
           {
            "marker": {
             "colorbar": {
              "outlinewidth": 0,
              "ticks": ""
             }
            },
            "type": "scattergeo"
           }
          ],
          "scattergl": [
           {
            "marker": {
             "colorbar": {
              "outlinewidth": 0,
              "ticks": ""
             }
            },
            "type": "scattergl"
           }
          ],
          "scattermap": [
           {
            "marker": {
             "colorbar": {
              "outlinewidth": 0,
              "ticks": ""
             }
            },
            "type": "scattermap"
           }
          ],
          "scattermapbox": [
           {
            "marker": {
             "colorbar": {
              "outlinewidth": 0,
              "ticks": ""
             }
            },
            "type": "scattermapbox"
           }
          ],
          "scatterpolar": [
           {
            "marker": {
             "colorbar": {
              "outlinewidth": 0,
              "ticks": ""
             }
            },
            "type": "scatterpolar"
           }
          ],
          "scatterpolargl": [
           {
            "marker": {
             "colorbar": {
              "outlinewidth": 0,
              "ticks": ""
             }
            },
            "type": "scatterpolargl"
           }
          ],
          "scatterternary": [
           {
            "marker": {
             "colorbar": {
              "outlinewidth": 0,
              "ticks": ""
             }
            },
            "type": "scatterternary"
           }
          ],
          "surface": [
           {
            "colorbar": {
             "outlinewidth": 0,
             "ticks": ""
            },
            "colorscale": [
             [
              0,
              "#0d0887"
             ],
             [
              0.1111111111111111,
              "#46039f"
             ],
             [
              0.2222222222222222,
              "#7201a8"
             ],
             [
              0.3333333333333333,
              "#9c179e"
             ],
             [
              0.4444444444444444,
              "#bd3786"
             ],
             [
              0.5555555555555556,
              "#d8576b"
             ],
             [
              0.6666666666666666,
              "#ed7953"
             ],
             [
              0.7777777777777778,
              "#fb9f3a"
             ],
             [
              0.8888888888888888,
              "#fdca26"
             ],
             [
              1,
              "#f0f921"
             ]
            ],
            "type": "surface"
           }
          ],
          "table": [
           {
            "cells": {
             "fill": {
              "color": "#EBF0F8"
             },
             "line": {
              "color": "white"
             }
            },
            "header": {
             "fill": {
              "color": "#C8D4E3"
             },
             "line": {
              "color": "white"
             }
            },
            "type": "table"
           }
          ]
         },
         "layout": {
          "annotationdefaults": {
           "arrowcolor": "#2a3f5f",
           "arrowhead": 0,
           "arrowwidth": 1
          },
          "autotypenumbers": "strict",
          "coloraxis": {
           "colorbar": {
            "outlinewidth": 0,
            "ticks": ""
           }
          },
          "colorscale": {
           "diverging": [
            [
             0,
             "#8e0152"
            ],
            [
             0.1,
             "#c51b7d"
            ],
            [
             0.2,
             "#de77ae"
            ],
            [
             0.3,
             "#f1b6da"
            ],
            [
             0.4,
             "#fde0ef"
            ],
            [
             0.5,
             "#f7f7f7"
            ],
            [
             0.6,
             "#e6f5d0"
            ],
            [
             0.7,
             "#b8e186"
            ],
            [
             0.8,
             "#7fbc41"
            ],
            [
             0.9,
             "#4d9221"
            ],
            [
             1,
             "#276419"
            ]
           ],
           "sequential": [
            [
             0,
             "#0d0887"
            ],
            [
             0.1111111111111111,
             "#46039f"
            ],
            [
             0.2222222222222222,
             "#7201a8"
            ],
            [
             0.3333333333333333,
             "#9c179e"
            ],
            [
             0.4444444444444444,
             "#bd3786"
            ],
            [
             0.5555555555555556,
             "#d8576b"
            ],
            [
             0.6666666666666666,
             "#ed7953"
            ],
            [
             0.7777777777777778,
             "#fb9f3a"
            ],
            [
             0.8888888888888888,
             "#fdca26"
            ],
            [
             1,
             "#f0f921"
            ]
           ],
           "sequentialminus": [
            [
             0,
             "#0d0887"
            ],
            [
             0.1111111111111111,
             "#46039f"
            ],
            [
             0.2222222222222222,
             "#7201a8"
            ],
            [
             0.3333333333333333,
             "#9c179e"
            ],
            [
             0.4444444444444444,
             "#bd3786"
            ],
            [
             0.5555555555555556,
             "#d8576b"
            ],
            [
             0.6666666666666666,
             "#ed7953"
            ],
            [
             0.7777777777777778,
             "#fb9f3a"
            ],
            [
             0.8888888888888888,
             "#fdca26"
            ],
            [
             1,
             "#f0f921"
            ]
           ]
          },
          "colorway": [
           "#636efa",
           "#EF553B",
           "#00cc96",
           "#ab63fa",
           "#FFA15A",
           "#19d3f3",
           "#FF6692",
           "#B6E880",
           "#FF97FF",
           "#FECB52"
          ],
          "font": {
           "color": "#2a3f5f"
          },
          "geo": {
           "bgcolor": "white",
           "lakecolor": "white",
           "landcolor": "white",
           "showlakes": true,
           "showland": true,
           "subunitcolor": "#C8D4E3"
          },
          "hoverlabel": {
           "align": "left"
          },
          "hovermode": "closest",
          "mapbox": {
           "style": "light"
          },
          "paper_bgcolor": "white",
          "plot_bgcolor": "white",
          "polar": {
           "angularaxis": {
            "gridcolor": "#EBF0F8",
            "linecolor": "#EBF0F8",
            "ticks": ""
           },
           "bgcolor": "white",
           "radialaxis": {
            "gridcolor": "#EBF0F8",
            "linecolor": "#EBF0F8",
            "ticks": ""
           }
          },
          "scene": {
           "xaxis": {
            "backgroundcolor": "white",
            "gridcolor": "#DFE8F3",
            "gridwidth": 2,
            "linecolor": "#EBF0F8",
            "showbackground": true,
            "ticks": "",
            "zerolinecolor": "#EBF0F8"
           },
           "yaxis": {
            "backgroundcolor": "white",
            "gridcolor": "#DFE8F3",
            "gridwidth": 2,
            "linecolor": "#EBF0F8",
            "showbackground": true,
            "ticks": "",
            "zerolinecolor": "#EBF0F8"
           },
           "zaxis": {
            "backgroundcolor": "white",
            "gridcolor": "#DFE8F3",
            "gridwidth": 2,
            "linecolor": "#EBF0F8",
            "showbackground": true,
            "ticks": "",
            "zerolinecolor": "#EBF0F8"
           }
          },
          "shapedefaults": {
           "line": {
            "color": "#2a3f5f"
           }
          },
          "ternary": {
           "aaxis": {
            "gridcolor": "#DFE8F3",
            "linecolor": "#A2B1C6",
            "ticks": ""
           },
           "baxis": {
            "gridcolor": "#DFE8F3",
            "linecolor": "#A2B1C6",
            "ticks": ""
           },
           "bgcolor": "white",
           "caxis": {
            "gridcolor": "#DFE8F3",
            "linecolor": "#A2B1C6",
            "ticks": ""
           }
          },
          "title": {
           "x": 0.05
          },
          "xaxis": {
           "automargin": true,
           "gridcolor": "#EBF0F8",
           "linecolor": "#EBF0F8",
           "ticks": "",
           "title": {
            "standoff": 15
           },
           "zerolinecolor": "#EBF0F8",
           "zerolinewidth": 2
          },
          "yaxis": {
           "automargin": true,
           "gridcolor": "#EBF0F8",
           "linecolor": "#EBF0F8",
           "ticks": "",
           "title": {
            "standoff": 15
           },
           "zerolinecolor": "#EBF0F8",
           "zerolinewidth": 2
          }
         }
        },
        "title": {
         "text": "Pairwise Accuracy Between Annotators"
        },
        "xaxis": {
         "anchor": "y",
         "domain": [
          0,
          1
         ],
         "tickangle": -45,
         "title": {
          "text": "Annotator Pairs"
         }
        },
        "yaxis": {
         "anchor": "x",
         "domain": [
          0,
          1
         ],
         "title": {
          "text": "Accuracy Score"
         }
        }
       }
      }
     },
     "metadata": {},
     "output_type": "display_data"
    },
    {
     "name": "stdout",
     "output_type": "stream",
     "text": [
      "Saved: 03_iaa_pairwise_accuracy.html and .png\n"
     ]
    }
   ],
   "source": [
    "# =============================================================================\n",
    "# VISUALIZATION 4: Pairwise Agreement Analysis\n",
    "# =============================================================================\n",
    "\n",
    "print(\"4. Pairwise Accuracy Between Annotators\")\n",
    "\n",
    "pairwise_results = []\n",
    "for i, ann1 in enumerate(ivc.columns):\n",
    "    for j, ann2 in enumerate(ivc.columns):\n",
    "        if i < j:\n",
    "            acc = accuracy_score(ivc[ann1], ivc[ann2])\n",
    "            pairwise_results.append({\"Pair\": f\"{ann1} vs {ann2}\", \"Accuracy\": acc, \"Annotator_1\": ann1, \"Annotator_2\": ann2})\n",
    "\n",
    "pairwise_df = pd.DataFrame(pairwise_results)\n",
    "print(pairwise_df)\n",
    "\n",
    "# Visualize pairwise agreements\n",
    "fig4 = px.bar(pairwise_df, x=\"Pair\", y=\"Accuracy\", title=\"Pairwise Accuracy Between Annotators\", labels={\"Accuracy\": \"Accuracy Score\", \"Pair\": \"Annotator Pairs\"}, text=\"Accuracy\")\n",
    "fig4.update_traces(texttemplate=\"%{text:.3f}\", textposition=\"outside\")\n",
    "fig4.update_layout(height=400, xaxis_tickangle=-45)\n",
    "fig4.show()\n",
    "\n",
    "# Save the figure\n",
    "fig4.write_html(images_path / \"03_iaa_pairwise_accuracy.html\")\n",
    "fig4.write_image(images_path / \"03_iaa_pairwise_accuracy.png\", width=800, height=400, scale=3)\n",
    "print(f\"Saved: 03_iaa_pairwise_accuracy.html and .png\")"
   ]
  },
  {
   "cell_type": "code",
   "execution_count": 20,
   "id": "3ad80b11",
   "metadata": {},
   "outputs": [
    {
     "name": "stdout",
     "output_type": "stream",
     "text": [
      "======================================================================\n",
      "ACTIONABLE RECOMMENDATIONS\n",
      "======================================================================\n",
      "\n",
      "CRITICAL ISSUES IDENTIFIED\n",
      "-----------------------------------\n",
      "1. Perfect split: 3 annotators always say 'Sim', 1 always says 'Não'\n",
      "2. No variation within individual annotators\n",
      "3. Negative kappa (worse than random chance)\n",
      "4. High marginal imbalance creates inflated chance agreement\n",
      "\n",
      "STATISTICAL CONTEXT\n",
      "-----------------------------------\n",
      "- Negative Fleiss' kappa indicates systematic bias or disagreement\n",
      "- Values worse than chance suggest fundamental issues with:\n",
      "  - Annotation guidelines clarity\n",
      "  - Annotator training/calibration\n",
      "  - Task definition ambiguity\n",
      "  - Potential systematic biases\n",
      "\n",
      "IMMEDIATE ACTIONS NEEDED\n",
      "-----------------------------------\n",
      "1. Review and clarify annotation guidelines\n",
      "2. Conduct annotator retraining sessions\n",
      "3. Implement calibration exercises with gold standard examples\n",
      "4. Investigate why one annotator consistently disagrees\n",
      "5. Consider consensus meeting to resolve disagreements\n",
      "\n",
      "LONG-TERM IMPROVEMENTS\n",
      "-----------------------------------\n",
      "6. Provide clearer category definitions with examples\n",
      "7. Implement pilot testing of annotation protocols\n",
      "8. Add inter-annotator discussion sessions\n",
      "9. Calculate confidence intervals for kappa values\n",
      "10. Consider using majority voting for final labels\n",
      "\n",
      "SUCCESS CRITERIA\n",
      "-----------------------------------\n",
      "Current Fleiss' κ: -0.333\n",
      "Target minimum: κ > 0.40 (Moderate agreement)\n",
      "Improvement needed: +0.733\n",
      "\n",
      "Recommended milestones:\n",
      "- Phase 1: Achieve κ > 0.20 (Slight agreement)\n",
      "- Phase 2: Achieve κ > 0.40 (Moderate agreement)\n",
      "- Final goal: Achieve κ > 0.60 (Substantial agreement)\n"
     ]
    }
   ],
   "source": [
    "# =============================================================================\n",
    "# RECOMMENDATIONS\n",
    "# =============================================================================\n",
    "\n",
    "print(\"=\" * 70)\n",
    "print(\"ACTIONABLE RECOMMENDATIONS\")\n",
    "print(\"=\" * 70)\n",
    "\n",
    "print(f\"\\nCRITICAL ISSUES IDENTIFIED\")\n",
    "print(\"-\" * 35)\n",
    "print(\"1. Perfect split: 3 annotators always say 'Sim', 1 always says 'Não'\")\n",
    "print(\"2. No variation within individual annotators\")\n",
    "print(\"3. Negative kappa (worse than random chance)\")\n",
    "print(\"4. High marginal imbalance creates inflated chance agreement\")\n",
    "\n",
    "print(f\"\\nSTATISTICAL CONTEXT\")\n",
    "print(\"-\" * 35)\n",
    "print(\"- Negative Fleiss' kappa indicates systematic bias or disagreement\")\n",
    "print(\"- Values worse than chance suggest fundamental issues with:\")\n",
    "print(\"  - Annotation guidelines clarity\")\n",
    "print(\"  - Annotator training/calibration\")\n",
    "print(\"  - Task definition ambiguity\")\n",
    "print(\"  - Potential systematic biases\")\n",
    "\n",
    "print(f\"\\nIMMEDIATE ACTIONS NEEDED\")\n",
    "print(\"-\" * 35)\n",
    "print(\"1. Review and clarify annotation guidelines\")\n",
    "print(\"2. Conduct annotator retraining sessions\")\n",
    "print(\"3. Implement calibration exercises with gold standard examples\")\n",
    "print(\"4. Investigate why one annotator consistently disagrees\")\n",
    "print(\"5. Consider consensus meeting to resolve disagreements\")\n",
    "\n",
    "print(f\"\\nLONG-TERM IMPROVEMENTS\")\n",
    "print(\"-\" * 35)\n",
    "print(\"6. Provide clearer category definitions with examples\")\n",
    "print(\"7. Implement pilot testing of annotation protocols\")\n",
    "print(\"8. Add inter-annotator discussion sessions\")\n",
    "print(\"9. Calculate confidence intervals for kappa values\")\n",
    "print(\"10. Consider using majority voting for final labels\")\n",
    "\n",
    "print(f\"\\nSUCCESS CRITERIA\")\n",
    "print(\"-\" * 35)\n",
    "print(f\"Current Fleiss' κ: {fleiss_kappa:.3f}\")\n",
    "print(f\"Target minimum: κ > 0.40 (Moderate agreement)\")\n",
    "print(f\"Improvement needed: +{0.40 - fleiss_kappa:.3f}\")\n",
    "print(\"\\nRecommended milestones:\")\n",
    "print(\"- Phase 1: Achieve κ > 0.20 (Slight agreement)\")\n",
    "print(\"- Phase 2: Achieve κ > 0.40 (Moderate agreement)\")\n",
    "print(\"- Final goal: Achieve κ > 0.60 (Substantial agreement)\")"
   ]
  },
  {
   "cell_type": "code",
   "execution_count": 21,
   "id": "08a36ba7",
   "metadata": {},
   "outputs": [
    {
     "name": "stdout",
     "output_type": "stream",
     "text": [
      "======================================================================\n",
      "INTER-ANNOTATOR AGREEMENT ANALYSIS - FINAL SUMMARY\n",
      "======================================================================\n",
      "\n",
      "DATASET CHARACTERISTICS\n",
      "-----------------------------------\n",
      "- Number of items: 14\n",
      "- Number of annotators: 4\n",
      "- Response categories: Sim, Não\n",
      "- Observed agreement: 50.0%\n",
      "- Expected agreement (by chance): 62.5%\n",
      "\n",
      "AGREEMENT METRICS\n",
      "-----------------------------------\n",
      "- Fleiss' Kappa: -0.3333\n",
      "- Interpretation: Poor (worse than chance)\n",
      "- Mean pairwise accuracy: 50.0%\n",
      "- Mean Cohen's Kappa (pairwise): 0.000\n",
      "\n",
      "KEY FINDINGS\n",
      "-----------------------------------\n",
      "- Annotators show systematic disagreement pattern\n",
      "- Three annotators agree perfectly (all 'Sim')\n",
      "- One annotator disagrees completely (all 'Não')\n",
      "- Creates a clear 3 vs 1 split in annotations\n",
      "\n",
      "CONCLUSION\n",
      "-----------------------------------\n",
      "The inter-annotator agreement is POOR (Poor (worse than chance)).\n",
      "Immediate intervention required to improve annotation quality.\n",
      "Recommend reviewing guidelines and retraining annotators before proceeding.\n"
     ]
    },
    {
     "data": {
      "application/vnd.plotly.v1+json": {
       "config": {
        "plotlyServerURL": "https://plot.ly"
       },
       "data": [
        {
         "delta": {
          "reference": 0.4,
          "suffix": " (vs. target)"
         },
         "domain": {
          "x": [
           0,
           1
          ],
          "y": [
           0,
           1
          ]
         },
         "gauge": {
          "axis": {
           "range": [
            -0.5,
            1
           ],
           "tickcolor": "darkblue",
           "tickwidth": 1
          },
          "bar": {
           "color": "darkred"
          },
          "bgcolor": "white",
          "bordercolor": "gray",
          "borderwidth": 2,
          "steps": [
           {
            "color": "#FFE5E5",
            "range": [
             -0.5,
             0
            ]
           },
           {
            "color": "#FFE5CC",
            "range": [
             0,
             0.2
            ]
           },
           {
            "color": "#FFFFCC",
            "range": [
             0.2,
             0.4
            ]
           },
           {
            "color": "#E5FFCC",
            "range": [
             0.4,
             0.6
            ]
           },
           {
            "color": "#CCFFE5",
            "range": [
             0.6,
             0.8
            ]
           },
           {
            "color": "#CCF5FF",
            "range": [
             0.8,
             1
            ]
           }
          ],
          "threshold": {
           "line": {
            "color": "red",
            "width": 4
           },
           "thickness": 0.75,
           "value": 0.4
          }
         },
         "mode": "gauge+number+delta",
         "title": {
          "font": {
           "size": 24
          },
          "text": "Fleiss' Kappa"
         },
         "type": "indicator",
         "value": -0.3333333333333333
        }
       ],
       "layout": {
        "height": 400,
        "template": {
         "data": {
          "bar": [
           {
            "error_x": {
             "color": "#2a3f5f"
            },
            "error_y": {
             "color": "#2a3f5f"
            },
            "marker": {
             "line": {
              "color": "white",
              "width": 0.5
             },
             "pattern": {
              "fillmode": "overlay",
              "size": 10,
              "solidity": 0.2
             }
            },
            "type": "bar"
           }
          ],
          "barpolar": [
           {
            "marker": {
             "line": {
              "color": "white",
              "width": 0.5
             },
             "pattern": {
              "fillmode": "overlay",
              "size": 10,
              "solidity": 0.2
             }
            },
            "type": "barpolar"
           }
          ],
          "carpet": [
           {
            "aaxis": {
             "endlinecolor": "#2a3f5f",
             "gridcolor": "#C8D4E3",
             "linecolor": "#C8D4E3",
             "minorgridcolor": "#C8D4E3",
             "startlinecolor": "#2a3f5f"
            },
            "baxis": {
             "endlinecolor": "#2a3f5f",
             "gridcolor": "#C8D4E3",
             "linecolor": "#C8D4E3",
             "minorgridcolor": "#C8D4E3",
             "startlinecolor": "#2a3f5f"
            },
            "type": "carpet"
           }
          ],
          "choropleth": [
           {
            "colorbar": {
             "outlinewidth": 0,
             "ticks": ""
            },
            "type": "choropleth"
           }
          ],
          "contour": [
           {
            "colorbar": {
             "outlinewidth": 0,
             "ticks": ""
            },
            "colorscale": [
             [
              0,
              "#0d0887"
             ],
             [
              0.1111111111111111,
              "#46039f"
             ],
             [
              0.2222222222222222,
              "#7201a8"
             ],
             [
              0.3333333333333333,
              "#9c179e"
             ],
             [
              0.4444444444444444,
              "#bd3786"
             ],
             [
              0.5555555555555556,
              "#d8576b"
             ],
             [
              0.6666666666666666,
              "#ed7953"
             ],
             [
              0.7777777777777778,
              "#fb9f3a"
             ],
             [
              0.8888888888888888,
              "#fdca26"
             ],
             [
              1,
              "#f0f921"
             ]
            ],
            "type": "contour"
           }
          ],
          "contourcarpet": [
           {
            "colorbar": {
             "outlinewidth": 0,
             "ticks": ""
            },
            "type": "contourcarpet"
           }
          ],
          "heatmap": [
           {
            "colorbar": {
             "outlinewidth": 0,
             "ticks": ""
            },
            "colorscale": [
             [
              0,
              "#0d0887"
             ],
             [
              0.1111111111111111,
              "#46039f"
             ],
             [
              0.2222222222222222,
              "#7201a8"
             ],
             [
              0.3333333333333333,
              "#9c179e"
             ],
             [
              0.4444444444444444,
              "#bd3786"
             ],
             [
              0.5555555555555556,
              "#d8576b"
             ],
             [
              0.6666666666666666,
              "#ed7953"
             ],
             [
              0.7777777777777778,
              "#fb9f3a"
             ],
             [
              0.8888888888888888,
              "#fdca26"
             ],
             [
              1,
              "#f0f921"
             ]
            ],
            "type": "heatmap"
           }
          ],
          "histogram": [
           {
            "marker": {
             "pattern": {
              "fillmode": "overlay",
              "size": 10,
              "solidity": 0.2
             }
            },
            "type": "histogram"
           }
          ],
          "histogram2d": [
           {
            "colorbar": {
             "outlinewidth": 0,
             "ticks": ""
            },
            "colorscale": [
             [
              0,
              "#0d0887"
             ],
             [
              0.1111111111111111,
              "#46039f"
             ],
             [
              0.2222222222222222,
              "#7201a8"
             ],
             [
              0.3333333333333333,
              "#9c179e"
             ],
             [
              0.4444444444444444,
              "#bd3786"
             ],
             [
              0.5555555555555556,
              "#d8576b"
             ],
             [
              0.6666666666666666,
              "#ed7953"
             ],
             [
              0.7777777777777778,
              "#fb9f3a"
             ],
             [
              0.8888888888888888,
              "#fdca26"
             ],
             [
              1,
              "#f0f921"
             ]
            ],
            "type": "histogram2d"
           }
          ],
          "histogram2dcontour": [
           {
            "colorbar": {
             "outlinewidth": 0,
             "ticks": ""
            },
            "colorscale": [
             [
              0,
              "#0d0887"
             ],
             [
              0.1111111111111111,
              "#46039f"
             ],
             [
              0.2222222222222222,
              "#7201a8"
             ],
             [
              0.3333333333333333,
              "#9c179e"
             ],
             [
              0.4444444444444444,
              "#bd3786"
             ],
             [
              0.5555555555555556,
              "#d8576b"
             ],
             [
              0.6666666666666666,
              "#ed7953"
             ],
             [
              0.7777777777777778,
              "#fb9f3a"
             ],
             [
              0.8888888888888888,
              "#fdca26"
             ],
             [
              1,
              "#f0f921"
             ]
            ],
            "type": "histogram2dcontour"
           }
          ],
          "mesh3d": [
           {
            "colorbar": {
             "outlinewidth": 0,
             "ticks": ""
            },
            "type": "mesh3d"
           }
          ],
          "parcoords": [
           {
            "line": {
             "colorbar": {
              "outlinewidth": 0,
              "ticks": ""
             }
            },
            "type": "parcoords"
           }
          ],
          "pie": [
           {
            "automargin": true,
            "type": "pie"
           }
          ],
          "scatter": [
           {
            "fillpattern": {
             "fillmode": "overlay",
             "size": 10,
             "solidity": 0.2
            },
            "type": "scatter"
           }
          ],
          "scatter3d": [
           {
            "line": {
             "colorbar": {
              "outlinewidth": 0,
              "ticks": ""
             }
            },
            "marker": {
             "colorbar": {
              "outlinewidth": 0,
              "ticks": ""
             }
            },
            "type": "scatter3d"
           }
          ],
          "scattercarpet": [
           {
            "marker": {
             "colorbar": {
              "outlinewidth": 0,
              "ticks": ""
             }
            },
            "type": "scattercarpet"
           }
          ],
          "scattergeo": [
           {
            "marker": {
             "colorbar": {
              "outlinewidth": 0,
              "ticks": ""
             }
            },
            "type": "scattergeo"
           }
          ],
          "scattergl": [
           {
            "marker": {
             "colorbar": {
              "outlinewidth": 0,
              "ticks": ""
             }
            },
            "type": "scattergl"
           }
          ],
          "scattermap": [
           {
            "marker": {
             "colorbar": {
              "outlinewidth": 0,
              "ticks": ""
             }
            },
            "type": "scattermap"
           }
          ],
          "scattermapbox": [
           {
            "marker": {
             "colorbar": {
              "outlinewidth": 0,
              "ticks": ""
             }
            },
            "type": "scattermapbox"
           }
          ],
          "scatterpolar": [
           {
            "marker": {
             "colorbar": {
              "outlinewidth": 0,
              "ticks": ""
             }
            },
            "type": "scatterpolar"
           }
          ],
          "scatterpolargl": [
           {
            "marker": {
             "colorbar": {
              "outlinewidth": 0,
              "ticks": ""
             }
            },
            "type": "scatterpolargl"
           }
          ],
          "scatterternary": [
           {
            "marker": {
             "colorbar": {
              "outlinewidth": 0,
              "ticks": ""
             }
            },
            "type": "scatterternary"
           }
          ],
          "surface": [
           {
            "colorbar": {
             "outlinewidth": 0,
             "ticks": ""
            },
            "colorscale": [
             [
              0,
              "#0d0887"
             ],
             [
              0.1111111111111111,
              "#46039f"
             ],
             [
              0.2222222222222222,
              "#7201a8"
             ],
             [
              0.3333333333333333,
              "#9c179e"
             ],
             [
              0.4444444444444444,
              "#bd3786"
             ],
             [
              0.5555555555555556,
              "#d8576b"
             ],
             [
              0.6666666666666666,
              "#ed7953"
             ],
             [
              0.7777777777777778,
              "#fb9f3a"
             ],
             [
              0.8888888888888888,
              "#fdca26"
             ],
             [
              1,
              "#f0f921"
             ]
            ],
            "type": "surface"
           }
          ],
          "table": [
           {
            "cells": {
             "fill": {
              "color": "#EBF0F8"
             },
             "line": {
              "color": "white"
             }
            },
            "header": {
             "fill": {
              "color": "#C8D4E3"
             },
             "line": {
              "color": "white"
             }
            },
            "type": "table"
           }
          ]
         },
         "layout": {
          "annotationdefaults": {
           "arrowcolor": "#2a3f5f",
           "arrowhead": 0,
           "arrowwidth": 1
          },
          "autotypenumbers": "strict",
          "coloraxis": {
           "colorbar": {
            "outlinewidth": 0,
            "ticks": ""
           }
          },
          "colorscale": {
           "diverging": [
            [
             0,
             "#8e0152"
            ],
            [
             0.1,
             "#c51b7d"
            ],
            [
             0.2,
             "#de77ae"
            ],
            [
             0.3,
             "#f1b6da"
            ],
            [
             0.4,
             "#fde0ef"
            ],
            [
             0.5,
             "#f7f7f7"
            ],
            [
             0.6,
             "#e6f5d0"
            ],
            [
             0.7,
             "#b8e186"
            ],
            [
             0.8,
             "#7fbc41"
            ],
            [
             0.9,
             "#4d9221"
            ],
            [
             1,
             "#276419"
            ]
           ],
           "sequential": [
            [
             0,
             "#0d0887"
            ],
            [
             0.1111111111111111,
             "#46039f"
            ],
            [
             0.2222222222222222,
             "#7201a8"
            ],
            [
             0.3333333333333333,
             "#9c179e"
            ],
            [
             0.4444444444444444,
             "#bd3786"
            ],
            [
             0.5555555555555556,
             "#d8576b"
            ],
            [
             0.6666666666666666,
             "#ed7953"
            ],
            [
             0.7777777777777778,
             "#fb9f3a"
            ],
            [
             0.8888888888888888,
             "#fdca26"
            ],
            [
             1,
             "#f0f921"
            ]
           ],
           "sequentialminus": [
            [
             0,
             "#0d0887"
            ],
            [
             0.1111111111111111,
             "#46039f"
            ],
            [
             0.2222222222222222,
             "#7201a8"
            ],
            [
             0.3333333333333333,
             "#9c179e"
            ],
            [
             0.4444444444444444,
             "#bd3786"
            ],
            [
             0.5555555555555556,
             "#d8576b"
            ],
            [
             0.6666666666666666,
             "#ed7953"
            ],
            [
             0.7777777777777778,
             "#fb9f3a"
            ],
            [
             0.8888888888888888,
             "#fdca26"
            ],
            [
             1,
             "#f0f921"
            ]
           ]
          },
          "colorway": [
           "#636efa",
           "#EF553B",
           "#00cc96",
           "#ab63fa",
           "#FFA15A",
           "#19d3f3",
           "#FF6692",
           "#B6E880",
           "#FF97FF",
           "#FECB52"
          ],
          "font": {
           "color": "#2a3f5f"
          },
          "geo": {
           "bgcolor": "white",
           "lakecolor": "white",
           "landcolor": "white",
           "showlakes": true,
           "showland": true,
           "subunitcolor": "#C8D4E3"
          },
          "hoverlabel": {
           "align": "left"
          },
          "hovermode": "closest",
          "mapbox": {
           "style": "light"
          },
          "paper_bgcolor": "white",
          "plot_bgcolor": "white",
          "polar": {
           "angularaxis": {
            "gridcolor": "#EBF0F8",
            "linecolor": "#EBF0F8",
            "ticks": ""
           },
           "bgcolor": "white",
           "radialaxis": {
            "gridcolor": "#EBF0F8",
            "linecolor": "#EBF0F8",
            "ticks": ""
           }
          },
          "scene": {
           "xaxis": {
            "backgroundcolor": "white",
            "gridcolor": "#DFE8F3",
            "gridwidth": 2,
            "linecolor": "#EBF0F8",
            "showbackground": true,
            "ticks": "",
            "zerolinecolor": "#EBF0F8"
           },
           "yaxis": {
            "backgroundcolor": "white",
            "gridcolor": "#DFE8F3",
            "gridwidth": 2,
            "linecolor": "#EBF0F8",
            "showbackground": true,
            "ticks": "",
            "zerolinecolor": "#EBF0F8"
           },
           "zaxis": {
            "backgroundcolor": "white",
            "gridcolor": "#DFE8F3",
            "gridwidth": 2,
            "linecolor": "#EBF0F8",
            "showbackground": true,
            "ticks": "",
            "zerolinecolor": "#EBF0F8"
           }
          },
          "shapedefaults": {
           "line": {
            "color": "#2a3f5f"
           }
          },
          "ternary": {
           "aaxis": {
            "gridcolor": "#DFE8F3",
            "linecolor": "#A2B1C6",
            "ticks": ""
           },
           "baxis": {
            "gridcolor": "#DFE8F3",
            "linecolor": "#A2B1C6",
            "ticks": ""
           },
           "bgcolor": "white",
           "caxis": {
            "gridcolor": "#DFE8F3",
            "linecolor": "#A2B1C6",
            "ticks": ""
           }
          },
          "title": {
           "x": 0.05
          },
          "xaxis": {
           "automargin": true,
           "gridcolor": "#EBF0F8",
           "linecolor": "#EBF0F8",
           "ticks": "",
           "title": {
            "standoff": 15
           },
           "zerolinecolor": "#EBF0F8",
           "zerolinewidth": 2
          },
          "yaxis": {
           "automargin": true,
           "gridcolor": "#EBF0F8",
           "linecolor": "#EBF0F8",
           "ticks": "",
           "title": {
            "standoff": 15
           },
           "zerolinecolor": "#EBF0F8",
           "zerolinewidth": 2
          }
         }
        },
        "title": {
         "font": {
          "size": 18
         },
         "text": "Inter-Annotator Agreement Quality Gauge",
         "x": 0.5
        }
       }
      }
     },
     "metadata": {},
     "output_type": "display_data"
    },
    {
     "name": "stdout",
     "output_type": "stream",
     "text": [
      "Saved: 03_iaa_summary_gauge.html and .png\n"
     ]
    }
   ],
   "source": [
    "# =============================================================================\n",
    "# FINAL SUMMARY\n",
    "# =============================================================================\n",
    "\n",
    "print(\"=\" * 70)\n",
    "print(\"INTER-ANNOTATOR AGREEMENT ANALYSIS - FINAL SUMMARY\")\n",
    "print(\"=\" * 70)\n",
    "\n",
    "print(f\"\\nDATASET CHARACTERISTICS\")\n",
    "print(\"-\" * 35)\n",
    "print(f\"- Number of items: {stats['n_items']}\")\n",
    "print(f\"- Number of annotators: {stats['n_annotators']}\")\n",
    "print(f\"- Response categories: {', '.join([str(c) for c in stats['categories']])}\")\n",
    "print(f\"- Observed agreement: {stats['P_bar']:.1%}\")\n",
    "print(f\"- Expected agreement (by chance): {stats['P_e']:.1%}\")\n",
    "\n",
    "print(f\"\\nAGREEMENT METRICS\")\n",
    "print(\"-\" * 35)\n",
    "print(f\"- Fleiss' Kappa: {fleiss_kappa:.4f}\")\n",
    "print(f\"- Interpretation: {stats['interpretation']}\")\n",
    "print(f\"- Mean pairwise accuracy: {np.mean(accuracy_values):.1%}\")\n",
    "print(f\"- Mean Cohen's Kappa (pairwise): {np.nanmean(kappa_values):.3f}\")\n",
    "\n",
    "print(f\"\\nKEY FINDINGS\")\n",
    "print(\"-\" * 35)\n",
    "print(f\"- Annotators show systematic disagreement pattern\")\n",
    "print(f\"- Three annotators agree perfectly (all 'Sim')\")\n",
    "print(f\"- One annotator disagrees completely (all 'Não')\")\n",
    "print(f\"- Creates a clear 3 vs 1 split in annotations\")\n",
    "\n",
    "print(f\"\\nCONCLUSION\")\n",
    "print(\"-\" * 35)\n",
    "print(f\"The inter-annotator agreement is POOR ({stats['interpretation']}).\")\n",
    "print(f\"Immediate intervention required to improve annotation quality.\")\n",
    "print(f\"Recommend reviewing guidelines and retraining annotators before proceeding.\")\n",
    "\n",
    "# Create final summary visualization\n",
    "fig_summary = go.Figure()\n",
    "\n",
    "fig_summary.add_trace(\n",
    "    go.Indicator(\n",
    "        mode=\"gauge+number+delta\",\n",
    "        value=fleiss_kappa,\n",
    "        domain={\"x\": [0, 1], \"y\": [0, 1]},\n",
    "        title={\"text\": \"Fleiss' Kappa\", \"font\": {\"size\": 24}},\n",
    "        delta={\"reference\": 0.40, \"suffix\": \" (vs. target)\"},\n",
    "        gauge={\n",
    "            \"axis\": {\"range\": [-0.5, 1], \"tickwidth\": 1, \"tickcolor\": \"darkblue\"},\n",
    "            \"bar\": {\"color\": \"darkred\" if fleiss_kappa < 0 else \"darkblue\"},\n",
    "            \"bgcolor\": \"white\",\n",
    "            \"borderwidth\": 2,\n",
    "            \"bordercolor\": \"gray\",\n",
    "            \"steps\": [{\"range\": [-0.5, 0], \"color\": \"#FFE5E5\"}, {\"range\": [0, 0.2], \"color\": \"#FFE5CC\"}, {\"range\": [0.2, 0.4], \"color\": \"#FFFFCC\"}, {\"range\": [0.4, 0.6], \"color\": \"#E5FFCC\"}, {\"range\": [0.6, 0.8], \"color\": \"#CCFFE5\"}, {\"range\": [0.8, 1], \"color\": \"#CCF5FF\"}],\n",
    "            \"threshold\": {\"line\": {\"color\": \"red\", \"width\": 4}, \"thickness\": 0.75, \"value\": 0.40},\n",
    "        },\n",
    "    )\n",
    ")\n",
    "\n",
    "fig_summary.update_layout(height=400, title={\"text\": \"Inter-Annotator Agreement Quality Gauge\", \"x\": 0.5, \"font\": {\"size\": 18}})\n",
    "\n",
    "fig_summary.show()\n",
    "\n",
    "# Save the figure\n",
    "fig_summary.write_html(images_path / \"03_iaa_summary_gauge.html\")\n",
    "fig_summary.write_image(images_path / \"03_iaa_summary_gauge.png\", width=800, height=400, scale=3)\n",
    "print(f\"Saved: 03_iaa_summary_gauge.html and .png\")"
   ]
  },
  {
   "cell_type": "code",
   "execution_count": 22,
   "id": "bc1c1753",
   "metadata": {},
   "outputs": [
    {
     "name": "stdout",
     "output_type": "stream",
     "text": [
      "======================================================================\n",
      "CRONBACH'S ALPHA - INTERNAL CONSISTENCY ANALYSIS\n",
      "======================================================================\n",
      "\n",
      "Cronbach's Alpha: nan\n",
      "Interpretation: Excellent\n",
      "Number of items (annotators): 4\n",
      "Number of observations (questions): 14\n",
      "\n",
      "VARIANCE ANALYSIS\n",
      "-----------------------------------\n",
      "Total variance: 0.0000\n",
      "Mean item variance: 0.0000\n",
      "\n",
      "ITEM STATISTICS\n",
      "-----------------------------------\n",
      "\n",
      "Item-Total Correlations:\n",
      "  avaliador_1: nan\n",
      "  avaliador_2: nan\n",
      "  avaliador_3: nan\n",
      "  avaliador_4: nan\n",
      "\n",
      "Alpha if Item Deleted:\n",
      "  avaliador_1: nan (Δ = +nan)\n",
      "  avaliador_2: nan (Δ = +nan)\n",
      "  avaliador_3: nan (Δ = +nan)\n",
      "  avaliador_4: nan (Δ = +nan)\n",
      "\n",
      "INTERPRETATION GUIDELINES\n",
      "-----------------------------------\n",
      "Cronbach's Alpha interpretation:\n",
      "  α < 0.50: Unacceptable\n",
      "  α 0.50-0.59: Poor\n",
      "  α 0.60-0.69: Questionable\n",
      "  α 0.70-0.79: Acceptable\n",
      "  α 0.80-0.89: Good\n",
      "  α ≥ 0.90: Excellent\n"
     ]
    }
   ],
   "source": [
    "# =============================================================================\n",
    "# CRONBACH'S ALPHA - Internal Consistency Reliability\n",
    "# =============================================================================\n",
    "\n",
    "print(\"=\" * 70)\n",
    "print(\"CRONBACH'S ALPHA - INTERNAL CONSISTENCY ANALYSIS\")\n",
    "print(\"=\" * 70)\n",
    "\n",
    "\n",
    "def calculate_cronbachs_alpha(data):\n",
    "    \"\"\"\n",
    "    Calculate Cronbach's alpha for internal consistency reliability\n",
    "\n",
    "    Parameters:\n",
    "    data: DataFrame with items as rows and raters as columns\n",
    "\n",
    "    Returns:\n",
    "    float: Cronbach's alpha value\n",
    "    dict: Additional statistics\n",
    "    \"\"\"\n",
    "    # Convert categorical to numeric if needed\n",
    "    # Map 'Sim' to 1 and 'Não' to 0\n",
    "    data_numeric = data.copy()\n",
    "    if data_numeric.iloc[0, 0] in [\"Sim\", \"Não\"]:\n",
    "        data_numeric = data_numeric.replace({\"Sim\": 1, \"Não\": 0})\n",
    "\n",
    "    # Number of items (raters/annotators)\n",
    "    n_items = data_numeric.shape[1]\n",
    "\n",
    "    # Calculate variance for each item\n",
    "    item_variances = data_numeric.var(axis=0, ddof=1)\n",
    "\n",
    "    # Calculate total variance (variance of sum scores)\n",
    "    total_scores = data_numeric.sum(axis=1)\n",
    "    total_variance = total_scores.var(ddof=1)\n",
    "\n",
    "    # Calculate Cronbach's alpha\n",
    "    # α = (k / (k-1)) * (1 - (Σσ²ᵢ / σ²ₜ))\n",
    "    if n_items > 1:\n",
    "        alpha = (n_items / (n_items - 1)) * (1 - (item_variances.sum() / total_variance))\n",
    "    else:\n",
    "        alpha = np.nan\n",
    "\n",
    "    # Interpretation\n",
    "    if alpha < 0.5:\n",
    "        interpretation = \"Unacceptable\"\n",
    "    elif alpha < 0.6:\n",
    "        interpretation = \"Poor\"\n",
    "    elif alpha < 0.7:\n",
    "        interpretation = \"Questionable\"\n",
    "    elif alpha < 0.8:\n",
    "        interpretation = \"Acceptable\"\n",
    "    elif alpha < 0.9:\n",
    "        interpretation = \"Good\"\n",
    "    else:\n",
    "        interpretation = \"Excellent\"\n",
    "\n",
    "    # Calculate item-total correlations\n",
    "    item_total_correlations = {}\n",
    "    for col in data_numeric.columns:\n",
    "        # Correlation between item and total (excluding that item)\n",
    "        other_items_sum = total_scores - data_numeric[col]\n",
    "        corr = data_numeric[col].corr(other_items_sum)\n",
    "        item_total_correlations[col] = corr\n",
    "\n",
    "    # Calculate alpha if item deleted\n",
    "    alpha_if_deleted = {}\n",
    "    for col in data_numeric.columns:\n",
    "        remaining_items = data_numeric.drop(columns=[col])\n",
    "        if remaining_items.shape[1] > 1:\n",
    "            n_remaining = remaining_items.shape[1]\n",
    "            remaining_item_vars = remaining_items.var(axis=0, ddof=1)\n",
    "            remaining_total_var = remaining_items.sum(axis=1).var(ddof=1)\n",
    "            alpha_deleted = (n_remaining / (n_remaining - 1)) * (1 - (remaining_item_vars.sum() / remaining_total_var))\n",
    "            alpha_if_deleted[col] = alpha_deleted\n",
    "        else:\n",
    "            alpha_if_deleted[col] = np.nan\n",
    "\n",
    "    return alpha, {\n",
    "        \"interpretation\": interpretation,\n",
    "        \"n_items\": n_items,\n",
    "        \"n_observations\": data_numeric.shape[0],\n",
    "        \"item_variances\": item_variances.to_dict(),\n",
    "        \"total_variance\": total_variance,\n",
    "        \"item_total_correlations\": item_total_correlations,\n",
    "        \"alpha_if_item_deleted\": alpha_if_deleted,\n",
    "        \"mean_item_variance\": item_variances.mean(),\n",
    "        \"data_numeric\": data_numeric,\n",
    "    }\n",
    "\n",
    "\n",
    "# Calculate Cronbach's alpha\n",
    "cronbach_alpha, cronbach_stats = calculate_cronbachs_alpha(ivc)\n",
    "\n",
    "print(f\"\\nCronbach's Alpha: {cronbach_alpha:.4f}\")\n",
    "print(f\"Interpretation: {cronbach_stats['interpretation']}\")\n",
    "print(f\"Number of items (annotators): {cronbach_stats['n_items']}\")\n",
    "print(f\"Number of observations (questions): {cronbach_stats['n_observations']}\")\n",
    "\n",
    "print(f\"\\nVARIANCE ANALYSIS\")\n",
    "print(\"-\" * 35)\n",
    "print(f\"Total variance: {cronbach_stats['total_variance']:.4f}\")\n",
    "print(f\"Mean item variance: {cronbach_stats['mean_item_variance']:.4f}\")\n",
    "\n",
    "print(f\"\\nITEM STATISTICS\")\n",
    "print(\"-\" * 35)\n",
    "print(\"\\nItem-Total Correlations:\")\n",
    "for item, corr in cronbach_stats[\"item_total_correlations\"].items():\n",
    "    print(f\"  {item}: {corr:.3f}\")\n",
    "\n",
    "print(\"\\nAlpha if Item Deleted:\")\n",
    "for item, alpha_del in cronbach_stats[\"alpha_if_item_deleted\"].items():\n",
    "    change = alpha_del - cronbach_alpha\n",
    "    print(f\"  {item}: {alpha_del:.4f} (Δ = {change:+.4f})\")\n",
    "\n",
    "print(f\"\\nINTERPRETATION GUIDELINES\")\n",
    "print(\"-\" * 35)\n",
    "print(\"Cronbach's Alpha interpretation:\")\n",
    "print(\"  α < 0.50: Unacceptable\")\n",
    "print(\"  α 0.50-0.59: Poor\")\n",
    "print(\"  α 0.60-0.69: Questionable\")\n",
    "print(\"  α 0.70-0.79: Acceptable\")\n",
    "print(\"  α 0.80-0.89: Good\")\n",
    "print(\"  α ≥ 0.90: Excellent\")"
   ]
  },
  {
   "cell_type": "code",
   "execution_count": 23,
   "id": "81922405",
   "metadata": {},
   "outputs": [
    {
     "name": "stdout",
     "output_type": "stream",
     "text": [
      "avaliador_1: {'Sim': 14}\n",
      "avaliador_2: {'Sim': 14}\n",
      "avaliador_3: {'Sim': 14}\n",
      "avaliador_4: {'Não': 14}\n"
     ]
    }
   ],
   "source": [
    "for col in ivc.columns:\n",
    "    print(f\"{col}: {ivc[col].value_counts().to_dict()}\")"
   ]
  },
  {
   "cell_type": "markdown",
   "id": "3205f311",
   "metadata": {},
   "source": [
    "## Understanding the NaN Values in Cronbach's Alpha Calculation\n",
    "\n",
    "### Why Are We Getting NaN (Not a Number) Values?\n",
    "\n",
    "The Cronbach's alpha calculation is producing **NaN** values due to a critical mathematical issue: **division by zero**.\n",
    "\n",
    "### Root Cause Analysis\n",
    "\n",
    "Looking at the variance analysis output above, we observe:\n",
    "- **Total variance: 0.0000**\n",
    "- **Mean item variance: 0.0000**\n",
    "\n",
    "This occurs because:\n",
    "\n",
    "1. **No Within-Rater Variability**: Each annotator gave the **same response** to all 14 questions\n",
    "   - `avaliador_1`: Always responded \"Sim\" (or \"Não\")\n",
    "   - `avaliador_2`: Always responded \"Sim\" (or \"Não\")\n",
    "   - `avaliador_3`: Always responded \"Sim\" (or \"Não\")\n",
    "   - `avaliador_4`: Always responded \"Não\"\n",
    "\n",
    "2. **Mathematical Consequence**: When all responses from an annotator are identical:\n",
    "   - Individual item variance = 0\n",
    "   - Sum of item variances = 0\n",
    "   - Total score variance = 0 (because each person gets the same total score)\n",
    "\n",
    "3. **Cronbach's Alpha Formula Breakdown**:\n",
    "   ```\n",
    "   α = (k / (k-1)) × (1 - (Σσ²ᵢ / σ²ₜ))\n",
    "   ```\n",
    "   When σ²ₜ (total variance) = 0, we get: **0 / 0 = NaN**\n",
    "\n",
    "### What Does This Mean?\n",
    "\n",
    "**Cronbach's alpha is NOT appropriate for this dataset** because:\n",
    "\n",
    "- Cronbach's alpha measures **internal consistency** - how well items (annotators) correlate with each other\n",
    "- It requires **variability within items** to be meaningful\n",
    "- When there's no variance, the concept of \"internal consistency\" doesn't apply\n",
    "\n",
    "### The Correct Interpretation\n",
    "\n",
    "The issue is not a calculation error, but rather that:\n",
    "\n",
    "1. **The data pattern is extreme**: Annotators show perfect consistency within themselves but complete disagreement between each other (3 vs 1 split)\n",
    "\n",
    "2. **Better metrics for this scenario**:\n",
    "   - ✅ **Fleiss' Kappa**: Appropriate for categorical data with perfect individual consistency\n",
    "   - ✅ **Cohen's Kappa (pairwise)**: Measures agreement between specific annotator pairs\n",
    "   - ✅ **Accuracy scores**: Direct measure of agreement\n",
    "   - ❌ **Cronbach's Alpha**: Requires variance within raters\n",
    "\n",
    "### Recommendation\n",
    "\n",
    "**Focus on the Fleiss' Kappa results** (calculated earlier in this notebook) as the primary measure of inter-annotator agreement for this dataset. The Cronbach's alpha analysis confirms what we already know: annotators are internally consistent but disagree systematically with each other."
   ]
  },
  {
   "cell_type": "markdown",
   "id": "17f7f60a",
   "metadata": {},
   "source": []
  }
 ],
 "metadata": {
  "kernelspec": {
   "display_name": "survey_garden",
   "language": "python",
   "name": "python3"
  },
  "language_info": {
   "codemirror_mode": {
    "name": "ipython",
    "version": 3
   },
   "file_extension": ".py",
   "mimetype": "text/x-python",
   "name": "python",
   "nbconvert_exporter": "python",
   "pygments_lexer": "ipython3",
   "version": "3.13.7"
  }
 },
 "nbformat": 4,
 "nbformat_minor": 5
}
